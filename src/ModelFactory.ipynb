{
  "nbformat": 4,
  "nbformat_minor": 0,
  "metadata": {
    "colab": {
      "provenance": []
    },
    "kernelspec": {
      "name": "python3",
      "display_name": "Python 3"
    },
    "language_info": {
      "name": "python"
    }
  },
  "cells": [
    {
      "cell_type": "markdown",
      "source": [
        "##ModelFactory\n",
        "\n",
        "Create models for easy lookup.\n",
        "\n",
        "FUTURE: use metaclass programming."
      ],
      "metadata": {
        "id": "x_Qe94Mz6aH6"
      }
    },
    {
      "cell_type": "code",
      "source": [
        "debug = True\n",
        "\n",
        "DRIVE_PATH = \"/content/drive/MyDrive/data606\"\n",
        "\n",
        "# Set the location of this script in GDrive\n",
        "SCRIPT_PATH = DRIVE_PATH + \"/src/\""
      ],
      "metadata": {
        "id": "N__vpGyUYNNr"
      },
      "execution_count": 45,
      "outputs": []
    },
    {
      "cell_type": "code",
      "source": [
        "from google.colab import drive\n",
        "drive.mount('/content/drive')"
      ],
      "metadata": {
        "colab": {
          "base_uri": "https://localhost:8080/"
        },
        "id": "0exLcKsQaUpu",
        "outputId": "8c590f8f-af51-4c29-fba0-05cba121f1f8"
      },
      "execution_count": 46,
      "outputs": [
        {
          "output_type": "stream",
          "name": "stdout",
          "text": [
            "Drive already mounted at /content/drive; to attempt to forcibly remount, call drive.mount(\"/content/drive\", force_remount=True).\n"
          ]
        }
      ]
    },
    {
      "cell_type": "code",
      "source": [
        "%cd $SCRIPT_PATH"
      ],
      "metadata": {
        "colab": {
          "base_uri": "https://localhost:8080/"
        },
        "id": "_VNkg-Q5aPGt",
        "outputId": "d4e30a38-6e0e-4315-ad0e-64ab3950973e"
      },
      "execution_count": 47,
      "outputs": [
        {
          "output_type": "stream",
          "name": "stdout",
          "text": [
            "/content/drive/MyDrive/data606/src\n"
          ]
        }
      ]
    },
    {
      "cell_type": "code",
      "source": [
        "# Load model classes\n",
        "%run -i \"./Model_Densev1.ipynb\"\n",
        "%run -i \"./Model_LSTMv1.ipynb\"\n",
        "%run -i \"./Model_LSTMv2.ipynb\"\n",
        "%run -i \"./Model_LSTMv3.ipynb\""
      ],
      "metadata": {
        "id": "ljl4oVnUYHge"
      },
      "execution_count": 48,
      "outputs": []
    },
    {
      "cell_type": "code",
      "execution_count": 49,
      "metadata": {
        "id": "XsVLnqDP6Y5t"
      },
      "outputs": [],
      "source": [
        "\n",
        "class ModelFactory():\n",
        "  \"\"\"\n",
        "  Construct a ModelFactory that provides keyword access to models for training.\n",
        "  \"\"\"\n",
        "  def __init__(self, window_size=30, label_window=1, num_labels=1, num_epochs=300, debug=False):\n",
        "\n",
        "    self.debug = debug\n",
        "\n",
        "    self.window_size = window_size\n",
        "    self.label_window = label_window\n",
        "    self.num_labels = num_labels\n",
        "    self.num_epochs = num_epochs\n",
        "\n",
        "    self.total_labels = label_window * num_labels\n",
        "\n",
        "    self.init_models()\n",
        "\n",
        "\n",
        "  def __repr__(self):\n",
        "    \"\"\"\n",
        "    Print object stats.\n",
        "    \"\"\"\n",
        "    return '\\n'.join([\n",
        "         f'window_size: {self.window_size}',\n",
        "         f'label_window: {self.label_window}',\n",
        "         f'num_labels: {self.num_labels}',\n",
        "         f'num_epochs: {self.num_epochs}'\n",
        "        ])\n",
        "\n",
        "  def init_models(self):\n",
        "    \"\"\"\n",
        "    FUTURE: discover models\n",
        "    \"\"\"\n",
        "    self.models = {}\n",
        "\n",
        "    #TODO please use something dynamic\n",
        "    model = Model_Densev1(window_size=self.window_size,\n",
        "                          label_window=self.label_window,\n",
        "                          num_labels=self.num_labels,\n",
        "                          num_epochs=self.num_epochs, debug=self.debug)\n",
        "\n",
        "    self.models[model.get_name()] = model\n",
        "\n",
        "    model = Model_LSTMv1(window_size=self.window_size,\n",
        "                          label_window=self.label_window,\n",
        "                          num_labels=self.num_labels,\n",
        "                          num_epochs=self.num_epochs, debug=self.debug)\n",
        "\n",
        "    self.models[model.get_name()] = model\n",
        "\n",
        "    model = Model_LSTMv2(window_size=self.window_size,\n",
        "                          label_window=self.label_window,\n",
        "                          num_labels=self.num_labels,\n",
        "                          num_epochs=self.num_epochs, debug=self.debug)\n",
        "\n",
        "    self.models[model.get_name()] = model\n",
        "\n",
        "    model = Model_LSTMv3(window_size=self.window_size,\n",
        "                          label_window=self.label_window,\n",
        "                          num_labels=self.num_labels,\n",
        "                          num_epochs=self.num_epochs, debug=self.debug)\n",
        "\n",
        "    self.models[model.get_name()] = model\n",
        "\n",
        "\n",
        "  def get(self, model_name):\n",
        "    return self.models[model_name]\n"
      ]
    },
    {
      "cell_type": "markdown",
      "source": [
        "---\n",
        "\n",
        "**Unit testing**\n",
        "\n",
        "---"
      ],
      "metadata": {
        "id": "hhpwZrhJ1N9y"
      }
    },
    {
      "cell_type": "code",
      "source": [
        "WG_UNIT_TEST = False"
      ],
      "metadata": {
        "id": "Ebu7GvfzMcLe"
      },
      "execution_count": 50,
      "outputs": []
    },
    {
      "cell_type": "code",
      "source": [
        "if WG_UNIT_TEST:\n",
        "\n",
        "  print(f'-------Case 1: get single model -----------')\n",
        "  mf = ModelFactory()\n",
        "\n",
        "  model = mf.get(\"Densev1\")\n",
        "  assert(model)\n",
        "  print(model)"
      ],
      "metadata": {
        "id": "l4iUUjY-rz4L",
        "colab": {
          "base_uri": "https://localhost:8080/"
        },
        "outputId": "4cc3adb4-9d46-4795-a69b-0e92a82070f5"
      },
      "execution_count": 51,
      "outputs": [
        {
          "output_type": "stream",
          "name": "stdout",
          "text": [
            "-------Case 1: get single model -----------\n",
            "<__main__.Model_Densev1 object at 0x7ec3c8b32950>\n"
          ]
        }
      ]
    },
    {
      "cell_type": "code",
      "source": [
        "if WG_UNIT_TEST:\n",
        "\n",
        "  print(f'-------Case 2: get all models -----------')\n",
        "  mf = ModelFactory()\n",
        "\n",
        "  models = [\"Densev1\",'LSTMv1','LSTMv2','LSTMv3']\n",
        "\n",
        "  for m in models:\n",
        "    model = mf.get(m)\n",
        "    assert(model)\n",
        "    print(model)"
      ],
      "metadata": {
        "colab": {
          "base_uri": "https://localhost:8080/"
        },
        "id": "HjRWdrsta0pb",
        "outputId": "6b113637-77de-41b0-95c8-a280e17c97d5"
      },
      "execution_count": 52,
      "outputs": [
        {
          "output_type": "stream",
          "name": "stdout",
          "text": [
            "-------Case 2: get all models -----------\n",
            "<__main__.Model_Densev1 object at 0x7ec3c8b33130>\n",
            "<__main__.Model_LSTMv1 object at 0x7ec3c8b33be0>\n",
            "<__main__.Model_LSTMv2 object at 0x7ec3c8b31900>\n",
            "<__main__.Model_LSTMv3 object at 0x7ec3c8b324d0>\n"
          ]
        }
      ]
    }
  ]
}
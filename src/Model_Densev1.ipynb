{
  "nbformat": 4,
  "nbformat_minor": 0,
  "metadata": {
    "colab": {
      "provenance": [],
      "gpuType": "T4"
    },
    "kernelspec": {
      "name": "python3",
      "display_name": "Python 3"
    },
    "language_info": {
      "name": "python"
    },
    "accelerator": "GPU"
  },
  "cells": [
    {
      "cell_type": "markdown",
      "source": [
        "---\n",
        "\n",
        "## Dense Model v1\n",
        "\n",
        "---\n",
        "\n",
        "Multivariate usage of a Dense NN."
      ],
      "metadata": {
        "id": "MDnCzDVoM0ZE"
      }
    },
    {
      "cell_type": "code",
      "source": [
        "from datetime import datetime as dt\n",
        "from sklearn.metrics import mean_squared_error, mean_absolute_error\n",
        "from keras.layers import Dense,MaxPooling1D\n",
        "from keras.layers import Flatten,RepeatVector\n",
        "from keras.models import Sequential\n",
        "from keras.utils import plot_model\n",
        "from keras.callbacks import ModelCheckpoint, TensorBoard, Callback, EarlyStopping"
      ],
      "metadata": {
        "id": "8nFjo6OMngaT"
      },
      "execution_count": null,
      "outputs": []
    },
    {
      "cell_type": "code",
      "source": [
        "class Model_Densev1():\n",
        "  \"\"\"\n",
        "  \"\"\"\n",
        "  def __init__(self, window_size=30, label_window=1, num_labels=1, num_epochs=300, debug=False):\n",
        "    self.WINDOW_SIZE = window_size\n",
        "    self.LABEL_WINDOW = label_window\n",
        "    self.NUM_LABELS = num_labels\n",
        "    self.NUM_EPOCHS = num_epochs\n",
        "    self.debug = debug\n",
        "\n",
        "    self.MODEL_NAME = \"Densev1\"\n",
        "\n",
        "    if self.debug:\n",
        "      print(f'### Building Model{self.MODEL_NAME}::')\n",
        "\n",
        "  def get_name(self):\n",
        "    return self.MODEL_NAME\n",
        "\n",
        "  def train(self, X_train=None, y_train=None, num_features=None, dataset=None):\n",
        "    \"\"\"\n",
        "    Build and train the model.\n",
        "    \"\"\"\n",
        "    early_stop = EarlyStopping(monitor = \"loss\", mode = \"min\", patience = 25)\n",
        "    model = Sequential()\n",
        "    model.add(MaxPooling1D(pool_size=2, input_shape=(self.WINDOW_SIZE, num_features)))\n",
        "    model.add(Dense(100, activation='relu'))\n",
        "    model.add(Dense(100, activation='relu'))\n",
        "    model.add(Dense(100, activation='relu'))\n",
        "    model.add(Flatten())\n",
        "    model.add(Dense(self.NUM_LABELS*self.LABEL_WINDOW))\n",
        "    if (self.LABEL_WINDOW > 1):\n",
        "      # reshape as => [batch, out_steps, labels]\n",
        "      model.add(Reshape([self.LABEL_WINDOW, self.NUM_LABELS]))\n",
        "\n",
        "    model.compile(loss='mae', optimizer='adam')\n",
        "\n",
        "    if (dataset is not None):\n",
        "      self.model_hist = model.fit(dataset, epochs=self.NUM_EPOCHS, callbacks = [early_stop], verbose=(1 if self.debug else 0))\n",
        "    else:\n",
        "      self.model_hist = model.fit(X_train, y_train, epochs=self.NUM_EPOCHS, verbose=1, callbacks = [early_stop] )\n",
        "    self.model = model\n",
        "    return self.model_hist\n",
        "\n",
        "  def get_model_name(self, serial=None):\n",
        "    return f\"{dt.today().strftime('%Y%m%d-%H%M')}-{self.MODEL_NAME}-{serial if serial is not None else '0'}.hdf5\"\n",
        "\n",
        "  def save_model(self, path, serial=None):\n",
        "    \"\"\"\n",
        "    Save the current model under the given drive path.\n",
        "    Timestamp the model name.\n",
        "    \"\"\"\n",
        "    fname = f'{path}{self.get_model_name(serial)}'\n",
        "    print(f'Saving model to: {fname}')\n",
        "    return self.model.save(fname)\n",
        "\n",
        "  def predict(self, X_in):\n",
        "    return self.model.predict(X_in)"
      ],
      "metadata": {
        "id": "HjMLJtjiQJZs"
      },
      "execution_count": null,
      "outputs": []
    }
  ]
}
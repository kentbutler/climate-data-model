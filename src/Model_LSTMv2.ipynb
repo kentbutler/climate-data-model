{
  "nbformat": 4,
  "nbformat_minor": 0,
  "metadata": {
    "colab": {
      "provenance": [],
      "gpuType": "T4"
    },
    "kernelspec": {
      "name": "python3",
      "display_name": "Python 3"
    },
    "language_info": {
      "name": "python"
    },
    "accelerator": "GPU"
  },
  "cells": [
    {
      "cell_type": "markdown",
      "source": [
        "---\n",
        "\n",
        "## LSTM Model v2\n",
        "\n",
        "---\n",
        "\n",
        "Multivariate usage of an LSTM."
      ],
      "metadata": {
        "id": "MDnCzDVoM0ZE"
      }
    },
    {
      "cell_type": "code",
      "source": [
        "from datetime import datetime as dt\n",
        "from sklearn.metrics import mean_squared_error, mean_absolute_error\n",
        "from keras.layers import Dense,RepeatVector, LSTM, Dropout\n",
        "from keras.layers import Flatten, Conv1D, MaxPooling1D\n",
        "from keras.layers import Bidirectional, Dropout\n",
        "from keras.models import Sequential\n",
        "from keras.utils import plot_model\n",
        "from keras.callbacks import ModelCheckpoint, TensorBoard, Callback, EarlyStopping"
      ],
      "metadata": {
        "id": "8nFjo6OMngaT"
      },
      "execution_count": null,
      "outputs": []
    },
    {
      "cell_type": "code",
      "source": [
        "class ModelLSTMv2:\n",
        "  \"\"\"\n",
        "  \"\"\"\n",
        "  def __init__(self, window_size=30, num_epochs=300, debug=False):\n",
        "    self.WINDOW_SIZE = window_size\n",
        "    self.NUM_EPOCHS = num_epochs\n",
        "    self.debug = debug\n",
        "\n",
        "    self.MODEL_NAME = \"LSTMv2\"\n",
        "\n",
        "    if self.debug:\n",
        "      print(f'### Building Model{self.MODEL_NAME}::')\n",
        "\n",
        "\n",
        "  def train(self, X_train=None, y_train=None, num_features=None, dataset=None):\n",
        "    \"\"\"\n",
        "    Build and train the model.\n",
        "    \"\"\"\n",
        "    early_stop = EarlyStopping(monitor = \"loss\", mode = \"min\", patience = 25)\n",
        "    model = Sequential()\n",
        "    model.add(Conv1D(filters=256, kernel_size=2, activation='relu', input_shape=(self.WINDOW_SIZE, num_features)))\n",
        "    model.add(Conv1D(filters=128, kernel_size=2, activation='relu'))\n",
        "    model.add(MaxPooling1D(pool_size=2))\n",
        "    model.add(Flatten())\n",
        "    model.add(RepeatVector(self.WINDOW_SIZE))\n",
        "    model.add(LSTM(units=100, return_sequences=True, activation='tanh'))\n",
        "    model.add(Dropout(0.2))\n",
        "    model.add(LSTM(units=100, return_sequences=True, activation='tanh'))\n",
        "    model.add(Dropout(0.2))\n",
        "    model.add(LSTM(units=100, return_sequences=True, activation='tanh'))\n",
        "    model.add(LSTM(units=100, return_sequences=True, activation='tanh'))\n",
        "    model.add(Bidirectional(LSTM(128, activation='tanh')))\n",
        "    model.add(Dense(100, activation='relu'))\n",
        "    model.add(Dense(1))\n",
        "    model.compile(loss='mae', optimizer='adam')\n",
        "\n",
        "    if (dataset is not None):\n",
        "\n",
        "      self.model_hist = model.fit(dataset, epochs=self.NUM_EPOCHS, callbacks = [early_stop], verbose=(1 if self.debug else 0))\n",
        "    else:\n",
        "      self.model_hist = model.fit(X_train, y_train, epochs=self.NUM_EPOCHS, verbose=1, callbacks = [early_stop] )\n",
        "    self.model = model\n",
        "    return self.model_hist\n",
        "\n",
        "  def get_model_name(self):\n",
        "    return f\"{dt.today().strftime('%Y%m%d-%H%M')}-{self.MODEL_NAME}.hdf5\"\n",
        "\n",
        "  def save_model(self, path):\n",
        "    \"\"\"\n",
        "    Save the current model under the given drive path.\n",
        "    Timestamp the model name.\n",
        "    \"\"\"\n",
        "    fname = f'{path}{self.get_model_name()}'\n",
        "    print(f'Saving model to: {fname}')\n",
        "    return self.model.save(fname)\n",
        "\n",
        "  def predict(self, X_in):\n",
        "    return self.model.predict(X_in)"
      ],
      "metadata": {
        "id": "HjMLJtjiQJZs"
      },
      "execution_count": null,
      "outputs": []
    }
  ]
}
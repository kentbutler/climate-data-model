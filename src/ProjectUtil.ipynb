{
  "nbformat": 4,
  "nbformat_minor": 0,
  "metadata": {
    "colab": {
      "provenance": []
    },
    "kernelspec": {
      "name": "python3",
      "display_name": "Python 3"
    },
    "language_info": {
      "name": "python"
    }
  },
  "cells": [
    {
      "cell_type": "code",
      "source": [
        "import pandas as pd\n",
        "import numpy as np\n",
        "from sklearn.preprocessing import LabelEncoder\n",
        "from pandas.tseries.offsets import Day, MonthBegin, YearBegin"
      ],
      "metadata": {
        "id": "ps_zC2UvT_yi"
      },
      "execution_count": null,
      "outputs": []
    },
    {
      "cell_type": "code",
      "execution_count": null,
      "metadata": {
        "id": "KPEDYz5jTiKl"
      },
      "outputs": [],
      "source": [
        "def get_df_types(df, debug=False):\n",
        "  # Create lists of column names by data type\n",
        "  floats=[]\n",
        "  ints=[]\n",
        "  strings=[]\n",
        "  other=[]\n",
        "\n",
        "  for col in df.columns:\n",
        "    if debug:\n",
        "      print(f'## {col}:\\t\\t{df[col].dtype}')\n",
        "    t = df[col].dtype.name\n",
        "    if t.find('float') >= 0:\n",
        "      floats.append(col)\n",
        "    elif t.find('int') >= 0:\n",
        "      ints.append(col)\n",
        "    elif t.find('object') >= 0:\n",
        "      strings.append(col)\n",
        "    else:\n",
        "      other.append(col)\n",
        "\n",
        "  if debug:\n",
        "    print(f'Types::\\n\\tInts: {ints}'),print(f'\\tFloats: {floats}'),print(f'\\tStrings: {strings}'),print(f'\\tOther: {other}')\n",
        "\n",
        "  return floats,ints,strings,other\n",
        "\n",
        "\n",
        "def df_to_arrays(df, target_label, debug=False):\n",
        "  \"\"\"\n",
        "  Given a DataFrame, convert into a 2D array of numerics.\n",
        "  Target variable is returned as y.\n",
        "\n",
        "  Returns a 2D ndarray as X, ndarray as y, and optional encoder for y\n",
        "  if encoding was necessary.\n",
        "  \"\"\"\n",
        "  target_encoder = None\n",
        "  X = []\n",
        "  y = []\n",
        "\n",
        "  # Numericize non-numerics\n",
        "  for alpha_col in alphas:\n",
        "    if debug:\n",
        "      print(f'Label encoding col: {alpha_col}')\n",
        "    label_enc = LabelEncoder()\n",
        "    enc_col = label_enc.fit_transform(df[alpha_col].values)\n",
        "    if alpha_col == target_label:\n",
        "      target_encoder = label_enc\n",
        "      y.append(enc_col)\n",
        "    else:\n",
        "      X.append(enc_col)\n",
        "\n",
        "  for numeric_col in numerics:\n",
        "    if numeric_col == target_label:\n",
        "      y.append(df[numeric_col].values)\n",
        "    else:\n",
        "      X.append(df[numeric_col].values)\n",
        "\n",
        "  return np.array(X), np.array(y), target_encoder\n",
        "\n",
        "def df_retain(df, columns, debug=False):\n",
        "  \"\"\"\n",
        "  Given a DataFrame and a list of column names, retain only the listed columns.\n",
        "  Returns a dataframe with all but the listed columns removed.\n",
        "  \"\"\"\n",
        "  if (df is None):\n",
        "    return None\n",
        "\n",
        "  drop_cols = []\n",
        "  for col in df.columns:\n",
        "    if (col not in columns):\n",
        "      drop_cols.append(col)\n",
        "\n",
        "  if (debug):\n",
        "    print(f'Dropping columns: {drop_cols}')\n",
        "\n",
        "  return df.drop(columns=drop_cols)\n",
        "\n",
        "def create_timeindexed_df(start_date, end_date, freq='1M'):\n",
        "  \"\"\"\n",
        "  Create an empty DataFrame with index set up with dates in a regular pattern\n",
        "  for the currently set start/end dates and given frequency.\n",
        "  See https://pandas.pydata.org/docs/user_guide/timeseries.html#timeseries-offset-aliases\n",
        "  for the full frequency specification.\n",
        "  Default creates an index point at every first day of the month in the given range.\n",
        "  \"\"\"\n",
        "  if (not start_date or not end_date):\n",
        "    raise AssertionError('Time range required')\n",
        "\n",
        "  # See if we need an offset\n",
        "  offset = Day(0)  # Days do not, unless you're looking to back off Time units to midnight\n",
        "  if (freq[-1] == 'M'):\n",
        "    offset = MonthBegin(1)\n",
        "  elif (freq[-1] == 'Y'):\n",
        "    offset = YearBegin(1)\n",
        "\n",
        "  # Generate index\n",
        "  dates = pd.date_range(start_date, end_date, freq=freq) - offset\n",
        "\n",
        "  # Create empty df\n",
        "  return pd.DataFrame(index=dates)\n",
        "\n",
        "def clean_df(df, purge_suffixes=[]):\n",
        "  \"\"\"\n",
        "  Perform following on the given df:\n",
        "  * drop any column with a name ending in a given purge_suffix\n",
        "  * remove surrounding parands from any column name\n",
        "  * rename columns ending in \", mean\" to \"-Mean\"\n",
        "  \"\"\"\n",
        "  drop_list = []\n",
        "  tuple_list = {}\n",
<<<<<<< Updated upstream
=======
        "  has_tuples = False\n",
>>>>>>> Stashed changes
        "\n",
        "  for col in df.columns:\n",
        "    if (isinstance(col, tuple)):\n",
        "      # rename tuple to just first entry\n",
        "      tuple_list[col] = col[0]\n",
<<<<<<< Updated upstream
=======
        "      has_tuples = True\n",
>>>>>>> Stashed changes
        "    else:\n",
        "      for s in purge_suffixes:\n",
        "        if (col.endswith(s)):\n",
        "          drop_list.append(col)\n",
        "          break\n",
        "\n",
        "  # Drop columns w/ suffixes from list\n",
        "  df.drop(columns=drop_list, inplace=True)\n",
        "\n",
<<<<<<< Updated upstream
        "  # Rename mean cols\n",
        "  #for col in df.columns:\n",
        "  #  if (\", mean\" in col):\n",
        "  #    mean_list[col] = f'{col[:-6]}-Mean'\n",
        "\n",
        "  # Rename tuples\n",
        "  df.rename(columns=tuple_list, inplace=True)\n",
        "  return df"
=======
        "  # Rename tuples\n",
        "  if (has_tuples):\n",
        "    # This is a workaround, b/c the regular pd.rename() and rename_axis()\n",
        "    #   are unable to replace tuple names on dfs which are created via a groupby\n",
        "    #   with multiple criteria.  Hence this could be expensive.\n",
        "    df_new = pd.DataFrame(index=df.index)\n",
        "\n",
        "    for col in df.columns:\n",
        "      if (isinstance(col, tuple)):\n",
        "        df_new[col[0]] = df[col]\n",
        "      else:\n",
        "        df_new[str(col)] = df[col]\n",
        "    df = df_new\n",
        "\n",
        "  return df\n",
        "\n",
        "def diff_df_rows(df1, df2, col='index', debug=False):\n",
        "  \"\"\"\n",
        "  Difference the given dataframes on the given column.\n",
        "  If 'index' specified, applies to the indexes.\n",
        "  Returns count of difference.\n",
        "  \"\"\"\n",
        "  if (col == 'index'):\n",
        "    diff1 = set(df1.index) - set(df2.index)\n",
        "    if (debug):\n",
        "      print (f'In df1 only: {diff1}')\n",
        "\n",
        "  else:\n",
        "    diff1 = set(df1[col].values) - set(df2[col].values)\n",
        "    if (debug):\n",
        "      print (f'In df1 only: {diff1}')\n",
        "\n",
        "  return len(diff1)\n",
        "\n",
        "def assess_na(df):\n",
        "  \"\"\"\n",
        "  Given a df, return the percentage of each column that is NaN as a df.\n",
        "  Return a df w/ same cols, percent values.\n",
        "  \"\"\"\n",
        "  df_na = df.isna()\n",
        "  df_stats = pd.DataFrame(columns=[df_na.columns])\n",
        "  for col in df_na.columns:\n",
        "    s = df_na[col].value_counts()\n",
        "    # code around error accessing when keys do not exist\n",
        "    t=0\n",
        "    f=0\n",
        "    if (True in s):\n",
        "      t=s[True]\n",
        "    if (False in s):\n",
        "      f=s[False]\n",
        "\n",
        "    df_stats.loc[0,col] = t/(t+f)\n",
        "\n",
        "  return df_stats"
>>>>>>> Stashed changes
      ]
    },
    {
      "cell_type": "markdown",
      "source": [
        "---\n",
        "\n",
        "**Unit Tests**\n",
        "\n",
        "---"
      ],
      "metadata": {
        "id": "tKh7gc5XL5Gu"
      }
    },
    {
      "cell_type": "code",
      "source": [
        "PU_UNIT_TEST = False"
      ],
      "metadata": {
        "id": "b2GZVFUp2GvR"
      },
      "execution_count": null,
      "outputs": []
    },
    {
      "cell_type": "code",
      "source": [
        "# Unit Testing\n",
        "if PU_UNIT_TEST:\n",
        "  def get_test_df():\n",
        "    df = pd.DataFrame({'angles': [0, 3, 4],\n",
        "                      'degreesRT': [360.32, 180.31, 360.114],\n",
        "                      'code':['A','B','C']},\n",
        "                      index=['circle', 'triangle', 'rectangle'])\n",
        "    print(f'DataFrame: \\n{df}')\n",
        "    return df\n",
        "\n",
        "  print('--------------------------------------------')\n",
        "  print('Case 1: get_df_types()')\n",
        "  df = get_test_df()\n",
        "\n",
        "  # Determine data types in given columns\n",
        "  floats,ints,strings,other = get_df_types(df, True)\n",
        "\n",
        "  numerics = set(floats).union(set(ints))\n",
        "  alphas = set(strings).union(set(other))\n",
        "\n",
        "  print(f'Numeric cols: {numerics}')\n",
        "  print(f'Alpha cols: {alphas}')\n",
        "\n",
        "  print('--------------------------------------------')\n",
        "  print('Case 2: df_to_arrays() - alpha target')\n",
        "  df = get_test_df()\n",
        "\n",
        "  X, y, enc = df_to_arrays(df, 'code', debug=True)\n",
        "  print(f'X: {X}')\n",
        "  print(f'y: {y}')\n",
        "  print(f'enc: {enc}')\n",
        "\n",
        "  print('--------------------------------------------')\n",
        "  print('Case 3: df_to_arrays() - alpha col, numer. target')\n",
        "  df = get_test_df()\n",
        "\n",
        "  X, y, enc = df_to_arrays(df, 'angles', debug=True)\n",
        "  print(f'X: {X}')\n",
        "  print(f'y: {y}')\n",
        "  print(f'enc: {enc}')\n",
        "\n",
        "  print('--------------------------------------------')\n",
        "  print('Case 4: df_retain() - retain only \"angles\"')\n",
        "  df = get_test_df()\n",
        "\n",
        "  df = df_retain(df, 'angles', debug=True)\n",
        "  print(f'df: {df.columns}')\n",
        "\n"
<<<<<<< Updated upstream
      ],
      "metadata": {
        "id": "5lPOL4AQT8SZ"
      },
      "execution_count": null,
      "outputs": []
    },
    {
      "cell_type": "code",
      "source": [
        "from sre_constants import error\n",
        "if PU_UNIT_TEST:\n",
        "  import pandas as pd\n",
        "  from datetime import datetime as dt\n",
        "  import datetime\n",
        "\n",
        "  START_DATE =  pd.to_datetime(dt.fromisoformat('1999-01-01'))\n",
        "  # Stop including data after this date\n",
        "  END_DATE = pd.to_datetime(dt.fromisoformat('2002-12-31'))\n",
        "\n",
        "  print('--------------------------------------------')\n",
        "  print('Case 5a: create_timeindexed_df() - no date')\n",
        "  try:\n",
        "    # Error expected\n",
        "    df = create_timeindexed_df(START_DATE, None, freq='1M')\n",
        "  except AssertionError as e:\n",
        "    print (f'Caught expected error: {e}')\n",
        "\n",
        "  print('--------------------------------------------')\n",
        "  print('Case 5b: create_timeindexed_df() - 1M')\n",
        "  df = create_timeindexed_df(START_DATE, END_DATE, freq='1M')\n",
        "  print(df.index)\n",
        "\n",
        "  print('--------------------------------------------')\n",
        "  print('Case 5c: create_timeindexed_df() - 1D')\n",
        "  df = create_timeindexed_df(START_DATE, END_DATE, freq='1D')\n",
        "  print(df.index)\n",
        "\n",
        "  print('--------------------------------------------')\n",
        "  print('Case 5c: create_timeindexed_df() - 1Y')\n",
        "  df = create_timeindexed_df(START_DATE, END_DATE, freq='1Y')\n",
        "  print(df.index)\n"
      ],
      "metadata": {
        "id": "HyZo1tavH6Zd"
      },
      "execution_count": null,
      "outputs": []
    },
    {
      "cell_type": "code",
      "source": [
        "if PU_UNIT_TEST:\n",
        "  print('--------------------------------------------')\n",
        "  print('Case 6: () - ')\n",
        "  df = create_timeindexed_df(START_DATE, END_DATE, freq='1M')\n",
        "  df['date'] = df.index\n",
        "  print(df.columns)\n",
        "  print(df.head())\n",
        "  df['year'] = df['date'].apply(lambda x: x.year)\n",
        "  df['month'] = df['date'].apply(lambda x: f'{x.month:02}')"
      ],
      "metadata": {
        "id": "HdQXjK5243cm"
      },
      "execution_count": null,
      "outputs": []
    },
    {
      "cell_type": "code",
      "source": [
        "if PU_UNIT_TEST:\n",
        "  df = pd.DataFrame({'days': ['Mon','Tues','Wed','Thurs','Fri'],\n",
        "                   ('vals', 'mean'): [1, 2, 3, 4, 5],\n",
        "                     'valdf':range(5)},\n",
        "                  index=range(5))\n",
        "  print(df)\n",
        "  df = clean_df(df, purge_suffixes=['df'])\n",
        "  print(df)"
=======
>>>>>>> Stashed changes
      ],
      "metadata": {
        "colab": {
          "base_uri": "https://localhost:8080/"
        },
<<<<<<< Updated upstream
        "id": "pBYdpBjusXn0",
        "outputId": "d608f2d5-73ea-437f-a038-e5220c9f1c4f"
=======
        "outputId": "61f72f1c-0440-4940-f759-cb3505557d4a"
>>>>>>> Stashed changes
      },
      "execution_count": null,
      "outputs": [
        {
          "output_type": "stream",
          "name": "stdout",
          "text": [
<<<<<<< Updated upstream
            "    days  (vals, mean)  valdf\n",
            "0    Mon             1      0\n",
            "1   Tues             2      1\n",
            "2    Wed             3      2\n",
            "3  Thurs             4      3\n",
            "4    Fri             5      4\n",
            "    days  vals\n",
            "0    Mon     1\n",
            "1   Tues     2\n",
            "2    Wed     3\n",
            "3  Thurs     4\n",
            "4    Fri     5\n"
=======
            "--------------------------------------------\n",
            "Case 1: get_df_types()\n",
            "DataFrame: \n",
            "           angles  degreesRT code\n",
            "circle          0    360.320    A\n",
            "triangle        3    180.310    B\n",
            "rectangle       4    360.114    C\n",
            "## angles:\t\tint64\n",
            "## degreesRT:\t\tfloat64\n",
            "## code:\t\tobject\n",
            "Types::\n",
            "\tInts: ['angles']\n",
            "\tFloats: ['degreesRT']\n",
            "\tStrings: ['code']\n",
            "\tOther: []\n",
            "Numeric cols: {'angles', 'degreesRT'}\n",
            "Alpha cols: {'code'}\n",
            "--------------------------------------------\n",
            "Case 2: df_to_arrays() - alpha target\n",
            "DataFrame: \n",
            "           angles  degreesRT code\n",
            "circle          0    360.320    A\n",
            "triangle        3    180.310    B\n",
            "rectangle       4    360.114    C\n",
            "Label encoding col: code\n",
            "X: [[  0.      3.      4.   ]\n",
            " [360.32  180.31  360.114]]\n",
            "y: [[0 1 2]]\n",
            "enc: LabelEncoder()\n",
            "--------------------------------------------\n",
            "Case 3: df_to_arrays() - alpha col, numer. target\n",
            "DataFrame: \n",
            "           angles  degreesRT code\n",
            "circle          0    360.320    A\n",
            "triangle        3    180.310    B\n",
            "rectangle       4    360.114    C\n",
            "Label encoding col: code\n",
            "X: [[  0.      1.      2.   ]\n",
            " [360.32  180.31  360.114]]\n",
            "y: [[0 3 4]]\n",
            "enc: None\n",
            "--------------------------------------------\n",
            "Case 4: df_retain() - retain only \"angles\"\n",
            "DataFrame: \n",
            "           angles  degreesRT code\n",
            "circle          0    360.320    A\n",
            "triangle        3    180.310    B\n",
            "rectangle       4    360.114    C\n",
            "Dropping columns: ['degreesRT', 'code']\n",
            "df: Index(['angles'], dtype='object')\n"
>>>>>>> Stashed changes
          ]
        }
      ]
    },
    {
      "cell_type": "code",
      "source": [
        "from sre_constants import error\n",
        "if PU_UNIT_TEST:\n",
        "  import pandas as pd\n",
        "  from datetime import datetime as dt\n",
        "  import datetime\n",
        "\n",
        "  START_DATE =  pd.to_datetime(dt.fromisoformat('1999-01-01'))\n",
        "  # Stop including data after this date\n",
        "  END_DATE = pd.to_datetime(dt.fromisoformat('2002-12-31'))\n",
        "\n",
        "  print('--------------------------------------------')\n",
        "  print('Case 5a: create_timeindexed_df() - no date')\n",
        "  try:\n",
        "    # Error expected\n",
        "    df = create_timeindexed_df(START_DATE, None, freq='1M')\n",
        "  except AssertionError as e:\n",
        "    print (f'Caught expected error: {e}')\n",
        "\n",
        "  print('--------------------------------------------')\n",
        "  print('Case 5b: create_timeindexed_df() - 1M')\n",
        "  df = create_timeindexed_df(START_DATE, END_DATE, freq='1M')\n",
        "  print(df.index)\n",
        "\n",
        "  print('--------------------------------------------')\n",
        "  print('Case 5c: create_timeindexed_df() - 1D')\n",
        "  df = create_timeindexed_df(START_DATE, END_DATE, freq='1D')\n",
        "  print(df.index)\n",
        "\n",
        "  print('--------------------------------------------')\n",
        "  print('Case 5c: create_timeindexed_df() - 1Y')\n",
        "  df = create_timeindexed_df(START_DATE, END_DATE, freq='1Y')\n",
        "  print(df.index)\n"
      ],
      "metadata": {
        "id": "HyZo1tavH6Zd",
        "colab": {
          "base_uri": "https://localhost:8080/"
        },
        "outputId": "b515fac9-f6da-454b-8d9a-3e7c0f0db16d"
      },
      "execution_count": null,
      "outputs": [
        {
          "output_type": "stream",
          "name": "stdout",
          "text": [
            "--------------------------------------------\n",
            "Case 5a: create_timeindexed_df() - no date\n",
            "Caught expected error: Time range required\n",
            "--------------------------------------------\n",
            "Case 5b: create_timeindexed_df() - 1M\n",
            "DatetimeIndex(['1999-01-01', '1999-02-01', '1999-03-01', '1999-04-01',\n",
            "               '1999-05-01', '1999-06-01', '1999-07-01', '1999-08-01',\n",
            "               '1999-09-01', '1999-10-01', '1999-11-01', '1999-12-01',\n",
            "               '2000-01-01', '2000-02-01', '2000-03-01', '2000-04-01',\n",
            "               '2000-05-01', '2000-06-01', '2000-07-01', '2000-08-01',\n",
            "               '2000-09-01', '2000-10-01', '2000-11-01', '2000-12-01',\n",
            "               '2001-01-01', '2001-02-01', '2001-03-01', '2001-04-01',\n",
            "               '2001-05-01', '2001-06-01', '2001-07-01', '2001-08-01',\n",
            "               '2001-09-01', '2001-10-01', '2001-11-01', '2001-12-01',\n",
            "               '2002-01-01', '2002-02-01', '2002-03-01', '2002-04-01',\n",
            "               '2002-05-01', '2002-06-01', '2002-07-01', '2002-08-01',\n",
            "               '2002-09-01', '2002-10-01', '2002-11-01', '2002-12-01'],\n",
            "              dtype='datetime64[ns]', freq=None)\n",
            "--------------------------------------------\n",
            "Case 5c: create_timeindexed_df() - 1D\n",
            "DatetimeIndex(['1999-01-01', '1999-01-02', '1999-01-03', '1999-01-04',\n",
            "               '1999-01-05', '1999-01-06', '1999-01-07', '1999-01-08',\n",
            "               '1999-01-09', '1999-01-10',\n",
            "               ...\n",
            "               '2002-12-22', '2002-12-23', '2002-12-24', '2002-12-25',\n",
            "               '2002-12-26', '2002-12-27', '2002-12-28', '2002-12-29',\n",
            "               '2002-12-30', '2002-12-31'],\n",
            "              dtype='datetime64[ns]', length=1461, freq='D')\n",
            "--------------------------------------------\n",
            "Case 5c: create_timeindexed_df() - 1Y\n",
            "DatetimeIndex(['1999-01-01', '2000-01-01', '2001-01-01', '2002-01-01'], dtype='datetime64[ns]', freq=None)\n"
          ]
        }
      ]
    },
    {
      "cell_type": "code",
      "source": [
        "if PU_UNIT_TEST:\n",
        "  print('--------------------------------------------')\n",
        "  print('Case 6: - create_timeindexed_df')\n",
        "  df = create_timeindexed_df(START_DATE, END_DATE, freq='1M')\n",
        "  df['date'] = df.index\n",
        "  print(df.columns)\n",
        "  print(df.head())\n",
        "  df['year'] = df['date'].apply(lambda x: x.year)\n",
        "  df['month'] = df['date'].apply(lambda x: f'{x.month:02}')"
      ],
      "metadata": {
<<<<<<< Updated upstream
        "id": "T89X1kjHs88o"
=======
        "id": "HdQXjK5243cm",
        "colab": {
          "base_uri": "https://localhost:8080/"
        },
        "outputId": "6a262047-7a19-407a-a059-8c883d83044b"
>>>>>>> Stashed changes
      },
      "execution_count": null,
      "outputs": [
        {
          "output_type": "stream",
          "name": "stdout",
          "text": [
            "--------------------------------------------\n",
            "Case 6: - create_timeindexed_df\n",
            "Index(['date'], dtype='object')\n",
            "                 date\n",
            "1999-01-01 1999-01-01\n",
            "1999-02-01 1999-02-01\n",
            "1999-03-01 1999-03-01\n",
            "1999-04-01 1999-04-01\n",
            "1999-05-01 1999-05-01\n"
          ]
        }
      ]
    },
    {
      "cell_type": "code",
      "source": [
        "if PU_UNIT_TEST:\n",
        "  print('--------------------------------------------')\n",
        "  print('Case 7a: - clean_df - mixed tuple/string series names')\n",
        "  day_data = ['Mon','Tue','Wed','Thurs','Fri','Wed','Tue','Fri']\n",
        "  df = pd.DataFrame({'days': day_data,\n",
        "                   ('vals', 'mean'): range(len(day_data)),\n",
        "                     'valdf':range(1,len(day_data)+1)})\n",
        "  print(df.info())\n",
        "  print('=========== cleaning ===========')\n",
        "  df = clean_df(df, purge_suffixes=['df'])\n",
        "  print(df.info())"
      ],
      "metadata": {
        "id": "pBYdpBjusXn0",
        "colab": {
          "base_uri": "https://localhost:8080/"
        },
        "outputId": "aa777299-4ccf-4dd1-d142-9a526c9bf350"
      },
      "execution_count": null,
      "outputs": [
        {
          "output_type": "stream",
          "name": "stdout",
          "text": [
            "--------------------------------------------\n",
            "Case 7a: - clean_df - mixed tuple/string series names\n",
            "<class 'pandas.core.frame.DataFrame'>\n",
            "RangeIndex: 8 entries, 0 to 7\n",
            "Data columns (total 3 columns):\n",
            " #   Column        Non-Null Count  Dtype \n",
            "---  ------        --------------  ----- \n",
            " 0   days          8 non-null      object\n",
            " 1   (vals, mean)  8 non-null      int64 \n",
            " 2   valdf         8 non-null      int64 \n",
            "dtypes: int64(2), object(1)\n",
            "memory usage: 320.0+ bytes\n",
            "None\n",
            "=========== cleaning ===========\n",
            "<class 'pandas.core.frame.DataFrame'>\n",
            "RangeIndex: 8 entries, 0 to 7\n",
            "Data columns (total 2 columns):\n",
            " #   Column  Non-Null Count  Dtype \n",
            "---  ------  --------------  ----- \n",
            " 0   days    8 non-null      object\n",
            " 1   vals    8 non-null      int64 \n",
            "dtypes: int64(1), object(1)\n",
            "memory usage: 256.0+ bytes\n",
            "None\n"
          ]
        }
      ]
    },
    {
      "cell_type": "code",
      "source": [
        "if PU_UNIT_TEST:\n",
        "  print('--------------------------------------------')\n",
        "  print('Case 7b: - clean_df - all tuple series names')\n",
        "\n",
        "  # Create a realistic timeseries df\n",
        "  years = [2020,2020,2021,2021,2020,2021]\n",
        "  months= [1,1,2,2,3,4]\n",
        "  df = pd.DataFrame({'year': years,\n",
        "                     'month':months,\n",
        "                     'val1': [(f * 0.125) for f in range(1,len(months)+1)],\n",
        "                     'val2': [(f * 0.777) for f in range(11,11+len(months))]\n",
        "                     })\n",
        "  df['date'] = df.apply(lambda x: pd.to_datetime(f\"{int(x.month):02}/01/{int(x.year)}\".format_map(x)), axis=1)\n",
        "  df.set_index('date', drop=False, inplace=True)\n",
        "  print(df)\n",
        "\n",
        "  # Providing an array of element entries will create a df named entirely w/ tuples\n",
        "  #    and this is not easy to clean!!\n",
        "  df_net = df.groupby(['year','month'])['val1','val2'].agg(['mean'])\n",
        "\n",
        "  print('=========== before cleaning ===========')\n",
        "  print(df_net.info())\n",
        "  print('=========== after cleaning ===========')\n",
        "  df_net = clean_df(df_net)\n",
        "  print(df_net.info())\n",
        "  print(df_net.index)\n"
      ],
      "metadata": {
        "id": "5FPtdPF41acx",
        "colab": {
          "base_uri": "https://localhost:8080/"
        },
        "outputId": "df4d07d6-2fb9-4e16-b92f-199336278f7e"
      },
      "execution_count": null,
      "outputs": [
        {
          "output_type": "stream",
          "name": "stdout",
          "text": [
            "--------------------------------------------\n",
            "Case 7b: - clean_df - all tuple series names\n",
            "            year  month   val1    val2       date\n",
            "date                                             \n",
            "2020-01-01  2020      1  0.125   8.547 2020-01-01\n",
            "2020-01-01  2020      1  0.250   9.324 2020-01-01\n",
            "2021-02-01  2021      2  0.375  10.101 2021-02-01\n",
            "2021-02-01  2021      2  0.500  10.878 2021-02-01\n",
            "2020-03-01  2020      3  0.625  11.655 2020-03-01\n",
            "2021-04-01  2021      4  0.750  12.432 2021-04-01\n",
            "=========== before cleaning ===========\n",
            "<class 'pandas.core.frame.DataFrame'>\n",
            "MultiIndex: 4 entries, (2020, 1) to (2021, 4)\n",
            "Data columns (total 2 columns):\n",
            " #   Column        Non-Null Count  Dtype  \n",
            "---  ------        --------------  -----  \n",
            " 0   (val1, mean)  4 non-null      float64\n",
            " 1   (val2, mean)  4 non-null      float64\n",
            "dtypes: float64(2)\n",
            "memory usage: 227.0 bytes\n",
            "None\n",
            "=========== after cleaning ===========\n",
            "<class 'pandas.core.frame.DataFrame'>\n",
            "MultiIndex: 4 entries, (2020, 1) to (2021, 4)\n",
            "Data columns (total 2 columns):\n",
            " #   Column  Non-Null Count  Dtype  \n",
            "---  ------  --------------  -----  \n",
            " 0   val1    4 non-null      float64\n",
            " 1   val2    4 non-null      float64\n",
            "dtypes: float64(2)\n",
            "memory usage: 227.0 bytes\n",
            "None\n",
            "MultiIndex([(2020, 1),\n",
            "            (2020, 3),\n",
            "            (2021, 2),\n",
            "            (2021, 4)],\n",
            "           names=['year', 'month'])\n"
          ]
        },
        {
          "output_type": "stream",
          "name": "stderr",
          "text": [
            "<ipython-input-8-1474142948ab>:19: FutureWarning: Indexing with multiple keys (implicitly converted to a tuple of keys) will be deprecated, use a list instead.\n",
            "  df_net = df.groupby(['year','month'])['val1','val2'].agg(['mean'])\n"
          ]
        }
      ]
    },
    {
      "cell_type": "code",
      "source": [
        "if PU_UNIT_TEST:\n",
        "  print('--------------------------------------------')\n",
        "  print('Case 8: - diff_df_rows')\n",
        "\n",
        "  # Create a realistic timeseries df\n",
        "  years = [2020,2020,2020,2021,2021,2021]\n",
        "  months= [1,2,3,4,5,6]\n",
        "  df = pd.DataFrame({'year': years,\n",
        "                     'month':months,\n",
        "                     'val1': [(f * 0.125) for f in range(1,len(months)+1)]\n",
        "                     })\n",
        "  df['date'] = df.apply(lambda x: pd.to_datetime(f\"{int(x.month):02}/01/{int(x.year)}\".format_map(x)), axis=1)\n",
        "  df.set_index('date', drop=False, inplace=True)\n",
        "  print('-----------df ------------\\n',df)\n",
        "\n",
        "  # Create a realistic timeseries df\n",
        "  years = [2020,2020,2020,2021,2021,2021]\n",
        "  months= [1,2,3,4,5,7]\n",
        "  df2 = pd.DataFrame({'year': years,\n",
        "                     'month':months,\n",
        "                     'val2': [(f * 0.777) for f in range(11,11+len(months))]\n",
        "                     })\n",
        "  df2['date'] = df2.apply(lambda x: pd.to_datetime(f\"{int(x.month):02}/01/{int(x.year)}\".format_map(x)), axis=1)\n",
        "  df2.set_index('date', drop=False, inplace=True)\n",
        "  print('-----------df2 ------------\\n',df2)\n"
      ],
      "metadata": {
        "id": "BnsnNmWyFsTo",
        "colab": {
          "base_uri": "https://localhost:8080/"
        },
        "outputId": "e530928d-1968-403e-c59a-48c7c516caeb"
      },
      "execution_count": null,
      "outputs": [
        {
          "output_type": "stream",
          "name": "stdout",
          "text": [
            "--------------------------------------------\n",
            "Case 8: - diff_df_rows\n",
            "-----------df ------------\n",
            "             year  month   val1       date\n",
            "date                                     \n",
            "2020-01-01  2020      1  0.125 2020-01-01\n",
            "2020-02-01  2020      2  0.250 2020-02-01\n",
            "2020-03-01  2020      3  0.375 2020-03-01\n",
            "2021-04-01  2021      4  0.500 2021-04-01\n",
            "2021-05-01  2021      5  0.625 2021-05-01\n",
            "2021-06-01  2021      6  0.750 2021-06-01\n",
            "-----------df2 ------------\n",
            "             year  month    val2       date\n",
            "date                                      \n",
            "2020-01-01  2020      1   8.547 2020-01-01\n",
            "2020-02-01  2020      2   9.324 2020-02-01\n",
            "2020-03-01  2020      3  10.101 2020-03-01\n",
            "2021-04-01  2021      4  10.878 2021-04-01\n",
            "2021-05-01  2021      5  11.655 2021-05-01\n",
            "2021-07-01  2021      7  12.432 2021-07-01\n"
          ]
        }
      ]
    },
    {
      "cell_type": "code",
      "source": [
        "if PU_UNIT_TEST:\n",
        "  diff = diff_df_rows(df, df2, debug=True)\n",
        "  print(f'Diff (0 means no diff): {diff}')"
      ],
      "metadata": {
        "id": "yMRQ8SGwJN4h",
        "colab": {
          "base_uri": "https://localhost:8080/"
        },
        "outputId": "42aaf67a-03fb-4642-9976-736b010bbd7f"
      },
      "execution_count": null,
      "outputs": [
        {
          "output_type": "stream",
          "name": "stdout",
          "text": [
            "In df1 only: {Timestamp('2021-06-01 00:00:00')}\n",
            "Diff (0 means no diff): 1\n"
          ]
        }
      ]
    },
    {
      "cell_type": "code",
      "source": [
        "if PU_UNIT_TEST:\n",
        "  diff = diff_df_rows(df2, df, col='date', debug=True)\n",
        "  print(f'Diff (0 means no diff): {diff}')"
      ],
      "metadata": {
        "id": "3QSkZnX1JN__",
        "colab": {
          "base_uri": "https://localhost:8080/"
        },
        "outputId": "49b5481b-32db-4f7d-ca07-914e1b35f219"
      },
      "execution_count": null,
      "outputs": [
        {
          "output_type": "stream",
          "name": "stdout",
          "text": [
            "In df1 only: {numpy.datetime64('2021-07-01T00:00:00.000000000')}\n",
            "Diff (0 means no diff): 1\n"
          ]
        }
      ]
    },
    {
      "cell_type": "code",
      "source": [
        "if PU_UNIT_TEST:\n",
        "  print('--------------------------------------------')\n",
        "  print('Case 9: - assess na')\n",
        "\n",
        "  # Create a realistic timeseries df\n",
        "  years = [2020,2020,2020,2021,np.nan,np.nan]\n",
        "  months= [np.nan,2,3,4,5,6]\n",
        "  df = pd.DataFrame({'year': years,\n",
        "                     'month':months,\n",
        "                     'val1': [(f * 0.125) for f in range(1,len(months)+1)]\n",
        "                     })\n",
        "  print('-----------df ------------\\n',df)\n",
        "  print('-----------df_stats----------\\n', assess_na(df))"
      ],
      "metadata": {
        "id": "T89X1kjHs88o",
        "colab": {
          "base_uri": "https://localhost:8080/"
        },
        "outputId": "8b49a410-abe5-425c-ccd8-48a8d1f29069"
      },
      "execution_count": null,
      "outputs": [
        {
          "output_type": "stream",
          "name": "stdout",
          "text": [
            "--------------------------------------------\n",
            "Case 9: - assess na\n",
            "-----------df ------------\n",
            "      year  month   val1\n",
            "0  2020.0    NaN  0.125\n",
            "1  2020.0    2.0  0.250\n",
            "2  2020.0    3.0  0.375\n",
            "3  2021.0    4.0  0.500\n",
            "4     NaN    5.0  0.625\n",
            "5     NaN    6.0  0.750\n",
            "-----------df_stats----------\n",
            "        year     month val1\n",
            "0  0.333333  0.166667  0.0\n"
          ]
        }
      ]
    }
  ]
}
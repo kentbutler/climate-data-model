{
  "cells": [
    {
      "cell_type": "markdown",
      "metadata": {
        "id": "om0kO_8Wjrdp"
      },
      "source": [
        "## Data606 - Capstone Project\n",
        "```\n",
        "Group H\n",
        "Malav Patel, Kent Butler\n",
        "Prof. Unal Sokaglu\n",
        "```"
      ]
    },
    {
      "cell_type": "markdown",
      "metadata": {
        "id": "wi36j3siBTJw"
      },
      "source": [
        "This project is about performing time-series analysis on climate data analysis data.\n",
        "\n"
      ]
    },
    {
      "cell_type": "markdown",
      "metadata": {
        "id": "ITMtlPsgRtyw"
      },
      "source": [
        "# Research"
      ]
    },
    {
      "cell_type": "markdown",
      "metadata": {
        "id": "wPKxbg_slFF8"
      },
      "source": [
        "### References"
      ]
    },
    {
      "cell_type": "markdown",
      "metadata": {
        "id": "PoW6sjUCRvt_"
      },
      "source": [
        "Some explanations of earth sciences statistics:\n",
        "https://pjbartlein.github.io/REarthSysSci/ltms-and-anomalies.html\n",
        "\n",
        "NOAA PSL NCEP-NCAR datasets:  https://psl.noaa.gov/data/gridded/data.ncep.reanalysis.html\n",
        "\n",
        "NOAA PSL, other recognized data sources directory: https://psl.noaa.gov/data/help/othersources/\n",
        "\n",
        "Global environmental policy timeline, https://www.boell.de/en/2022/05/28/international-environmental-policy-timeline\n",
        "\n",
        "OECD convergence of policy, climate,and economy: https://www.oecd.org/\n",
        "\n",
        "NASA climate time machine: https://climate.nasa.gov/interactives/climate-time-machine"
      ]
    },
    {
      "cell_type": "markdown",
      "metadata": {
        "id": "o8PeuAHRlHPh"
      },
      "source": [
        "### Factoids"
      ]
    },
    {
      "cell_type": "markdown",
      "metadata": {
        "id": "WYSxM-qHlJck"
      },
      "source": [
        "* All of the plastic waste produced in the world in 2019 alone weighs as much as 35,000 Eiffel Towers – 353 million tons  - [*Organization for Economic Cooperation and Development (OECD)*](https://www.boell.de/en/2022/05/28/international-environmental-policy-timeline)\n",
        "\n"
      ]
    },
    {
      "cell_type": "markdown",
      "metadata": {
        "id": "hv3TRSF9pQXW"
      },
      "source": [
        "## Application Parameters\n",
        "\n",
        "Note: algorithm tuning is done with declaration of the model."
      ]
    },
    {
      "cell_type": "code",
      "execution_count": 63,
      "metadata": {
        "id": "WWu_MYu0lkNC"
      },
      "outputs": [],
      "source": [
        "import pandas as pd\n",
        "from datetime import datetime as dt\n",
        "import datetime"
      ]
    },
    {
      "cell_type": "code",
      "execution_count": 64,
      "metadata": {
        "id": "--Xazpo9sqfa"
      },
      "outputs": [],
      "source": [
        "debug = True\n",
        "\n",
        "DRIVE_PATH = \"/content/drive/MyDrive/data606\"\n",
        "\n",
        "# Set the location of this script in GDrive\n",
        "SCRIPT_PATH = DRIVE_PATH + \"/src/\"\n",
        "\n",
        "# Root Path of the data on the cloud drive\n",
        "DATA_ROOT = DRIVE_PATH + \"/data/\"\n",
        "\n",
        "# Model to use\n",
        "MODEL_NAME = 'LSTMv3'\n",
        "\n",
        "# Location of logged output prediction data\n",
        "LOG_PATH = DATA_ROOT + \"/preds/\"\n",
        "\n",
        "# Journal file\n",
        "JOURNAL_LOG = SCRIPT_PATH + \"cv-results.csv\"\n",
        "\n",
        "# Device to run on\n",
        "run_on_device =  'cpu' # 'cuda'\n",
        "\n",
        "# Start including data from this date\n",
        "START_DATE =  pd.to_datetime(dt.fromisoformat('1950-01-01'))\n",
        "# Stop including data after this date\n",
        "END_DATE = pd.to_datetime(dt.fromisoformat('2015-12-01'))"
      ]
    },
    {
      "cell_type": "markdown",
      "metadata": {
        "id": "MDnCzDVoM0ZE"
      },
      "source": [
        "---\n",
        "\n",
        "**Model Configuration**\n",
        "\n",
        "---"
      ]
    },
    {
      "cell_type": "markdown",
      "metadata": {
        "id": "Kob9csPpacYW"
      },
      "source": [
        "**Basic model params**"
      ]
    },
    {
      "cell_type": "code",
      "execution_count": 65,
      "metadata": {
        "id": "CQUwsc3HcQKn"
      },
      "outputs": [],
      "source": [
        "# History lookback in network\n",
        "INPUT_WINDOW = 30\n",
        "# How far forward to predict\n",
        "LABEL_WINDOW = 1\n",
        "# How many to move forward for start of next label\n",
        "SHIFT = 5\n",
        "# Ratio of test data to train data - used for split\n",
        "TEST_RATIO = 0.2\n",
        "# 0..1 percent of data to use as validation\n",
        "VALIDATION_RATIO = 0.1\n",
        "# Num epochs\n",
        "NUM_EPOCHS = 300"
      ]
    },
    {
      "cell_type": "markdown",
      "metadata": {
        "id": "wwCzMksgGfi6"
      },
      "source": [
        "**Configure Predictions**"
      ]
    },
    {
      "cell_type": "code",
      "execution_count": 66,
      "metadata": {
        "id": "Ajo1I7UQGfDN"
      },
      "outputs": [],
      "source": [
        "# Label to predict\n",
        "TARGET_LABEL = 'landSeaAvgTemp'\n",
        "TARGET_LABELS = ['landSeaAvgTemp']\n",
        "\n",
        "# Base dataset\n",
        "TEMP_DATA = {'filename':'GlobalTemperatures.csv',\n",
        "             'feature_map':{'LandAndOceanAverageTemperature':'landSeaAvgTemp'},\n",
        "             'date_col':'dt'}\n",
        "#TEMP_DATA = {'filename':'GlobalTemperatures.csv',\n",
        "#              'feature_map':{'LandAverageTemperature':'landAvgTemp',\t'LandMaxTemperature':'landMaxTemp',\t'LandMinTemperature':'landMinTemp',\t'LandAndOceanAverageTemperature':'landSeaAvgTemp'},\n",
        "#               'date_col':'dt'}\n",
        "\n",
        "\n",
        "# Datasets\n",
        "CO2_DATA = {'filename':\"atmospheric-co2.csv\",\n",
        "            'feature_map':{'Carbon Dioxide (ppm)':'co2', 'Seasonally Adjusted CO2 (ppm)':'co2_seas'},\n",
        "            'date_map':{'Year':'year','Month':'month'}}\n",
        "\n",
        "SEAICE_DATA = {'filename':\"seaice.csv\",\n",
        "               'feature_map':{'     Extent':'ice_extent','    Missing':'ice_missing'},\n",
        "               'date_map':{' Month':'month','Year':'year',' Day':'day'}}\n",
        "\n",
        "WEATHER_DATA = {'filename':\"finalDatasetWithRain.csv\",\n",
        "                'feature_map':{'air_x':'air_x','air_y':'air_y','uwnd':'uwnd'},\n",
        "                'date_col':'time'}\n",
        "\n",
        "VOLCANO_DATA = {'filename':'eruptions-conditioned.csv',\n",
        "                'feature_map':{'vei':'volcanic_idx'},\n",
        "                'date_map':{'start_year':'year','start_month':'month'}}\n",
        "\n",
        "FOREST_DATA = {'filename':'WorldForestCover-Interpolated.csv',\n",
        "               'feature_map':{'PctCover-Int':'pct_forest_cover'},\n",
        "               'date_col':'date'}\n",
        "\n",
        "SUNSPOT_DATA = {'filename':'sunspotnumber.csv',\n",
        "               'feature_map':{'suns_spot_number':'sunspot_num'},\n",
        "               'date_map':{'year':'year'}}\n",
        "\n",
        "POLICY_DATA = {'filename':'GlobalEnvPolicies.csv',\n",
        "               'feature_map':{'EventRating':'policy_rate'},\n",
        "               'date_col':'date'}\n",
        "\n",
        "#GHG_DATA = {'filename':'greenhouse_gas_inventory_data.csv',\n",
        "#            'feature_map':{''},\n",
        "#            'date_map':{'Year':'year'}}\n",
        "#ALL_DATASETS = []\n",
        "#ALL_DATASETS = [SUNSPOT_DATA]\n",
        "ALL_DATASETS = [FOREST_DATA]\n",
        "#ALL_DATASETS = [CO2_DATA, SEAICE_DATA]\n",
        "#ALL_DATASETS = [CO2_DATA, SEAICE_DATA, WEATHER_DATA]\n",
        "#ALL_DATASETS = [CO2_DATA, SEAICE_DATA, VOLCANO_DATA]\n",
        "#ALL_DATASETS = [CO2_DATA, SEAICE_DATA, WEATHER_DATA, VOLCANO_DATA]\n",
        "#ALL_DATASETS = [CO2_DATA, SEAICE_DATA, WEATHER_DATA, VOLCANO_DATA, FOREST_DATA]\n",
        "#ALL_DATASETS = [CO2_DATA, SEAICE_DATA, WEATHER_DATA, VOLCANO_DATA, FOREST_DATA, SUNSPOT_DATA]\n",
        "#ALL_DATASETS = [VOLCANO_DATA, FOREST_DATA, SUNSPOT_DATA]\n",
        "#ALL_DATASETS = [VOLCANO_DATA, FOREST_DATA, SUNSPOT_DATA, CO2_DATA]\n",
        "#ALL_DATASETS = [VOLCANO_DATA, FOREST_DATA, SUNSPOT_DATA, CO2_DATA, SEAICE_DATA]\n",
        "#ALL_DATASETS = [CO2_DATA, SEAICE_DATA, VOLCANO_DATA, FOREST_DATA, SUNSPOT_DATA]\n",
        "\n",
        "#ALL_DATASETS = [POLICY_DATA,CO2_DATA]\n"
      ]
    },
    {
      "cell_type": "code",
      "execution_count": 67,
      "metadata": {
        "id": "-FHrtmWM1HKt",
        "colab": {
          "base_uri": "https://localhost:8080/"
        },
        "outputId": "3098de7e-d40c-493e-d2d4-c3e05420f069"
      },
      "outputs": [
        {
          "output_type": "stream",
          "name": "stdout",
          "text": [
            "Drive already mounted at /content/drive; to attempt to forcibly remount, call drive.mount(\"/content/drive\", force_remount=True).\n"
          ]
        }
      ],
      "source": [
        "from google.colab import drive\n",
        "drive.mount('/content/drive')"
      ]
    },
    {
      "cell_type": "code",
      "execution_count": 68,
      "metadata": {
        "id": "0966NfEwk60W",
        "colab": {
          "base_uri": "https://localhost:8080/"
        },
        "outputId": "94af0cd9-2151-4b28-fa2e-2d4c03d1d8d7"
      },
      "outputs": [
        {
          "output_type": "stream",
          "name": "stdout",
          "text": [
            "/content/drive/MyDrive/data606/src\n"
          ]
        }
      ],
      "source": [
        "%cd $SCRIPT_PATH"
      ]
    },
    {
      "cell_type": "code",
      "execution_count": 69,
      "metadata": {
        "id": "ctfJaN2RWFsG"
      },
      "outputs": [],
      "source": [
        "# Load util class\n",
        "%run -i \"./ProjectUtil.ipynb\""
      ]
    },
    {
      "cell_type": "code",
      "execution_count": 70,
      "metadata": {
        "id": "xSiMwBNa66qM",
        "colab": {
          "base_uri": "https://localhost:8080/"
        },
        "outputId": "92493549-424e-4882-f571-158262294bab"
      },
      "outputs": [
        {
          "output_type": "stream",
          "name": "stdout",
          "text": [
            "              A   B      C\n",
            "2011-01-02   97   1  0.125\n",
            "2011-01-03   98   2  0.250\n",
            "2011-01-04   99   3  0.375\n",
            "2011-01-05  100   4  0.500\n",
            "2011-01-06  101   5  0.625\n",
            "2011-01-07  102   6  0.750\n",
            "2011-01-08  103   7  0.875\n",
            "2011-01-09  104   8  1.000\n",
            "2011-01-10  105   9  1.125\n",
            "2011-01-11  106  10  1.250\n",
            "2011-01-12  107  11  1.375\n",
            "2011-01-13  108  12  1.500\n",
            "2011-01-14  109  13  1.625\n",
            "2011-01-15  110  14  1.750\n",
            "2011-01-16  111  15  1.875\n",
            "2011-01-17  112  16  2.000\n",
            "2011-01-18  113  17  2.125\n",
            "2011-01-19  114  18  2.250\n",
            "2011-01-20  115  19  2.375\n",
            "2011-01-21  116  20  2.500\n",
            "2011-01-22  117  21  2.625\n",
            "2011-01-23  118  22  2.750\n",
            "Shape: (22, 3)\n",
            "--- Case 1 ------\n",
            " input_width=None, label_width=1, shift=1, label_columns=['A']\n",
            "Correct outcome - assert error\n",
            "--- Case 2 ------\n",
            " input_width=4, label_width=1, shift=1, label_columns=['A']\n",
            "Window Generator::\n",
            "\tInput size: 4\n",
            "\tLabel size: 1\n",
            "\tShift: 1\n",
            "\tBatch size: 4\n",
            "\tTotal window size: 5\n",
            "\tLabel start: 4\n",
            "input_arr: (22, 2)\n",
            "label_arr: (22, 1)\n",
            "Frames: (18, 4, 2)\n",
            "First frame:\n",
            "[[1.    0.125]\n",
            " [2.    0.25 ]\n",
            " [3.    0.375]\n",
            " [4.    0.5  ]]\n",
            "Last frame:\n",
            "[[18.     2.25 ]\n",
            " [19.     2.375]\n",
            " [20.     2.5  ]\n",
            " [21.     2.625]]\n",
            "Labels: (18, 1, 1)\n",
            "First label:\n",
            "[[101.]]\n",
            "Last label:\n",
            "[[118.]]\n",
            "Returned shapes::\n",
            "\tInputs: (18, 4, 2)\n",
            "\tLabels: (18, 1, 1)\n",
            "Generated inputs: (18, 4, 2) , labels: (18, 1, 1)\n",
            "-----X-----------\n",
            "[[1.    0.125]\n",
            " [2.    0.25 ]\n",
            " [3.    0.375]\n",
            " [4.    0.5  ]]\n",
            "-----y-----------\n",
            "[[101.]]\n",
            "--- Case 3 ------\n",
            " input_width=4, label_width=1, shift=1, label_columns=['A']\n",
            "Window Generator::\n",
            "\tInput size: 4\n",
            "\tLabel size: 1\n",
            "\tShift: 1\n",
            "\tBatch size: 4\n",
            "\tTotal window size: 5\n",
            "\tLabel start: 4\n",
            "Making/iterating dataset...\n",
            "input_arr: (22, 2)\n",
            "label_arr: (22, 1)\n",
            "Frames: (18, 4, 2)\n",
            "First frame:\n",
            "[[1.    0.125]\n",
            " [2.    0.25 ]\n",
            " [3.    0.375]\n",
            " [4.    0.5  ]]\n",
            "Last frame:\n",
            "[[18.     2.25 ]\n",
            " [19.     2.375]\n",
            " [20.     2.5  ]\n",
            " [21.     2.625]]\n",
            "Labels: (18, 1, 1)\n",
            "First label:\n",
            "[[101.]]\n",
            "Last label:\n",
            "[[118.]]\n",
            "Returned shapes::\n",
            "\tInputs: (18, 4, 2)\n",
            "\tLabels: (18, 1, 1)\n",
            "## Inputs: <class 'numpy.ndarray'>\n",
            "## Labels: <class 'numpy.ndarray'>\n",
            "-----X-----------\n",
            "[[[1.    0.125]\n",
            "  [2.    0.25 ]\n",
            "  [3.    0.375]\n",
            "  [4.    0.5  ]]\n",
            "\n",
            " [[2.    0.25 ]\n",
            "  [3.    0.375]\n",
            "  [4.    0.5  ]\n",
            "  [5.    0.625]]\n",
            "\n",
            " [[3.    0.375]\n",
            "  [4.    0.5  ]\n",
            "  [5.    0.625]\n",
            "  [6.    0.75 ]]\n",
            "\n",
            " [[4.    0.5  ]\n",
            "  [5.    0.625]\n",
            "  [6.    0.75 ]\n",
            "  [7.    0.875]]]\n",
            "-----y-----------\n",
            "[[[101.]]\n",
            "\n",
            " [[102.]]\n",
            "\n",
            " [[103.]]\n",
            "\n",
            " [[104.]]]\n",
            "--- Case 4 ------\n",
            " input_width=4, label_width=2, shift=1, label_columns=['A', 'B']\n",
            "Window Generator::\n",
            "\tInput size: 4\n",
            "\tLabel size: 2\n",
            "\tShift: 1\n",
            "\tBatch size: 4\n",
            "\tTotal window size: 6\n",
            "\tLabel start: 4\n",
            "Making/iterating dataset...\n",
            "input_arr: (22, 1)\n",
            "label_arr: (22, 2)\n",
            "Frames: (17, 4, 1)\n",
            "First frame:\n",
            "[[0.125]\n",
            " [0.25 ]\n",
            " [0.375]\n",
            " [0.5  ]]\n",
            "Last frame:\n",
            "[[2.125]\n",
            " [2.25 ]\n",
            " [2.375]\n",
            " [2.5  ]]\n",
            "Labels: (17, 2, 2)\n",
            "First label:\n",
            "[[101.   5.]\n",
            " [102.   6.]]\n",
            "Last label:\n",
            "[[117.  21.]\n",
            " [118.  22.]]\n",
            "Returned shapes::\n",
            "\tInputs: (17, 4, 1)\n",
            "\tLabels: (17, 2, 2)\n",
            "## Inputs: <class 'numpy.ndarray'>\n",
            "## Labels: <class 'numpy.ndarray'>\n",
            "-----X-----------\n",
            "[[[0.125]\n",
            "  [0.25 ]\n",
            "  [0.375]\n",
            "  [0.5  ]]\n",
            "\n",
            " [[0.25 ]\n",
            "  [0.375]\n",
            "  [0.5  ]\n",
            "  [0.625]]\n",
            "\n",
            " [[0.375]\n",
            "  [0.5  ]\n",
            "  [0.625]\n",
            "  [0.75 ]]\n",
            "\n",
            " [[0.5  ]\n",
            "  [0.625]\n",
            "  [0.75 ]\n",
            "  [0.875]]]\n",
            "-----y-----------\n",
            "[[[101.   5.]\n",
            "  [102.   6.]]\n",
            "\n",
            " [[102.   6.]\n",
            "  [103.   7.]]\n",
            "\n",
            " [[103.   7.]\n",
            "  [104.   8.]]\n",
            "\n",
            " [[104.   8.]\n",
            "  [105.   9.]]]\n",
            "--- Case 5 ------\n",
            " input_width=4, label_width=2, shift=1, label_columns=['A']\n",
            "Window Generator::\n",
            "\tInput size: 4\n",
            "\tLabel size: 2\n",
            "\tShift: 1\n",
            "\tBatch size: 4\n",
            "\tTotal window size: 6\n",
            "\tLabel start: 4\n",
            "Making/iterating dataset...\n",
            "input_arr: (22, 2)\n",
            "label_arr: (22, 1)\n",
            "Frames: (17, 4, 2)\n",
            "First frame:\n",
            "[[1.    0.125]\n",
            " [2.    0.25 ]\n",
            " [3.    0.375]\n",
            " [4.    0.5  ]]\n",
            "Last frame:\n",
            "[[17.     2.125]\n",
            " [18.     2.25 ]\n",
            " [19.     2.375]\n",
            " [20.     2.5  ]]\n",
            "Labels: (17, 2, 1)\n",
            "First label:\n",
            "[[101.]\n",
            " [102.]]\n",
            "Last label:\n",
            "[[117.]\n",
            " [118.]]\n",
            "Returned shapes::\n",
            "\tInputs: (17, 4, 2)\n",
            "\tLabels: (17, 2, 1)\n",
            "-----X-----------\n",
            "[[1.    0.125]\n",
            " [2.    0.25 ]\n",
            " [3.    0.375]\n",
            " [4.    0.5  ]]\n",
            "-----y-----------\n",
            "[[101.]\n",
            " [102.]]\n",
            "--- Case 6 ------\n",
            " input_width=4, label_width=4, shift=1, label_columns=['A']\n",
            "Window Generator::\n",
            "\tInput size: 4\n",
            "\tLabel size: 4\n",
            "\tShift: 1\n",
            "\tBatch size: 4\n",
            "\tTotal window size: 8\n",
            "\tLabel start: 4\n",
            "Making/iterating dataset...\n",
            "input_arr: (22, 2)\n",
            "label_arr: (22, 1)\n",
            "Frames: (15, 4, 2)\n",
            "First frame:\n",
            "[[1.    0.125]\n",
            " [2.    0.25 ]\n",
            " [3.    0.375]\n",
            " [4.    0.5  ]]\n",
            "Last frame:\n",
            "[[15.     1.875]\n",
            " [16.     2.   ]\n",
            " [17.     2.125]\n",
            " [18.     2.25 ]]\n",
            "Labels: (15, 4, 1)\n",
            "First label:\n",
            "[[101.]\n",
            " [102.]\n",
            " [103.]\n",
            " [104.]]\n",
            "Last label:\n",
            "[[115.]\n",
            " [116.]\n",
            " [117.]\n",
            " [118.]]\n",
            "Returned shapes::\n",
            "\tInputs: (15, 4, 2)\n",
            "\tLabels: (15, 4, 1)\n",
            "-----X-----------\n",
            "[[1.    0.125]\n",
            " [2.    0.25 ]\n",
            " [3.    0.375]\n",
            " [4.    0.5  ]]\n",
            "-----y-----------\n",
            "[[101.]\n",
            " [102.]\n",
            " [103.]\n",
            " [104.]]\n",
            "--- Case 7 ------\n",
            " input_width=4, label_width=2, shift=1, label_columns=['A', 'B']\n",
            "Window Generator::\n",
            "\tInput size: 4\n",
            "\tLabel size: 2\n",
            "\tShift: 1\n",
            "\tBatch size: 4\n",
            "\tTotal window size: 6\n",
            "\tLabel start: 4\n",
            "Making/iterating dataset...\n",
            "input_arr: (22, 1)\n",
            "label_arr: (22, 2)\n",
            "Frames: (17, 4, 1)\n",
            "First frame:\n",
            "[[0.125]\n",
            " [0.25 ]\n",
            " [0.375]\n",
            " [0.5  ]]\n",
            "Last frame:\n",
            "[[2.125]\n",
            " [2.25 ]\n",
            " [2.375]\n",
            " [2.5  ]]\n",
            "Labels: (17, 2, 2)\n",
            "First label:\n",
            "[[101.   5.]\n",
            " [102.   6.]]\n",
            "Last label:\n",
            "[[117.  21.]\n",
            " [118.  22.]]\n",
            "Returned shapes::\n",
            "\tInputs: (17, 4, 1)\n",
            "\tLabels: (17, 2, 2)\n",
            "## Inputs: <class 'numpy.ndarray'>\n",
            "## Labels: <class 'numpy.ndarray'>\n",
            "-----X-----------\n",
            "[[[0.125]\n",
            "  [0.25 ]\n",
            "  [0.375]\n",
            "  [0.5  ]]\n",
            "\n",
            " [[0.25 ]\n",
            "  [0.375]\n",
            "  [0.5  ]\n",
            "  [0.625]]\n",
            "\n",
            " [[0.375]\n",
            "  [0.5  ]\n",
            "  [0.625]\n",
            "  [0.75 ]]\n",
            "\n",
            " [[0.5  ]\n",
            "  [0.625]\n",
            "  [0.75 ]\n",
            "  [0.875]]]\n",
            "-----y-----------\n",
            "[[[101.   5.]\n",
            "  [102.   6.]]\n",
            "\n",
            " [[102.   6.]\n",
            "  [103.   7.]]\n",
            "\n",
            " [[103.   7.]\n",
            "  [104.   8.]]\n",
            "\n",
            " [[104.   8.]\n",
            "  [105.   9.]]]\n",
            "--- Case 8 ------\n",
            " input_width=4, label_width=2, shift=1, label_columns=['A', 'C']\n",
            "Window Generator::\n",
            "\tInput size: 4\n",
            "\tLabel size: 2\n",
            "\tShift: 1\n",
            "\tBatch size: 4\n",
            "\tTotal window size: 6\n",
            "\tLabel start: 4\n",
            "Get ds from arrays...\n",
            "input_arr: (22, 2)\n",
            "label_arr: (22, 2)\n",
            "Frames: (17, 4, 2)\n",
            "First frame:\n",
            "[[ 97.   1.]\n",
            " [ 98.   2.]\n",
            " [ 99.   3.]\n",
            " [100.   4.]]\n",
            "Last frame:\n",
            "[[113.  17.]\n",
            " [114.  18.]\n",
            " [115.  19.]\n",
            " [116.  20.]]\n",
            "Labels: (17, 2, 2)\n",
            "First label:\n",
            "[[101.      0.625]\n",
            " [102.      0.75 ]]\n",
            "Last label:\n",
            "[[117.      2.625]\n",
            " [118.      2.75 ]]\n",
            "Returned shapes::\n",
            "\tInputs: (17, 4, 2)\n",
            "\tLabels: (17, 2, 2)\n",
            "## Inputs: (17, 4, 2)\n",
            "## Labels: (17, 2, 2)\n",
            "-----X-----------\n",
            "[[[ 97.   1.]\n",
            "  [ 98.   2.]\n",
            "  [ 99.   3.]\n",
            "  [100.   4.]]\n",
            "\n",
            " [[ 98.   2.]\n",
            "  [ 99.   3.]\n",
            "  [100.   4.]\n",
            "  [101.   5.]]\n",
            "\n",
            " [[ 99.   3.]\n",
            "  [100.   4.]\n",
            "  [101.   5.]\n",
            "  [102.   6.]]\n",
            "\n",
            " [[100.   4.]\n",
            "  [101.   5.]\n",
            "  [102.   6.]\n",
            "  [103.   7.]]]\n",
            "-----y-----------\n",
            "[[[101.      0.625]\n",
            "  [102.      0.75 ]]\n",
            "\n",
            " [[102.      0.75 ]\n",
            "  [103.      0.875]]\n",
            "\n",
            " [[103.      0.875]\n",
            "  [104.      1.   ]]\n",
            "\n",
            " [[104.      1.   ]\n",
            "  [105.      1.125]]]\n"
          ]
        }
      ],
      "source": [
        "# Load util class\n",
        "%run -i \"./WindowGenerator.ipynb\""
      ]
    },
    {
      "cell_type": "markdown",
      "metadata": {
        "id": "4-fpkdHNb595"
      },
      "source": [
        "# Data Load"
      ]
    },
    {
      "cell_type": "code",
      "execution_count": 71,
      "metadata": {
        "id": "fzbBsSdnMPuK"
      },
      "outputs": [],
      "source": [
        "import numpy as np\n",
        "import math\n",
        "import matplotlib.pyplot as plt\n",
        "import matplotlib.ticker as plticker\n",
        "import seaborn as sns; sns.set()\n",
        "plt.rcParams[\"figure.figsize\"] = (10,6)\n",
        "import warnings"
      ]
    },
    {
      "cell_type": "code",
      "execution_count": 72,
      "metadata": {
        "id": "-OkNglUVMPoe"
      },
      "outputs": [],
      "source": [
        "warnings.filterwarnings('ignore')\n",
        "plt.style.use('seaborn')\n",
        "%matplotlib inline"
      ]
    },
    {
      "cell_type": "markdown",
      "metadata": {
        "id": "spx1uZxU5ggm"
      },
      "source": [
        "---\n",
        "\n",
        "**Initial Data Load**\n",
        "\n",
        "---"
      ]
    },
    {
      "cell_type": "code",
      "execution_count": 73,
      "metadata": {
        "id": "F49q7X3esOwM"
      },
      "outputs": [],
      "source": [
        "# Load util class\n",
        "%run -i \"./Dataset_Merger.ipynb\""
      ]
    },
    {
      "cell_type": "code",
      "execution_count": 74,
      "metadata": {
        "id": "eKE70OoByrtX"
      },
      "outputs": [],
      "source": [
        "# Declare a merger compatible with our source data and our target dataset we want to merge into\n",
        "merger = Dataset_Merger(data_path=DATA_ROOT, start_date=START_DATE, end_date=END_DATE, debug=True)"
      ]
    },
    {
      "cell_type": "code",
      "execution_count": 75,
      "metadata": {
        "id": "gS7oVrLCdKLI",
        "colab": {
          "base_uri": "https://localhost:8080/",
          "height": 1000
        },
        "outputId": "21d5870a-9ae0-4451-f27a-83707dc3df1e"
      },
      "outputs": [
        {
          "output_type": "stream",
          "name": "stdout",
          "text": [
            "------------------------------------------\n",
            " ###  ============================================================\n",
            "  Loading data/content/drive/MyDrive/data606/data/GlobalTemperatures.csv\n",
            "\n",
            " ### Defaulting df_aggr to reference df\n",
            "------------------------------------------\n",
            " ### Renaming columns\n",
            "<class 'pandas.core.frame.DataFrame'>\n",
            "RangeIndex: 3192 entries, 0 to 3191\n",
            "Data columns (total 9 columns):\n",
            " #   Column                                     Non-Null Count  Dtype  \n",
            "---  ------                                     --------------  -----  \n",
            " 0   dt                                         3192 non-null   object \n",
            " 1   LandAverageTemperature                     3180 non-null   float64\n",
            " 2   LandAverageTemperatureUncertainty          3180 non-null   float64\n",
            " 3   LandMaxTemperature                         1992 non-null   float64\n",
            " 4   LandMaxTemperatureUncertainty              1992 non-null   float64\n",
            " 5   LandMinTemperature                         1992 non-null   float64\n",
            " 6   LandMinTemperatureUncertainty              1992 non-null   float64\n",
            " 7   landSeaAvgTemp                             1992 non-null   float64\n",
            " 8   LandAndOceanAverageTemperatureUncertainty  1992 non-null   float64\n",
            "dtypes: float64(8), object(1)\n",
            "memory usage: 224.6+ KB\n",
            "------------------------------------------\n",
            " ### preprocess_dates with date_col: dt\n",
            " ### Convert from given col dt\n",
            "------------------------------------------\n",
            " ### Creating std date columns\n",
            " ### ## Case 2 for df::\n",
            "<bound method DataFrame.info of               dt  LandAverageTemperature  LandAverageTemperatureUncertainty  \\\n",
            "0     1750-01-01                   3.034                              3.574   \n",
            "1     1750-02-01                   3.083                              3.702   \n",
            "2     1750-03-01                   5.626                              3.076   \n",
            "3     1750-04-01                   8.490                              2.451   \n",
            "4     1750-05-01                  11.573                              2.072   \n",
            "...          ...                     ...                                ...   \n",
            "3187  2015-08-01                  14.755                              0.072   \n",
            "3188  2015-09-01                  12.999                              0.079   \n",
            "3189  2015-10-01                  10.801                              0.102   \n",
            "3190  2015-11-01                   7.433                              0.119   \n",
            "3191  2015-12-01                   5.518                              0.100   \n",
            "\n",
            "      LandMaxTemperature  LandMaxTemperatureUncertainty  LandMinTemperature  \\\n",
            "0                    NaN                            NaN                 NaN   \n",
            "1                    NaN                            NaN                 NaN   \n",
            "2                    NaN                            NaN                 NaN   \n",
            "3                    NaN                            NaN                 NaN   \n",
            "4                    NaN                            NaN                 NaN   \n",
            "...                  ...                            ...                 ...   \n",
            "3187              20.699                          0.110               9.005   \n",
            "3188              18.845                          0.088               7.199   \n",
            "3189              16.450                          0.059               5.232   \n",
            "3190              12.892                          0.093               2.157   \n",
            "3191              10.725                          0.154               0.287   \n",
            "\n",
            "      LandMinTemperatureUncertainty  landSeaAvgTemp  \\\n",
            "0                               NaN             NaN   \n",
            "1                               NaN             NaN   \n",
            "2                               NaN             NaN   \n",
            "3                               NaN             NaN   \n",
            "4                               NaN             NaN   \n",
            "...                             ...             ...   \n",
            "3187                          0.170          17.589   \n",
            "3188                          0.229          17.049   \n",
            "3189                          0.115          16.290   \n",
            "3190                          0.106          15.252   \n",
            "3191                          0.099          14.774   \n",
            "\n",
            "      LandAndOceanAverageTemperatureUncertainty     _date_  \n",
            "0                                           NaN 1750-01-01  \n",
            "1                                           NaN 1750-02-01  \n",
            "2                                           NaN 1750-03-01  \n",
            "3                                           NaN 1750-04-01  \n",
            "4                                           NaN 1750-05-01  \n",
            "...                                         ...        ...  \n",
            "3187                                      0.057 2015-08-01  \n",
            "3188                                      0.058 2015-09-01  \n",
            "3189                                      0.062 2015-10-01  \n",
            "3190                                      0.063 2015-11-01  \n",
            "3191                                      0.062 2015-12-01  \n",
            "\n",
            "[3192 rows x 10 columns]>\n",
            " ###                     dt  LandAverageTemperature  \\\n",
            "1750-01-01  1750-01-01                   3.034   \n",
            "1750-02-01  1750-02-01                   3.083   \n",
            "1750-03-01  1750-03-01                   5.626   \n",
            "1750-04-01  1750-04-01                   8.490   \n",
            "1750-05-01  1750-05-01                  11.573   \n",
            "...                ...                     ...   \n",
            "2015-08-01  2015-08-01                  14.755   \n",
            "2015-09-01  2015-09-01                  12.999   \n",
            "2015-10-01  2015-10-01                  10.801   \n",
            "2015-11-01  2015-11-01                   7.433   \n",
            "2015-12-01  2015-12-01                   5.518   \n",
            "\n",
            "            LandAverageTemperatureUncertainty  LandMaxTemperature  \\\n",
            "1750-01-01                              3.574                 NaN   \n",
            "1750-02-01                              3.702                 NaN   \n",
            "1750-03-01                              3.076                 NaN   \n",
            "1750-04-01                              2.451                 NaN   \n",
            "1750-05-01                              2.072                 NaN   \n",
            "...                                       ...                 ...   \n",
            "2015-08-01                              0.072              20.699   \n",
            "2015-09-01                              0.079              18.845   \n",
            "2015-10-01                              0.102              16.450   \n",
            "2015-11-01                              0.119              12.892   \n",
            "2015-12-01                              0.100              10.725   \n",
            "\n",
            "            LandMaxTemperatureUncertainty  LandMinTemperature  \\\n",
            "1750-01-01                            NaN                 NaN   \n",
            "1750-02-01                            NaN                 NaN   \n",
            "1750-03-01                            NaN                 NaN   \n",
            "1750-04-01                            NaN                 NaN   \n",
            "1750-05-01                            NaN                 NaN   \n",
            "...                                   ...                 ...   \n",
            "2015-08-01                          0.110               9.005   \n",
            "2015-09-01                          0.088               7.199   \n",
            "2015-10-01                          0.059               5.232   \n",
            "2015-11-01                          0.093               2.157   \n",
            "2015-12-01                          0.154               0.287   \n",
            "\n",
            "            LandMinTemperatureUncertainty  landSeaAvgTemp  \\\n",
            "1750-01-01                            NaN             NaN   \n",
            "1750-02-01                            NaN             NaN   \n",
            "1750-03-01                            NaN             NaN   \n",
            "1750-04-01                            NaN             NaN   \n",
            "1750-05-01                            NaN             NaN   \n",
            "...                                   ...             ...   \n",
            "2015-08-01                          0.170          17.589   \n",
            "2015-09-01                          0.229          17.049   \n",
            "2015-10-01                          0.115          16.290   \n",
            "2015-11-01                          0.106          15.252   \n",
            "2015-12-01                          0.099          14.774   \n",
            "\n",
            "            LandAndOceanAverageTemperatureUncertainty     _date_  day  year  \\\n",
            "1750-01-01                                        NaN 1750-01-01    1  1750   \n",
            "1750-02-01                                        NaN 1750-02-01    1  1750   \n",
            "1750-03-01                                        NaN 1750-03-01    1  1750   \n",
            "1750-04-01                                        NaN 1750-04-01    1  1750   \n",
            "1750-05-01                                        NaN 1750-05-01    1  1750   \n",
            "...                                               ...        ...  ...   ...   \n",
            "2015-08-01                                      0.057 2015-08-01    1  2015   \n",
            "2015-09-01                                      0.058 2015-09-01    1  2015   \n",
            "2015-10-01                                      0.062 2015-10-01    1  2015   \n",
            "2015-11-01                                      0.063 2015-11-01    1  2015   \n",
            "2015-12-01                                      0.062 2015-12-01    1  2015   \n",
            "\n",
            "            month  \n",
            "1750-01-01      1  \n",
            "1750-02-01      2  \n",
            "1750-03-01      3  \n",
            "1750-04-01      4  \n",
            "1750-05-01      5  \n",
            "...           ...  \n",
            "2015-08-01      8  \n",
            "2015-09-01      9  \n",
            "2015-10-01     10  \n",
            "2015-11-01     11  \n",
            "2015-12-01     12  \n",
            "\n",
            "[3192 rows x 13 columns]\n",
            "------------------------------------------\n",
            " ### Trimming columns to ['landSeaAvgTemp']...\n",
            "------------------------------------------\n",
            " ### Cropping dates to [1950-01-01 00:00:00:2015-12-01 00:00:00]\n",
            " ###             landSeaAvgTemp     _date_  day  year  month\n",
            "1950-01-01          13.311 1950-01-01    1  1950      1\n",
            "1950-02-01          13.554 1950-02-01    1  1950      2\n",
            "1950-03-01          14.296 1950-03-01    1  1950      3\n",
            "1950-04-01          15.093 1950-04-01    1  1950      4\n",
            "1950-05-01          16.033 1950-05-01    1  1950      5\n",
            "...                    ...        ...  ...   ...    ...\n",
            "2015-08-01          17.589 2015-08-01    1  2015      8\n",
            "2015-09-01          17.049 2015-09-01    1  2015      9\n",
            "2015-10-01          16.290 2015-10-01    1  2015     10\n",
            "2015-11-01          15.252 2015-11-01    1  2015     11\n",
            "2015-12-01          14.774 2015-12-01    1  2015     12\n",
            "\n",
            "[792 rows x 5 columns]\n",
            "       landSeaAvgTemp    day        year       month\n",
            "count      792.000000  792.0   792.00000  792.000000\n",
            "mean        15.488369    1.0  1982.50000    6.500000\n",
            "std          1.241344    0.0    19.06241    3.454234\n",
            "min         13.298000    1.0  1950.00000    1.000000\n",
            "25%         14.309500    1.0  1966.00000    3.750000\n",
            "50%         15.473500    1.0  1982.50000    6.500000\n",
            "75%         16.671250    1.0  1999.00000    9.250000\n",
            "max         17.611000    1.0  2015.00000   12.000000\n",
            " ### Assessing data freq scales\n",
            "------------------------------------------\n",
            " ### assess_granularity for cols: ['landSeaAvgTemp']\n",
            " ### After grouping y/m/d: 792\n",
            " ### After grouping y/m: 792\n",
            " ### After grouping y: 66\n",
            "Dataset assessed at timestep freq: M\n",
            " ### src/target: 1/1\n",
            "------------------------------------------\n",
            "  Downscaling to freq 1M\n",
            "------------------------------------------\n",
            " ### preprocess_dates with date_col: None\n",
            " ### Converting DatetimeIndex into a column\n",
            "------------------------------------------\n",
            " ### Creating std date columns\n",
            " ### ## Case 2 for df::\n",
            "<bound method DataFrame.info of         _date_\n",
            "0   1950-01-01\n",
            "1   1950-02-01\n",
            "2   1950-03-01\n",
            "3   1950-04-01\n",
            "4   1950-05-01\n",
            "..         ...\n",
            "786 2015-07-01\n",
            "787 2015-08-01\n",
            "788 2015-09-01\n",
            "789 2015-10-01\n",
            "790 2015-11-01\n",
            "\n",
            "[791 rows x 1 columns]>\n",
            " ###                _date_  day  year  month\n",
            "1950-01-01 1950-01-01    1  1950      1\n",
            "1950-02-01 1950-02-01    1  1950      2\n",
            "1950-03-01 1950-03-01    1  1950      3\n",
            "1950-04-01 1950-04-01    1  1950      4\n",
            "1950-05-01 1950-05-01    1  1950      5\n",
            "...               ...  ...   ...    ...\n",
            "2015-07-01 2015-07-01    1  2015      7\n",
            "2015-08-01 2015-08-01    1  2015      8\n",
            "2015-09-01 2015-09-01    1  2015      9\n",
            "2015-10-01 2015-10-01    1  2015     10\n",
            "2015-11-01 2015-11-01    1  2015     11\n",
            "\n",
            "[791 rows x 4 columns]\n",
            " ### src/target freqs: 1/1\n",
            " ### Grouping df on ['year', 'month']\n",
            " ### Grouped df::\n",
            "            landSeaAvgTemp\n",
            "year month                \n",
            "1950 1              13.311\n",
            "     2              13.554\n",
            "     3              14.296\n",
            "     4              15.093\n",
            "     5              16.033\n",
            "...                    ...\n",
            "2015 8              17.589\n",
            "     9              17.049\n",
            "     10             16.290\n",
            "     11             15.252\n",
            "     12             14.774\n",
            "\n",
            "[792 rows x 1 columns]\n",
            " ### Reference df::\n",
            "               _date_  day  year  month\n",
            "1950-01-01 1950-01-01    1  1950      1\n",
            "1950-02-01 1950-02-01    1  1950      2\n",
            "1950-03-01 1950-03-01    1  1950      3\n",
            "1950-04-01 1950-04-01    1  1950      4\n",
            "1950-05-01 1950-05-01    1  1950      5\n",
            "...               ...  ...   ...    ...\n",
            "2015-07-01 2015-07-01    1  2015      7\n",
            "2015-08-01 2015-08-01    1  2015      8\n",
            "2015-09-01 2015-09-01    1  2015      9\n",
            "2015-10-01 2015-10-01    1  2015     10\n",
            "2015-11-01 2015-11-01    1  2015     11\n",
            "\n",
            "[791 rows x 4 columns]\n",
            " ### Joining on DATE_COLS: ['year', 'month']\n",
            "In df1 only: 791\n",
            " ### Lengths should match: [792,791]\n",
            " ### ISSUE: sizes do not match::\n",
            "---df_net::---\n",
            "            landSeaAvgTemp\n",
            "year month                \n",
            "1950 1              13.311\n",
            "     2              13.554\n",
            "     3              14.296\n",
            "     4              15.093\n",
            "     5              16.033\n",
            "...                    ...\n",
            "2015 8              17.589\n",
            "     9              17.049\n",
            "     10             16.290\n",
            "     11             15.252\n",
            "     12             14.774\n",
            "\n",
            "[792 rows x 1 columns]\n",
            "---df_merge::---\n",
            "        _date_  day  year  month  landSeaAvgTemp\n",
            "0   1950-01-01  1.0  1950      1          13.311\n",
            "1   1950-02-01  1.0  1950      2          13.554\n",
            "2   1950-03-01  1.0  1950      3          14.296\n",
            "3   1950-04-01  1.0  1950      4          15.093\n",
            "4   1950-05-01  1.0  1950      5          16.033\n",
            "..         ...  ...   ...    ...             ...\n",
            "787 2015-08-01  1.0  2015      8          17.589\n",
            "788 2015-09-01  1.0  2015      9          17.049\n",
            "789 2015-10-01  1.0  2015     10          16.290\n",
            "790 2015-11-01  1.0  2015     11          15.252\n",
            "791        NaT  NaN  2015     12          14.774\n",
            "\n",
            "[792 rows x 5 columns]\n",
            "------------------------------------------\n",
            " ### Handle missing values via method: ffill...\n",
            " ### isna() value counts::\n",
            " ### isna() value counts::\n",
            " ### ------ Interval Counts - should be on the month ------\n",
            " ### 31 days    461\n",
            "30 days    263\n",
            "28 days     50\n",
            "29 days     16\n",
            "Name: interval, dtype: int64\n",
            " ### df/df_aggr size: 792/791\n",
            " ### pre-merge df::\n",
            "        _date_  day  year  month  landSeaAvgTemp\n",
            "0   1950-01-01  1.0  1950      1          13.311\n",
            "1   1950-02-01  1.0  1950      2          13.554\n",
            "2   1950-03-01  1.0  1950      3          14.296\n",
            "3   1950-04-01  1.0  1950      4          15.093\n",
            "4   1950-05-01  1.0  1950      5          16.033\n",
            "..         ...  ...   ...    ...             ...\n",
            "787 2015-08-01  1.0  2015      8          17.589\n",
            "788 2015-09-01  1.0  2015      9          17.049\n",
            "789 2015-10-01  1.0  2015     10          16.290\n",
            "790 2015-11-01  1.0  2015     11          15.252\n",
            "791        NaT  NaN  2015     12          14.774\n",
            "\n",
            "[792 rows x 5 columns]\n",
            " ### pre-merge df_aggr::\n",
            "               _date_\n",
            "1950-01-01 1950-01-01\n",
            "1950-02-01 1950-02-01\n",
            "1950-03-01 1950-03-01\n",
            "1950-04-01 1950-04-01\n",
            "1950-05-01 1950-05-01\n",
            "...               ...\n",
            "2015-07-01 2015-07-01\n",
            "2015-08-01 2015-08-01\n",
            "2015-09-01 2015-09-01\n",
            "2015-10-01 2015-10-01\n",
            "2015-11-01 2015-11-01\n",
            "\n",
            "[791 rows x 1 columns]\n",
            "------------------------------------------\n",
            " ### Creating cyclic fields for month\n",
            " ### Merging by date\n"
          ]
        },
        {
          "output_type": "display_data",
          "data": {
            "text/plain": [
              "<Figure size 800x600 with 1 Axes>"
            ],
            "image/png": "[encoded data removed]"
          },
          "metadata": {}
        },
        {
          "output_type": "stream",
          "name": "stdout",
          "text": [
            "------------------------------------------\n",
            " ### assess_granularity for cols: ['landSeaAvgTemp']\n",
            " ### After grouping y/m/d: 791\n",
            " ### After grouping y/m: 791\n",
            " ### After grouping y: 66\n",
            "Dataset assessed at timestep freq: M\n"
          ]
        }
      ],
      "source": [
        "# Start by merging initial dataset\n",
        "df_merge = merger.merge_dataset(TEMP_DATA['filename'],\n",
        "                                TEMP_DATA['feature_map'],\n",
        "                                 date_col=TEMP_DATA['date_col'],\n",
        "                                 add_cyclic=True)\n",
        "\n",
        "# And store an indication of what our step scale is\n",
        "cols = list(TEMP_DATA['feature_map'].values())\n",
        "STEP_FREQ = merger.assess_granularity(df_merge, cols)"
      ]
    },
    {
      "cell_type": "code",
      "execution_count": 76,
      "metadata": {
        "id": "p8_Ghvghl8dk",
        "colab": {
          "base_uri": "https://localhost:8080/"
        },
        "outputId": "0a159457-2595-41ea-8171-f1b6358828b3"
      },
      "outputs": [
        {
          "output_type": "stream",
          "name": "stdout",
          "text": [
            "  _date_  day year month landSeaAvgTemp month-sin month-cos\n",
            "0    0.0  0.0  0.0   0.0            0.0       0.0       0.0\n"
          ]
        }
      ],
      "source": [
        "print(assess_na(df_merge))"
      ]
    },
    {
      "cell_type": "markdown",
      "metadata": {
        "id": "gUKUOyXObn6E"
      },
      "source": [
        "---\n",
        "\n",
        "**Merge Additional Data**\n",
        "\n",
        "---"
      ]
    },
    {
      "cell_type": "code",
      "execution_count": 77,
      "metadata": {
        "id": "Sfz0GSsJH4zI",
        "colab": {
          "base_uri": "https://localhost:8080/",
          "height": 1000
        },
        "outputId": "85b8564e-c80e-412b-df5e-b0d4b9c59075"
      },
      "outputs": [
        {
          "output_type": "stream",
          "name": "stdout",
          "text": [
            "------------------------------------------\n",
            " ###  ============================================================\n",
            "  Loading data/content/drive/MyDrive/data606/data/WorldForestCover-Interpolated.csv\n",
            "\n",
            "------------------------------------------\n",
            " ### Renaming columns\n",
            "<class 'pandas.core.frame.DataFrame'>\n",
            "RangeIndex: 846 entries, 0 to 845\n",
            "Data columns (total 2 columns):\n",
            " #   Column            Non-Null Count  Dtype  \n",
            "---  ------            --------------  -----  \n",
            " 0   date              846 non-null    object \n",
            " 1   pct_forest_cover  846 non-null    float64\n",
            "dtypes: float64(1), object(1)\n",
            "memory usage: 13.3+ KB\n",
            "------------------------------------------\n",
            " ### preprocess_dates with date_col: date\n",
            " ### Convert from given col date\n",
            "------------------------------------------\n",
            " ### Creating std date columns\n",
            " ### ## Case 2 for df::\n",
            "<bound method DataFrame.info of            date  pct_forest_cover     _date_\n",
            "0    1950-01-01         36.872263 1950-01-01\n",
            "1    1950-02-01         36.868748 1950-02-01\n",
            "2    1950-03-01         36.865573 1950-03-01\n",
            "3    1950-04-01         36.862058 1950-04-01\n",
            "4    1950-05-01         36.858656 1950-05-01\n",
            "..          ...               ...        ...\n",
            "841  2020-02-01         33.970720 2020-02-01\n",
            "842  2020-03-01         33.967226 2020-03-01\n",
            "843  2020-04-01         33.963490 2020-04-01\n",
            "844  2020-05-01         33.959875 2020-05-01\n",
            "845  2020-06-01         33.956140 2020-06-01\n",
            "\n",
            "[846 rows x 3 columns]>\n",
            " ###                   date  pct_forest_cover     _date_  day  year  month\n",
            "1950-01-01  1950-01-01         36.872263 1950-01-01    1  1950      1\n",
            "1950-02-01  1950-02-01         36.868748 1950-02-01    1  1950      2\n",
            "1950-03-01  1950-03-01         36.865573 1950-03-01    1  1950      3\n",
            "1950-04-01  1950-04-01         36.862058 1950-04-01    1  1950      4\n",
            "1950-05-01  1950-05-01         36.858656 1950-05-01    1  1950      5\n",
            "...                ...               ...        ...  ...   ...    ...\n",
            "2020-02-01  2020-02-01         33.970720 2020-02-01    1  2020      2\n",
            "2020-03-01  2020-03-01         33.967226 2020-03-01    1  2020      3\n",
            "2020-04-01  2020-04-01         33.963490 2020-04-01    1  2020      4\n",
            "2020-05-01  2020-05-01         33.959875 2020-05-01    1  2020      5\n",
            "2020-06-01  2020-06-01         33.956140 2020-06-01    1  2020      6\n",
            "\n",
            "[846 rows x 6 columns]\n",
            "------------------------------------------\n",
            " ### Trimming columns to ['pct_forest_cover']...\n",
            "------------------------------------------\n",
            " ### Cropping dates to [1950-01-01 00:00:00:2015-12-01 00:00:00]\n",
            " ###             pct_forest_cover     _date_  day  year  month\n",
            "1950-01-01         36.872263 1950-01-01    1  1950      1\n",
            "1950-02-01         36.868748 1950-02-01    1  1950      2\n",
            "1950-03-01         36.865573 1950-03-01    1  1950      3\n",
            "1950-04-01         36.862058 1950-04-01    1  1950      4\n",
            "1950-05-01         36.858656 1950-05-01    1  1950      5\n",
            "...                      ...        ...  ...   ...    ...\n",
            "2015-08-01         34.168942 2015-08-01    1  2015      8\n",
            "2015-09-01         34.165207 2015-09-01    1  2015      9\n",
            "2015-10-01         34.161592 2015-10-01    1  2015     10\n",
            "2015-11-01         34.157856 2015-11-01    1  2015     11\n",
            "2015-12-01         34.154241 2015-12-01    1  2015     12\n",
            "\n",
            "[792 rows x 5 columns]\n",
            "       pct_forest_cover    day        year       month\n",
            "count        792.000000  792.0   792.00000  792.000000\n",
            "mean          35.503650    1.0  1982.50000    6.500000\n",
            "std            0.791387    0.0    19.06241    3.454234\n",
            "min           34.154241    1.0  1950.00000    1.000000\n",
            "25%           34.781600    1.0  1966.00000    3.750000\n",
            "50%           35.507330    1.0  1982.50000    6.500000\n",
            "75%           36.189938    1.0  1999.00000    9.250000\n",
            "max           36.872263    1.0  2015.00000   12.000000\n",
            " ### Assessing data freq scales\n",
            "------------------------------------------\n",
            " ### assess_granularity for cols: ['pct_forest_cover']\n",
            " ### After grouping y/m/d: 792\n",
            " ### After grouping y/m: 792\n",
            " ### After grouping y: 66\n",
            "Dataset assessed at timestep freq: M\n",
            " ### src/target: 1/1\n",
            "------------------------------------------\n",
            "  Downscaling to freq 1M\n",
            "------------------------------------------\n",
            " ### preprocess_dates with date_col: None\n",
            " ### Converting DatetimeIndex into a column\n",
            "------------------------------------------\n",
            " ### Creating std date columns\n",
            " ### ## Case 2 for df::\n",
            "<bound method DataFrame.info of         _date_\n",
            "0   1950-01-01\n",
            "1   1950-02-01\n",
            "2   1950-03-01\n",
            "3   1950-04-01\n",
            "4   1950-05-01\n",
            "..         ...\n",
            "786 2015-07-01\n",
            "787 2015-08-01\n",
            "788 2015-09-01\n",
            "789 2015-10-01\n",
            "790 2015-11-01\n",
            "\n",
            "[791 rows x 1 columns]>\n",
            " ###                _date_  day  year  month\n",
            "1950-01-01 1950-01-01    1  1950      1\n",
            "1950-02-01 1950-02-01    1  1950      2\n",
            "1950-03-01 1950-03-01    1  1950      3\n",
            "1950-04-01 1950-04-01    1  1950      4\n",
            "1950-05-01 1950-05-01    1  1950      5\n",
            "...               ...  ...   ...    ...\n",
            "2015-07-01 2015-07-01    1  2015      7\n",
            "2015-08-01 2015-08-01    1  2015      8\n",
            "2015-09-01 2015-09-01    1  2015      9\n",
            "2015-10-01 2015-10-01    1  2015     10\n",
            "2015-11-01 2015-11-01    1  2015     11\n",
            "\n",
            "[791 rows x 4 columns]\n",
            " ### src/target freqs: 1/1\n",
            " ### Grouping df on ['year', 'month']\n",
            " ### Grouped df::\n",
            "            pct_forest_cover\n",
            "year month                  \n",
            "1950 1             36.872263\n",
            "     2             36.868748\n",
            "     3             36.865573\n",
            "     4             36.862058\n",
            "     5             36.858656\n",
            "...                      ...\n",
            "2015 8             34.168942\n",
            "     9             34.165207\n",
            "     10            34.161592\n",
            "     11            34.157856\n",
            "     12            34.154241\n",
            "\n",
            "[792 rows x 1 columns]\n",
            " ### Reference df::\n",
            "               _date_  day  year  month\n",
            "1950-01-01 1950-01-01    1  1950      1\n",
            "1950-02-01 1950-02-01    1  1950      2\n",
            "1950-03-01 1950-03-01    1  1950      3\n",
            "1950-04-01 1950-04-01    1  1950      4\n",
            "1950-05-01 1950-05-01    1  1950      5\n",
            "...               ...  ...   ...    ...\n",
            "2015-07-01 2015-07-01    1  2015      7\n",
            "2015-08-01 2015-08-01    1  2015      8\n",
            "2015-09-01 2015-09-01    1  2015      9\n",
            "2015-10-01 2015-10-01    1  2015     10\n",
            "2015-11-01 2015-11-01    1  2015     11\n",
            "\n",
            "[791 rows x 4 columns]\n",
            " ### Joining on DATE_COLS: ['year', 'month']\n",
            "In df1 only: 791\n",
            " ### Lengths should match: [792,791]\n",
            " ### ISSUE: sizes do not match::\n",
            "---df_net::---\n",
            "            pct_forest_cover\n",
            "year month                  \n",
            "1950 1             36.872263\n",
            "     2             36.868748\n",
            "     3             36.865573\n",
            "     4             36.862058\n",
            "     5             36.858656\n",
            "...                      ...\n",
            "2015 8             34.168942\n",
            "     9             34.165207\n",
            "     10            34.161592\n",
            "     11            34.157856\n",
            "     12            34.154241\n",
            "\n",
            "[792 rows x 1 columns]\n",
            "---df_merge::---\n",
            "        _date_  day  year  month  pct_forest_cover\n",
            "0   1950-01-01  1.0  1950      1         36.872263\n",
            "1   1950-02-01  1.0  1950      2         36.868748\n",
            "2   1950-03-01  1.0  1950      3         36.865573\n",
            "3   1950-04-01  1.0  1950      4         36.862058\n",
            "4   1950-05-01  1.0  1950      5         36.858656\n",
            "..         ...  ...   ...    ...               ...\n",
            "787 2015-08-01  1.0  2015      8         34.168942\n",
            "788 2015-09-01  1.0  2015      9         34.165207\n",
            "789 2015-10-01  1.0  2015     10         34.161592\n",
            "790 2015-11-01  1.0  2015     11         34.157856\n",
            "791        NaT  NaN  2015     12         34.154241\n",
            "\n",
            "[792 rows x 5 columns]\n",
            "------------------------------------------\n",
            " ### Handle missing values via method: ffill...\n",
            " ### isna() value counts::\n",
            " ### isna() value counts::\n",
            " ### ------ Interval Counts - should be on the month ------\n",
            " ### 31 days    461\n",
            "30 days    263\n",
            "28 days     50\n",
            "29 days     16\n",
            "Name: interval, dtype: int64\n",
            " ### df/df_aggr size: 792/791\n",
            " ### pre-merge df::\n",
            "        _date_  day  year  month  pct_forest_cover\n",
            "0   1950-01-01  1.0  1950      1         36.872263\n",
            "1   1950-02-01  1.0  1950      2         36.868748\n",
            "2   1950-03-01  1.0  1950      3         36.865573\n",
            "3   1950-04-01  1.0  1950      4         36.862058\n",
            "4   1950-05-01  1.0  1950      5         36.858656\n",
            "..         ...  ...   ...    ...               ...\n",
            "787 2015-08-01  1.0  2015      8         34.168942\n",
            "788 2015-09-01  1.0  2015      9         34.165207\n",
            "789 2015-10-01  1.0  2015     10         34.161592\n",
            "790 2015-11-01  1.0  2015     11         34.157856\n",
            "791        NaT  NaN  2015     12         34.154241\n",
            "\n",
            "[792 rows x 5 columns]\n",
            " ### pre-merge df_aggr::\n",
            "        _date_  day  year  month  landSeaAvgTemp  month-sin     month-cos\n",
            "0   1950-01-01  1.0  1950      1          13.311   0.500000  8.660254e-01\n",
            "1   1950-02-01  1.0  1950      2          13.554   0.866025  5.000000e-01\n",
            "2   1950-03-01  1.0  1950      3          14.296   1.000000  6.123234e-17\n",
            "3   1950-04-01  1.0  1950      4          15.093   0.866025 -5.000000e-01\n",
            "4   1950-05-01  1.0  1950      5          16.033   0.500000 -8.660254e-01\n",
            "..         ...  ...   ...    ...             ...        ...           ...\n",
            "786 2015-07-01  1.0  2015      7          17.611  -0.500000 -8.660254e-01\n",
            "787 2015-08-01  1.0  2015      8          17.589  -0.866025 -5.000000e-01\n",
            "788 2015-09-01  1.0  2015      9          17.049  -1.000000 -1.836970e-16\n",
            "789 2015-10-01  1.0  2015     10          16.290  -0.866025  5.000000e-01\n",
            "790 2015-11-01  1.0  2015     11          15.252  -0.500000  8.660254e-01\n",
            "\n",
            "[791 rows x 7 columns]\n",
            " ### Merging by date\n"
          ]
        },
        {
          "output_type": "display_data",
          "data": {
            "text/plain": [
              "<Figure size 800x600 with 1 Axes>"
            ],
            "image/png": "[encoded data removed]"
          },
          "metadata": {}
        },
        {
          "output_type": "stream",
          "name": "stdout",
          "text": [
            "  _date_  day year month landSeaAvgTemp month-sin month-cos pct_forest_cover\n",
            "0    0.0  0.0  0.0   0.0            0.0       0.0       0.0              0.0\n"
          ]
        }
      ],
      "source": [
        "for dataset in ALL_DATASETS:\n",
        "  if ('date_map' in dataset):\n",
        "    df_merge = merger.merge_dataset(dataset['filename'],\n",
        "                                    feature_map=dataset['feature_map'],\n",
        "                                    df_aggr=df_merge,\n",
        "                                    date_map=dataset['date_map'])\n",
        "  else:\n",
        "    df_merge = merger.merge_dataset(dataset['filename'],\n",
        "                                feature_map=dataset['feature_map'],\n",
        "                                df_aggr=df_merge,\n",
        "                                date_col=dataset['date_col'])\n",
        "  print(assess_na(df_merge))"
      ]
    },
    {
      "cell_type": "code",
      "execution_count": 78,
      "metadata": {
        "id": "lSM6Bf5UnOdx",
        "colab": {
          "base_uri": "https://localhost:8080/",
          "height": 424
        },
        "outputId": "b6674616-b453-41b9-fdc2-78719703d334"
      },
      "outputs": [
        {
          "output_type": "execute_result",
          "data": {
            "text/plain": [
              "        _date_  day  year  month  landSeaAvgTemp  month-sin     month-cos  \\\n",
              "0   1950-01-01  1.0  1950      1          13.311   0.500000  8.660254e-01   \n",
              "1   1950-02-01  1.0  1950      2          13.554   0.866025  5.000000e-01   \n",
              "2   1950-03-01  1.0  1950      3          14.296   1.000000  6.123234e-17   \n",
              "3   1950-04-01  1.0  1950      4          15.093   0.866025 -5.000000e-01   \n",
              "4   1950-05-01  1.0  1950      5          16.033   0.500000 -8.660254e-01   \n",
              "..         ...  ...   ...    ...             ...        ...           ...   \n",
              "786 2015-07-01  1.0  2015      7          17.611  -0.500000 -8.660254e-01   \n",
              "787 2015-08-01  1.0  2015      8          17.589  -0.866025 -5.000000e-01   \n",
              "788 2015-09-01  1.0  2015      9          17.049  -1.000000 -1.836970e-16   \n",
              "789 2015-10-01  1.0  2015     10          16.290  -0.866025  5.000000e-01   \n",
              "790 2015-11-01  1.0  2015     11          15.252  -0.500000  8.660254e-01   \n",
              "\n",
              "     pct_forest_cover  \n",
              "0           36.872263  \n",
              "1           36.868748  \n",
              "2           36.865573  \n",
              "3           36.862058  \n",
              "4           36.858656  \n",
              "..                ...  \n",
              "786         34.172678  \n",
              "787         34.168942  \n",
              "788         34.165207  \n",
              "789         34.161592  \n",
              "790         34.157856  \n",
              "\n",
              "[791 rows x 8 columns]"
            ],
            "text/html": [
              "\n",
              "  <div id=\"df-a62b6567-0b32-4c70-a48f-8aa4f1e605ca\" class=\"colab-df-container\">\n",
              "    <div>\n",
              "<style scoped>\n",
              "    .dataframe tbody tr th:only-of-type {\n",
              "        vertical-align: middle;\n",
              "    }\n",
              "\n",
              "    .dataframe tbody tr th {\n",
              "        vertical-align: top;\n",
              "    }\n",
              "\n",
              "    .dataframe thead th {\n",
              "        text-align: right;\n",
              "    }\n",
              "</style>\n",
              "<table border=\"1\" class=\"dataframe\">\n",
              "  <thead>\n",
              "    <tr style=\"text-align: right;\">\n",
              "      <th></th>\n",
              "      <th>_date_</th>\n",
              "      <th>day</th>\n",
              "      <th>year</th>\n",
              "      <th>month</th>\n",
              "      <th>landSeaAvgTemp</th>\n",
              "      <th>month-sin</th>\n",
              "      <th>month-cos</th>\n",
              "      <th>pct_forest_cover</th>\n",
              "    </tr>\n",
              "  </thead>\n",
              "  <tbody>\n",
              "    <tr>\n",
              "      <th>0</th>\n",
              "      <td>1950-01-01</td>\n",
              "      <td>1.0</td>\n",
              "      <td>1950</td>\n",
              "      <td>1</td>\n",
              "      <td>13.311</td>\n",
              "      <td>0.500000</td>\n",
              "      <td>8.660254e-01</td>\n",
              "      <td>36.872263</td>\n",
              "    </tr>\n",
              "    <tr>\n",
              "      <th>1</th>\n",
              "      <td>1950-02-01</td>\n",
              "      <td>1.0</td>\n",
              "      <td>1950</td>\n",
              "      <td>2</td>\n",
              "      <td>13.554</td>\n",
              "      <td>0.866025</td>\n",
              "      <td>5.000000e-01</td>\n",
              "      <td>36.868748</td>\n",
              "    </tr>\n",
              "    <tr>\n",
              "      <th>2</th>\n",
              "      <td>1950-03-01</td>\n",
              "      <td>1.0</td>\n",
              "      <td>1950</td>\n",
              "      <td>3</td>\n",
              "      <td>14.296</td>\n",
              "      <td>1.000000</td>\n",
              "      <td>6.123234e-17</td>\n",
              "      <td>36.865573</td>\n",
              "    </tr>\n",
              "    <tr>\n",
              "      <th>3</th>\n",
              "      <td>1950-04-01</td>\n",
              "      <td>1.0</td>\n",
              "      <td>1950</td>\n",
              "      <td>4</td>\n",
              "      <td>15.093</td>\n",
              "      <td>0.866025</td>\n",
              "      <td>-5.000000e-01</td>\n",
              "      <td>36.862058</td>\n",
              "    </tr>\n",
              "    <tr>\n",
              "      <th>4</th>\n",
              "      <td>1950-05-01</td>\n",
              "      <td>1.0</td>\n",
              "      <td>1950</td>\n",
              "      <td>5</td>\n",
              "      <td>16.033</td>\n",
              "      <td>0.500000</td>\n",
              "      <td>-8.660254e-01</td>\n",
              "      <td>36.858656</td>\n",
              "    </tr>\n",
              "    <tr>\n",
              "      <th>...</th>\n",
              "      <td>...</td>\n",
              "      <td>...</td>\n",
              "      <td>...</td>\n",
              "      <td>...</td>\n",
              "      <td>...</td>\n",
              "      <td>...</td>\n",
              "      <td>...</td>\n",
              "      <td>...</td>\n",
              "    </tr>\n",
              "    <tr>\n",
              "      <th>786</th>\n",
              "      <td>2015-07-01</td>\n",
              "      <td>1.0</td>\n",
              "      <td>2015</td>\n",
              "      <td>7</td>\n",
              "      <td>17.611</td>\n",
              "      <td>-0.500000</td>\n",
              "      <td>-8.660254e-01</td>\n",
              "      <td>34.172678</td>\n",
              "    </tr>\n",
              "    <tr>\n",
              "      <th>787</th>\n",
              "      <td>2015-08-01</td>\n",
              "      <td>1.0</td>\n",
              "      <td>2015</td>\n",
              "      <td>8</td>\n",
              "      <td>17.589</td>\n",
              "      <td>-0.866025</td>\n",
              "      <td>-5.000000e-01</td>\n",
              "      <td>34.168942</td>\n",
              "    </tr>\n",
              "    <tr>\n",
              "      <th>788</th>\n",
              "      <td>2015-09-01</td>\n",
              "      <td>1.0</td>\n",
              "      <td>2015</td>\n",
              "      <td>9</td>\n",
              "      <td>17.049</td>\n",
              "      <td>-1.000000</td>\n",
              "      <td>-1.836970e-16</td>\n",
              "      <td>34.165207</td>\n",
              "    </tr>\n",
              "    <tr>\n",
              "      <th>789</th>\n",
              "      <td>2015-10-01</td>\n",
              "      <td>1.0</td>\n",
              "      <td>2015</td>\n",
              "      <td>10</td>\n",
              "      <td>16.290</td>\n",
              "      <td>-0.866025</td>\n",
              "      <td>5.000000e-01</td>\n",
              "      <td>34.161592</td>\n",
              "    </tr>\n",
              "    <tr>\n",
              "      <th>790</th>\n",
              "      <td>2015-11-01</td>\n",
              "      <td>1.0</td>\n",
              "      <td>2015</td>\n",
              "      <td>11</td>\n",
              "      <td>15.252</td>\n",
              "      <td>-0.500000</td>\n",
              "      <td>8.660254e-01</td>\n",
              "      <td>34.157856</td>\n",
              "    </tr>\n",
              "  </tbody>\n",
              "</table>\n",
              "<p>791 rows × 8 columns</p>\n",
              "</div>\n",
              "    <div class=\"colab-df-buttons\">\n",
              "\n",
              "  <div class=\"colab-df-container\">\n",
              "    <button class=\"colab-df-convert\" onclick=\"convertToInteractive('df-a62b6567-0b32-4c70-a48f-8aa4f1e605ca')\"\n",
              "            title=\"Convert this dataframe to an interactive table.\"\n",
              "            style=\"display:none;\">\n",
              "\n",
              "  <svg xmlns=\"http://www.w3.org/2000/svg\" height=\"24px\" viewBox=\"0 -960 960 960\">\n",
              "    <path d=\"M120-120v-720h720v720H120Zm60-500h600v-160H180v160Zm220 220h160v-160H400v160Zm0 220h160v-160H400v160ZM180-400h160v-160H180v160Zm440 0h160v-160H620v160ZM180-180h160v-160H180v160Zm440 0h160v-160H620v160Z\"/>\n",
              "  </svg>\n",
              "    </button>\n",
              "\n",
              "  <style>\n",
              "    .colab-df-container {\n",
              "      display:flex;\n",
              "      gap: 12px;\n",
              "    }\n",
              "\n",
              "    .colab-df-convert {\n",
              "      background-color: #E8F0FE;\n",
              "      border: none;\n",
              "      border-radius: 50%;\n",
              "      cursor: pointer;\n",
              "      display: none;\n",
              "      fill: #1967D2;\n",
              "      height: 32px;\n",
              "      padding: 0 0 0 0;\n",
              "      width: 32px;\n",
              "    }\n",
              "\n",
              "    .colab-df-convert:hover {\n",
              "      background-color: #E2EBFA;\n",
              "      box-shadow: 0px 1px 2px rgba(60, 64, 67, 0.3), 0px 1px 3px 1px rgba(60, 64, 67, 0.15);\n",
              "      fill: #174EA6;\n",
              "    }\n",
              "\n",
              "    .colab-df-buttons div {\n",
              "      margin-bottom: 4px;\n",
              "    }\n",
              "\n",
              "    [theme=dark] .colab-df-convert {\n",
              "      background-color: #3B4455;\n",
              "      fill: #D2E3FC;\n",
              "    }\n",
              "\n",
              "    [theme=dark] .colab-df-convert:hover {\n",
              "      background-color: #434B5C;\n",
              "      box-shadow: 0px 1px 3px 1px rgba(0, 0, 0, 0.15);\n",
              "      filter: drop-shadow(0px 1px 2px rgba(0, 0, 0, 0.3));\n",
              "      fill: #FFFFFF;\n",
              "    }\n",
              "  </style>\n",
              "\n",
              "    <script>\n",
              "      const buttonEl =\n",
              "        document.querySelector('#df-a62b6567-0b32-4c70-a48f-8aa4f1e605ca button.colab-df-convert');\n",
              "      buttonEl.style.display =\n",
              "        google.colab.kernel.accessAllowed ? 'block' : 'none';\n",
              "\n",
              "      async function convertToInteractive(key) {\n",
              "        const element = document.querySelector('#df-a62b6567-0b32-4c70-a48f-8aa4f1e605ca');\n",
              "        const dataTable =\n",
              "          await google.colab.kernel.invokeFunction('convertToInteractive',\n",
              "                                                    [key], {});\n",
              "        if (!dataTable) return;\n",
              "\n",
              "        const docLinkHtml = 'Like what you see? Visit the ' +\n",
              "          '<a target=\"_blank\" href=https://colab.research.google.com/notebooks/data_table.ipynb>data table notebook</a>'\n",
              "          + ' to learn more about interactive tables.';\n",
              "        element.innerHTML = '';\n",
              "        dataTable['output_type'] = 'display_data';\n",
              "        await google.colab.output.renderOutput(dataTable, element);\n",
              "        const docLink = document.createElement('div');\n",
              "        docLink.innerHTML = docLinkHtml;\n",
              "        element.appendChild(docLink);\n",
              "      }\n",
              "    </script>\n",
              "  </div>\n",
              "\n",
              "\n",
              "<div id=\"df-776bc835-af91-4d99-b949-ef9a49a655f0\">\n",
              "  <button class=\"colab-df-quickchart\" onclick=\"quickchart('df-776bc835-af91-4d99-b949-ef9a49a655f0')\"\n",
              "            title=\"Suggest charts\"\n",
              "            style=\"display:none;\">\n",
              "\n",
              "<svg xmlns=\"http://www.w3.org/2000/svg\" height=\"24px\"viewBox=\"0 0 24 24\"\n",
              "     width=\"24px\">\n",
              "    <g>\n",
              "        <path d=\"M19 3H5c-1.1 0-2 .9-2 2v14c0 1.1.9 2 2 2h14c1.1 0 2-.9 2-2V5c0-1.1-.9-2-2-2zM9 17H7v-7h2v7zm4 0h-2V7h2v10zm4 0h-2v-4h2v4z\"/>\n",
              "    </g>\n",
              "</svg>\n",
              "  </button>\n",
              "\n",
              "<style>\n",
              "  .colab-df-quickchart {\n",
              "      --bg-color: #E8F0FE;\n",
              "      --fill-color: #1967D2;\n",
              "      --hover-bg-color: #E2EBFA;\n",
              "      --hover-fill-color: #174EA6;\n",
              "      --disabled-fill-color: #AAA;\n",
              "      --disabled-bg-color: #DDD;\n",
              "  }\n",
              "\n",
              "  [theme=dark] .colab-df-quickchart {\n",
              "      --bg-color: #3B4455;\n",
              "      --fill-color: #D2E3FC;\n",
              "      --hover-bg-color: #434B5C;\n",
              "      --hover-fill-color: #FFFFFF;\n",
              "      --disabled-bg-color: #3B4455;\n",
              "      --disabled-fill-color: #666;\n",
              "  }\n",
              "\n",
              "  .colab-df-quickchart {\n",
              "    background-color: var(--bg-color);\n",
              "    border: none;\n",
              "    border-radius: 50%;\n",
              "    cursor: pointer;\n",
              "    display: none;\n",
              "    fill: var(--fill-color);\n",
              "    height: 32px;\n",
              "    padding: 0;\n",
              "    width: 32px;\n",
              "  }\n",
              "\n",
              "  .colab-df-quickchart:hover {\n",
              "    background-color: var(--hover-bg-color);\n",
              "    box-shadow: 0 1px 2px rgba(60, 64, 67, 0.3), 0 1px 3px 1px rgba(60, 64, 67, 0.15);\n",
              "    fill: var(--button-hover-fill-color);\n",
              "  }\n",
              "\n",
              "  .colab-df-quickchart-complete:disabled,\n",
              "  .colab-df-quickchart-complete:disabled:hover {\n",
              "    background-color: var(--disabled-bg-color);\n",
              "    fill: var(--disabled-fill-color);\n",
              "    box-shadow: none;\n",
              "  }\n",
              "\n",
              "  .colab-df-spinner {\n",
              "    border: 2px solid var(--fill-color);\n",
              "    border-color: transparent;\n",
              "    border-bottom-color: var(--fill-color);\n",
              "    animation:\n",
              "      spin 1s steps(1) infinite;\n",
              "  }\n",
              "\n",
              "  @keyframes spin {\n",
              "    0% {\n",
              "      border-color: transparent;\n",
              "      border-bottom-color: var(--fill-color);\n",
              "      border-left-color: var(--fill-color);\n",
              "    }\n",
              "    20% {\n",
              "      border-color: transparent;\n",
              "      border-left-color: var(--fill-color);\n",
              "      border-top-color: var(--fill-color);\n",
              "    }\n",
              "    30% {\n",
              "      border-color: transparent;\n",
              "      border-left-color: var(--fill-color);\n",
              "      border-top-color: var(--fill-color);\n",
              "      border-right-color: var(--fill-color);\n",
              "    }\n",
              "    40% {\n",
              "      border-color: transparent;\n",
              "      border-right-color: var(--fill-color);\n",
              "      border-top-color: var(--fill-color);\n",
              "    }\n",
              "    60% {\n",
              "      border-color: transparent;\n",
              "      border-right-color: var(--fill-color);\n",
              "    }\n",
              "    80% {\n",
              "      border-color: transparent;\n",
              "      border-right-color: var(--fill-color);\n",
              "      border-bottom-color: var(--fill-color);\n",
              "    }\n",
              "    90% {\n",
              "      border-color: transparent;\n",
              "      border-bottom-color: var(--fill-color);\n",
              "    }\n",
              "  }\n",
              "</style>\n",
              "\n",
              "  <script>\n",
              "    async function quickchart(key) {\n",
              "      const quickchartButtonEl =\n",
              "        document.querySelector('#' + key + ' button');\n",
              "      quickchartButtonEl.disabled = true;  // To prevent multiple clicks.\n",
              "      quickchartButtonEl.classList.add('colab-df-spinner');\n",
              "      try {\n",
              "        const charts = await google.colab.kernel.invokeFunction(\n",
              "            'suggestCharts', [key], {});\n",
              "      } catch (error) {\n",
              "        console.error('Error during call to suggestCharts:', error);\n",
              "      }\n",
              "      quickchartButtonEl.classList.remove('colab-df-spinner');\n",
              "      quickchartButtonEl.classList.add('colab-df-quickchart-complete');\n",
              "    }\n",
              "    (() => {\n",
              "      let quickchartButtonEl =\n",
              "        document.querySelector('#df-776bc835-af91-4d99-b949-ef9a49a655f0 button');\n",
              "      quickchartButtonEl.style.display =\n",
              "        google.colab.kernel.accessAllowed ? 'block' : 'none';\n",
              "    })();\n",
              "  </script>\n",
              "</div>\n",
              "    </div>\n",
              "  </div>\n"
            ]
          },
          "metadata": {},
          "execution_count": 78
        }
      ],
      "source": [
        "df_merge"
      ]
    },
    {
      "cell_type": "markdown",
      "metadata": {
        "id": "3I__gL_GqD2Z"
      },
      "source": [
        "---\n",
        "\n",
        "**Assess correlations**\n",
        "\n",
        "---"
      ]
    },
    {
      "cell_type": "code",
      "execution_count": 79,
      "metadata": {
        "id": "voLTLHConZ0i"
      },
      "outputs": [],
      "source": [
        "# Assess correlations between all data columns\n",
        "df_corr = df_merge.corr()"
      ]
    },
    {
      "cell_type": "code",
      "execution_count": 80,
      "metadata": {
        "id": "No1Fc0Qbpd_5"
      },
      "outputs": [],
      "source": [
        "# Identify the columns which have medium to strong correlation with target\n",
        "df_corr_cols = df_corr[df_corr[TARGET_LABEL] > 0.5]"
      ]
    },
    {
      "cell_type": "code",
      "execution_count": 81,
      "metadata": {
        "id": "istm__I7pVxF"
      },
      "outputs": [],
      "source": [
        "# Drop the target from the correlation results in case we want to use this reduced set\n",
        "#    in place of the full set\n",
        "df_corr_cols = df_corr_cols.drop(columns=[])"
      ]
    },
    {
      "cell_type": "code",
      "execution_count": 82,
      "metadata": {
        "id": "UDNh439ejVs6"
      },
      "outputs": [],
      "source": [
        "# Extract just the column names\n",
        "corr_cols = df_corr_cols.index.values"
      ]
    },
    {
      "cell_type": "code",
      "execution_count": 83,
      "metadata": {
        "id": "6mFm8Oe3i5EP",
        "colab": {
          "base_uri": "https://localhost:8080/"
        },
        "outputId": "568b81bc-21aa-4e7d-8e5c-0a6cf57c502a"
      },
      "outputs": [
        {
          "output_type": "stream",
          "name": "stdout",
          "text": [
            "['landSeaAvgTemp']\n"
          ]
        }
      ],
      "source": [
        "if debug:\n",
        "  print(corr_cols)"
      ]
    },
    {
      "cell_type": "code",
      "execution_count": 84,
      "metadata": {
        "id": "woQeUENso8PE",
        "colab": {
          "base_uri": "https://localhost:8080/",
          "height": 663
        },
        "outputId": "40355632-3d87-4196-9284-357959b74c0f"
      },
      "outputs": [
        {
          "output_type": "execute_result",
          "data": {
            "text/plain": [
              "Text(0.5, 1.0, 'Heatmap of correlation among variables')"
            ]
          },
          "metadata": {},
          "execution_count": 84
        },
        {
          "output_type": "display_data",
          "data": {
            "text/plain": [
              "<Figure size 800x600 with 2 Axes>"
            ],
            "image/png": "[encoded data removed]"
          },
          "metadata": {}
        }
      ],
      "source": [
        "# Add labels\n",
        "labels = np.where(np.abs(df_corr) > 0.75, 'S',\n",
        "                  np.where(np.abs(df_corr) > 0.5, 'M',\n",
        "                           np.where(np.abs(df_corr) > 0.25, 'W', '')))\n",
        "# Plot the matrix\n",
        "plt.figure(figsize=(8,6))\n",
        "sns.heatmap(df_corr, mask=np.eye(len(df_corr)), square=True,\n",
        "            center=0, annot=labels, fmt = '', linewidths = .5,\n",
        "            cmap='vlag', cbar_kws={'shrink':0.8});\n",
        "plt.title('Heatmap of correlation among variables', fontsize=20)"
      ]
    },
    {
      "cell_type": "markdown",
      "metadata": {
        "id": "UZY0kxUtZWKn"
      },
      "source": [
        "---\n",
        "\n",
        "**Prepare for Modeling**\n",
        "\n",
        "---"
      ]
    },
    {
      "cell_type": "code",
      "execution_count": 85,
      "metadata": {
        "id": "wFjIFj6Al0yC"
      },
      "outputs": [],
      "source": [
        "# It's time to set date as index and remove from dataset\n",
        "df_merge.set_index(merger.DATE_COL, inplace=True, drop=True)"
      ]
    },
    {
      "cell_type": "code",
      "execution_count": 86,
      "metadata": {
        "id": "GuOGEhh7o7gU",
        "colab": {
          "base_uri": "https://localhost:8080/",
          "height": 455
        },
        "outputId": "736a10cf-23cf-4f66-b55e-67ea586cdae5"
      },
      "outputs": [
        {
          "output_type": "execute_result",
          "data": {
            "text/plain": [
              "            day  year  month  landSeaAvgTemp  month-sin     month-cos  \\\n",
              "_date_                                                                  \n",
              "1950-01-01  1.0  1950      1          13.311   0.500000  8.660254e-01   \n",
              "1950-02-01  1.0  1950      2          13.554   0.866025  5.000000e-01   \n",
              "1950-03-01  1.0  1950      3          14.296   1.000000  6.123234e-17   \n",
              "1950-04-01  1.0  1950      4          15.093   0.866025 -5.000000e-01   \n",
              "1950-05-01  1.0  1950      5          16.033   0.500000 -8.660254e-01   \n",
              "...         ...   ...    ...             ...        ...           ...   \n",
              "2015-07-01  1.0  2015      7          17.611  -0.500000 -8.660254e-01   \n",
              "2015-08-01  1.0  2015      8          17.589  -0.866025 -5.000000e-01   \n",
              "2015-09-01  1.0  2015      9          17.049  -1.000000 -1.836970e-16   \n",
              "2015-10-01  1.0  2015     10          16.290  -0.866025  5.000000e-01   \n",
              "2015-11-01  1.0  2015     11          15.252  -0.500000  8.660254e-01   \n",
              "\n",
              "            pct_forest_cover  \n",
              "_date_                        \n",
              "1950-01-01         36.872263  \n",
              "1950-02-01         36.868748  \n",
              "1950-03-01         36.865573  \n",
              "1950-04-01         36.862058  \n",
              "1950-05-01         36.858656  \n",
              "...                      ...  \n",
              "2015-07-01         34.172678  \n",
              "2015-08-01         34.168942  \n",
              "2015-09-01         34.165207  \n",
              "2015-10-01         34.161592  \n",
              "2015-11-01         34.157856  \n",
              "\n",
              "[791 rows x 7 columns]"
            ],
            "text/html": [
              "\n",
              "  <div id=\"df-6eb16c79-eeef-4e14-9f46-aee2cb3b72c7\" class=\"colab-df-container\">\n",
              "    <div>\n",
              "<style scoped>\n",
              "    .dataframe tbody tr th:only-of-type {\n",
              "        vertical-align: middle;\n",
              "    }\n",
              "\n",
              "    .dataframe tbody tr th {\n",
              "        vertical-align: top;\n",
              "    }\n",
              "\n",
              "    .dataframe thead th {\n",
              "        text-align: right;\n",
              "    }\n",
              "</style>\n",
              "<table border=\"1\" class=\"dataframe\">\n",
              "  <thead>\n",
              "    <tr style=\"text-align: right;\">\n",
              "      <th></th>\n",
              "      <th>day</th>\n",
              "      <th>year</th>\n",
              "      <th>month</th>\n",
              "      <th>landSeaAvgTemp</th>\n",
              "      <th>month-sin</th>\n",
              "      <th>month-cos</th>\n",
              "      <th>pct_forest_cover</th>\n",
              "    </tr>\n",
              "    <tr>\n",
              "      <th>_date_</th>\n",
              "      <th></th>\n",
              "      <th></th>\n",
              "      <th></th>\n",
              "      <th></th>\n",
              "      <th></th>\n",
              "      <th></th>\n",
              "      <th></th>\n",
              "    </tr>\n",
              "  </thead>\n",
              "  <tbody>\n",
              "    <tr>\n",
              "      <th>1950-01-01</th>\n",
              "      <td>1.0</td>\n",
              "      <td>1950</td>\n",
              "      <td>1</td>\n",
              "      <td>13.311</td>\n",
              "      <td>0.500000</td>\n",
              "      <td>8.660254e-01</td>\n",
              "      <td>36.872263</td>\n",
              "    </tr>\n",
              "    <tr>\n",
              "      <th>1950-02-01</th>\n",
              "      <td>1.0</td>\n",
              "      <td>1950</td>\n",
              "      <td>2</td>\n",
              "      <td>13.554</td>\n",
              "      <td>0.866025</td>\n",
              "      <td>5.000000e-01</td>\n",
              "      <td>36.868748</td>\n",
              "    </tr>\n",
              "    <tr>\n",
              "      <th>1950-03-01</th>\n",
              "      <td>1.0</td>\n",
              "      <td>1950</td>\n",
              "      <td>3</td>\n",
              "      <td>14.296</td>\n",
              "      <td>1.000000</td>\n",
              "      <td>6.123234e-17</td>\n",
              "      <td>36.865573</td>\n",
              "    </tr>\n",
              "    <tr>\n",
              "      <th>1950-04-01</th>\n",
              "      <td>1.0</td>\n",
              "      <td>1950</td>\n",
              "      <td>4</td>\n",
              "      <td>15.093</td>\n",
              "      <td>0.866025</td>\n",
              "      <td>-5.000000e-01</td>\n",
              "      <td>36.862058</td>\n",
              "    </tr>\n",
              "    <tr>\n",
              "      <th>1950-05-01</th>\n",
              "      <td>1.0</td>\n",
              "      <td>1950</td>\n",
              "      <td>5</td>\n",
              "      <td>16.033</td>\n",
              "      <td>0.500000</td>\n",
              "      <td>-8.660254e-01</td>\n",
              "      <td>36.858656</td>\n",
              "    </tr>\n",
              "    <tr>\n",
              "      <th>...</th>\n",
              "      <td>...</td>\n",
              "      <td>...</td>\n",
              "      <td>...</td>\n",
              "      <td>...</td>\n",
              "      <td>...</td>\n",
              "      <td>...</td>\n",
              "      <td>...</td>\n",
              "    </tr>\n",
              "    <tr>\n",
              "      <th>2015-07-01</th>\n",
              "      <td>1.0</td>\n",
              "      <td>2015</td>\n",
              "      <td>7</td>\n",
              "      <td>17.611</td>\n",
              "      <td>-0.500000</td>\n",
              "      <td>-8.660254e-01</td>\n",
              "      <td>34.172678</td>\n",
              "    </tr>\n",
              "    <tr>\n",
              "      <th>2015-08-01</th>\n",
              "      <td>1.0</td>\n",
              "      <td>2015</td>\n",
              "      <td>8</td>\n",
              "      <td>17.589</td>\n",
              "      <td>-0.866025</td>\n",
              "      <td>-5.000000e-01</td>\n",
              "      <td>34.168942</td>\n",
              "    </tr>\n",
              "    <tr>\n",
              "      <th>2015-09-01</th>\n",
              "      <td>1.0</td>\n",
              "      <td>2015</td>\n",
              "      <td>9</td>\n",
              "      <td>17.049</td>\n",
              "      <td>-1.000000</td>\n",
              "      <td>-1.836970e-16</td>\n",
              "      <td>34.165207</td>\n",
              "    </tr>\n",
              "    <tr>\n",
              "      <th>2015-10-01</th>\n",
              "      <td>1.0</td>\n",
              "      <td>2015</td>\n",
              "      <td>10</td>\n",
              "      <td>16.290</td>\n",
              "      <td>-0.866025</td>\n",
              "      <td>5.000000e-01</td>\n",
              "      <td>34.161592</td>\n",
              "    </tr>\n",
              "    <tr>\n",
              "      <th>2015-11-01</th>\n",
              "      <td>1.0</td>\n",
              "      <td>2015</td>\n",
              "      <td>11</td>\n",
              "      <td>15.252</td>\n",
              "      <td>-0.500000</td>\n",
              "      <td>8.660254e-01</td>\n",
              "      <td>34.157856</td>\n",
              "    </tr>\n",
              "  </tbody>\n",
              "</table>\n",
              "<p>791 rows × 7 columns</p>\n",
              "</div>\n",
              "    <div class=\"colab-df-buttons\">\n",
              "\n",
              "  <div class=\"colab-df-container\">\n",
              "    <button class=\"colab-df-convert\" onclick=\"convertToInteractive('df-6eb16c79-eeef-4e14-9f46-aee2cb3b72c7')\"\n",
              "            title=\"Convert this dataframe to an interactive table.\"\n",
              "            style=\"display:none;\">\n",
              "\n",
              "  <svg xmlns=\"http://www.w3.org/2000/svg\" height=\"24px\" viewBox=\"0 -960 960 960\">\n",
              "    <path d=\"M120-120v-720h720v720H120Zm60-500h600v-160H180v160Zm220 220h160v-160H400v160Zm0 220h160v-160H400v160ZM180-400h160v-160H180v160Zm440 0h160v-160H620v160ZM180-180h160v-160H180v160Zm440 0h160v-160H620v160Z\"/>\n",
              "  </svg>\n",
              "    </button>\n",
              "\n",
              "  <style>\n",
              "    .colab-df-container {\n",
              "      display:flex;\n",
              "      gap: 12px;\n",
              "    }\n",
              "\n",
              "    .colab-df-convert {\n",
              "      background-color: #E8F0FE;\n",
              "      border: none;\n",
              "      border-radius: 50%;\n",
              "      cursor: pointer;\n",
              "      display: none;\n",
              "      fill: #1967D2;\n",
              "      height: 32px;\n",
              "      padding: 0 0 0 0;\n",
              "      width: 32px;\n",
              "    }\n",
              "\n",
              "    .colab-df-convert:hover {\n",
              "      background-color: #E2EBFA;\n",
              "      box-shadow: 0px 1px 2px rgba(60, 64, 67, 0.3), 0px 1px 3px 1px rgba(60, 64, 67, 0.15);\n",
              "      fill: #174EA6;\n",
              "    }\n",
              "\n",
              "    .colab-df-buttons div {\n",
              "      margin-bottom: 4px;\n",
              "    }\n",
              "\n",
              "    [theme=dark] .colab-df-convert {\n",
              "      background-color: #3B4455;\n",
              "      fill: #D2E3FC;\n",
              "    }\n",
              "\n",
              "    [theme=dark] .colab-df-convert:hover {\n",
              "      background-color: #434B5C;\n",
              "      box-shadow: 0px 1px 3px 1px rgba(0, 0, 0, 0.15);\n",
              "      filter: drop-shadow(0px 1px 2px rgba(0, 0, 0, 0.3));\n",
              "      fill: #FFFFFF;\n",
              "    }\n",
              "  </style>\n",
              "\n",
              "    <script>\n",
              "      const buttonEl =\n",
              "        document.querySelector('#df-6eb16c79-eeef-4e14-9f46-aee2cb3b72c7 button.colab-df-convert');\n",
              "      buttonEl.style.display =\n",
              "        google.colab.kernel.accessAllowed ? 'block' : 'none';\n",
              "\n",
              "      async function convertToInteractive(key) {\n",
              "        const element = document.querySelector('#df-6eb16c79-eeef-4e14-9f46-aee2cb3b72c7');\n",
              "        const dataTable =\n",
              "          await google.colab.kernel.invokeFunction('convertToInteractive',\n",
              "                                                    [key], {});\n",
              "        if (!dataTable) return;\n",
              "\n",
              "        const docLinkHtml = 'Like what you see? Visit the ' +\n",
              "          '<a target=\"_blank\" href=https://colab.research.google.com/notebooks/data_table.ipynb>data table notebook</a>'\n",
              "          + ' to learn more about interactive tables.';\n",
              "        element.innerHTML = '';\n",
              "        dataTable['output_type'] = 'display_data';\n",
              "        await google.colab.output.renderOutput(dataTable, element);\n",
              "        const docLink = document.createElement('div');\n",
              "        docLink.innerHTML = docLinkHtml;\n",
              "        element.appendChild(docLink);\n",
              "      }\n",
              "    </script>\n",
              "  </div>\n",
              "\n",
              "\n",
              "<div id=\"df-ba2550d3-dc07-427e-896c-14885f81494d\">\n",
              "  <button class=\"colab-df-quickchart\" onclick=\"quickchart('df-ba2550d3-dc07-427e-896c-14885f81494d')\"\n",
              "            title=\"Suggest charts\"\n",
              "            style=\"display:none;\">\n",
              "\n",
              "<svg xmlns=\"http://www.w3.org/2000/svg\" height=\"24px\"viewBox=\"0 0 24 24\"\n",
              "     width=\"24px\">\n",
              "    <g>\n",
              "        <path d=\"M19 3H5c-1.1 0-2 .9-2 2v14c0 1.1.9 2 2 2h14c1.1 0 2-.9 2-2V5c0-1.1-.9-2-2-2zM9 17H7v-7h2v7zm4 0h-2V7h2v10zm4 0h-2v-4h2v4z\"/>\n",
              "    </g>\n",
              "</svg>\n",
              "  </button>\n",
              "\n",
              "<style>\n",
              "  .colab-df-quickchart {\n",
              "      --bg-color: #E8F0FE;\n",
              "      --fill-color: #1967D2;\n",
              "      --hover-bg-color: #E2EBFA;\n",
              "      --hover-fill-color: #174EA6;\n",
              "      --disabled-fill-color: #AAA;\n",
              "      --disabled-bg-color: #DDD;\n",
              "  }\n",
              "\n",
              "  [theme=dark] .colab-df-quickchart {\n",
              "      --bg-color: #3B4455;\n",
              "      --fill-color: #D2E3FC;\n",
              "      --hover-bg-color: #434B5C;\n",
              "      --hover-fill-color: #FFFFFF;\n",
              "      --disabled-bg-color: #3B4455;\n",
              "      --disabled-fill-color: #666;\n",
              "  }\n",
              "\n",
              "  .colab-df-quickchart {\n",
              "    background-color: var(--bg-color);\n",
              "    border: none;\n",
              "    border-radius: 50%;\n",
              "    cursor: pointer;\n",
              "    display: none;\n",
              "    fill: var(--fill-color);\n",
              "    height: 32px;\n",
              "    padding: 0;\n",
              "    width: 32px;\n",
              "  }\n",
              "\n",
              "  .colab-df-quickchart:hover {\n",
              "    background-color: var(--hover-bg-color);\n",
              "    box-shadow: 0 1px 2px rgba(60, 64, 67, 0.3), 0 1px 3px 1px rgba(60, 64, 67, 0.15);\n",
              "    fill: var(--button-hover-fill-color);\n",
              "  }\n",
              "\n",
              "  .colab-df-quickchart-complete:disabled,\n",
              "  .colab-df-quickchart-complete:disabled:hover {\n",
              "    background-color: var(--disabled-bg-color);\n",
              "    fill: var(--disabled-fill-color);\n",
              "    box-shadow: none;\n",
              "  }\n",
              "\n",
              "  .colab-df-spinner {\n",
              "    border: 2px solid var(--fill-color);\n",
              "    border-color: transparent;\n",
              "    border-bottom-color: var(--fill-color);\n",
              "    animation:\n",
              "      spin 1s steps(1) infinite;\n",
              "  }\n",
              "\n",
              "  @keyframes spin {\n",
              "    0% {\n",
              "      border-color: transparent;\n",
              "      border-bottom-color: var(--fill-color);\n",
              "      border-left-color: var(--fill-color);\n",
              "    }\n",
              "    20% {\n",
              "      border-color: transparent;\n",
              "      border-left-color: var(--fill-color);\n",
              "      border-top-color: var(--fill-color);\n",
              "    }\n",
              "    30% {\n",
              "      border-color: transparent;\n",
              "      border-left-color: var(--fill-color);\n",
              "      border-top-color: var(--fill-color);\n",
              "      border-right-color: var(--fill-color);\n",
              "    }\n",
              "    40% {\n",
              "      border-color: transparent;\n",
              "      border-right-color: var(--fill-color);\n",
              "      border-top-color: var(--fill-color);\n",
              "    }\n",
              "    60% {\n",
              "      border-color: transparent;\n",
              "      border-right-color: var(--fill-color);\n",
              "    }\n",
              "    80% {\n",
              "      border-color: transparent;\n",
              "      border-right-color: var(--fill-color);\n",
              "      border-bottom-color: var(--fill-color);\n",
              "    }\n",
              "    90% {\n",
              "      border-color: transparent;\n",
              "      border-bottom-color: var(--fill-color);\n",
              "    }\n",
              "  }\n",
              "</style>\n",
              "\n",
              "  <script>\n",
              "    async function quickchart(key) {\n",
              "      const quickchartButtonEl =\n",
              "        document.querySelector('#' + key + ' button');\n",
              "      quickchartButtonEl.disabled = true;  // To prevent multiple clicks.\n",
              "      quickchartButtonEl.classList.add('colab-df-spinner');\n",
              "      try {\n",
              "        const charts = await google.colab.kernel.invokeFunction(\n",
              "            'suggestCharts', [key], {});\n",
              "      } catch (error) {\n",
              "        console.error('Error during call to suggestCharts:', error);\n",
              "      }\n",
              "      quickchartButtonEl.classList.remove('colab-df-spinner');\n",
              "      quickchartButtonEl.classList.add('colab-df-quickchart-complete');\n",
              "    }\n",
              "    (() => {\n",
              "      let quickchartButtonEl =\n",
              "        document.querySelector('#df-ba2550d3-dc07-427e-896c-14885f81494d button');\n",
              "      quickchartButtonEl.style.display =\n",
              "        google.colab.kernel.accessAllowed ? 'block' : 'none';\n",
              "    })();\n",
              "  </script>\n",
              "</div>\n",
              "    </div>\n",
              "  </div>\n"
            ]
          },
          "metadata": {},
          "execution_count": 86
        }
      ],
      "source": [
        "df_merge"
      ]
    },
    {
      "cell_type": "markdown",
      "metadata": {
        "id": "63aMyvEda8gi"
      },
      "source": [
        "**Assess Periodicity**"
      ]
    },
    {
      "cell_type": "markdown",
      "metadata": {
        "id": "ci9ebJXoajUy"
      },
      "source": [
        "```\n",
        "# removed kendalltau analysis\n",
        "# Replace with fft graph of major freqs?\n",
        "```\n"
      ]
    },
    {
      "cell_type": "markdown",
      "metadata": {
        "id": "h_WyfEUZIAUL"
      },
      "source": [
        "**Resampling**"
      ]
    },
    {
      "cell_type": "markdown",
      "metadata": {
        "id": "-WAwGDGiICLi"
      },
      "source": [
        "This is being performed during the dataset merging phase."
      ]
    },
    {
      "cell_type": "markdown",
      "metadata": {
        "id": "NgNhtRl8M40x"
      },
      "source": [
        "Ready for time series modeling."
      ]
    },
    {
      "cell_type": "markdown",
      "metadata": {
        "id": "XVD4bpKUeiEz"
      },
      "source": [
        "---\n",
        "\n",
        "**Data conversion for model**\n",
        "\n",
        "---"
      ]
    },
    {
      "cell_type": "markdown",
      "metadata": {
        "id": "hzt9d8ypnSac"
      },
      "source": [
        "**Extract labels**\n",
        "\n",
        "Time series creates a supervised learning problem out of moving data."
      ]
    },
    {
      "cell_type": "markdown",
      "metadata": {
        "id": "Pbe1toTfg_KH"
      },
      "source": [
        "**Dataset stats**"
      ]
    },
    {
      "cell_type": "code",
      "execution_count": 87,
      "metadata": {
        "id": "KvQ3gytEkC0C"
      },
      "outputs": [],
      "source": [
        "NUM_FEATURES = len(df_merge.columns)\n",
        "\n",
        "# Capture stats on number of non-metadata columns - so, exclude some stuff\n",
        "#NET_NUM_FEATURES = len(set(df_merge.columns) - set(['year','month','day']))"
      ]
    },
    {
      "cell_type": "code",
      "execution_count": 88,
      "metadata": {
        "id": "jol4p5VJVyy6"
      },
      "outputs": [],
      "source": [
        "# Keep rows aside for post validation?\n",
        "TOTAL_ROWS = df_merge.shape[0]\n",
        "NUM_VALIDATION = math.floor(TOTAL_ROWS * VALIDATION_RATIO)\n",
        "WORKING_ROWS = TOTAL_ROWS - NUM_VALIDATION"
      ]
    },
    {
      "cell_type": "code",
      "execution_count": 89,
      "metadata": {
        "id": "8b-0_8hRjo-T"
      },
      "outputs": [],
      "source": [
        "# Split non-validation rows into train/test\n",
        "NUM_TEST = math.floor(WORKING_ROWS * TEST_RATIO)\n",
        "NUM_TRAIN = WORKING_ROWS - NUM_TEST"
      ]
    },
    {
      "cell_type": "code",
      "execution_count": 90,
      "metadata": {
        "id": "EGAbfgIfhiMo",
        "colab": {
          "base_uri": "https://localhost:8080/"
        },
        "outputId": "4b10eca2-75fb-4df0-801c-74190f815cdd"
      },
      "outputs": [
        {
          "output_type": "stream",
          "name": "stdout",
          "text": [
            "Num features: 7\n",
            "Total rows: 791\n",
            "Validation rows: 79\n",
            "Train rows: 570\n",
            "Test rows: 142\n"
          ]
        }
      ],
      "source": [
        "print(f'Num features: {NUM_FEATURES}')\n",
        "print(f'Total rows: {TOTAL_ROWS}')\n",
        "print(f'Validation rows: {NUM_VALIDATION}')\n",
        "print(f'Train rows: {NUM_TRAIN}')\n",
        "print(f'Test rows: {NUM_TEST}')"
      ]
    },
    {
      "cell_type": "markdown",
      "metadata": {
        "id": "7sZLuMdtlCRG"
      },
      "source": [
        "**Split into Train/Test**"
      ]
    },
    {
      "cell_type": "code",
      "execution_count": 91,
      "metadata": {
        "id": "vFivSfHcQk-o"
      },
      "outputs": [],
      "source": [
        "df_train = df_merge.iloc[:NUM_TRAIN, :]\n",
        "df_val = df_merge.iloc[NUM_TRAIN:NUM_TRAIN+NUM_VALIDATION, :]\n",
        "df_test = df_merge.iloc[NUM_TRAIN+NUM_VALIDATION:, :]"
      ]
    },
    {
      "cell_type": "code",
      "execution_count": 92,
      "metadata": {
        "id": "oZMgYgW55TLZ"
      },
      "outputs": [],
      "source": [
        "y_train = df_train[TARGET_LABEL]\n",
        "y_val = df_val[TARGET_LABEL]\n",
        "y_test = df_test[TARGET_LABEL]"
      ]
    },
    {
      "cell_type": "code",
      "execution_count": 93,
      "metadata": {
        "id": "UVwzub7rhewQ",
        "colab": {
          "base_uri": "https://localhost:8080/"
        },
        "outputId": "2e197cec-5f5e-4f1a-8209-c8f29bbba0d1"
      },
      "outputs": [
        {
          "output_type": "stream",
          "name": "stdout",
          "text": [
            "df_train: (570, 7)\n",
            "y_train: (570,)\n",
            "df_test: (142, 7)\n",
            "y_test: (142,)\n",
            "df_val: (79, 7)\n",
            "y_val: (79,)\n"
          ]
        }
      ],
      "source": [
        "if debug:\n",
        "  print(f'df_train: {df_train.shape}')\n",
        "  print(f'y_train: {y_train.shape}')\n",
        "  print(f'df_test: {df_test.shape}')\n",
        "  print(f'y_test: {y_test.shape}')\n",
        "  print(f'df_val: {df_val.shape}')\n",
        "  print(f'y_val: {y_val.shape}')"
      ]
    },
    {
      "cell_type": "markdown",
      "metadata": {
        "id": "WzppcqQ6M_uA"
      },
      "source": [
        "**Scale data**\n",
        "\n",
        "Doing this **after** the split means that training data doesn't get unfair advantage of looking ahead into the 'future' during test & validation."
      ]
    },
    {
      "cell_type": "code",
      "execution_count": 94,
      "metadata": {
        "id": "jDnWU7vB4c7U"
      },
      "outputs": [],
      "source": [
        "from sklearn.preprocessing import StandardScaler, MinMaxScaler"
      ]
    },
    {
      "cell_type": "code",
      "execution_count": 95,
      "metadata": {
        "id": "rzJQluQ-9lzd"
      },
      "outputs": [],
      "source": [
        "from sklearn import preprocessing\n",
        "from sklearn.compose import ColumnTransformer\n",
        "from sklearn.preprocessing import OneHotEncoder, StandardScaler, MinMaxScaler, RobustScaler, PowerTransformer,  QuantileTransformer, Normalizer\n",
        "from sklearn.impute import SimpleImputer\n",
        "from sklearn.pipeline import Pipeline\n",
        "import tensorflow as tf\n"
      ]
    },
    {
      "cell_type": "code",
      "execution_count": 96,
      "metadata": {
        "id": "6LCQJIeC9r-w"
      },
      "outputs": [],
      "source": [
        "# Create small pipeline for numerical features\n",
        "numeric_pipeline = Pipeline(steps = [('impute', SimpleImputer(strategy='mean')),\n",
        "                                    ('scale', MinMaxScaler())])"
      ]
    },
    {
      "cell_type": "code",
      "execution_count": 97,
      "metadata": {
        "id": "9JMxiWQZ9_JS"
      },
      "outputs": [],
      "source": [
        "# get names of numerical features\n",
        "con_lst = df_train.select_dtypes(include='number').columns.to_list()"
      ]
    },
    {
      "cell_type": "code",
      "execution_count": 98,
      "metadata": {
        "id": "5kNMCiYG92Bk"
      },
      "outputs": [],
      "source": [
        "# Transformer for applying Pipelines\n",
        "column_transformer = ColumnTransformer(transformers = [('number', numeric_pipeline, con_lst)])"
      ]
    },
    {
      "cell_type": "code",
      "execution_count": 99,
      "metadata": {
        "id": "ygJaZvdu-UaG",
        "colab": {
          "base_uri": "https://localhost:8080/"
        },
        "outputId": "51adb808-c126-44d8-9faa-41b56482a4b8"
      },
      "outputs": [
        {
          "output_type": "execute_result",
          "data": {
            "text/plain": [
              "((570, 7), (142, 7), (79, 7))"
            ]
          },
          "metadata": {},
          "execution_count": 99
        }
      ],
      "source": [
        "# Transform data features\n",
        "X_train_tx = column_transformer.fit_transform(df_train)\n",
        "X_test_tx = column_transformer.transform(df_test)\n",
        "X_val_tx = column_transformer.transform(df_val)\n",
        "X_train_tx.shape, X_test_tx.shape, X_val_tx.shape"
      ]
    },
    {
      "cell_type": "code",
      "execution_count": 100,
      "metadata": {
        "id": "8RUEbMSmGffW"
      },
      "outputs": [],
      "source": [
        "# Transform labels\n",
        "label_scaler = MinMaxScaler()\n",
        "y_train_tx = label_scaler.fit_transform(y_train.values.reshape(-1, 1))"
      ]
    },
    {
      "cell_type": "code",
      "source": [
        "# Slice labels - we cannot predict anything inside the first INPUT_WINDOW\n",
        "#y_train_tx = y_train_tx[INPUT_WINDOW:]"
      ],
      "metadata": {
        "id": "Ghb-Or1nAXhK"
      },
      "execution_count": 101,
      "outputs": []
    },
    {
      "cell_type": "code",
      "execution_count": 102,
      "metadata": {
        "id": "gypmaVBGfY0-",
        "colab": {
          "base_uri": "https://localhost:8080/"
        },
        "outputId": "667526d1-225d-4d9e-b892-1249f3f66414"
      },
      "outputs": [
        {
          "output_type": "stream",
          "name": "stdout",
          "text": [
            "X_train_tx (570, 7): [0.         0.         0.         0.00318862 0.75       0.9330127\n",
            " 1.        ]\n",
            "y_train_tx (570, 1): [0.00318862]\n"
          ]
        }
      ],
      "source": [
        "if debug:\n",
        "  print(f'X_train_tx {X_train_tx.shape}: {X_train_tx[0]}')\n",
        "  print(f'y_train_tx {y_train_tx.shape}: {y_train_tx[0]}')"
      ]
    },
    {
      "cell_type": "markdown",
      "metadata": {
        "id": "siYxgp7vblS4"
      },
      "source": [
        "**Extract X and y**"
      ]
    },
    {
      "cell_type": "markdown",
      "metadata": {
        "id": "5n7PxiYh113-"
      },
      "source": [
        "Normally we would do this by explicitly extracting data from our df.\n",
        "\n",
        "However for a time series, we're going to create many small supervised learning sets, so a set of X and y pairs.\n",
        "\n",
        "We should end up with data in a shape ready for batched network input:\n",
        "\n",
        "`batches X time_steps X features`\n",
        "\n"
      ]
    },
    {
      "cell_type": "code",
      "execution_count": 103,
      "metadata": {
        "id": "Veg3_YPGbXS6",
        "colab": {
          "base_uri": "https://localhost:8080/"
        },
        "outputId": "f40a96e3-d043-45ad-ea00-35985b481993"
      },
      "outputs": [
        {
          "output_type": "stream",
          "name": "stdout",
          "text": [
            "X_train_tx: (570, 7)\n",
            "y_train_tx: (570, 1)\n"
          ]
        }
      ],
      "source": [
        "if debug:\n",
        "  print(f'X_train_tx: {X_train_tx.shape}')\n",
        "  print(f'y_train_tx: {y_train_tx.shape}')"
      ]
    },
    {
      "cell_type": "code",
      "source": [
        "NUM_LABELS = y_train_tx.shape[1]"
      ],
      "metadata": {
        "id": "fOhSDO4PfY7S"
      },
      "execution_count": 104,
      "outputs": []
    },
    {
      "cell_type": "markdown",
      "metadata": {
        "id": "dCEuwvTpOhDU"
      },
      "source": [
        "---\n",
        "\n",
        "**Modeling**\n",
        "\n",
        "---"
      ]
    },
    {
      "cell_type": "code",
      "execution_count": 105,
      "metadata": {
        "id": "cAPNS8bGOl9_"
      },
      "outputs": [],
      "source": [
        "# These are the features we are going to be modeling\n",
        "COLS = list(df_merge.columns)"
      ]
    },
    {
      "cell_type": "markdown",
      "metadata": {
        "id": "geL67ao-qTT-"
      },
      "source": [
        "**Slice into Batches**"
      ]
    },
    {
      "cell_type": "code",
      "execution_count": 106,
      "metadata": {
        "id": "f-9jPiYm7Ymy"
      },
      "outputs": [],
      "source": [
        "windower = TfWindowGenerator(input_width=INPUT_WINDOW,\n",
        "                             label_width=LABEL_WINDOW,\n",
        "                             shift=SHIFT,\n",
        "                             batch_size=INPUT_WINDOW,\n",
        "                             debug=False)"
      ]
    },
    {
      "cell_type": "code",
      "source": [
        "windower"
      ],
      "metadata": {
        "colab": {
          "base_uri": "https://localhost:8080/"
        },
        "id": "tMlHwFRQl_Wn",
        "outputId": "570112c5-f8cf-4d1a-f8b2-7f2f86cd90ce"
      },
      "execution_count": 107,
      "outputs": [
        {
          "output_type": "execute_result",
          "data": {
            "text/plain": [
              "Window Generator::\n",
              "\tInput size: 30\n",
              "\tLabel size: 1\n",
              "\tShift: 1\n",
              "\tBatch size: 30\n",
              "\tTotal window size: 31\n",
              "\tLabel start: 30"
            ]
          },
          "metadata": {},
          "execution_count": 107
        }
      ]
    },
    {
      "cell_type": "code",
      "source": [
        "X_train_tx.shape, y_train_tx.shape"
      ],
      "metadata": {
        "colab": {
          "base_uri": "https://localhost:8080/"
        },
        "id": "qUTOScaMTgjq",
        "outputId": "20c141e1-9459-4573-a4e1-b06c6f658d3f"
      },
      "execution_count": 108,
      "outputs": [
        {
          "output_type": "execute_result",
          "data": {
            "text/plain": [
              "((570, 7), (570, 1))"
            ]
          },
          "metadata": {},
          "execution_count": 108
        }
      ]
    },
    {
      "cell_type": "code",
      "execution_count": 109,
      "metadata": {
        "id": "YpQatPSrYdC1",
        "colab": {
          "base_uri": "https://localhost:8080/"
        },
        "outputId": "4956b9bc-4dd5-4a37-aa72-6ce8d9bc73f9"
      },
      "outputs": [
        {
          "output_type": "stream",
          "name": "stdout",
          "text": [
            "input_arr: (570, 7)\n",
            "label_arr: (570, 1)\n",
            "## Inputs: (540, 30, 7)\n",
            "## Labels: (540, 1, 1)\n"
          ]
        }
      ],
      "source": [
        "ds = windower.get_ds_from_arrays(X_train_tx, y_train_tx)"
      ]
    },
    {
      "cell_type": "code",
      "execution_count": 110,
      "metadata": {
        "id": "uKRkWvrE20GJ"
      },
      "outputs": [],
      "source": [
        "# Use tensorflow util to batch the timeseries\n",
        "# #   note that targets assume first label starts at 0 (vs. targets[INPUT_WINDOW])\n",
        "# ds = tf.keras.utils.timeseries_dataset_from_array(\n",
        "#     data=X_train_tx,\n",
        "#     targets=y_train_tx,\n",
        "#     batch_size=INPUT_WINDOW*2,\n",
        "#     sequence_length=INPUT_WINDOW )"
      ]
    },
    {
      "cell_type": "code",
      "source": [
        "for batch in ds:\n",
        "  X,y = batch\n",
        "  print(f'batch size: {X.shape},{y.shape}')"
      ],
      "metadata": {
        "colab": {
          "base_uri": "https://localhost:8080/"
        },
        "id": "lJcXS96Qf_s4",
        "outputId": "fcd39fcc-eb6a-42aa-fd43-b38d39646aff"
      },
      "execution_count": 111,
      "outputs": [
        {
          "output_type": "stream",
          "name": "stdout",
          "text": [
            "batch size: (30, 30, 7),(30, 1, 1)\n",
            "batch size: (30, 30, 7),(30, 1, 1)\n",
            "batch size: (30, 30, 7),(30, 1, 1)\n",
            "batch size: (30, 30, 7),(30, 1, 1)\n",
            "batch size: (30, 30, 7),(30, 1, 1)\n",
            "batch size: (30, 30, 7),(30, 1, 1)\n",
            "batch size: (30, 30, 7),(30, 1, 1)\n",
            "batch size: (30, 30, 7),(30, 1, 1)\n",
            "batch size: (30, 30, 7),(30, 1, 1)\n",
            "batch size: (30, 30, 7),(30, 1, 1)\n",
            "batch size: (30, 30, 7),(30, 1, 1)\n",
            "batch size: (30, 30, 7),(30, 1, 1)\n",
            "batch size: (30, 30, 7),(30, 1, 1)\n",
            "batch size: (30, 30, 7),(30, 1, 1)\n",
            "batch size: (30, 30, 7),(30, 1, 1)\n",
            "batch size: (30, 30, 7),(30, 1, 1)\n",
            "batch size: (30, 30, 7),(30, 1, 1)\n",
            "batch size: (30, 30, 7),(30, 1, 1)\n"
          ]
        }
      ]
    },
    {
      "cell_type": "markdown",
      "metadata": {
        "id": "sJUExdksodfw"
      },
      "source": [
        "**Prep GPU**"
      ]
    },
    {
      "cell_type": "code",
      "execution_count": 112,
      "metadata": {
        "id": "MUlasi5Iofyw",
        "colab": {
          "base_uri": "https://localhost:8080/"
        },
        "outputId": "b24a4764-66a2-488a-a2ff-7806faa177ae"
      },
      "outputs": [
        {
          "output_type": "stream",
          "name": "stdout",
          "text": [
            "Num GPUs Available:  1\n"
          ]
        }
      ],
      "source": [
        "import tensorflow as tf\n",
        "print(\"Num GPUs Available: \", len(tf.config.list_physical_devices('GPU')))"
      ]
    },
    {
      "cell_type": "markdown",
      "source": [
        "---\n",
        "\n",
        "**Build and Train**\n",
        "\n",
        "---"
      ],
      "metadata": {
        "id": "I_zWJyV5kUOs"
      }
    },
    {
      "cell_type": "markdown",
      "metadata": {
        "id": "x-cxzxfRRLu2"
      },
      "source": [
        "**Build model**"
      ]
    },
    {
      "cell_type": "code",
      "execution_count": 113,
      "metadata": {
        "id": "lgKXpF06i9Lu",
        "colab": {
          "base_uri": "https://localhost:8080/"
        },
        "outputId": "8084d8b0-9087-45d7-d81e-2514cad20e2a"
      },
      "outputs": [
        {
          "output_type": "stream",
          "name": "stdout",
          "text": [
            "Drive already mounted at /content/drive; to attempt to forcibly remount, call drive.mount(\"/content/drive\", force_remount=True).\n",
            "/content/drive/MyDrive/data606/src\n"
          ]
        }
      ],
      "source": [
        "# Load model class\n",
        "%run -i \"./ModelFactory.ipynb\""
      ]
    },
    {
      "cell_type": "code",
      "source": [
        "# Use factory for flexible selection\n",
        "mf = ModelFactory(window_size=INPUT_WINDOW,label_window=LABEL_WINDOW,num_labels=NUM_LABELS,num_epochs=NUM_EPOCHS,debug=True)"
      ],
      "metadata": {
        "id": "AOX070DCcf40",
        "colab": {
          "base_uri": "https://localhost:8080/"
        },
        "outputId": "1141098a-ccf3-46f8-914d-c9d8fe0802e2"
      },
      "execution_count": 114,
      "outputs": [
        {
          "output_type": "stream",
          "name": "stdout",
          "text": [
            "### Building ModelDensev1::\n",
            "### Building ModelLSTMv1::\n",
            "### Building ModelLSTMv2::\n",
            "### Building ModelLSTMv3::\n"
          ]
        }
      ]
    },
    {
      "cell_type": "code",
      "source": [
        "mf"
      ],
      "metadata": {
        "colab": {
          "base_uri": "https://localhost:8080/"
        },
        "id": "IArWrBrI-J9d",
        "outputId": "86ee8eb0-a799-4e60-af1c-65e6cc9bc44e"
      },
      "execution_count": 115,
      "outputs": [
        {
          "output_type": "execute_result",
          "data": {
            "text/plain": [
              "window_size: 30\n",
              "label_window: 1\n",
              "num_labels: 1\n",
              "num_epochs: 300"
            ]
          },
          "metadata": {},
          "execution_count": 115
        }
      ]
    },
    {
      "cell_type": "code",
      "execution_count": 116,
      "metadata": {
        "id": "WNcsDQoTQ_SI",
        "colab": {
          "base_uri": "https://localhost:8080/"
        },
        "outputId": "46cbb2b8-1706-4daf-e4ea-dfde212aef26"
      },
      "outputs": [
        {
          "output_type": "stream",
          "name": "stdout",
          "text": [
            "Initializing model: LSTMv3\n"
          ]
        }
      ],
      "source": [
        "print(f'Initializing model: {MODEL_NAME}')\n",
        "model = mf.get(MODEL_NAME)"
      ]
    },
    {
      "cell_type": "code",
      "source": [
        "model"
      ],
      "metadata": {
        "colab": {
          "base_uri": "https://localhost:8080/"
        },
        "id": "66OAFcxf5scj",
        "outputId": "e9d531a9-f179-4faf-c062-cac0084838b2"
      },
      "execution_count": 117,
      "outputs": [
        {
          "output_type": "execute_result",
          "data": {
            "text/plain": [
              "window_size: 30\n",
              "label_window: 1\n",
              "num_labels: 1\n",
              "num_epochs: 300"
            ]
          },
          "metadata": {},
          "execution_count": 117
        }
      ]
    },
    {
      "cell_type": "markdown",
      "metadata": {
        "id": "NjRigXSPpH9p"
      },
      "source": [
        "**Train model**"
      ]
    },
    {
      "cell_type": "code",
      "execution_count": 118,
      "metadata": {
        "id": "40DhN5fqiRFx",
        "colab": {
          "base_uri": "https://localhost:8080/"
        },
        "outputId": "dca69034-9639-47d1-f81e-eb5dbe4eabcb"
      },
      "outputs": [
        {
          "output_type": "stream",
          "name": "stdout",
          "text": [
            "Epoch 1/300\n",
            "18/18 [==============================] - 3s 6ms/step - loss: 0.1710\n",
            "Epoch 2/300\n",
            "18/18 [==============================] - 0s 5ms/step - loss: 0.1146\n",
            "Epoch 3/300\n",
            "18/18 [==============================] - 0s 6ms/step - loss: 0.0645\n",
            "Epoch 4/300\n",
            "18/18 [==============================] - 0s 5ms/step - loss: 0.1192\n",
            "Epoch 5/300\n",
            "18/18 [==============================] - 0s 6ms/step - loss: 0.0913\n",
            "Epoch 6/300\n",
            "18/18 [==============================] - 0s 5ms/step - loss: 0.1052\n",
            "Epoch 7/300\n",
            "18/18 [==============================] - 0s 5ms/step - loss: 0.0797\n",
            "Epoch 8/300\n",
            "18/18 [==============================] - 0s 5ms/step - loss: 0.0580\n",
            "Epoch 9/300\n",
            "18/18 [==============================] - 0s 6ms/step - loss: 0.0563\n",
            "Epoch 10/300\n",
            "18/18 [==============================] - 0s 5ms/step - loss: 0.0516\n",
            "Epoch 11/300\n",
            "18/18 [==============================] - 0s 6ms/step - loss: 0.0475\n",
            "Epoch 12/300\n",
            "18/18 [==============================] - 0s 5ms/step - loss: 0.0322\n",
            "Epoch 13/300\n",
            "18/18 [==============================] - 0s 5ms/step - loss: 0.0464\n",
            "Epoch 14/300\n",
            "18/18 [==============================] - 0s 5ms/step - loss: 0.0304\n",
            "Epoch 15/300\n",
            "18/18 [==============================] - 0s 5ms/step - loss: 0.0332\n",
            "Epoch 16/300\n",
            "18/18 [==============================] - 0s 5ms/step - loss: 0.0407\n",
            "Epoch 17/300\n",
            "18/18 [==============================] - 0s 6ms/step - loss: 0.0305\n",
            "Epoch 18/300\n",
            "18/18 [==============================] - 0s 6ms/step - loss: 0.0324\n",
            "Epoch 19/300\n",
            "18/18 [==============================] - 0s 5ms/step - loss: 0.0463\n",
            "Epoch 20/300\n",
            "18/18 [==============================] - 0s 5ms/step - loss: 0.0309\n",
            "Epoch 21/300\n",
            "18/18 [==============================] - 0s 5ms/step - loss: 0.0400\n",
            "Epoch 22/300\n",
            "18/18 [==============================] - 0s 6ms/step - loss: 0.0360\n",
            "Epoch 23/300\n",
            "18/18 [==============================] - 0s 5ms/step - loss: 0.0313\n",
            "Epoch 24/300\n",
            "18/18 [==============================] - 0s 5ms/step - loss: 0.0392\n",
            "Epoch 25/300\n",
            "18/18 [==============================] - 0s 5ms/step - loss: 0.0460\n",
            "Epoch 26/300\n",
            "18/18 [==============================] - 0s 6ms/step - loss: 0.0479\n",
            "Epoch 27/300\n",
            "18/18 [==============================] - 0s 6ms/step - loss: 0.0408\n",
            "Epoch 28/300\n",
            "18/18 [==============================] - 0s 6ms/step - loss: 0.0535\n",
            "Epoch 29/300\n",
            "18/18 [==============================] - 0s 5ms/step - loss: 0.0643\n",
            "Epoch 30/300\n",
            "18/18 [==============================] - 0s 5ms/step - loss: 0.0352\n",
            "Epoch 31/300\n",
            "18/18 [==============================] - 0s 5ms/step - loss: 0.0338\n",
            "Epoch 32/300\n",
            "18/18 [==============================] - 0s 5ms/step - loss: 0.0324\n",
            "Epoch 33/300\n",
            "18/18 [==============================] - 0s 5ms/step - loss: 0.0434\n",
            "Epoch 34/300\n",
            "18/18 [==============================] - 0s 6ms/step - loss: 0.0346\n",
            "Epoch 35/300\n",
            "18/18 [==============================] - 0s 6ms/step - loss: 0.0312\n",
            "Epoch 36/300\n",
            "18/18 [==============================] - 0s 6ms/step - loss: 0.0347\n",
            "Epoch 37/300\n",
            "18/18 [==============================] - 0s 5ms/step - loss: 0.0326\n",
            "Epoch 38/300\n",
            "18/18 [==============================] - 0s 5ms/step - loss: 0.0376\n",
            "Epoch 39/300\n",
            "18/18 [==============================] - 0s 5ms/step - loss: 0.0487\n"
          ]
        }
      ],
      "source": [
        "model_history = model.train(dataset=ds, num_features=NUM_FEATURES)"
      ]
    },
    {
      "cell_type": "code",
      "execution_count": 119,
      "metadata": {
        "id": "1kTLW4f5E_6w"
      },
      "outputs": [],
      "source": [
        "# Capture stat\n",
        "num_epochs = len(model_history.history['loss'])"
      ]
    },
    {
      "cell_type": "markdown",
      "metadata": {
        "id": "H5yS1dWHUcgY"
      },
      "source": [
        "**Test Predictions**"
      ]
    },
    {
      "cell_type": "code",
      "execution_count": 120,
      "metadata": {
        "id": "YrxYN_g_UcAn",
        "colab": {
          "base_uri": "https://localhost:8080/"
        },
        "outputId": "ccc4434d-cfa2-40f9-a899-9aa6b0cbfbf6"
      },
      "outputs": [
        {
          "output_type": "stream",
          "name": "stdout",
          "text": [
            "Num Exp. Predictions: 111 == 142 - 30\n"
          ]
        }
      ],
      "source": [
        "num_predictions = y_test.shape[0]-INPUT_WINDOW-LABEL_WINDOW\n",
        "print(f'Num Exp. Predictions: {num_predictions} == {y_test.shape[0]} - {INPUT_WINDOW}')\n",
        "\n",
        "preds = []\n",
        "pred_dates = []\n",
        "y_test_vals = []"
      ]
    },
    {
      "cell_type": "code",
      "source": [
        "# Defaults to a single Day\n",
        "STEP_OFFSET = pd.DateOffset()\n",
        "\n",
        "if (STEP_FREQ == 'M'):\n",
        "  STEP_OFFSET = pd.DateOffset(months=1)\n",
        "else:\n",
        "  STEP_OFFSET = pd.DateOffset(years=1)"
      ],
      "metadata": {
        "id": "ki808-aVZPkV"
      },
      "execution_count": 121,
      "outputs": []
    },
    {
      "cell_type": "code",
      "execution_count": 122,
      "metadata": {
        "id": "knoer4_vUtML",
        "colab": {
          "base_uri": "https://localhost:8080/"
        },
        "outputId": "1e9390ae-486d-4257-e1ff-f5e979c5d720"
      },
      "outputs": [
        {
          "output_type": "stream",
          "name": "stdout",
          "text": [
            "Pred range: x_test_tx[0:30]\n",
            "Exp output: y_test[30:31]\n",
            "Pred date: 2006-08-01 00:00:00\n",
            "1/1 [==============================] - 0s 364ms/step\n",
            "## Batch step: (1, 1)\n",
            "## Pred vals: ()\n",
            "17.156532287597656\n",
            "Pred range: x_test_tx[1:31]\n",
            "Exp output: y_test[31:32]\n",
            "Pred date: 2006-09-01 00:00:00\n",
            "1/1 [==============================] - 0s 17ms/step\n",
            "## Batch step: (1, 1)\n",
            "## Pred vals: ()\n",
            "16.459016799926758\n",
            "Pred range: x_test_tx[2:32]\n",
            "Exp output: y_test[32:33]\n",
            "Pred date: 2006-10-01 00:00:00\n",
            "1/1 [==============================] - 0s 23ms/step\n",
            "## Batch step: (1, 1)\n",
            "## Pred vals: ()\n",
            "15.562292098999023\n",
            "Pred range: x_test_tx[3:33]\n",
            "Exp output: y_test[33:34]\n",
            "Pred date: 2006-11-01 00:00:00\n",
            "1/1 [==============================] - 0s 18ms/step\n",
            "## Batch step: (1, 1)\n",
            "## Pred vals: ()\n",
            "14.589967727661133\n",
            "Pred range: x_test_tx[4:34]\n",
            "Exp output: y_test[34:35]\n",
            "Pred date: 2006-12-01 00:00:00\n",
            "1/1 [==============================] - 0s 30ms/step\n",
            "## Batch step: (1, 1)\n",
            "## Pred vals: ()\n",
            "14.011009216308594\n",
            "Pred range: x_test_tx[5:35]\n",
            "Exp output: y_test[35:36]\n",
            "Pred date: 2007-01-01 00:00:00\n",
            "1/1 [==============================] - 0s 22ms/step\n",
            "## Batch step: (1, 1)\n",
            "## Pred vals: ()\n",
            "13.990756034851074\n",
            "Pred range: x_test_tx[6:36]\n",
            "Exp output: y_test[36:37]\n",
            "Pred date: 2007-02-01 00:00:00\n",
            "1/1 [==============================] - 0s 17ms/step\n",
            "## Batch step: (1, 1)\n",
            "## Pred vals: ()\n",
            "14.385437965393066\n",
            "Pred range: x_test_tx[7:37]\n",
            "Exp output: y_test[37:38]\n",
            "Pred date: 2007-03-01 00:00:00\n",
            "1/1 [==============================] - 0s 17ms/step\n",
            "## Batch step: (1, 1)\n",
            "## Pred vals: ()\n",
            "15.044829368591309\n",
            "Pred range: x_test_tx[8:38]\n",
            "Exp output: y_test[38:39]\n",
            "Pred date: 2007-04-01 00:00:00\n",
            "1/1 [==============================] - 0s 21ms/step\n",
            "## Batch step: (1, 1)\n",
            "## Pred vals: ()\n",
            "15.903816223144531\n",
            "Pred range: x_test_tx[9:39]\n",
            "Exp output: y_test[39:40]\n",
            "Pred date: 2007-05-01 00:00:00\n",
            "1/1 [==============================] - 0s 20ms/step\n",
            "## Batch step: (1, 1)\n",
            "## Pred vals: ()\n",
            "16.627155303955078\n",
            "Pred range: x_test_tx[10:40]\n",
            "Exp output: y_test[40:41]\n",
            "Pred date: 2007-06-01 00:00:00\n",
            "1/1 [==============================] - 0s 22ms/step\n",
            "## Batch step: (1, 1)\n",
            "## Pred vals: ()\n",
            "17.18980598449707\n",
            "Pred range: x_test_tx[11:41]\n",
            "Exp output: y_test[41:42]\n",
            "Pred date: 2007-07-01 00:00:00\n",
            "1/1 [==============================] - 0s 18ms/step\n",
            "## Batch step: (1, 1)\n",
            "## Pred vals: ()\n",
            "17.3817138671875\n",
            "Pred range: x_test_tx[12:42]\n",
            "Exp output: y_test[42:43]\n",
            "Pred date: 2007-08-01 00:00:00\n",
            "1/1 [==============================] - 0s 18ms/step\n",
            "## Batch step: (1, 1)\n",
            "## Pred vals: ()\n",
            "17.162090301513672\n",
            "Pred range: x_test_tx[13:43]\n",
            "Exp output: y_test[43:44]\n",
            "Pred date: 2007-09-01 00:00:00\n",
            "1/1 [==============================] - 0s 18ms/step\n",
            "## Batch step: (1, 1)\n",
            "## Pred vals: ()\n",
            "16.462385177612305\n",
            "Pred range: x_test_tx[14:44]\n",
            "Exp output: y_test[44:45]\n",
            "Pred date: 2007-10-01 00:00:00\n",
            "1/1 [==============================] - 0s 22ms/step\n",
            "## Batch step: (1, 1)\n",
            "## Pred vals: ()\n",
            "15.568729400634766\n",
            "Pred range: x_test_tx[15:45]\n",
            "Exp output: y_test[45:46]\n",
            "Pred date: 2007-11-01 00:00:00\n",
            "1/1 [==============================] - 0s 18ms/step\n",
            "## Batch step: (1, 1)\n",
            "## Pred vals: ()\n",
            "14.598664283752441\n",
            "Pred range: x_test_tx[16:46]\n",
            "Exp output: y_test[46:47]\n",
            "Pred date: 2007-12-01 00:00:00\n",
            "1/1 [==============================] - 0s 18ms/step\n",
            "## Batch step: (1, 1)\n",
            "## Pred vals: ()\n",
            "14.019622802734375\n",
            "Pred range: x_test_tx[17:47]\n",
            "Exp output: y_test[47:48]\n",
            "Pred date: 2008-01-01 00:00:00\n",
            "1/1 [==============================] - 0s 18ms/step\n",
            "## Batch step: (1, 1)\n",
            "## Pred vals: ()\n",
            "13.994558334350586\n",
            "Pred range: x_test_tx[18:48]\n",
            "Exp output: y_test[48:49]\n",
            "Pred date: 2008-02-01 00:00:00\n",
            "1/1 [==============================] - 0s 20ms/step\n",
            "## Batch step: (1, 1)\n",
            "## Pred vals: ()\n",
            "14.38709831237793\n",
            "Pred range: x_test_tx[19:49]\n",
            "Exp output: y_test[49:50]\n",
            "Pred date: 2008-03-01 00:00:00\n",
            "1/1 [==============================] - 0s 18ms/step\n",
            "## Batch step: (1, 1)\n",
            "## Pred vals: ()\n",
            "15.032527923583984\n",
            "Pred range: x_test_tx[20:50]\n",
            "Exp output: y_test[50:51]\n",
            "Pred date: 2008-04-01 00:00:00\n",
            "1/1 [==============================] - 0s 19ms/step\n",
            "## Batch step: (1, 1)\n",
            "## Pred vals: ()\n",
            "15.879997253417969\n",
            "Pred range: x_test_tx[21:51]\n",
            "Exp output: y_test[51:52]\n",
            "Pred date: 2008-05-01 00:00:00\n",
            "1/1 [==============================] - 0s 20ms/step\n",
            "## Batch step: (1, 1)\n",
            "## Pred vals: ()\n",
            "16.596900939941406\n",
            "Pred range: x_test_tx[22:52]\n",
            "Exp output: y_test[52:53]\n",
            "Pred date: 2008-06-01 00:00:00\n",
            "1/1 [==============================] - 0s 18ms/step\n",
            "## Batch step: (1, 1)\n",
            "## Pred vals: ()\n",
            "17.15456199645996\n",
            "Pred range: x_test_tx[23:53]\n",
            "Exp output: y_test[53:54]\n",
            "Pred date: 2008-07-01 00:00:00\n",
            "1/1 [==============================] - 0s 21ms/step\n",
            "## Batch step: (1, 1)\n",
            "## Pred vals: ()\n",
            "17.3435115814209\n",
            "Pred range: x_test_tx[24:54]\n",
            "Exp output: y_test[54:55]\n",
            "Pred date: 2008-08-01 00:00:00\n",
            "1/1 [==============================] - 0s 20ms/step\n",
            "## Batch step: (1, 1)\n",
            "## Pred vals: ()\n",
            "17.12453842163086\n",
            "Pred range: x_test_tx[25:55]\n",
            "Exp output: y_test[55:56]\n",
            "Pred date: 2008-09-01 00:00:00\n",
            "1/1 [==============================] - 0s 25ms/step\n",
            "## Batch step: (1, 1)\n",
            "## Pred vals: ()\n",
            "16.430301666259766\n",
            "Pred range: x_test_tx[26:56]\n",
            "Exp output: y_test[56:57]\n",
            "Pred date: 2008-10-01 00:00:00\n",
            "1/1 [==============================] - 0s 18ms/step\n",
            "## Batch step: (1, 1)\n",
            "## Pred vals: ()\n",
            "15.541796684265137\n",
            "Pred range: x_test_tx[27:57]\n",
            "Exp output: y_test[57:58]\n",
            "Pred date: 2008-11-01 00:00:00\n",
            "1/1 [==============================] - 0s 17ms/step\n",
            "## Batch step: (1, 1)\n",
            "## Pred vals: ()\n",
            "14.578052520751953\n",
            "Pred range: x_test_tx[28:58]\n",
            "Exp output: y_test[58:59]\n",
            "Pred date: 2008-12-01 00:00:00\n",
            "1/1 [==============================] - 0s 17ms/step\n",
            "## Batch step: (1, 1)\n",
            "## Pred vals: ()\n",
            "14.013174057006836\n",
            "Pred range: x_test_tx[29:59]\n",
            "Exp output: y_test[59:60]\n",
            "Pred date: 2009-01-01 00:00:00\n",
            "1/1 [==============================] - 0s 17ms/step\n",
            "## Batch step: (1, 1)\n",
            "## Pred vals: ()\n",
            "13.991488456726074\n",
            "Pred range: x_test_tx[30:60]\n",
            "Exp output: y_test[60:61]\n",
            "Pred date: 2009-02-01 00:00:00\n",
            "1/1 [==============================] - 0s 17ms/step\n",
            "## Batch step: (1, 1)\n",
            "## Pred vals: ()\n",
            "14.38853931427002\n",
            "Pred range: x_test_tx[31:61]\n",
            "Exp output: y_test[61:62]\n",
            "Pred date: 2009-03-01 00:00:00\n",
            "1/1 [==============================] - 0s 18ms/step\n",
            "## Batch step: (1, 1)\n",
            "## Pred vals: ()\n",
            "15.035902976989746\n",
            "Pred range: x_test_tx[32:62]\n",
            "Exp output: y_test[62:63]\n",
            "Pred date: 2009-04-01 00:00:00\n",
            "1/1 [==============================] - 0s 17ms/step\n",
            "## Batch step: (1, 1)\n",
            "## Pred vals: ()\n",
            "15.887696266174316\n",
            "Pred range: x_test_tx[33:63]\n",
            "Exp output: y_test[63:64]\n",
            "Pred date: 2009-05-01 00:00:00\n",
            "1/1 [==============================] - 0s 16ms/step\n",
            "## Batch step: (1, 1)\n",
            "## Pred vals: ()\n",
            "16.602243423461914\n",
            "Pred range: x_test_tx[34:64]\n",
            "Exp output: y_test[64:65]\n",
            "Pred date: 2009-06-01 00:00:00\n",
            "1/1 [==============================] - 0s 17ms/step\n",
            "## Batch step: (1, 1)\n",
            "## Pred vals: ()\n",
            "17.1650447845459\n",
            "Pred range: x_test_tx[35:65]\n",
            "Exp output: y_test[65:66]\n",
            "Pred date: 2009-07-01 00:00:00\n",
            "1/1 [==============================] - 0s 22ms/step\n",
            "## Batch step: (1, 1)\n",
            "## Pred vals: ()\n",
            "17.357751846313477\n",
            "Pred range: x_test_tx[36:66]\n",
            "Exp output: y_test[66:67]\n",
            "Pred date: 2009-08-01 00:00:00\n",
            "1/1 [==============================] - 0s 19ms/step\n",
            "## Batch step: (1, 1)\n",
            "## Pred vals: ()\n",
            "17.147098541259766\n",
            "Pred range: x_test_tx[37:67]\n",
            "Exp output: y_test[67:68]\n",
            "Pred date: 2009-09-01 00:00:00\n",
            "1/1 [==============================] - 0s 18ms/step\n",
            "## Batch step: (1, 1)\n",
            "## Pred vals: ()\n",
            "16.44845199584961\n",
            "Pred range: x_test_tx[38:68]\n",
            "Exp output: y_test[68:69]\n",
            "Pred date: 2009-10-01 00:00:00\n",
            "1/1 [==============================] - 0s 20ms/step\n",
            "## Batch step: (1, 1)\n",
            "## Pred vals: ()\n",
            "15.558390617370605\n",
            "Pred range: x_test_tx[39:69]\n",
            "Exp output: y_test[69:70]\n",
            "Pred date: 2009-11-01 00:00:00\n",
            "1/1 [==============================] - 0s 19ms/step\n",
            "## Batch step: (1, 1)\n",
            "## Pred vals: ()\n",
            "14.595431327819824\n",
            "Pred range: x_test_tx[40:70]\n",
            "Exp output: y_test[70:71]\n",
            "Pred date: 2009-12-01 00:00:00\n",
            "1/1 [==============================] - 0s 22ms/step\n",
            "## Batch step: (1, 1)\n",
            "## Pred vals: ()\n",
            "14.021315574645996\n",
            "Pred range: x_test_tx[41:71]\n",
            "Exp output: y_test[71:72]\n",
            "Pred date: 2010-01-01 00:00:00\n",
            "1/1 [==============================] - 0s 17ms/step\n",
            "## Batch step: (1, 1)\n",
            "## Pred vals: ()\n",
            "14.000762939453125\n",
            "Pred range: x_test_tx[42:72]\n",
            "Exp output: y_test[72:73]\n",
            "Pred date: 2010-02-01 00:00:00\n",
            "1/1 [==============================] - 0s 20ms/step\n",
            "## Batch step: (1, 1)\n",
            "## Pred vals: ()\n",
            "14.400713920593262\n",
            "Pred range: x_test_tx[43:73]\n",
            "Exp output: y_test[73:74]\n",
            "Pred date: 2010-03-01 00:00:00\n",
            "1/1 [==============================] - 0s 17ms/step\n",
            "## Batch step: (1, 1)\n",
            "## Pred vals: ()\n",
            "15.046974182128906\n",
            "Pred range: x_test_tx[44:74]\n",
            "Exp output: y_test[74:75]\n",
            "Pred date: 2010-04-01 00:00:00\n",
            "1/1 [==============================] - 0s 19ms/step\n",
            "## Batch step: (1, 1)\n",
            "## Pred vals: ()\n",
            "15.902426719665527\n",
            "Pred range: x_test_tx[45:75]\n",
            "Exp output: y_test[75:76]\n",
            "Pred date: 2010-05-01 00:00:00\n",
            "1/1 [==============================] - 0s 18ms/step\n",
            "## Batch step: (1, 1)\n",
            "## Pred vals: ()\n",
            "16.617984771728516\n",
            "Pred range: x_test_tx[46:76]\n",
            "Exp output: y_test[76:77]\n",
            "Pred date: 2010-06-01 00:00:00\n",
            "1/1 [==============================] - 0s 17ms/step\n",
            "## Batch step: (1, 1)\n",
            "## Pred vals: ()\n",
            "17.18141746520996\n",
            "Pred range: x_test_tx[47:77]\n",
            "Exp output: y_test[77:78]\n",
            "Pred date: 2010-07-01 00:00:00\n",
            "1/1 [==============================] - 0s 21ms/step\n",
            "## Batch step: (1, 1)\n",
            "## Pred vals: ()\n",
            "17.369354248046875\n",
            "Pred range: x_test_tx[48:78]\n",
            "Exp output: y_test[78:79]\n",
            "Pred date: 2010-08-01 00:00:00\n",
            "1/1 [==============================] - 0s 18ms/step\n",
            "## Batch step: (1, 1)\n",
            "## Pred vals: ()\n",
            "17.147403717041016\n",
            "Pred range: x_test_tx[49:79]\n",
            "Exp output: y_test[79:80]\n",
            "Pred date: 2010-09-01 00:00:00\n",
            "1/1 [==============================] - 0s 31ms/step\n",
            "## Batch step: (1, 1)\n",
            "## Pred vals: ()\n",
            "16.445432662963867\n",
            "Pred range: x_test_tx[50:80]\n",
            "Exp output: y_test[80:81]\n",
            "Pred date: 2010-10-01 00:00:00\n",
            "1/1 [==============================] - 0s 42ms/step\n",
            "## Batch step: (1, 1)\n",
            "## Pred vals: ()\n",
            "15.564498901367188\n",
            "Pred range: x_test_tx[51:81]\n",
            "Exp output: y_test[81:82]\n",
            "Pred date: 2010-11-01 00:00:00\n",
            "1/1 [==============================] - 0s 29ms/step\n",
            "## Batch step: (1, 1)\n",
            "## Pred vals: ()\n",
            "14.604564666748047\n",
            "Pred range: x_test_tx[52:82]\n",
            "Exp output: y_test[82:83]\n",
            "Pred date: 2010-12-01 00:00:00\n",
            "1/1 [==============================] - 0s 27ms/step\n",
            "## Batch step: (1, 1)\n",
            "## Pred vals: ()\n",
            "14.031712532043457\n",
            "Pred range: x_test_tx[53:83]\n",
            "Exp output: y_test[83:84]\n",
            "Pred date: 2011-01-01 00:00:00\n",
            "1/1 [==============================] - 0s 27ms/step\n",
            "## Batch step: (1, 1)\n",
            "## Pred vals: ()\n",
            "14.016129493713379\n",
            "Pred range: x_test_tx[54:84]\n",
            "Exp output: y_test[84:85]\n",
            "Pred date: 2011-02-01 00:00:00\n",
            "1/1 [==============================] - 0s 25ms/step\n",
            "## Batch step: (1, 1)\n",
            "## Pred vals: ()\n",
            "14.412132263183594\n",
            "Pred range: x_test_tx[55:85]\n",
            "Exp output: y_test[85:86]\n",
            "Pred date: 2011-03-01 00:00:00\n",
            "1/1 [==============================] - 0s 27ms/step\n",
            "## Batch step: (1, 1)\n",
            "## Pred vals: ()\n",
            "15.047229766845703\n",
            "Pred range: x_test_tx[56:86]\n",
            "Exp output: y_test[86:87]\n",
            "Pred date: 2011-04-01 00:00:00\n",
            "1/1 [==============================] - 0s 28ms/step\n",
            "## Batch step: (1, 1)\n",
            "## Pred vals: ()\n",
            "15.88756275177002\n",
            "Pred range: x_test_tx[57:87]\n",
            "Exp output: y_test[87:88]\n",
            "Pred date: 2011-05-01 00:00:00\n",
            "1/1 [==============================] - 0s 26ms/step\n",
            "## Batch step: (1, 1)\n",
            "## Pred vals: ()\n",
            "16.593486785888672\n",
            "Pred range: x_test_tx[58:88]\n",
            "Exp output: y_test[88:89]\n",
            "Pred date: 2011-06-01 00:00:00\n",
            "1/1 [==============================] - 0s 33ms/step\n",
            "## Batch step: (1, 1)\n",
            "## Pred vals: ()\n",
            "17.14821434020996\n",
            "Pred range: x_test_tx[59:89]\n",
            "Exp output: y_test[89:90]\n",
            "Pred date: 2011-07-01 00:00:00\n",
            "1/1 [==============================] - 0s 26ms/step\n",
            "## Batch step: (1, 1)\n",
            "## Pred vals: ()\n",
            "17.328310012817383\n",
            "Pred range: x_test_tx[60:90]\n",
            "Exp output: y_test[90:91]\n",
            "Pred date: 2011-08-01 00:00:00\n",
            "1/1 [==============================] - 0s 25ms/step\n",
            "## Batch step: (1, 1)\n",
            "## Pred vals: ()\n",
            "17.111921310424805\n",
            "Pred range: x_test_tx[61:91]\n",
            "Exp output: y_test[91:92]\n",
            "Pred date: 2011-09-01 00:00:00\n",
            "1/1 [==============================] - 0s 28ms/step\n",
            "## Batch step: (1, 1)\n",
            "## Pred vals: ()\n",
            "16.410449981689453\n",
            "Pred range: x_test_tx[62:92]\n",
            "Exp output: y_test[92:93]\n",
            "Pred date: 2011-10-01 00:00:00\n",
            "1/1 [==============================] - 0s 26ms/step\n",
            "## Batch step: (1, 1)\n",
            "## Pred vals: ()\n",
            "15.531377792358398\n",
            "Pred range: x_test_tx[63:93]\n",
            "Exp output: y_test[93:94]\n",
            "Pred date: 2011-11-01 00:00:00\n",
            "1/1 [==============================] - 0s 25ms/step\n",
            "## Batch step: (1, 1)\n",
            "## Pred vals: ()\n",
            "14.578487396240234\n",
            "Pred range: x_test_tx[64:94]\n",
            "Exp output: y_test[94:95]\n",
            "Pred date: 2011-12-01 00:00:00\n",
            "1/1 [==============================] - 0s 29ms/step\n",
            "## Batch step: (1, 1)\n",
            "## Pred vals: ()\n",
            "14.023477554321289\n",
            "Pred range: x_test_tx[65:95]\n",
            "Exp output: y_test[95:96]\n",
            "Pred date: 2012-01-01 00:00:00\n",
            "1/1 [==============================] - 0s 29ms/step\n",
            "## Batch step: (1, 1)\n",
            "## Pred vals: ()\n",
            "14.006242752075195\n",
            "Pred range: x_test_tx[66:96]\n",
            "Exp output: y_test[96:97]\n",
            "Pred date: 2012-02-01 00:00:00\n",
            "1/1 [==============================] - 0s 29ms/step\n",
            "## Batch step: (1, 1)\n",
            "## Pred vals: ()\n",
            "14.399394035339355\n",
            "Pred range: x_test_tx[67:97]\n",
            "Exp output: y_test[97:98]\n",
            "Pred date: 2012-03-01 00:00:00\n",
            "1/1 [==============================] - 0s 29ms/step\n",
            "## Batch step: (1, 1)\n",
            "## Pred vals: ()\n",
            "15.035204887390137\n",
            "Pred range: x_test_tx[68:98]\n",
            "Exp output: y_test[98:99]\n",
            "Pred date: 2012-04-01 00:00:00\n",
            "1/1 [==============================] - 0s 28ms/step\n",
            "## Batch step: (1, 1)\n",
            "## Pred vals: ()\n",
            "15.86890697479248\n",
            "Pred range: x_test_tx[69:99]\n",
            "Exp output: y_test[99:100]\n",
            "Pred date: 2012-05-01 00:00:00\n",
            "1/1 [==============================] - 0s 28ms/step\n",
            "## Batch step: (1, 1)\n",
            "## Pred vals: ()\n",
            "16.578588485717773\n",
            "Pred range: x_test_tx[70:100]\n",
            "Exp output: y_test[100:101]\n",
            "Pred date: 2012-06-01 00:00:00\n",
            "1/1 [==============================] - 0s 29ms/step\n",
            "## Batch step: (1, 1)\n",
            "## Pred vals: ()\n",
            "17.137535095214844\n",
            "Pred range: x_test_tx[71:101]\n",
            "Exp output: y_test[101:102]\n",
            "Pred date: 2012-07-01 00:00:00\n",
            "1/1 [==============================] - 0s 32ms/step\n",
            "## Batch step: (1, 1)\n",
            "## Pred vals: ()\n",
            "17.323522567749023\n",
            "Pred range: x_test_tx[72:102]\n",
            "Exp output: y_test[102:103]\n",
            "Pred date: 2012-08-01 00:00:00\n",
            "1/1 [==============================] - 0s 28ms/step\n",
            "## Batch step: (1, 1)\n",
            "## Pred vals: ()\n",
            "17.111608505249023\n",
            "Pred range: x_test_tx[73:103]\n",
            "Exp output: y_test[103:104]\n",
            "Pred date: 2012-09-01 00:00:00\n",
            "1/1 [==============================] - 0s 28ms/step\n",
            "## Batch step: (1, 1)\n",
            "## Pred vals: ()\n",
            "16.412639617919922\n",
            "Pred range: x_test_tx[74:104]\n",
            "Exp output: y_test[104:105]\n",
            "Pred date: 2012-10-01 00:00:00\n",
            "1/1 [==============================] - 0s 26ms/step\n",
            "## Batch step: (1, 1)\n",
            "## Pred vals: ()\n",
            "15.542243003845215\n",
            "Pred range: x_test_tx[75:105]\n",
            "Exp output: y_test[105:106]\n",
            "Pred date: 2012-11-01 00:00:00\n",
            "1/1 [==============================] - 0s 35ms/step\n",
            "## Batch step: (1, 1)\n",
            "## Pred vals: ()\n",
            "14.590073585510254\n",
            "Pred range: x_test_tx[76:106]\n",
            "Exp output: y_test[106:107]\n",
            "Pred date: 2012-12-01 00:00:00\n",
            "1/1 [==============================] - 0s 27ms/step\n",
            "## Batch step: (1, 1)\n",
            "## Pred vals: ()\n",
            "14.030929565429688\n",
            "Pred range: x_test_tx[77:107]\n",
            "Exp output: y_test[107:108]\n",
            "Pred date: 2013-01-01 00:00:00\n",
            "1/1 [==============================] - 0s 27ms/step\n",
            "## Batch step: (1, 1)\n",
            "## Pred vals: ()\n",
            "14.008472442626953\n",
            "Pred range: x_test_tx[78:108]\n",
            "Exp output: y_test[108:109]\n",
            "Pred date: 2013-02-01 00:00:00\n",
            "1/1 [==============================] - 0s 28ms/step\n",
            "## Batch step: (1, 1)\n",
            "## Pred vals: ()\n",
            "14.397574424743652\n",
            "Pred range: x_test_tx[79:109]\n",
            "Exp output: y_test[109:110]\n",
            "Pred date: 2013-03-01 00:00:00\n",
            "1/1 [==============================] - 0s 26ms/step\n",
            "## Batch step: (1, 1)\n",
            "## Pred vals: ()\n",
            "15.029972076416016\n",
            "Pred range: x_test_tx[80:110]\n",
            "Exp output: y_test[110:111]\n",
            "Pred date: 2013-04-01 00:00:00\n",
            "1/1 [==============================] - 0s 29ms/step\n",
            "## Batch step: (1, 1)\n",
            "## Pred vals: ()\n",
            "15.864641189575195\n",
            "Pred range: x_test_tx[81:111]\n",
            "Exp output: y_test[111:112]\n",
            "Pred date: 2013-05-01 00:00:00\n",
            "1/1 [==============================] - 0s 29ms/step\n",
            "## Batch step: (1, 1)\n",
            "## Pred vals: ()\n",
            "16.57976531982422\n",
            "Pred range: x_test_tx[82:112]\n",
            "Exp output: y_test[112:113]\n",
            "Pred date: 2013-06-01 00:00:00\n",
            "1/1 [==============================] - 0s 26ms/step\n",
            "## Batch step: (1, 1)\n",
            "## Pred vals: ()\n",
            "17.142398834228516\n",
            "Pred range: x_test_tx[83:113]\n",
            "Exp output: y_test[113:114]\n",
            "Pred date: 2013-07-01 00:00:00\n",
            "1/1 [==============================] - 0s 29ms/step\n",
            "## Batch step: (1, 1)\n",
            "## Pred vals: ()\n",
            "17.328407287597656\n",
            "Pred range: x_test_tx[84:114]\n",
            "Exp output: y_test[114:115]\n",
            "Pred date: 2013-08-01 00:00:00\n",
            "1/1 [==============================] - 0s 31ms/step\n",
            "## Batch step: (1, 1)\n",
            "## Pred vals: ()\n",
            "17.118144989013672\n",
            "Pred range: x_test_tx[85:115]\n",
            "Exp output: y_test[115:116]\n",
            "Pred date: 2013-09-01 00:00:00\n",
            "1/1 [==============================] - 0s 39ms/step\n",
            "## Batch step: (1, 1)\n",
            "## Pred vals: ()\n",
            "16.415447235107422\n",
            "Pred range: x_test_tx[86:116]\n",
            "Exp output: y_test[116:117]\n",
            "Pred date: 2013-10-01 00:00:00\n",
            "1/1 [==============================] - 0s 27ms/step\n",
            "## Batch step: (1, 1)\n",
            "## Pred vals: ()\n",
            "15.546730995178223\n",
            "Pred range: x_test_tx[87:117]\n",
            "Exp output: y_test[117:118]\n",
            "Pred date: 2013-11-01 00:00:00\n",
            "1/1 [==============================] - 0s 30ms/step\n",
            "## Batch step: (1, 1)\n",
            "## Pred vals: ()\n",
            "14.594576835632324\n",
            "Pred range: x_test_tx[88:118]\n",
            "Exp output: y_test[118:119]\n",
            "Pred date: 2013-12-01 00:00:00\n",
            "1/1 [==============================] - 0s 26ms/step\n",
            "## Batch step: (1, 1)\n",
            "## Pred vals: ()\n",
            "14.035099029541016\n",
            "Pred range: x_test_tx[89:119]\n",
            "Exp output: y_test[119:120]\n",
            "Pred date: 2014-01-01 00:00:00\n",
            "1/1 [==============================] - 0s 27ms/step\n",
            "## Batch step: (1, 1)\n",
            "## Pred vals: ()\n",
            "14.011473655700684\n",
            "Pred range: x_test_tx[90:120]\n",
            "Exp output: y_test[120:121]\n",
            "Pred date: 2014-02-01 00:00:00\n",
            "1/1 [==============================] - 0s 27ms/step\n",
            "## Batch step: (1, 1)\n",
            "## Pred vals: ()\n",
            "14.397701263427734\n",
            "Pred range: x_test_tx[91:121]\n",
            "Exp output: y_test[121:122]\n",
            "Pred date: 2014-03-01 00:00:00\n",
            "1/1 [==============================] - 0s 34ms/step\n",
            "## Batch step: (1, 1)\n",
            "## Pred vals: ()\n",
            "15.026446342468262\n",
            "Pred range: x_test_tx[92:122]\n",
            "Exp output: y_test[122:123]\n",
            "Pred date: 2014-04-01 00:00:00\n",
            "1/1 [==============================] - 0s 24ms/step\n",
            "## Batch step: (1, 1)\n",
            "## Pred vals: ()\n",
            "15.851546287536621\n",
            "Pred range: x_test_tx[93:123]\n",
            "Exp output: y_test[123:124]\n",
            "Pred date: 2014-05-01 00:00:00\n",
            "1/1 [==============================] - 0s 25ms/step\n",
            "## Batch step: (1, 1)\n",
            "## Pred vals: ()\n",
            "16.55974578857422\n",
            "Pred range: x_test_tx[94:124]\n",
            "Exp output: y_test[124:125]\n",
            "Pred date: 2014-06-01 00:00:00\n",
            "1/1 [==============================] - 0s 26ms/step\n",
            "## Batch step: (1, 1)\n",
            "## Pred vals: ()\n",
            "17.11825942993164\n",
            "Pred range: x_test_tx[95:125]\n",
            "Exp output: y_test[125:126]\n",
            "Pred date: 2014-07-01 00:00:00\n",
            "1/1 [==============================] - 0s 26ms/step\n",
            "## Batch step: (1, 1)\n",
            "## Pred vals: ()\n",
            "17.308364868164062\n",
            "Pred range: x_test_tx[96:126]\n",
            "Exp output: y_test[126:127]\n",
            "Pred date: 2014-08-01 00:00:00\n",
            "1/1 [==============================] - 0s 25ms/step\n",
            "## Batch step: (1, 1)\n",
            "## Pred vals: ()\n",
            "17.098873138427734\n",
            "Pred range: x_test_tx[97:127]\n",
            "Exp output: y_test[127:128]\n",
            "Pred date: 2014-09-01 00:00:00\n",
            "1/1 [==============================] - 0s 26ms/step\n",
            "## Batch step: (1, 1)\n",
            "## Pred vals: ()\n",
            "16.40168571472168\n",
            "Pred range: x_test_tx[98:128]\n",
            "Exp output: y_test[128:129]\n",
            "Pred date: 2014-10-01 00:00:00\n",
            "1/1 [==============================] - 0s 29ms/step\n",
            "## Batch step: (1, 1)\n",
            "## Pred vals: ()\n",
            "15.540739059448242\n",
            "Pred range: x_test_tx[99:129]\n",
            "Exp output: y_test[129:130]\n",
            "Pred date: 2014-11-01 00:00:00\n",
            "1/1 [==============================] - 0s 29ms/step\n",
            "## Batch step: (1, 1)\n",
            "## Pred vals: ()\n",
            "14.601491928100586\n",
            "Pred range: x_test_tx[100:130]\n",
            "Exp output: y_test[130:131]\n",
            "Pred date: 2014-12-01 00:00:00\n",
            "1/1 [==============================] - 0s 25ms/step\n",
            "## Batch step: (1, 1)\n",
            "## Pred vals: ()\n",
            "14.045856475830078\n",
            "Pred range: x_test_tx[101:131]\n",
            "Exp output: y_test[131:132]\n",
            "Pred date: 2015-01-01 00:00:00\n",
            "1/1 [==============================] - 0s 30ms/step\n",
            "## Batch step: (1, 1)\n",
            "## Pred vals: ()\n",
            "14.021706581115723\n",
            "Pred range: x_test_tx[102:132]\n",
            "Exp output: y_test[132:133]\n",
            "Pred date: 2015-02-01 00:00:00\n",
            "1/1 [==============================] - 0s 25ms/step\n",
            "## Batch step: (1, 1)\n",
            "## Pred vals: ()\n",
            "14.400793075561523\n",
            "Pred range: x_test_tx[103:133]\n",
            "Exp output: y_test[133:134]\n",
            "Pred date: 2015-03-01 00:00:00\n",
            "1/1 [==============================] - 0s 26ms/step\n",
            "## Batch step: (1, 1)\n",
            "## Pred vals: ()\n",
            "15.02334976196289\n",
            "Pred range: x_test_tx[104:134]\n",
            "Exp output: y_test[134:135]\n",
            "Pred date: 2015-04-01 00:00:00\n",
            "1/1 [==============================] - 0s 27ms/step\n",
            "## Batch step: (1, 1)\n",
            "## Pred vals: ()\n",
            "15.840160369873047\n",
            "Pred range: x_test_tx[105:135]\n",
            "Exp output: y_test[135:136]\n",
            "Pred date: 2015-05-01 00:00:00\n",
            "1/1 [==============================] - 0s 36ms/step\n",
            "## Batch step: (1, 1)\n",
            "## Pred vals: ()\n",
            "16.551969528198242\n",
            "Pred range: x_test_tx[106:136]\n",
            "Exp output: y_test[136:137]\n",
            "Pred date: 2015-06-01 00:00:00\n",
            "1/1 [==============================] - 0s 26ms/step\n",
            "## Batch step: (1, 1)\n",
            "## Pred vals: ()\n",
            "17.10495376586914\n",
            "Pred range: x_test_tx[107:137]\n",
            "Exp output: y_test[137:138]\n",
            "Pred date: 2015-07-01 00:00:00\n",
            "1/1 [==============================] - 0s 28ms/step\n",
            "## Batch step: (1, 1)\n",
            "## Pred vals: ()\n",
            "17.29230308532715\n",
            "Pred range: x_test_tx[108:138]\n",
            "Exp output: y_test[138:139]\n",
            "Pred date: 2015-08-01 00:00:00\n",
            "1/1 [==============================] - 0s 27ms/step\n",
            "## Batch step: (1, 1)\n",
            "## Pred vals: ()\n",
            "17.082509994506836\n",
            "Pred range: x_test_tx[109:139]\n",
            "Exp output: y_test[139:140]\n",
            "Pred date: 2015-09-01 00:00:00\n",
            "1/1 [==============================] - 0s 34ms/step\n",
            "## Batch step: (1, 1)\n",
            "## Pred vals: ()\n",
            "16.391077041625977\n",
            "Pred range: x_test_tx[110:140]\n",
            "Exp output: y_test[140:141]\n",
            "Pred date: 2015-10-01 00:00:00\n",
            "1/1 [==============================] - 0s 32ms/step\n",
            "## Batch step: (1, 1)\n",
            "## Pred vals: ()\n",
            "15.534700393676758\n"
          ]
        }
      ],
      "source": [
        "for p in range(num_predictions):\n",
        "  # Prepare inputs\n",
        "  print(f'Pred range: x_test_tx[{p}:{p+INPUT_WINDOW}]')\n",
        "  X_pred = X_test_tx[p:p+INPUT_WINDOW,:].reshape(-1, INPUT_WINDOW, NUM_FEATURES)\n",
        "\n",
        "  # Prepare outputs\n",
        "  label_start_index = p+INPUT_WINDOW\n",
        "  print(f'Exp output: y_test[{label_start_index}:{label_start_index + LABEL_WINDOW}]')\n",
        "  y_test_vals.append(y_test[label_start_index:label_start_index + LABEL_WINDOW])\n",
        "\n",
        "  if (LABEL_WINDOW == 1):\n",
        "    print(f'Pred date: {df_test.index[label_start_index]}')\n",
        "  else:\n",
        "    print(f'Pred dates: {df_test.index[label_start_index]} + {LABEL_WINDOW-1} steps')\n",
        "\n",
        "  # Predict\n",
        "  batch_preds = model.predict(X_pred)\n",
        "  print(f'## Batch step: {batch_preds.shape}')\n",
        "  if (len(batch_preds.shape) > 2):\n",
        "    #batch_preds = batch_preds[0]\n",
        "    batch_preds = batch_preds.reshape(LABEL_WINDOW, -1)\n",
        "\n",
        "  # Re-Scale\n",
        "  pred_vals = label_scaler.inverse_transform(batch_preds)\n",
        "  # Reduce to single array\n",
        "  pred_vals = np.squeeze(pred_vals)\n",
        "\n",
        "  # if (len(pred_vals.shape) > 1):\n",
        "  #   #pred_vals = pred_vals.reshape(-1)\n",
        "  #   pred_vals = pred_vals.ravel()\n",
        "  print(f'## Pred vals: {pred_vals.shape}\\n{pred_vals}')\n",
        "\n",
        "  if (LABEL_WINDOW == 1):\n",
        "    preds.append(pred_vals.ravel())\n",
        "    pred_dates.append(df_test.index[label_start_index])\n",
        "  else:\n",
        "    # Add one row per label output; we need to increment the date manually\n",
        "    pred_start_date = df_test.index[label_start_index]\n",
        "    step_date = pred_start_date\n",
        "    for val in pred_vals.tolist():\n",
        "      # add current result values\n",
        "      print(f'## val:  type: {type(val)}  value: {val}')\n",
        "      preds.append(val)\n",
        "      pred_dates.append(step_date)\n",
        "      print(f'## Pred: {step_date} {val}')\n",
        "      # move to next step\n",
        "      step_date = (step_date + STEP_OFFSET)"
      ]
    },
    {
      "cell_type": "code",
      "source": [
        "df_all_results = pd.DataFrame({'preds': preds,\n",
        "                               'pred_dates':pred_dates\n",
        "                            })"
      ],
      "metadata": {
        "id": "JyI8KeljHJ7z"
      },
      "execution_count": 123,
      "outputs": []
    },
    {
      "cell_type": "code",
      "source": [
        "# pred_dates are Timestamps....I need a date label col\n",
        "date_labels = df_all_results['pred_dates'].apply(lambda x: x.strftime('%Y-%m-%d')).values"
      ],
      "metadata": {
        "id": "NBV9YD8-0N_-"
      },
      "execution_count": 124,
      "outputs": []
    },
    {
      "cell_type": "code",
      "source": [
        "if (LABEL_WINDOW != SHIFT):\n",
        "  # There is probably overlap of output due to this condition\n",
        "  #   Combine predicted outputs for the same dates\n",
        "  df_results = df_all_results.groupby(['pred_dates']).mean()\n",
        "else:\n",
        "  df_results = df_all_results"
      ],
      "metadata": {
        "id": "Qv1ZGCKyN__R"
      },
      "execution_count": 125,
      "outputs": []
    },
    {
      "cell_type": "code",
      "source": [
        "# Move dates out of column and into index, if it exists\n",
        "if ('pred_dates' in df_results.columns):\n",
        "  df_results.set_index('pred_dates', drop=True, inplace=True)"
      ],
      "metadata": {
        "id": "FTAEO6dJf4iB"
      },
      "execution_count": 126,
      "outputs": []
    },
    {
      "cell_type": "code",
      "source": [
        "# Reduce df_test to just the columns and dates necessary\n",
        "df_y = df_retain(df_test, TARGET_LABELS)\n",
        "df_y = df_y[df_results.index.min():df_results.index.max()]"
      ],
      "metadata": {
        "id": "WQpo2OcwM4Le"
      },
      "execution_count": 127,
      "outputs": []
    },
    {
      "cell_type": "code",
      "source": [
        "# And merge y values into preds\n",
        "df_results = df_y.merge(df_results, how='inner', left_index=True, right_index=True, suffixes=['', '_dft'])\n",
        "df_results = df_results.rename({TARGET_LABEL:'y_test'}, axis=1)"
      ],
      "metadata": {
        "id": "I3SOD24PO9k4"
      },
      "execution_count": 128,
      "outputs": []
    },
    {
      "cell_type": "code",
      "source": [
        "# Finally, we have to reduce to a simple index to make the graphing work nicely\n",
        "df_results.reset_index(inplace=True, drop=True)"
      ],
      "metadata": {
        "id": "vOniUb9tRWkI"
      },
      "execution_count": 129,
      "outputs": []
    },
    {
      "cell_type": "code",
      "source": [
        "df_results"
      ],
      "metadata": {
        "colab": {
          "base_uri": "https://localhost:8080/",
          "height": 424
        },
        "id": "fB3QHPV4_7dB",
        "outputId": "736a94a2-c872-48c0-fe10-f60d8baceaa5"
      },
      "execution_count": 130,
      "outputs": [
        {
          "output_type": "execute_result",
          "data": {
            "text/plain": [
              "     y_test        preds\n",
              "0    17.479  [17.156532]\n",
              "1    16.792  [16.459017]\n",
              "2    15.935  [15.562292]\n",
              "3    14.931  [14.589968]\n",
              "4    14.407  [14.011009]\n",
              "..      ...          ...\n",
              "106  17.390  [17.104954]\n",
              "107  17.611  [17.292303]\n",
              "108  17.589   [17.08251]\n",
              "109  17.049  [16.391077]\n",
              "110  16.290    [15.5347]\n",
              "\n",
              "[111 rows x 2 columns]"
            ],
            "text/html": [
              "\n",
              "  <div id=\"df-136c022b-7629-422d-b6b5-32d5fd0e9523\" class=\"colab-df-container\">\n",
              "    <div>\n",
              "<style scoped>\n",
              "    .dataframe tbody tr th:only-of-type {\n",
              "        vertical-align: middle;\n",
              "    }\n",
              "\n",
              "    .dataframe tbody tr th {\n",
              "        vertical-align: top;\n",
              "    }\n",
              "\n",
              "    .dataframe thead th {\n",
              "        text-align: right;\n",
              "    }\n",
              "</style>\n",
              "<table border=\"1\" class=\"dataframe\">\n",
              "  <thead>\n",
              "    <tr style=\"text-align: right;\">\n",
              "      <th></th>\n",
              "      <th>y_test</th>\n",
              "      <th>preds</th>\n",
              "    </tr>\n",
              "  </thead>\n",
              "  <tbody>\n",
              "    <tr>\n",
              "      <th>0</th>\n",
              "      <td>17.479</td>\n",
              "      <td>[17.156532]</td>\n",
              "    </tr>\n",
              "    <tr>\n",
              "      <th>1</th>\n",
              "      <td>16.792</td>\n",
              "      <td>[16.459017]</td>\n",
              "    </tr>\n",
              "    <tr>\n",
              "      <th>2</th>\n",
              "      <td>15.935</td>\n",
              "      <td>[15.562292]</td>\n",
              "    </tr>\n",
              "    <tr>\n",
              "      <th>3</th>\n",
              "      <td>14.931</td>\n",
              "      <td>[14.589968]</td>\n",
              "    </tr>\n",
              "    <tr>\n",
              "      <th>4</th>\n",
              "      <td>14.407</td>\n",
              "      <td>[14.011009]</td>\n",
              "    </tr>\n",
              "    <tr>\n",
              "      <th>...</th>\n",
              "      <td>...</td>\n",
              "      <td>...</td>\n",
              "    </tr>\n",
              "    <tr>\n",
              "      <th>106</th>\n",
              "      <td>17.390</td>\n",
              "      <td>[17.104954]</td>\n",
              "    </tr>\n",
              "    <tr>\n",
              "      <th>107</th>\n",
              "      <td>17.611</td>\n",
              "      <td>[17.292303]</td>\n",
              "    </tr>\n",
              "    <tr>\n",
              "      <th>108</th>\n",
              "      <td>17.589</td>\n",
              "      <td>[17.08251]</td>\n",
              "    </tr>\n",
              "    <tr>\n",
              "      <th>109</th>\n",
              "      <td>17.049</td>\n",
              "      <td>[16.391077]</td>\n",
              "    </tr>\n",
              "    <tr>\n",
              "      <th>110</th>\n",
              "      <td>16.290</td>\n",
              "      <td>[15.5347]</td>\n",
              "    </tr>\n",
              "  </tbody>\n",
              "</table>\n",
              "<p>111 rows × 2 columns</p>\n",
              "</div>\n",
              "    <div class=\"colab-df-buttons\">\n",
              "\n",
              "  <div class=\"colab-df-container\">\n",
              "    <button class=\"colab-df-convert\" onclick=\"convertToInteractive('df-136c022b-7629-422d-b6b5-32d5fd0e9523')\"\n",
              "            title=\"Convert this dataframe to an interactive table.\"\n",
              "            style=\"display:none;\">\n",
              "\n",
              "  <svg xmlns=\"http://www.w3.org/2000/svg\" height=\"24px\" viewBox=\"0 -960 960 960\">\n",
              "    <path d=\"M120-120v-720h720v720H120Zm60-500h600v-160H180v160Zm220 220h160v-160H400v160Zm0 220h160v-160H400v160ZM180-400h160v-160H180v160Zm440 0h160v-160H620v160ZM180-180h160v-160H180v160Zm440 0h160v-160H620v160Z\"/>\n",
              "  </svg>\n",
              "    </button>\n",
              "\n",
              "  <style>\n",
              "    .colab-df-container {\n",
              "      display:flex;\n",
              "      gap: 12px;\n",
              "    }\n",
              "\n",
              "    .colab-df-convert {\n",
              "      background-color: #E8F0FE;\n",
              "      border: none;\n",
              "      border-radius: 50%;\n",
              "      cursor: pointer;\n",
              "      display: none;\n",
              "      fill: #1967D2;\n",
              "      height: 32px;\n",
              "      padding: 0 0 0 0;\n",
              "      width: 32px;\n",
              "    }\n",
              "\n",
              "    .colab-df-convert:hover {\n",
              "      background-color: #E2EBFA;\n",
              "      box-shadow: 0px 1px 2px rgba(60, 64, 67, 0.3), 0px 1px 3px 1px rgba(60, 64, 67, 0.15);\n",
              "      fill: #174EA6;\n",
              "    }\n",
              "\n",
              "    .colab-df-buttons div {\n",
              "      margin-bottom: 4px;\n",
              "    }\n",
              "\n",
              "    [theme=dark] .colab-df-convert {\n",
              "      background-color: #3B4455;\n",
              "      fill: #D2E3FC;\n",
              "    }\n",
              "\n",
              "    [theme=dark] .colab-df-convert:hover {\n",
              "      background-color: #434B5C;\n",
              "      box-shadow: 0px 1px 3px 1px rgba(0, 0, 0, 0.15);\n",
              "      filter: drop-shadow(0px 1px 2px rgba(0, 0, 0, 0.3));\n",
              "      fill: #FFFFFF;\n",
              "    }\n",
              "  </style>\n",
              "\n",
              "    <script>\n",
              "      const buttonEl =\n",
              "        document.querySelector('#df-136c022b-7629-422d-b6b5-32d5fd0e9523 button.colab-df-convert');\n",
              "      buttonEl.style.display =\n",
              "        google.colab.kernel.accessAllowed ? 'block' : 'none';\n",
              "\n",
              "      async function convertToInteractive(key) {\n",
              "        const element = document.querySelector('#df-136c022b-7629-422d-b6b5-32d5fd0e9523');\n",
              "        const dataTable =\n",
              "          await google.colab.kernel.invokeFunction('convertToInteractive',\n",
              "                                                    [key], {});\n",
              "        if (!dataTable) return;\n",
              "\n",
              "        const docLinkHtml = 'Like what you see? Visit the ' +\n",
              "          '<a target=\"_blank\" href=https://colab.research.google.com/notebooks/data_table.ipynb>data table notebook</a>'\n",
              "          + ' to learn more about interactive tables.';\n",
              "        element.innerHTML = '';\n",
              "        dataTable['output_type'] = 'display_data';\n",
              "        await google.colab.output.renderOutput(dataTable, element);\n",
              "        const docLink = document.createElement('div');\n",
              "        docLink.innerHTML = docLinkHtml;\n",
              "        element.appendChild(docLink);\n",
              "      }\n",
              "    </script>\n",
              "  </div>\n",
              "\n",
              "\n",
              "<div id=\"df-d2ace5ec-5cea-4835-8db4-3f8502201381\">\n",
              "  <button class=\"colab-df-quickchart\" onclick=\"quickchart('df-d2ace5ec-5cea-4835-8db4-3f8502201381')\"\n",
              "            title=\"Suggest charts\"\n",
              "            style=\"display:none;\">\n",
              "\n",
              "<svg xmlns=\"http://www.w3.org/2000/svg\" height=\"24px\"viewBox=\"0 0 24 24\"\n",
              "     width=\"24px\">\n",
              "    <g>\n",
              "        <path d=\"M19 3H5c-1.1 0-2 .9-2 2v14c0 1.1.9 2 2 2h14c1.1 0 2-.9 2-2V5c0-1.1-.9-2-2-2zM9 17H7v-7h2v7zm4 0h-2V7h2v10zm4 0h-2v-4h2v4z\"/>\n",
              "    </g>\n",
              "</svg>\n",
              "  </button>\n",
              "\n",
              "<style>\n",
              "  .colab-df-quickchart {\n",
              "      --bg-color: #E8F0FE;\n",
              "      --fill-color: #1967D2;\n",
              "      --hover-bg-color: #E2EBFA;\n",
              "      --hover-fill-color: #174EA6;\n",
              "      --disabled-fill-color: #AAA;\n",
              "      --disabled-bg-color: #DDD;\n",
              "  }\n",
              "\n",
              "  [theme=dark] .colab-df-quickchart {\n",
              "      --bg-color: #3B4455;\n",
              "      --fill-color: #D2E3FC;\n",
              "      --hover-bg-color: #434B5C;\n",
              "      --hover-fill-color: #FFFFFF;\n",
              "      --disabled-bg-color: #3B4455;\n",
              "      --disabled-fill-color: #666;\n",
              "  }\n",
              "\n",
              "  .colab-df-quickchart {\n",
              "    background-color: var(--bg-color);\n",
              "    border: none;\n",
              "    border-radius: 50%;\n",
              "    cursor: pointer;\n",
              "    display: none;\n",
              "    fill: var(--fill-color);\n",
              "    height: 32px;\n",
              "    padding: 0;\n",
              "    width: 32px;\n",
              "  }\n",
              "\n",
              "  .colab-df-quickchart:hover {\n",
              "    background-color: var(--hover-bg-color);\n",
              "    box-shadow: 0 1px 2px rgba(60, 64, 67, 0.3), 0 1px 3px 1px rgba(60, 64, 67, 0.15);\n",
              "    fill: var(--button-hover-fill-color);\n",
              "  }\n",
              "\n",
              "  .colab-df-quickchart-complete:disabled,\n",
              "  .colab-df-quickchart-complete:disabled:hover {\n",
              "    background-color: var(--disabled-bg-color);\n",
              "    fill: var(--disabled-fill-color);\n",
              "    box-shadow: none;\n",
              "  }\n",
              "\n",
              "  .colab-df-spinner {\n",
              "    border: 2px solid var(--fill-color);\n",
              "    border-color: transparent;\n",
              "    border-bottom-color: var(--fill-color);\n",
              "    animation:\n",
              "      spin 1s steps(1) infinite;\n",
              "  }\n",
              "\n",
              "  @keyframes spin {\n",
              "    0% {\n",
              "      border-color: transparent;\n",
              "      border-bottom-color: var(--fill-color);\n",
              "      border-left-color: var(--fill-color);\n",
              "    }\n",
              "    20% {\n",
              "      border-color: transparent;\n",
              "      border-left-color: var(--fill-color);\n",
              "      border-top-color: var(--fill-color);\n",
              "    }\n",
              "    30% {\n",
              "      border-color: transparent;\n",
              "      border-left-color: var(--fill-color);\n",
              "      border-top-color: var(--fill-color);\n",
              "      border-right-color: var(--fill-color);\n",
              "    }\n",
              "    40% {\n",
              "      border-color: transparent;\n",
              "      border-right-color: var(--fill-color);\n",
              "      border-top-color: var(--fill-color);\n",
              "    }\n",
              "    60% {\n",
              "      border-color: transparent;\n",
              "      border-right-color: var(--fill-color);\n",
              "    }\n",
              "    80% {\n",
              "      border-color: transparent;\n",
              "      border-right-color: var(--fill-color);\n",
              "      border-bottom-color: var(--fill-color);\n",
              "    }\n",
              "    90% {\n",
              "      border-color: transparent;\n",
              "      border-bottom-color: var(--fill-color);\n",
              "    }\n",
              "  }\n",
              "</style>\n",
              "\n",
              "  <script>\n",
              "    async function quickchart(key) {\n",
              "      const quickchartButtonEl =\n",
              "        document.querySelector('#' + key + ' button');\n",
              "      quickchartButtonEl.disabled = true;  // To prevent multiple clicks.\n",
              "      quickchartButtonEl.classList.add('colab-df-spinner');\n",
              "      try {\n",
              "        const charts = await google.colab.kernel.invokeFunction(\n",
              "            'suggestCharts', [key], {});\n",
              "      } catch (error) {\n",
              "        console.error('Error during call to suggestCharts:', error);\n",
              "      }\n",
              "      quickchartButtonEl.classList.remove('colab-df-spinner');\n",
              "      quickchartButtonEl.classList.add('colab-df-quickchart-complete');\n",
              "    }\n",
              "    (() => {\n",
              "      let quickchartButtonEl =\n",
              "        document.querySelector('#df-d2ace5ec-5cea-4835-8db4-3f8502201381 button');\n",
              "      quickchartButtonEl.style.display =\n",
              "        google.colab.kernel.accessAllowed ? 'block' : 'none';\n",
              "    })();\n",
              "  </script>\n",
              "</div>\n",
              "    </div>\n",
              "  </div>\n"
            ]
          },
          "metadata": {},
          "execution_count": 130
        }
      ]
    },
    {
      "cell_type": "markdown",
      "metadata": {
        "id": "N7yNDPRGpMmN"
      },
      "source": [
        "**Analyze results**"
      ]
    },
    {
      "cell_type": "code",
      "source": [
        "# Plot results\n",
        "# max points - default to full set\n",
        "TICK_SPACING=6\n",
        "fig, ax = plt.subplots(figsize=(12,4), layout=\"constrained\")\n",
        "sns.lineplot(data=df_results, ax=ax)\n",
        "ax.set_xticks(df_results.index, labels=date_labels, rotation=90)\n",
        "ax.xaxis.set_major_locator(plticker.MultipleLocator(TICK_SPACING))\n",
        "plt.xlabel('Time steps')\n",
        "plt.ylabel('Temp in degrees C')\n",
        "plt.legend(('Test','Predicted'))"
      ],
      "metadata": {
        "id": "5dYWH70a0gip",
        "colab": {
          "base_uri": "https://localhost:8080/",
          "height": 445
        },
        "outputId": "63296f6c-fc46-4044-b247-c25e264a61dd"
      },
      "execution_count": 131,
      "outputs": [
        {
          "output_type": "execute_result",
          "data": {
            "text/plain": [
              "<matplotlib.legend.Legend at 0x7a1750c0fee0>"
            ]
          },
          "metadata": {},
          "execution_count": 131
        },
        {
          "output_type": "display_data",
          "data": {
            "text/plain": [
              "<Figure size 1200x400 with 1 Axes>"
            ],
            "image/png": "[encoded data removed]"
          },
          "metadata": {}
        }
      ]
    },
    {
      "cell_type": "markdown",
      "source": [
        "**Error Calculations**"
      ],
      "metadata": {
        "id": "Ca4l5STujJCn"
      }
    },
    {
      "cell_type": "code",
      "execution_count": 132,
      "metadata": {
        "id": "9Uj01JT-8WNF"
      },
      "outputs": [],
      "source": [
        "from sklearn.metrics import mean_squared_error, mean_absolute_error"
      ]
    },
    {
      "cell_type": "code",
      "source": [
        "f"
      ],
      "metadata": {
        "id": "yG_0X9NWRxgc"
      },
      "execution_count": 133,
      "outputs": []
    },
    {
      "cell_type": "code",
      "source": [
        "# y_test_vals = y_test_vals.reshape(y_test_vals.shape[0],1)\n",
        "# preds = preds.reshape(preds.shape[0],1)\n",
        "# y_test_vals.shape, preds.shape"
      ],
      "metadata": {
        "id": "dQKa1_CezJaQ"
      },
      "execution_count": 141,
      "outputs": []
    },
    {
      "cell_type": "code",
      "execution_count": 146,
      "metadata": {
        "id": "iPFE2TUKwnF1",
        "colab": {
          "base_uri": "https://localhost:8080/"
        },
        "outputId": "5f755016-fe46-4180-9ff8-36750f5e8f25"
      },
      "outputs": [
        {
          "output_type": "stream",
          "name": "stdout",
          "text": [
            "ValueError calculating MAPE: Failed to convert a NumPy array to a Tensor (Unsupported object type numpy.ndarray).\n"
          ]
        }
      ],
      "source": [
        "# Calculate MAPE\n",
        "m = tf.keras.metrics.MeanAbsolutePercentageError()\n",
        "try:\n",
        "  m.update_state(y_test_vals, preds)\n",
        "except ValueError as ve:\n",
        "  print(f'ValueError calculating MAPE: {ve}')"
      ]
    },
    {
      "cell_type": "code",
      "execution_count": 136,
      "metadata": {
        "id": "Z66uS5aMacyy"
      },
      "outputs": [],
      "source": [
        "mse = mean_squared_error(y_test_vals, preds)\n",
        "mae = mean_absolute_error(y_test_vals, preds)\n",
        "mape = m.result().numpy()/100  # adjust Keras output to match scikit\n",
        "from sklearn.metrics import mean_absolute_percentage_error\n",
        "sk_mape = mean_absolute_percentage_error(y_test_vals, preds)"
      ]
    },
    {
      "cell_type": "code",
      "execution_count": 137,
      "metadata": {
        "id": "ZdQK5chGijgn",
        "colab": {
          "base_uri": "https://localhost:8080/"
        },
        "outputId": "ecab2905-610e-4327-f78b-82bcb7f27cff"
      },
      "outputs": [
        {
          "output_type": "stream",
          "name": "stdout",
          "text": [
            "MSE: 0.07519701198509907\n",
            "MAE: 0.229042870255204\n",
            "MAPE: 0.0\n",
            "SKMAPE: 0.014416527219144088\n"
          ]
        }
      ],
      "source": [
        "print(f'MSE: {mse}')\n",
        "print(f'MAE: {mae}')\n",
        "print(f'MAPE: {mape}')\n",
        "print(f'SKMAPE: {sk_mape}')"
      ]
    },
    {
      "cell_type": "markdown",
      "metadata": {
        "id": "odWgmHk5pRC4"
      },
      "source": [
        "**Journal entry**"
      ]
    },
    {
      "cell_type": "code",
      "execution_count": null,
      "metadata": {
        "id": "i3rlp9FeDUhi"
      },
      "outputs": [],
      "source": [
        "import csv"
      ]
    },
    {
      "cell_type": "code",
      "execution_count": null,
      "metadata": {
        "id": "KdIoDJF9YlMG"
      },
      "outputs": [],
      "source": [
        "def current_time_ms():\n",
        "  return dt.now().microsecond"
      ]
    },
    {
      "cell_type": "code",
      "execution_count": null,
      "metadata": {
        "id": "SGm4QBQpZXSF"
      },
      "outputs": [],
      "source": [
        "serial = current_time_ms()"
      ]
    },
    {
      "cell_type": "code",
      "execution_count": null,
      "metadata": {
        "id": "Z_QlRgKLYiSA"
      },
      "outputs": [],
      "source": [
        "# write pred results out\n",
        "df_results.to_csv(LOG_PATH +  f'model-preds-{serial}.csv', index_label='index')"
      ]
    },
    {
      "cell_type": "code",
      "source": [
        "# Save model\n",
        "model.save_model(LOG_PATH, serial)"
      ],
      "metadata": {
        "id": "5EneIZh5mdAe"
      },
      "execution_count": null,
      "outputs": []
    },
    {
      "cell_type": "code",
      "execution_count": null,
      "metadata": {
        "id": "kxKzL00kBafg"
      },
      "outputs": [],
      "source": [
        "with open(JOURNAL_LOG, 'a') as csvfile:\n",
        "  writer = csv.writer(csvfile)\n",
        "  #writer.writerow(['DateTime','Serial','Model','TargetLabel','NumFeatures','WindowSize','TestPct','NumEpochs','MSE','MAE','MAPE','SKMAPE','Columns'])\n",
        "  writer.writerow([dt.today().strftime(\"%Y%m%d-%H%M\"),serial,MODEL_NAME,TARGET_LABEL,NUM_FEATURES,INPUT_WINDOW,TEST_RATIO,num_epochs,mse,mae,mape,sk_mape,COLS])"
      ]
    },
    {
      "cell_type": "code",
      "source": [],
      "metadata": {
        "id": "JNmcLYhwR-wb"
      },
      "execution_count": null,
      "outputs": []
    }
  ],
  "metadata": {
    "accelerator": "GPU",
    "colab": {
      "provenance": []
    },
    "kernelspec": {
      "display_name": "Python 3",
      "name": "python3"
    },
    "language_info": {
      "name": "python"
    }
  },
  "nbformat": 4,
  "nbformat_minor": 0
}
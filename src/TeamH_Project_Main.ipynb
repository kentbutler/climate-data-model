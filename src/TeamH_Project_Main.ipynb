{
  "cells": [
    {
      "cell_type": "markdown",
      "metadata": {
        "id": "om0kO_8Wjrdp"
      },
      "source": [
        "## Data606 - Capstone Project\n",
        "```\n",
        "Group H\n",
        "Malav Patel, Kent Butler\n",
        "Prof. Unal Sokaglu\n",
        "```"
      ]
    },
    {
      "cell_type": "markdown",
      "metadata": {
        "id": "wi36j3siBTJw"
      },
      "source": [
        "This project is about performing time-series analysis on climate data analysis data.\n",
        "\n"
      ]
    },
    {
      "cell_type": "markdown",
      "metadata": {
        "id": "ITMtlPsgRtyw"
      },
      "source": [
        "# Research"
      ]
    },
    {
      "cell_type": "markdown",
      "metadata": {
        "id": "wPKxbg_slFF8"
      },
      "source": [
        "### References"
      ]
    },
    {
      "cell_type": "markdown",
      "metadata": {
        "id": "PoW6sjUCRvt_"
      },
      "source": [
        "Some explanations of earth sciences statistics:\n",
        "https://pjbartlein.github.io/REarthSysSci/ltms-and-anomalies.html\n",
        "\n",
        "NOAA PSL NCEP-NCAR datasets:  https://psl.noaa.gov/data/gridded/data.ncep.reanalysis.html\n",
        "\n",
        "NOAA PSL, other recognized data sources directory: https://psl.noaa.gov/data/help/othersources/\n",
        "\n",
        "Global environmental policy timeline, https://www.boell.de/en/2022/05/28/international-environmental-policy-timeline\n",
        "\n",
        "OECD convergence of policy, climate,and economy: https://www.oecd.org/\n",
        "\n",
        "NASA climate time machine: https://climate.nasa.gov/interactives/climate-time-machine"
      ]
    },
    {
      "cell_type": "markdown",
      "metadata": {
        "id": "o8PeuAHRlHPh"
      },
      "source": [
        "### Factoids"
      ]
    },
    {
      "cell_type": "markdown",
      "metadata": {
        "id": "WYSxM-qHlJck"
      },
      "source": [
        "* All of the plastic waste produced in the world in 2019 alone weighs as much as 35,000 Eiffel Towers – 353 million tons  - [*Organization for Economic Cooperation and Development (OECD)*](https://www.boell.de/en/2022/05/28/international-environmental-policy-timeline)\n",
        "\n"
      ]
    },
    {
      "cell_type": "markdown",
      "metadata": {
        "id": "hv3TRSF9pQXW"
      },
      "source": [
        "## Application Parameters\n",
        "\n",
        "Note: algorithm tuning is done with declaration of the model."
      ]
    },
    {
      "cell_type": "code",
      "execution_count": null,
      "metadata": {
        "id": "WWu_MYu0lkNC"
      },
      "outputs": [],
      "source": [
        "import pandas as pd\n",
        "from datetime import datetime as dt\n",
        "import datetime"
      ]
    },
    {
      "cell_type": "code",
      "execution_count": null,
      "metadata": {
        "id": "--Xazpo9sqfa"
      },
      "outputs": [],
      "source": [
        "debug = True\n",
        "\n",
        "DRIVE_PATH = \"/content/drive/MyDrive/data606\"\n",
        "\n",
        "# Set the location of this script in GDrive\n",
        "SCRIPT_PATH = DRIVE_PATH + \"/src/\"\n",
        "\n",
        "# Root Path of the data on the cloud drive\n",
        "DATA_ROOT = DRIVE_PATH + \"/data/\"\n",
        "\n",
        "# Model to use\n",
        "MODEL_NAME = \"LSTMv2\"\n",
        "\n",
        "# Location of logged output prediction data\n",
        "LOG_PATH = DATA_ROOT + \"/preds/\"\n",
        "\n",
        "# Journal file\n",
        "JOURNAL_LOG = SCRIPT_PATH + \"cv-results.csv\"\n",
        "\n",
        "# Number of samples to work with - will be split  into train/test\n",
        "SAMPLE_SIZE = 5000\n",
        "\n",
        "# Device to run on\n",
        "run_on_device =  'cpu' # 'cuda'\n",
        "\n",
        "# Start including data from this date\n",
        "START_DATE =  pd.to_datetime(dt.fromisoformat('1950-01-01'))\n",
        "# Stop including data after this date\n",
        "END_DATE = pd.to_datetime(dt.fromisoformat('2015-12-01'))"
      ]
    },
    {
      "cell_type": "markdown",
      "metadata": {
        "id": "MDnCzDVoM0ZE"
      },
      "source": [
        "---\n",
        "\n",
        "**Model Configuration**\n",
        "\n",
        "---"
      ]
    },
    {
      "cell_type": "markdown",
      "metadata": {
        "id": "Kob9csPpacYW"
      },
      "source": [
        "**Basic model params**"
      ]
    },
    {
      "cell_type": "code",
      "execution_count": null,
      "metadata": {
        "id": "CQUwsc3HcQKn"
      },
      "outputs": [],
      "source": [
        "# History lookback in network\n",
        "INPUT_WINDOW = 30\n",
        "# How far forward to predict\n",
        "LABEL_WINDOW = 1\n",
        "# Ratio of test data to train data - used for split\n",
        "TEST_RATIO = 0.2\n",
        "# 0..1 percent of data to use as validation\n",
        "VALIDATION_RATIO = 0.1\n",
        "# Num epochs\n",
        "NUM_EPOCHS = 30"
      ]
    },
    {
      "cell_type": "markdown",
      "metadata": {
        "id": "wwCzMksgGfi6"
      },
      "source": [
        "**Configure Predictions**"
      ]
    },
    {
      "cell_type": "code",
      "execution_count": null,
      "metadata": {
        "id": "Ajo1I7UQGfDN"
      },
      "outputs": [],
      "source": [
        "# Label to predict\n",
        "TARGET_LABEL = 'landSeaAvgTemp'\n",
        "\n",
        "# Base dataset\n",
        "TEMP_DATA = {'filename':'GlobalTemperatures.csv',\n",
        "             'feature_map':{'LandAndOceanAverageTemperature':'landSeaAvgTemp'},\n",
        "             'date_col':'dt'}\n",
        "#TEMP_DATA = {'filename':'GlobalTemperatures.csv',\n",
        "#              'feature_map':{'LandAverageTemperature':'landAvgTemp',\t'LandMaxTemperature':'landMaxTemp',\t'LandMinTemperature':'landMinTemp',\t'LandAndOceanAverageTemperature':'landSeaAvgTemp'},\n",
        "#               'date_col':'dt'}\n",
        "\n",
        "\n",
        "# Datasets\n",
        "CO2_DATA = {'filename':\"atmospheric-co2.csv\",\n",
        "            'feature_map':{'Carbon Dioxide (ppm)':'co2', 'Seasonally Adjusted CO2 (ppm)':'co2_seas'},\n",
        "            'date_map':{'Year':'year','Month':'month'}}\n",
        "\n",
        "SEAICE_DATA = {'filename':\"seaice.csv\",\n",
        "               'feature_map':{'     Extent':'ice_extent','    Missing':'ice_missing'},\n",
        "               'date_map':{' Month':'month','Year':'year',' Day':'day'}}\n",
        "\n",
        "WEATHER_DATA = {'filename':\"finalDatasetWithRain.csv\",\n",
        "                'feature_map':{'air_x':'air_x','air_y':'air_y','uwnd':'uwnd'},\n",
        "                'date_col':'time'}\n",
        "\n",
        "VOLCANO_DATA = {'filename':'eruptions-conditioned.csv',\n",
        "                'feature_map':{'vei':'volcanic_idx'},\n",
        "                'date_map':{'start_year':'year','start_month':'month'}}\n",
        "\n",
        "FOREST_DATA = {'filename':'WorldForestCover.csv',\n",
        "               'feature_map':{'PctCover':'pct_forest_cover'},\n",
        "               'date_map':{'Year':'year'}}\n",
        "\n",
        "SUNSPOT_DATA = {'filename':'sunspotnumber.csv',\n",
        "               'feature_map':{'suns_spot_number':'sunspot_num'},\n",
        "               'date_map':{'year':'year'}}\n",
        "\n",
        "POLICY_DATA = {'filename':'GlobalEnvPolicies.csv',\n",
        "               'feature_map':{'EventRating':'policy_rate'},\n",
        "               'date_col':'date'}\n",
        "\n",
        "#GHG_DATA = {'filename':'greenhouse_gas_inventory_data.csv',\n",
        "#            'feature_map':{''},\n",
        "#            'date_map':{'Year':'year'}}\n",
        "#ALL_DATASETS = []\n",
        "#ALL_DATASETS = [SUNSPOT_DATA]\n",
        "ALL_DATASETS = [FOREST_DATA]\n",
        "#ALL_DATASETS = [CO2_DATA, SEAICE_DATA]\n",
        "#ALL_DATASETS = [CO2_DATA, SEAICE_DATA, WEATHER_DATA]\n",
        "#ALL_DATASETS = [CO2_DATA, SEAICE_DATA, VOLCANO_DATA]\n",
        "#ALL_DATASETS = [CO2_DATA, SEAICE_DATA, WEATHER_DATA, VOLCANO_DATA]\n",
        "#ALL_DATASETS = [CO2_DATA, SEAICE_DATA, WEATHER_DATA, VOLCANO_DATA, FOREST_DATA]\n",
        "#ALL_DATASETS = [CO2_DATA, SEAICE_DATA, WEATHER_DATA, VOLCANO_DATA, FOREST_DATA, SUNSPOT_DATA]\n",
        "#ALL_DATASETS = [VOLCANO_DATA, FOREST_DATA, SUNSPOT_DATA]\n",
        "#ALL_DATASETS = [VOLCANO_DATA, FOREST_DATA, SUNSPOT_DATA, CO2_DATA]\n",
        "#ALL_DATASETS = [VOLCANO_DATA, FOREST_DATA, SUNSPOT_DATA, CO2_DATA, SEAICE_DATA]\n",
        "#ALL_DATASETS = [CO2_DATA, SEAICE_DATA, VOLCANO_DATA, FOREST_DATA, SUNSPOT_DATA]\n",
        "\n",
        "#ALL_DATASETS = [POLICY_DATA,CO2_DATA]\n"
      ]
    },
    {
      "cell_type": "code",
      "execution_count": null,
      "metadata": {
        "colab": {
          "base_uri": "https://localhost:8080/"
        },
        "id": "-FHrtmWM1HKt",
        "outputId": "f40bf47f-c71d-4988-cfd0-ae662bd9a9da"
      },
      "outputs": [
        {
          "output_type": "stream",
          "name": "stdout",
          "text": [
            "Drive already mounted at /content/drive; to attempt to forcibly remount, call drive.mount(\"/content/drive\", force_remount=True).\n"
          ]
        }
      ],
      "source": [
        "from google.colab import drive\n",
        "drive.mount('/content/drive')"
      ]
    },
    {
      "cell_type": "code",
      "execution_count": null,
      "metadata": {
        "colab": {
          "base_uri": "https://localhost:8080/"
        },
        "id": "0966NfEwk60W",
        "outputId": "447d9bc9-e483-4ac6-e8b0-b50c99024c9d"
      },
      "outputs": [
        {
          "output_type": "stream",
          "name": "stdout",
          "text": [
            "/content/drive/MyDrive/data606/src\n"
          ]
        }
      ],
      "source": [
        "%cd $SCRIPT_PATH"
      ]
    },
    {
      "cell_type": "code",
      "execution_count": null,
      "metadata": {
        "id": "ctfJaN2RWFsG"
      },
      "outputs": [],
      "source": [
        "# Load util class\n",
        "%run -i \"./ProjectUtil.ipynb\""
      ]
    },
    {
      "cell_type": "code",
      "execution_count": null,
      "metadata": {
        "id": "xSiMwBNa66qM"
      },
      "outputs": [],
      "source": [
        "# Load util class\n",
        "#%run -i \"./WindowGenerator.ipynb\""
      ]
    },
    {
      "cell_type": "markdown",
      "metadata": {
        "id": "4-fpkdHNb595"
      },
      "source": [
        "# Data Load"
      ]
    },
    {
      "cell_type": "code",
      "execution_count": null,
      "metadata": {
        "id": "fzbBsSdnMPuK"
      },
      "outputs": [],
      "source": [
        "import numpy as np\n",
        "import math\n",
        "import matplotlib.pyplot as plt\n",
        "import matplotlib.ticker as plticker\n",
        "import seaborn as sns; sns.set()\n",
        "plt.rcParams[\"figure.figsize\"] = (10,6)\n",
        "import warnings"
      ]
    },
    {
      "cell_type": "code",
      "execution_count": null,
      "metadata": {
        "id": "-OkNglUVMPoe"
      },
      "outputs": [],
      "source": [
        "warnings.filterwarnings('ignore')\n",
        "plt.style.use('seaborn')\n",
        "%matplotlib inline"
      ]
    },
    {
      "cell_type": "markdown",
      "metadata": {
        "id": "spx1uZxU5ggm"
      },
      "source": [
        "---\n",
        "\n",
        "**Initial Data Load**\n",
        "\n",
        "---"
      ]
    },
    {
      "cell_type": "code",
      "execution_count": null,
      "metadata": {
        "id": "F49q7X3esOwM"
      },
      "outputs": [],
      "source": [
        "# Load util class\n",
        "%run -i \"./Dataset_Merger.ipynb\""
      ]
    },
    {
      "cell_type": "code",
      "execution_count": null,
      "metadata": {
        "id": "eKE70OoByrtX"
      },
      "outputs": [],
      "source": [
        "# Declare a merger compatible with our source data and our target dataset we want to merge into\n",
        "merger = Dataset_Merger(data_path=DATA_ROOT, start_date=START_DATE, end_date=END_DATE, debug=True)"
      ]
    },
    {
      "cell_type": "code",
      "execution_count": null,
      "metadata": {
        "colab": {
          "base_uri": "https://localhost:8080/",
          "height": 1000
        },
        "id": "gS7oVrLCdKLI",
        "outputId": "bdc09db1-d620-4d64-afb2-726e79e0d7b9"
      },
      "outputs": [
        {
          "output_type": "stream",
          "name": "stdout",
          "text": [
            "------------------------------------------\n",
            " ###  ============================================================\n",
            "  Loading data/content/drive/MyDrive/data606/data/GlobalTemperatures.csv\n",
            "\n",
            " ### Defaulting df_aggr to reference df\n",
            "------------------------------------------\n",
            " ### Renaming columns\n",
            "<class 'pandas.core.frame.DataFrame'>\n",
            "RangeIndex: 3192 entries, 0 to 3191\n",
            "Data columns (total 9 columns):\n",
            " #   Column                                     Non-Null Count  Dtype  \n",
            "---  ------                                     --------------  -----  \n",
            " 0   dt                                         3192 non-null   object \n",
            " 1   LandAverageTemperature                     3180 non-null   float64\n",
            " 2   LandAverageTemperatureUncertainty          3180 non-null   float64\n",
            " 3   LandMaxTemperature                         1992 non-null   float64\n",
            " 4   LandMaxTemperatureUncertainty              1992 non-null   float64\n",
            " 5   LandMinTemperature                         1992 non-null   float64\n",
            " 6   LandMinTemperatureUncertainty              1992 non-null   float64\n",
            " 7   landSeaAvgTemp                             1992 non-null   float64\n",
            " 8   LandAndOceanAverageTemperatureUncertainty  1992 non-null   float64\n",
            "dtypes: float64(8), object(1)\n",
            "memory usage: 224.6+ KB\n",
            "------------------------------------------\n",
            " ### preprocess_dates with date_col: dt\n",
            " ### Convert from given col dt\n",
            "------------------------------------------\n",
            " ### Creating std date columns\n",
            " ### ## Case 2 for df::\n",
            "<bound method DataFrame.info of               dt  LandAverageTemperature  LandAverageTemperatureUncertainty  \\\n",
            "0     1750-01-01                   3.034                              3.574   \n",
            "1     1750-02-01                   3.083                              3.702   \n",
            "2     1750-03-01                   5.626                              3.076   \n",
            "3     1750-04-01                   8.490                              2.451   \n",
            "4     1750-05-01                  11.573                              2.072   \n",
            "...          ...                     ...                                ...   \n",
            "3187  2015-08-01                  14.755                              0.072   \n",
            "3188  2015-09-01                  12.999                              0.079   \n",
            "3189  2015-10-01                  10.801                              0.102   \n",
            "3190  2015-11-01                   7.433                              0.119   \n",
            "3191  2015-12-01                   5.518                              0.100   \n",
            "\n",
            "      LandMaxTemperature  LandMaxTemperatureUncertainty  LandMinTemperature  \\\n",
            "0                    NaN                            NaN                 NaN   \n",
            "1                    NaN                            NaN                 NaN   \n",
            "2                    NaN                            NaN                 NaN   \n",
            "3                    NaN                            NaN                 NaN   \n",
            "4                    NaN                            NaN                 NaN   \n",
            "...                  ...                            ...                 ...   \n",
            "3187              20.699                          0.110               9.005   \n",
            "3188              18.845                          0.088               7.199   \n",
            "3189              16.450                          0.059               5.232   \n",
            "3190              12.892                          0.093               2.157   \n",
            "3191              10.725                          0.154               0.287   \n",
            "\n",
            "      LandMinTemperatureUncertainty  landSeaAvgTemp  \\\n",
            "0                               NaN             NaN   \n",
            "1                               NaN             NaN   \n",
            "2                               NaN             NaN   \n",
            "3                               NaN             NaN   \n",
            "4                               NaN             NaN   \n",
            "...                             ...             ...   \n",
            "3187                          0.170          17.589   \n",
            "3188                          0.229          17.049   \n",
            "3189                          0.115          16.290   \n",
            "3190                          0.106          15.252   \n",
            "3191                          0.099          14.774   \n",
            "\n",
            "      LandAndOceanAverageTemperatureUncertainty     _date_  \n",
            "0                                           NaN 1750-01-01  \n",
            "1                                           NaN 1750-02-01  \n",
            "2                                           NaN 1750-03-01  \n",
            "3                                           NaN 1750-04-01  \n",
            "4                                           NaN 1750-05-01  \n",
            "...                                         ...        ...  \n",
            "3187                                      0.057 2015-08-01  \n",
            "3188                                      0.058 2015-09-01  \n",
            "3189                                      0.062 2015-10-01  \n",
            "3190                                      0.063 2015-11-01  \n",
            "3191                                      0.062 2015-12-01  \n",
            "\n",
            "[3192 rows x 10 columns]>\n",
            " ###                     dt  LandAverageTemperature  \\\n",
            "1750-01-01  1750-01-01                   3.034   \n",
            "1750-02-01  1750-02-01                   3.083   \n",
            "1750-03-01  1750-03-01                   5.626   \n",
            "1750-04-01  1750-04-01                   8.490   \n",
            "1750-05-01  1750-05-01                  11.573   \n",
            "...                ...                     ...   \n",
            "2015-08-01  2015-08-01                  14.755   \n",
            "2015-09-01  2015-09-01                  12.999   \n",
            "2015-10-01  2015-10-01                  10.801   \n",
            "2015-11-01  2015-11-01                   7.433   \n",
            "2015-12-01  2015-12-01                   5.518   \n",
            "\n",
            "            LandAverageTemperatureUncertainty  LandMaxTemperature  \\\n",
            "1750-01-01                              3.574                 NaN   \n",
            "1750-02-01                              3.702                 NaN   \n",
            "1750-03-01                              3.076                 NaN   \n",
            "1750-04-01                              2.451                 NaN   \n",
            "1750-05-01                              2.072                 NaN   \n",
            "...                                       ...                 ...   \n",
            "2015-08-01                              0.072              20.699   \n",
            "2015-09-01                              0.079              18.845   \n",
            "2015-10-01                              0.102              16.450   \n",
            "2015-11-01                              0.119              12.892   \n",
            "2015-12-01                              0.100              10.725   \n",
            "\n",
            "            LandMaxTemperatureUncertainty  LandMinTemperature  \\\n",
            "1750-01-01                            NaN                 NaN   \n",
            "1750-02-01                            NaN                 NaN   \n",
            "1750-03-01                            NaN                 NaN   \n",
            "1750-04-01                            NaN                 NaN   \n",
            "1750-05-01                            NaN                 NaN   \n",
            "...                                   ...                 ...   \n",
            "2015-08-01                          0.110               9.005   \n",
            "2015-09-01                          0.088               7.199   \n",
            "2015-10-01                          0.059               5.232   \n",
            "2015-11-01                          0.093               2.157   \n",
            "2015-12-01                          0.154               0.287   \n",
            "\n",
            "            LandMinTemperatureUncertainty  landSeaAvgTemp  \\\n",
            "1750-01-01                            NaN             NaN   \n",
            "1750-02-01                            NaN             NaN   \n",
            "1750-03-01                            NaN             NaN   \n",
            "1750-04-01                            NaN             NaN   \n",
            "1750-05-01                            NaN             NaN   \n",
            "...                                   ...             ...   \n",
            "2015-08-01                          0.170          17.589   \n",
            "2015-09-01                          0.229          17.049   \n",
            "2015-10-01                          0.115          16.290   \n",
            "2015-11-01                          0.106          15.252   \n",
            "2015-12-01                          0.099          14.774   \n",
            "\n",
            "            LandAndOceanAverageTemperatureUncertainty     _date_  day  year  \\\n",
            "1750-01-01                                        NaN 1750-01-01    1  1750   \n",
            "1750-02-01                                        NaN 1750-02-01    1  1750   \n",
            "1750-03-01                                        NaN 1750-03-01    1  1750   \n",
            "1750-04-01                                        NaN 1750-04-01    1  1750   \n",
            "1750-05-01                                        NaN 1750-05-01    1  1750   \n",
            "...                                               ...        ...  ...   ...   \n",
            "2015-08-01                                      0.057 2015-08-01    1  2015   \n",
            "2015-09-01                                      0.058 2015-09-01    1  2015   \n",
            "2015-10-01                                      0.062 2015-10-01    1  2015   \n",
            "2015-11-01                                      0.063 2015-11-01    1  2015   \n",
            "2015-12-01                                      0.062 2015-12-01    1  2015   \n",
            "\n",
            "            month  \n",
            "1750-01-01      1  \n",
            "1750-02-01      2  \n",
            "1750-03-01      3  \n",
            "1750-04-01      4  \n",
            "1750-05-01      5  \n",
            "...           ...  \n",
            "2015-08-01      8  \n",
            "2015-09-01      9  \n",
            "2015-10-01     10  \n",
            "2015-11-01     11  \n",
            "2015-12-01     12  \n",
            "\n",
            "[3192 rows x 13 columns]\n",
            "------------------------------------------\n",
            " ### Trimming columns to ['landSeaAvgTemp']...\n",
            "------------------------------------------\n",
            " ### Cropping dates to [1950-01-01 00:00:00:2015-12-01 00:00:00]\n",
            " ###             landSeaAvgTemp     _date_  day  year  month\n",
            "1950-01-01          13.311 1950-01-01    1  1950      1\n",
            "1950-02-01          13.554 1950-02-01    1  1950      2\n",
            "1950-03-01          14.296 1950-03-01    1  1950      3\n",
            "1950-04-01          15.093 1950-04-01    1  1950      4\n",
            "1950-05-01          16.033 1950-05-01    1  1950      5\n",
            "...                    ...        ...  ...   ...    ...\n",
            "2015-08-01          17.589 2015-08-01    1  2015      8\n",
            "2015-09-01          17.049 2015-09-01    1  2015      9\n",
            "2015-10-01          16.290 2015-10-01    1  2015     10\n",
            "2015-11-01          15.252 2015-11-01    1  2015     11\n",
            "2015-12-01          14.774 2015-12-01    1  2015     12\n",
            "\n",
            "[792 rows x 5 columns]\n",
            "       landSeaAvgTemp    day        year       month\n",
            "count      792.000000  792.0   792.00000  792.000000\n",
            "mean        15.488369    1.0  1982.50000    6.500000\n",
            "std          1.241344    0.0    19.06241    3.454234\n",
            "min         13.298000    1.0  1950.00000    1.000000\n",
            "25%         14.309500    1.0  1966.00000    3.750000\n",
            "50%         15.473500    1.0  1982.50000    6.500000\n",
            "75%         16.671250    1.0  1999.00000    9.250000\n",
            "max         17.611000    1.0  2015.00000   12.000000\n",
            " ### Assessing data freq scales\n",
            "------------------------------------------\n",
            " ### assess_granularity for cols: ['landSeaAvgTemp']\n",
            " ### After grouping y/m/d: 792\n",
            " ### After grouping y/m: 792\n",
            " ### After grouping y: 66\n",
            "Dataset assessed at timestep freq: M\n",
            " ### src/target: 1/1\n",
            "------------------------------------------\n",
            "  Downscaling to freq 1M\n",
            "------------------------------------------\n",
            " ### preprocess_dates with date_col: None\n",
            " ### Converting DatetimeIndex into a column\n",
            "------------------------------------------\n",
            " ### Creating std date columns\n",
            " ### ## Case 2 for df::\n",
            "<bound method DataFrame.info of         _date_\n",
            "0   1950-01-01\n",
            "1   1950-02-01\n",
            "2   1950-03-01\n",
            "3   1950-04-01\n",
            "4   1950-05-01\n",
            "..         ...\n",
            "786 2015-07-01\n",
            "787 2015-08-01\n",
            "788 2015-09-01\n",
            "789 2015-10-01\n",
            "790 2015-11-01\n",
            "\n",
            "[791 rows x 1 columns]>\n",
            " ###                _date_  day  year  month\n",
            "1950-01-01 1950-01-01    1  1950      1\n",
            "1950-02-01 1950-02-01    1  1950      2\n",
            "1950-03-01 1950-03-01    1  1950      3\n",
            "1950-04-01 1950-04-01    1  1950      4\n",
            "1950-05-01 1950-05-01    1  1950      5\n",
            "...               ...  ...   ...    ...\n",
            "2015-07-01 2015-07-01    1  2015      7\n",
            "2015-08-01 2015-08-01    1  2015      8\n",
            "2015-09-01 2015-09-01    1  2015      9\n",
            "2015-10-01 2015-10-01    1  2015     10\n",
            "2015-11-01 2015-11-01    1  2015     11\n",
            "\n",
            "[791 rows x 4 columns]\n",
            " ### src/target freqs: 1/1\n",
            " ### Grouping df on ['year', 'month']\n",
            " ### Grouped df::\n",
            "            landSeaAvgTemp\n",
            "year month                \n",
            "1950 1              13.311\n",
            "     2              13.554\n",
            "     3              14.296\n",
            "     4              15.093\n",
            "     5              16.033\n",
            "...                    ...\n",
            "2015 8              17.589\n",
            "     9              17.049\n",
            "     10             16.290\n",
            "     11             15.252\n",
            "     12             14.774\n",
            "\n",
            "[792 rows x 1 columns]\n",
            " ### Reference df::\n",
            "               _date_  day  year  month\n",
            "1950-01-01 1950-01-01    1  1950      1\n",
            "1950-02-01 1950-02-01    1  1950      2\n",
            "1950-03-01 1950-03-01    1  1950      3\n",
            "1950-04-01 1950-04-01    1  1950      4\n",
            "1950-05-01 1950-05-01    1  1950      5\n",
            "...               ...  ...   ...    ...\n",
            "2015-07-01 2015-07-01    1  2015      7\n",
            "2015-08-01 2015-08-01    1  2015      8\n",
            "2015-09-01 2015-09-01    1  2015      9\n",
            "2015-10-01 2015-10-01    1  2015     10\n",
            "2015-11-01 2015-11-01    1  2015     11\n",
            "\n",
            "[791 rows x 4 columns]\n",
            " ### Joining on DATE_COLS: ['year', 'month']\n",
            "In df1 only: {Timestamp('2014-03-01 00:00:00'), Timestamp('1954-04-01 00:00:00'), Timestamp('2002-10-01 00:00:00'), Timestamp('1954-01-01 00:00:00'), Timestamp('1961-12-01 00:00:00'), Timestamp('1989-04-01 00:00:00'), Timestamp('1952-09-01 00:00:00'), Timestamp('1975-01-01 00:00:00'), Timestamp('1975-11-01 00:00:00'), Timestamp('1954-07-01 00:00:00'), Timestamp('2011-11-01 00:00:00'), Timestamp('1980-04-01 00:00:00'), Timestamp('1988-05-01 00:00:00'), Timestamp('1998-01-01 00:00:00'), Timestamp('1960-01-01 00:00:00'), Timestamp('1980-01-01 00:00:00'), Timestamp('1975-07-01 00:00:00'), Timestamp('1986-12-01 00:00:00'), Timestamp('1996-05-01 00:00:00'), Timestamp('1981-09-01 00:00:00'), Timestamp('2003-02-01 00:00:00'), Timestamp('1999-04-01 00:00:00'), Timestamp('1995-03-01 00:00:00'), Timestamp('1980-10-01 00:00:00'), Timestamp('1984-10-01 00:00:00'), Timestamp('1973-02-01 00:00:00'), Timestamp('1984-04-01 00:00:00'), Timestamp('1997-05-01 00:00:00'), Timestamp('1986-04-01 00:00:00'), Timestamp('2013-01-01 00:00:00'), Timestamp('1982-05-01 00:00:00'), Timestamp('1981-03-01 00:00:00'), Timestamp('1993-05-01 00:00:00'), Timestamp('1985-07-01 00:00:00'), Timestamp('1953-09-01 00:00:00'), Timestamp('1992-06-01 00:00:00'), Timestamp('2012-03-01 00:00:00'), Timestamp('1984-01-01 00:00:00'), Timestamp('1997-09-01 00:00:00'), Timestamp('1983-08-01 00:00:00'), Timestamp('1979-03-01 00:00:00'), Timestamp('1969-11-01 00:00:00'), Timestamp('1962-03-01 00:00:00'), Timestamp('2015-08-01 00:00:00'), Timestamp('2002-05-01 00:00:00'), Timestamp('1988-08-01 00:00:00'), Timestamp('1960-02-01 00:00:00'), Timestamp('1975-12-01 00:00:00'), Timestamp('1995-02-01 00:00:00'), Timestamp('1962-07-01 00:00:00'), Timestamp('1977-03-01 00:00:00'), Timestamp('2001-03-01 00:00:00'), Timestamp('1964-05-01 00:00:00'), Timestamp('2005-04-01 00:00:00'), Timestamp('1965-05-01 00:00:00'), Timestamp('1964-10-01 00:00:00'), Timestamp('1996-02-01 00:00:00'), Timestamp('1962-09-01 00:00:00'), Timestamp('1983-02-01 00:00:00'), Timestamp('1983-06-01 00:00:00'), Timestamp('2012-04-01 00:00:00'), Timestamp('1976-10-01 00:00:00'), Timestamp('1953-08-01 00:00:00'), Timestamp('2006-03-01 00:00:00'), Timestamp('1971-05-01 00:00:00'), Timestamp('1979-11-01 00:00:00'), Timestamp('1960-08-01 00:00:00'), Timestamp('1960-12-01 00:00:00'), Timestamp('1972-04-01 00:00:00'), Timestamp('1974-05-01 00:00:00'), Timestamp('2002-03-01 00:00:00'), Timestamp('2007-11-01 00:00:00'), Timestamp('1976-08-01 00:00:00'), Timestamp('1977-08-01 00:00:00'), Timestamp('1955-05-01 00:00:00'), Timestamp('2013-04-01 00:00:00'), Timestamp('2007-04-01 00:00:00'), Timestamp('1967-09-01 00:00:00'), Timestamp('1988-03-01 00:00:00'), Timestamp('1967-06-01 00:00:00'), Timestamp('1989-09-01 00:00:00'), Timestamp('1989-12-01 00:00:00'), Timestamp('2012-02-01 00:00:00'), Timestamp('1953-05-01 00:00:00'), Timestamp('1956-07-01 00:00:00'), Timestamp('1966-12-01 00:00:00'), Timestamp('1996-10-01 00:00:00'), Timestamp('1983-12-01 00:00:00'), Timestamp('1978-07-01 00:00:00'), Timestamp('1962-05-01 00:00:00'), Timestamp('2014-05-01 00:00:00'), Timestamp('1964-04-01 00:00:00'), Timestamp('1965-04-01 00:00:00'), Timestamp('1966-03-01 00:00:00'), Timestamp('1989-06-01 00:00:00'), Timestamp('1993-03-01 00:00:00'), Timestamp('2011-08-01 00:00:00'), Timestamp('1955-04-01 00:00:00'), Timestamp('1964-06-01 00:00:00'), Timestamp('1950-12-01 00:00:00'), Timestamp('2004-04-01 00:00:00'), Timestamp('1987-11-01 00:00:00'), Timestamp('2006-07-01 00:00:00'), Timestamp('1993-11-01 00:00:00'), Timestamp('1961-03-01 00:00:00'), Timestamp('1950-04-01 00:00:00'), Timestamp('1969-09-01 00:00:00'), Timestamp('1970-08-01 00:00:00'), Timestamp('1983-10-01 00:00:00'), Timestamp('1973-09-01 00:00:00'), Timestamp('1997-10-01 00:00:00'), Timestamp('1957-05-01 00:00:00'), Timestamp('2005-07-01 00:00:00'), Timestamp('2009-06-01 00:00:00'), Timestamp('1971-09-01 00:00:00'), Timestamp('1980-12-01 00:00:00'), Timestamp('1992-01-01 00:00:00'), Timestamp('1964-12-01 00:00:00'), Timestamp('1999-01-01 00:00:00'), Timestamp('1998-07-01 00:00:00'), Timestamp('1984-07-01 00:00:00'), Timestamp('1986-05-01 00:00:00'), Timestamp('2007-10-01 00:00:00'), Timestamp('1998-09-01 00:00:00'), Timestamp('1956-04-01 00:00:00'), Timestamp('1985-06-01 00:00:00'), Timestamp('1950-02-01 00:00:00'), Timestamp('1950-07-01 00:00:00'), Timestamp('1967-05-01 00:00:00'), Timestamp('1962-04-01 00:00:00'), Timestamp('1972-05-01 00:00:00'), Timestamp('1982-04-01 00:00:00'), Timestamp('1997-06-01 00:00:00'), Timestamp('2015-10-01 00:00:00'), Timestamp('1959-06-01 00:00:00'), Timestamp('1990-08-01 00:00:00'), Timestamp('1975-03-01 00:00:00'), Timestamp('1976-12-01 00:00:00'), Timestamp('1970-04-01 00:00:00'), Timestamp('1987-09-01 00:00:00'), Timestamp('1990-06-01 00:00:00'), Timestamp('2007-01-01 00:00:00'), Timestamp('1952-12-01 00:00:00'), Timestamp('1990-11-01 00:00:00'), Timestamp('1964-07-01 00:00:00'), Timestamp('1953-10-01 00:00:00'), Timestamp('1971-12-01 00:00:00'), Timestamp('2005-10-01 00:00:00'), Timestamp('1978-02-01 00:00:00'), Timestamp('1952-08-01 00:00:00'), Timestamp('1950-09-01 00:00:00'), Timestamp('1951-04-01 00:00:00'), Timestamp('2009-11-01 00:00:00'), Timestamp('1991-03-01 00:00:00'), Timestamp('1999-09-01 00:00:00'), Timestamp('2005-12-01 00:00:00'), Timestamp('1969-07-01 00:00:00'), Timestamp('2008-02-01 00:00:00'), Timestamp('1955-08-01 00:00:00'), Timestamp('1958-08-01 00:00:00'), Timestamp('1977-12-01 00:00:00'), Timestamp('2006-11-01 00:00:00'), Timestamp('2001-06-01 00:00:00'), Timestamp('1957-12-01 00:00:00'), Timestamp('1972-07-01 00:00:00'), Timestamp('2003-04-01 00:00:00'), Timestamp('2003-09-01 00:00:00'), Timestamp('1971-03-01 00:00:00'), Timestamp('1968-03-01 00:00:00'), Timestamp('2002-04-01 00:00:00'), Timestamp('2001-08-01 00:00:00'), Timestamp('1984-05-01 00:00:00'), Timestamp('2007-03-01 00:00:00'), Timestamp('1983-05-01 00:00:00'), Timestamp('1970-01-01 00:00:00'), Timestamp('1957-07-01 00:00:00'), Timestamp('2003-01-01 00:00:00'), Timestamp('1957-02-01 00:00:00'), Timestamp('1982-11-01 00:00:00'), Timestamp('1994-11-01 00:00:00'), Timestamp('1975-05-01 00:00:00'), Timestamp('1955-06-01 00:00:00'), Timestamp('1977-10-01 00:00:00'), Timestamp('1971-07-01 00:00:00'), Timestamp('2013-12-01 00:00:00'), Timestamp('1959-09-01 00:00:00'), Timestamp('1952-03-01 00:00:00'), Timestamp('2010-06-01 00:00:00'), Timestamp('2000-02-01 00:00:00'), Timestamp('1991-01-01 00:00:00'), Timestamp('1973-01-01 00:00:00'), Timestamp('1961-04-01 00:00:00'), Timestamp('1960-05-01 00:00:00'), Timestamp('1975-08-01 00:00:00'), Timestamp('1951-06-01 00:00:00'), Timestamp('1985-05-01 00:00:00'), Timestamp('1994-08-01 00:00:00'), Timestamp('1996-04-01 00:00:00'), Timestamp('2014-01-01 00:00:00'), Timestamp('1964-03-01 00:00:00'), Timestamp('2002-01-01 00:00:00'), Timestamp('2004-12-01 00:00:00'), Timestamp('2013-06-01 00:00:00'), Timestamp('2001-02-01 00:00:00'), Timestamp('2001-04-01 00:00:00'), Timestamp('1999-05-01 00:00:00'), Timestamp('1996-09-01 00:00:00'), Timestamp('1962-12-01 00:00:00'), Timestamp('2003-07-01 00:00:00'), Timestamp('1980-02-01 00:00:00'), Timestamp('1997-03-01 00:00:00'), Timestamp('1998-10-01 00:00:00'), Timestamp('1955-01-01 00:00:00'), Timestamp('1978-04-01 00:00:00'), Timestamp('1961-01-01 00:00:00'), Timestamp('1972-02-01 00:00:00'), Timestamp('1956-01-01 00:00:00'), Timestamp('1976-07-01 00:00:00'), Timestamp('1966-07-01 00:00:00'), Timestamp('1978-08-01 00:00:00'), Timestamp('2002-08-01 00:00:00'), Timestamp('2005-03-01 00:00:00'), Timestamp('1999-03-01 00:00:00'), Timestamp('1988-02-01 00:00:00'), Timestamp('2004-02-01 00:00:00'), Timestamp('2011-01-01 00:00:00'), Timestamp('1950-06-01 00:00:00'), Timestamp('1982-12-01 00:00:00'), Timestamp('1985-09-01 00:00:00'), Timestamp('2001-07-01 00:00:00'), Timestamp('2004-09-01 00:00:00'), Timestamp('2014-06-01 00:00:00'), Timestamp('1975-10-01 00:00:00'), Timestamp('1978-03-01 00:00:00'), Timestamp('1991-06-01 00:00:00'), Timestamp('1965-07-01 00:00:00'), Timestamp('1991-09-01 00:00:00'), Timestamp('1991-11-01 00:00:00'), Timestamp('1977-05-01 00:00:00'), Timestamp('1974-06-01 00:00:00'), Timestamp('1952-10-01 00:00:00'), Timestamp('2010-09-01 00:00:00'), Timestamp('2012-12-01 00:00:00'), Timestamp('1994-07-01 00:00:00'), Timestamp('2008-07-01 00:00:00'), Timestamp('1996-07-01 00:00:00'), Timestamp('1963-08-01 00:00:00'), Timestamp('1957-09-01 00:00:00'), Timestamp('1994-12-01 00:00:00'), Timestamp('2012-08-01 00:00:00'), Timestamp('1993-10-01 00:00:00'), Timestamp('1976-09-01 00:00:00'), Timestamp('1978-09-01 00:00:00'), Timestamp('1966-09-01 00:00:00'), Timestamp('1992-03-01 00:00:00'), Timestamp('1982-03-01 00:00:00'), Timestamp('1992-04-01 00:00:00'), Timestamp('1987-10-01 00:00:00'), Timestamp('1950-11-01 00:00:00'), Timestamp('1959-04-01 00:00:00'), Timestamp('1953-01-01 00:00:00'), Timestamp('1965-03-01 00:00:00'), Timestamp('2015-04-01 00:00:00'), Timestamp('1978-11-01 00:00:00'), Timestamp('1982-09-01 00:00:00'), Timestamp('1954-03-01 00:00:00'), Timestamp('1964-01-01 00:00:00'), Timestamp('2010-01-01 00:00:00'), Timestamp('1955-02-01 00:00:00'), Timestamp('1955-09-01 00:00:00'), Timestamp('2015-05-01 00:00:00'), Timestamp('2002-02-01 00:00:00'), Timestamp('1956-05-01 00:00:00'), Timestamp('1981-12-01 00:00:00'), Timestamp('2014-09-01 00:00:00'), Timestamp('1985-01-01 00:00:00'), Timestamp('1958-10-01 00:00:00'), Timestamp('1956-09-01 00:00:00'), Timestamp('1989-01-01 00:00:00'), Timestamp('1991-05-01 00:00:00'), Timestamp('2000-07-01 00:00:00'), Timestamp('1971-01-01 00:00:00'), Timestamp('1962-10-01 00:00:00'), Timestamp('1979-08-01 00:00:00'), Timestamp('1993-04-01 00:00:00'), Timestamp('1981-08-01 00:00:00'), Timestamp('1996-11-01 00:00:00'), Timestamp('1985-12-01 00:00:00'), Timestamp('2005-06-01 00:00:00'), Timestamp('1953-04-01 00:00:00'), Timestamp('1974-10-01 00:00:00'), Timestamp('1985-02-01 00:00:00'), Timestamp('2011-07-01 00:00:00'), Timestamp('2010-04-01 00:00:00'), Timestamp('1979-09-01 00:00:00'), Timestamp('1967-02-01 00:00:00'), Timestamp('1983-03-01 00:00:00'), Timestamp('1974-02-01 00:00:00'), Timestamp('1980-09-01 00:00:00'), Timestamp('1969-05-01 00:00:00'), Timestamp('1973-04-01 00:00:00'), Timestamp('1951-01-01 00:00:00'), Timestamp('1999-07-01 00:00:00'), Timestamp('2004-07-01 00:00:00'), Timestamp('2000-04-01 00:00:00'), Timestamp('2014-07-01 00:00:00'), Timestamp('1986-02-01 00:00:00'), Timestamp('1961-07-01 00:00:00'), Timestamp('2011-09-01 00:00:00'), Timestamp('1998-05-01 00:00:00'), Timestamp('2004-01-01 00:00:00'), Timestamp('1992-08-01 00:00:00'), Timestamp('1990-04-01 00:00:00'), Timestamp('1970-06-01 00:00:00'), Timestamp('1972-11-01 00:00:00'), Timestamp('1967-12-01 00:00:00'), Timestamp('1981-07-01 00:00:00'), Timestamp('2014-10-01 00:00:00'), Timestamp('2012-11-01 00:00:00'), Timestamp('2002-06-01 00:00:00'), Timestamp('1967-01-01 00:00:00'), Timestamp('1987-08-01 00:00:00'), Timestamp('2010-05-01 00:00:00'), Timestamp('2009-05-01 00:00:00'), Timestamp('2005-02-01 00:00:00'), Timestamp('1972-06-01 00:00:00'), Timestamp('1968-01-01 00:00:00'), Timestamp('1969-02-01 00:00:00'), Timestamp('1978-10-01 00:00:00'), Timestamp('1980-07-01 00:00:00'), Timestamp('1980-05-01 00:00:00'), Timestamp('1957-03-01 00:00:00'), Timestamp('1997-04-01 00:00:00'), Timestamp('1951-05-01 00:00:00'), Timestamp('1974-03-01 00:00:00'), Timestamp('1984-03-01 00:00:00'), Timestamp('1999-11-01 00:00:00'), Timestamp('1993-09-01 00:00:00'), Timestamp('1967-08-01 00:00:00'), Timestamp('1981-04-01 00:00:00'), Timestamp('1994-05-01 00:00:00'), Timestamp('1993-07-01 00:00:00'), Timestamp('1964-08-01 00:00:00'), Timestamp('1961-10-01 00:00:00'), Timestamp('1968-10-01 00:00:00'), Timestamp('2001-05-01 00:00:00'), Timestamp('1955-11-01 00:00:00'), Timestamp('1997-12-01 00:00:00'), Timestamp('1976-04-01 00:00:00'), Timestamp('1950-01-01 00:00:00'), Timestamp('2003-10-01 00:00:00'), Timestamp('1992-09-01 00:00:00'), Timestamp('1987-03-01 00:00:00'), Timestamp('1999-08-01 00:00:00'), Timestamp('1990-02-01 00:00:00'), Timestamp('1963-06-01 00:00:00'), Timestamp('1969-04-01 00:00:00'), Timestamp('1983-09-01 00:00:00'), Timestamp('1957-06-01 00:00:00'), Timestamp('1978-12-01 00:00:00'), Timestamp('1982-10-01 00:00:00'), Timestamp('1991-10-01 00:00:00'), Timestamp('1994-10-01 00:00:00'), Timestamp('1953-12-01 00:00:00'), Timestamp('1961-08-01 00:00:00'), Timestamp('2011-04-01 00:00:00'), Timestamp('2005-09-01 00:00:00'), Timestamp('1998-06-01 00:00:00'), Timestamp('1959-02-01 00:00:00'), Timestamp('1991-08-01 00:00:00'), Timestamp('1986-10-01 00:00:00'), Timestamp('1968-06-01 00:00:00'), Timestamp('2009-02-01 00:00:00'), Timestamp('1975-06-01 00:00:00'), Timestamp('1997-01-01 00:00:00'), Timestamp('1990-09-01 00:00:00'), Timestamp('1954-05-01 00:00:00'), Timestamp('1960-10-01 00:00:00'), Timestamp('1997-02-01 00:00:00'), Timestamp('1954-06-01 00:00:00'), Timestamp('1969-03-01 00:00:00'), Timestamp('1970-03-01 00:00:00'), Timestamp('1977-02-01 00:00:00'), Timestamp('1961-02-01 00:00:00'), Timestamp('1995-06-01 00:00:00'), Timestamp('2012-07-01 00:00:00'), Timestamp('1973-10-01 00:00:00'), Timestamp('1968-04-01 00:00:00'), Timestamp('1961-11-01 00:00:00'), Timestamp('1952-02-01 00:00:00'), Timestamp('1959-07-01 00:00:00'), Timestamp('1998-08-01 00:00:00'), Timestamp('1965-06-01 00:00:00'), Timestamp('2009-12-01 00:00:00'), Timestamp('1992-12-01 00:00:00'), Timestamp('1970-02-01 00:00:00'), Timestamp('2003-12-01 00:00:00'), Timestamp('1966-02-01 00:00:00'), Timestamp('1981-02-01 00:00:00'), Timestamp('2002-09-01 00:00:00'), Timestamp('2013-11-01 00:00:00'), Timestamp('1998-02-01 00:00:00'), Timestamp('2001-10-01 00:00:00'), Timestamp('1987-02-01 00:00:00'), Timestamp('1951-08-01 00:00:00'), Timestamp('1960-03-01 00:00:00'), Timestamp('1963-11-01 00:00:00'), Timestamp('2011-05-01 00:00:00'), Timestamp('1950-05-01 00:00:00'), Timestamp('2007-02-01 00:00:00'), Timestamp('1959-01-01 00:00:00'), Timestamp('1963-04-01 00:00:00'), Timestamp('1984-02-01 00:00:00'), Timestamp('1971-08-01 00:00:00'), Timestamp('1971-10-01 00:00:00'), Timestamp('1994-03-01 00:00:00'), Timestamp('2000-03-01 00:00:00'), Timestamp('2007-08-01 00:00:00'), Timestamp('2004-03-01 00:00:00'), Timestamp('1967-03-01 00:00:00'), Timestamp('2011-02-01 00:00:00'), Timestamp('2008-01-01 00:00:00'), Timestamp('1965-01-01 00:00:00'), Timestamp('1992-02-01 00:00:00'), Timestamp('1979-07-01 00:00:00'), Timestamp('1989-11-01 00:00:00'), Timestamp('1995-10-01 00:00:00'), Timestamp('1954-08-01 00:00:00'), Timestamp('1967-10-01 00:00:00'), Timestamp('1997-07-01 00:00:00'), Timestamp('2009-09-01 00:00:00'), Timestamp('1955-07-01 00:00:00'), Timestamp('2011-10-01 00:00:00'), Timestamp('1991-04-01 00:00:00'), Timestamp('1967-04-01 00:00:00'), Timestamp('1970-09-01 00:00:00'), Timestamp('1972-03-01 00:00:00'), Timestamp('2005-01-01 00:00:00'), Timestamp('2004-06-01 00:00:00'), Timestamp('1995-07-01 00:00:00'), Timestamp('2009-03-01 00:00:00'), Timestamp('1966-01-01 00:00:00'), Timestamp('1959-08-01 00:00:00'), Timestamp('1958-05-01 00:00:00'), Timestamp('1951-02-01 00:00:00'), Timestamp('1952-05-01 00:00:00'), Timestamp('1973-11-01 00:00:00'), Timestamp('1988-06-01 00:00:00'), Timestamp('1984-12-01 00:00:00'), Timestamp('1960-07-01 00:00:00'), Timestamp('2006-09-01 00:00:00'), Timestamp('1961-05-01 00:00:00'), Timestamp('1979-01-01 00:00:00'), Timestamp('2013-02-01 00:00:00'), Timestamp('2008-09-01 00:00:00'), Timestamp('2010-03-01 00:00:00'), Timestamp('1989-08-01 00:00:00'), Timestamp('2000-12-01 00:00:00'), Timestamp('1958-04-01 00:00:00'), Timestamp('1977-07-01 00:00:00'), Timestamp('1980-08-01 00:00:00'), Timestamp('2008-04-01 00:00:00'), Timestamp('1958-06-01 00:00:00'), Timestamp('1995-12-01 00:00:00'), Timestamp('1981-05-01 00:00:00'), Timestamp('1995-08-01 00:00:00'), Timestamp('1963-12-01 00:00:00'), Timestamp('1998-11-01 00:00:00'), Timestamp('1960-04-01 00:00:00'), Timestamp('2013-03-01 00:00:00'), Timestamp('1990-05-01 00:00:00'), Timestamp('1987-05-01 00:00:00'), Timestamp('2001-09-01 00:00:00'), Timestamp('2013-09-01 00:00:00'), Timestamp('1976-03-01 00:00:00'), Timestamp('1987-06-01 00:00:00'), Timestamp('1995-05-01 00:00:00'), Timestamp('1993-02-01 00:00:00'), Timestamp('1984-08-01 00:00:00'), Timestamp('1982-07-01 00:00:00'), Timestamp('2012-01-01 00:00:00'), Timestamp('1990-07-01 00:00:00'), Timestamp('1994-04-01 00:00:00'), Timestamp('1971-04-01 00:00:00'), Timestamp('2004-10-01 00:00:00'), Timestamp('1954-10-01 00:00:00'), Timestamp('1984-11-01 00:00:00'), Timestamp('2007-06-01 00:00:00'), Timestamp('1953-11-01 00:00:00'), Timestamp('1998-12-01 00:00:00'), Timestamp('2015-07-01 00:00:00'), Timestamp('1971-02-01 00:00:00'), Timestamp('1973-07-01 00:00:00'), Timestamp('1974-09-01 00:00:00'), Timestamp('1950-10-01 00:00:00'), Timestamp('2006-05-01 00:00:00'), Timestamp('2014-08-01 00:00:00'), Timestamp('1953-06-01 00:00:00'), Timestamp('1963-01-01 00:00:00'), Timestamp('2010-12-01 00:00:00'), Timestamp('2013-07-01 00:00:00'), Timestamp('2009-01-01 00:00:00'), Timestamp('1990-12-01 00:00:00'), Timestamp('1957-04-01 00:00:00'), Timestamp('1959-10-01 00:00:00'), Timestamp('1999-02-01 00:00:00'), Timestamp('2008-06-01 00:00:00'), Timestamp('1988-11-01 00:00:00'), Timestamp('1958-12-01 00:00:00'), Timestamp('1972-08-01 00:00:00'), Timestamp('1958-02-01 00:00:00'), Timestamp('1985-11-01 00:00:00'), Timestamp('1974-11-01 00:00:00'), Timestamp('1959-12-01 00:00:00'), Timestamp('2006-01-01 00:00:00'), Timestamp('2005-11-01 00:00:00'), Timestamp('1956-06-01 00:00:00'), Timestamp('1972-12-01 00:00:00'), Timestamp('2014-02-01 00:00:00'), Timestamp('2010-08-01 00:00:00'), Timestamp('1969-01-01 00:00:00'), Timestamp('1976-05-01 00:00:00'), Timestamp('1958-09-01 00:00:00'), Timestamp('1966-08-01 00:00:00'), Timestamp('1952-04-01 00:00:00'), Timestamp('2014-12-01 00:00:00'), Timestamp('1950-08-01 00:00:00'), Timestamp('1972-01-01 00:00:00'), Timestamp('1978-06-01 00:00:00'), Timestamp('1976-01-01 00:00:00'), Timestamp('2008-05-01 00:00:00'), Timestamp('2005-08-01 00:00:00'), Timestamp('2008-11-01 00:00:00'), Timestamp('1968-02-01 00:00:00'), Timestamp('1970-10-01 00:00:00'), Timestamp('1996-08-01 00:00:00'), Timestamp('1963-05-01 00:00:00'), Timestamp('1989-03-01 00:00:00'), Timestamp('1994-09-01 00:00:00'), Timestamp('2012-05-01 00:00:00'), Timestamp('2006-08-01 00:00:00'), Timestamp('1963-03-01 00:00:00'), Timestamp('2015-02-01 00:00:00'), Timestamp('1992-10-01 00:00:00'), Timestamp('2015-06-01 00:00:00'), Timestamp('1992-11-01 00:00:00'), Timestamp('1996-03-01 00:00:00'), Timestamp('1979-10-01 00:00:00'), Timestamp('1985-10-01 00:00:00'), Timestamp('1970-11-01 00:00:00'), Timestamp('1958-03-01 00:00:00'), Timestamp('1990-03-01 00:00:00'), Timestamp('1993-08-01 00:00:00'), Timestamp('2007-07-01 00:00:00'), Timestamp('1973-06-01 00:00:00'), Timestamp('1997-08-01 00:00:00'), Timestamp('1951-12-01 00:00:00'), Timestamp('2000-10-01 00:00:00'), Timestamp('1953-03-01 00:00:00'), Timestamp('1962-06-01 00:00:00'), Timestamp('2000-09-01 00:00:00'), Timestamp('2008-10-01 00:00:00'), Timestamp('1988-10-01 00:00:00'), Timestamp('2006-02-01 00:00:00'), Timestamp('1988-09-01 00:00:00'), Timestamp('2009-08-01 00:00:00'), Timestamp('1954-11-01 00:00:00'), Timestamp('2012-06-01 00:00:00'), Timestamp('1966-10-01 00:00:00'), Timestamp('1985-03-01 00:00:00'), Timestamp('1975-02-01 00:00:00'), Timestamp('1990-10-01 00:00:00'), Timestamp('1985-04-01 00:00:00'), Timestamp('1989-05-01 00:00:00'), Timestamp('1987-01-01 00:00:00'), Timestamp('1988-04-01 00:00:00'), Timestamp('1991-02-01 00:00:00'), Timestamp('2001-12-01 00:00:00'), Timestamp('1976-02-01 00:00:00'), Timestamp('1990-01-01 00:00:00'), Timestamp('2010-02-01 00:00:00'), Timestamp('1966-05-01 00:00:00'), Timestamp('1966-04-01 00:00:00'), Timestamp('1985-08-01 00:00:00'), Timestamp('1994-01-01 00:00:00'), Timestamp('1955-03-01 00:00:00'), Timestamp('1979-04-01 00:00:00'), Timestamp('1993-01-01 00:00:00'), Timestamp('1996-06-01 00:00:00'), Timestamp('2013-10-01 00:00:00'), Timestamp('2002-12-01 00:00:00'), Timestamp('1988-07-01 00:00:00'), Timestamp('1986-09-01 00:00:00'), Timestamp('1972-09-01 00:00:00'), Timestamp('1968-08-01 00:00:00'), Timestamp('1966-11-01 00:00:00'), Timestamp('1981-06-01 00:00:00'), Timestamp('1951-09-01 00:00:00'), Timestamp('1983-07-01 00:00:00'), Timestamp('1986-08-01 00:00:00'), Timestamp('2003-06-01 00:00:00'), Timestamp('1956-02-01 00:00:00'), Timestamp('1980-11-01 00:00:00'), Timestamp('2005-05-01 00:00:00'), Timestamp('1960-06-01 00:00:00'), Timestamp('1996-12-01 00:00:00'), Timestamp('2011-12-01 00:00:00'), Timestamp('2000-06-01 00:00:00'), Timestamp('1963-07-01 00:00:00'), Timestamp('1981-10-01 00:00:00'), Timestamp('1963-09-01 00:00:00'), Timestamp('1979-06-01 00:00:00'), Timestamp('2015-11-01 00:00:00'), Timestamp('1957-01-01 00:00:00'), Timestamp('1955-10-01 00:00:00'), Timestamp('1960-11-01 00:00:00'), Timestamp('1973-12-01 00:00:00'), Timestamp('1954-02-01 00:00:00'), Timestamp('1969-10-01 00:00:00'), Timestamp('1959-11-01 00:00:00'), Timestamp('1976-11-01 00:00:00'), Timestamp('2000-11-01 00:00:00'), Timestamp('1995-09-01 00:00:00'), Timestamp('1982-08-01 00:00:00'), Timestamp('1960-09-01 00:00:00'), Timestamp('1962-08-01 00:00:00'), Timestamp('2006-04-01 00:00:00'), Timestamp('2001-11-01 00:00:00'), Timestamp('1959-03-01 00:00:00'), Timestamp('1958-11-01 00:00:00'), Timestamp('1956-08-01 00:00:00'), Timestamp('1987-12-01 00:00:00'), Timestamp('1983-01-01 00:00:00'), Timestamp('1974-07-01 00:00:00'), Timestamp('1987-07-01 00:00:00'), Timestamp('1969-08-01 00:00:00'), Timestamp('1980-06-01 00:00:00'), Timestamp('1984-06-01 00:00:00'), Timestamp('1991-12-01 00:00:00'), Timestamp('1954-09-01 00:00:00'), Timestamp('1958-07-01 00:00:00'), Timestamp('1973-08-01 00:00:00'), Timestamp('1957-08-01 00:00:00'), Timestamp('1974-04-01 00:00:00'), Timestamp('2003-08-01 00:00:00'), Timestamp('1977-01-01 00:00:00'), Timestamp('1971-06-01 00:00:00'), Timestamp('1988-01-01 00:00:00'), Timestamp('2014-04-01 00:00:00'), Timestamp('1951-11-01 00:00:00'), Timestamp('1968-07-01 00:00:00'), Timestamp('2002-07-01 00:00:00'), Timestamp('1953-07-01 00:00:00'), Timestamp('1967-07-01 00:00:00'), Timestamp('1950-03-01 00:00:00'), Timestamp('1951-03-01 00:00:00'), Timestamp('1966-06-01 00:00:00'), Timestamp('1992-05-01 00:00:00'), Timestamp('1968-09-01 00:00:00'), Timestamp('1979-02-01 00:00:00'), Timestamp('2001-01-01 00:00:00'), Timestamp('1975-04-01 00:00:00'), Timestamp('1958-01-01 00:00:00'), Timestamp('1957-11-01 00:00:00'), Timestamp('1967-11-01 00:00:00'), Timestamp('1999-10-01 00:00:00'), Timestamp('1963-02-01 00:00:00'), Timestamp('1999-06-01 00:00:00'), Timestamp('1957-10-01 00:00:00'), Timestamp('2000-01-01 00:00:00'), Timestamp('2003-05-01 00:00:00'), Timestamp('1965-12-01 00:00:00'), Timestamp('1974-01-01 00:00:00'), Timestamp('2015-01-01 00:00:00'), Timestamp('1970-05-01 00:00:00'), Timestamp('2008-03-01 00:00:00'), Timestamp('1989-10-01 00:00:00'), Timestamp('1986-01-01 00:00:00'), Timestamp('1977-04-01 00:00:00'), Timestamp('1952-01-01 00:00:00'), Timestamp('1974-12-01 00:00:00'), Timestamp('1971-11-01 00:00:00'), Timestamp('1998-04-01 00:00:00'), Timestamp('1953-02-01 00:00:00'), Timestamp('1977-09-01 00:00:00'), Timestamp('2006-06-01 00:00:00'), Timestamp('1968-05-01 00:00:00'), Timestamp('1964-11-01 00:00:00'), Timestamp('1984-09-01 00:00:00'), Timestamp('1977-06-01 00:00:00'), Timestamp('1972-10-01 00:00:00'), Timestamp('1980-03-01 00:00:00'), Timestamp('2006-12-01 00:00:00'), Timestamp('1977-11-01 00:00:00'), Timestamp('2009-10-01 00:00:00'), Timestamp('1970-12-01 00:00:00'), Timestamp('1989-07-01 00:00:00'), Timestamp('1992-07-01 00:00:00'), Timestamp('2000-08-01 00:00:00'), Timestamp('2002-11-01 00:00:00'), Timestamp('1978-05-01 00:00:00'), Timestamp('1982-06-01 00:00:00'), Timestamp('1951-10-01 00:00:00'), Timestamp('1986-11-01 00:00:00'), Timestamp('1969-06-01 00:00:00'), Timestamp('2003-03-01 00:00:00'), Timestamp('2003-11-01 00:00:00'), Timestamp('2007-12-01 00:00:00'), Timestamp('2011-03-01 00:00:00'), Timestamp('2015-09-01 00:00:00'), Timestamp('2008-12-01 00:00:00'), Timestamp('1964-02-01 00:00:00'), Timestamp('1965-11-01 00:00:00'), Timestamp('1986-07-01 00:00:00'), Timestamp('1996-01-01 00:00:00'), Timestamp('2004-11-01 00:00:00'), Timestamp('2008-08-01 00:00:00'), Timestamp('1964-09-01 00:00:00'), Timestamp('1993-12-01 00:00:00'), Timestamp('1987-04-01 00:00:00'), Timestamp('2015-03-01 00:00:00'), Timestamp('2009-07-01 00:00:00'), Timestamp('1954-12-01 00:00:00'), Timestamp('2013-05-01 00:00:00'), Timestamp('1955-12-01 00:00:00'), Timestamp('1952-11-01 00:00:00'), Timestamp('2006-10-01 00:00:00'), Timestamp('1968-12-01 00:00:00'), Timestamp('2009-04-01 00:00:00'), Timestamp('1965-08-01 00:00:00'), Timestamp('1965-02-01 00:00:00'), Timestamp('1993-06-01 00:00:00'), Timestamp('1963-10-01 00:00:00'), Timestamp('1952-07-01 00:00:00'), Timestamp('1956-11-01 00:00:00'), Timestamp('1968-11-01 00:00:00'), Timestamp('2000-05-01 00:00:00'), Timestamp('1962-11-01 00:00:00'), Timestamp('1994-02-01 00:00:00'), Timestamp('1970-07-01 00:00:00'), Timestamp('1973-03-01 00:00:00'), Timestamp('2004-05-01 00:00:00'), Timestamp('2007-05-01 00:00:00'), Timestamp('1973-05-01 00:00:00'), Timestamp('1995-04-01 00:00:00'), Timestamp('1982-01-01 00:00:00'), Timestamp('1961-06-01 00:00:00'), Timestamp('1956-12-01 00:00:00'), Timestamp('1991-07-01 00:00:00'), Timestamp('2010-07-01 00:00:00'), Timestamp('1975-09-01 00:00:00'), Timestamp('1998-03-01 00:00:00'), Timestamp('1969-12-01 00:00:00'), Timestamp('1995-11-01 00:00:00'), Timestamp('1956-03-01 00:00:00'), Timestamp('1986-06-01 00:00:00'), Timestamp('1988-12-01 00:00:00'), Timestamp('1965-09-01 00:00:00'), Timestamp('1959-05-01 00:00:00'), Timestamp('2012-10-01 00:00:00'), Timestamp('2013-08-01 00:00:00'), Timestamp('1962-02-01 00:00:00'), Timestamp('1979-05-01 00:00:00'), Timestamp('1976-06-01 00:00:00'), Timestamp('1979-12-01 00:00:00'), Timestamp('1995-01-01 00:00:00'), Timestamp('1965-10-01 00:00:00'), Timestamp('1989-02-01 00:00:00'), Timestamp('1952-06-01 00:00:00'), Timestamp('2014-11-01 00:00:00'), Timestamp('1981-01-01 00:00:00'), Timestamp('1981-11-01 00:00:00'), Timestamp('1986-03-01 00:00:00'), Timestamp('2007-09-01 00:00:00'), Timestamp('1978-01-01 00:00:00'), Timestamp('2010-10-01 00:00:00'), Timestamp('1951-07-01 00:00:00'), Timestamp('1983-04-01 00:00:00'), Timestamp('2004-08-01 00:00:00'), Timestamp('1999-12-01 00:00:00'), Timestamp('1994-06-01 00:00:00'), Timestamp('1997-11-01 00:00:00'), Timestamp('1974-08-01 00:00:00'), Timestamp('1956-10-01 00:00:00'), Timestamp('1962-01-01 00:00:00'), Timestamp('1961-09-01 00:00:00'), Timestamp('2011-06-01 00:00:00'), Timestamp('1983-11-01 00:00:00'), Timestamp('1982-02-01 00:00:00'), Timestamp('2012-09-01 00:00:00'), Timestamp('2010-11-01 00:00:00')}\n",
            " ### Lengths should match: [792,791]\n",
            " ### ISSUE: sizes do not match::\n",
            "---df_net::---\n",
            "            landSeaAvgTemp\n",
            "year month                \n",
            "1950 1              13.311\n",
            "     2              13.554\n",
            "     3              14.296\n",
            "     4              15.093\n",
            "     5              16.033\n",
            "...                    ...\n",
            "2015 8              17.589\n",
            "     9              17.049\n",
            "     10             16.290\n",
            "     11             15.252\n",
            "     12             14.774\n",
            "\n",
            "[792 rows x 1 columns]\n",
            "---df_merge::---\n",
            "        _date_  day  year  month  landSeaAvgTemp\n",
            "0   1950-01-01  1.0  1950      1          13.311\n",
            "1   1950-02-01  1.0  1950      2          13.554\n",
            "2   1950-03-01  1.0  1950      3          14.296\n",
            "3   1950-04-01  1.0  1950      4          15.093\n",
            "4   1950-05-01  1.0  1950      5          16.033\n",
            "..         ...  ...   ...    ...             ...\n",
            "787 2015-08-01  1.0  2015      8          17.589\n",
            "788 2015-09-01  1.0  2015      9          17.049\n",
            "789 2015-10-01  1.0  2015     10          16.290\n",
            "790 2015-11-01  1.0  2015     11          15.252\n",
            "791        NaT  NaN  2015     12          14.774\n",
            "\n",
            "[792 rows x 5 columns]\n",
            "------------------------------------------\n",
            " ### Handle missing values via method: ffill...\n",
            " ### isna() value counts::\n",
            " ### isna() value counts::\n",
            " ### ------ Interval Counts - should be on the month ------\n",
            " ### 31 days    461\n",
            "30 days    263\n",
            "28 days     50\n",
            "29 days     16\n",
            "Name: interval, dtype: int64\n",
            " ### df/df_aggr size: 792/791\n",
            " ### pre-merge df::\n",
            "        _date_  day  year  month  landSeaAvgTemp\n",
            "0   1950-01-01  1.0  1950      1          13.311\n",
            "1   1950-02-01  1.0  1950      2          13.554\n",
            "2   1950-03-01  1.0  1950      3          14.296\n",
            "3   1950-04-01  1.0  1950      4          15.093\n",
            "4   1950-05-01  1.0  1950      5          16.033\n",
            "..         ...  ...   ...    ...             ...\n",
            "787 2015-08-01  1.0  2015      8          17.589\n",
            "788 2015-09-01  1.0  2015      9          17.049\n",
            "789 2015-10-01  1.0  2015     10          16.290\n",
            "790 2015-11-01  1.0  2015     11          15.252\n",
            "791        NaT  NaN  2015     12          14.774\n",
            "\n",
            "[792 rows x 5 columns]\n",
            " ### pre-merge df_aggr::\n",
            "               _date_\n",
            "1950-01-01 1950-01-01\n",
            "1950-02-01 1950-02-01\n",
            "1950-03-01 1950-03-01\n",
            "1950-04-01 1950-04-01\n",
            "1950-05-01 1950-05-01\n",
            "...               ...\n",
            "2015-07-01 2015-07-01\n",
            "2015-08-01 2015-08-01\n",
            "2015-09-01 2015-09-01\n",
            "2015-10-01 2015-10-01\n",
            "2015-11-01 2015-11-01\n",
            "\n",
            "[791 rows x 1 columns]\n",
            "------------------------------------------\n",
            " ### Creating cyclic fields for month\n",
            " ### Merging by date\n"
          ]
        },
        {
          "output_type": "display_data",
          "data": {
            "text/plain": [
              "<Figure size 800x600 with 1 Axes>"
            ],
            "image/png": "[encoded data removed]"
          },
          "metadata": {}
        }
      ],
      "source": [
        "# Start by merging initial dataset\n",
        "df_merge = merger.merge_dataset(TEMP_DATA['filename'],\n",
        "                                TEMP_DATA['feature_map'],\n",
        "                                 date_col=TEMP_DATA['date_col'],\n",
        "                                 add_cyclic=True)"
      ]
    },
    {
      "cell_type": "code",
      "execution_count": null,
      "metadata": {
        "colab": {
          "base_uri": "https://localhost:8080/"
        },
        "id": "p8_Ghvghl8dk",
        "outputId": "b9a9c213-2f59-41d9-df71-8ae6589b14da"
      },
      "outputs": [
        {
          "output_type": "stream",
          "name": "stdout",
          "text": [
            "  _date_  day year month landSeaAvgTemp month-sin month-cos\n",
            "0    0.0  0.0  0.0   0.0            0.0       0.0       0.0\n"
          ]
        }
      ],
      "source": [
        "print(assess_na(df_merge))"
      ]
    },
    {
      "cell_type": "markdown",
      "metadata": {
        "id": "gUKUOyXObn6E"
      },
      "source": [
        "---\n",
        "\n",
        "**Merge Additional Data**\n",
        "\n",
        "---"
      ]
    },
    {
      "cell_type": "code",
      "execution_count": null,
      "metadata": {
        "id": "Sfz0GSsJH4zI",
        "colab": {
          "base_uri": "https://localhost:8080/",
          "height": 1000
        },
        "outputId": "12d56854-ec62-4a4e-f950-4405591cda00"
      },
      "outputs": [
        {
          "output_type": "stream",
          "name": "stdout",
          "text": [
            "------------------------------------------\n",
            " ###  ============================================================\n",
            "  Loading data/content/drive/MyDrive/data606/data/WorldForestCover.csv\n",
            "\n",
            "------------------------------------------\n",
            " ### Renaming columns\n",
            "<class 'pandas.core.frame.DataFrame'>\n",
            "RangeIndex: 860 entries, 0 to 859\n",
            "Data columns (total 5 columns):\n",
            " #   Column            Non-Null Count  Dtype  \n",
            "---  ------            --------------  -----  \n",
            " 0   year              860 non-null    int64  \n",
            " 1   Country           860 non-null    object \n",
            " 2   TotalArea         860 non-null    float64\n",
            " 3   CoverArea         860 non-null    int64  \n",
            " 4   pct_forest_cover  860 non-null    float64\n",
            "dtypes: float64(2), int64(2), object(1)\n",
            "memory usage: 33.7+ KB\n",
            "------------------------------------------\n",
            " ### preprocess_dates with date_col: None\n",
            "------------------------------------------\n",
            " ### Creating std date columns\n",
            "<class 'pandas.core.frame.DataFrame'>\n",
            "RangeIndex: 860 entries, 0 to 859\n",
            "Data columns (total 8 columns):\n",
            " #   Column            Non-Null Count  Dtype  \n",
            "---  ------            --------------  -----  \n",
            " 0   year              860 non-null    int32  \n",
            " 1   Country           860 non-null    object \n",
            " 2   TotalArea         860 non-null    float64\n",
            " 3   CoverArea         860 non-null    int64  \n",
            " 4   pct_forest_cover  860 non-null    float64\n",
            " 5   month             860 non-null    int64  \n",
            " 6   day               860 non-null    int64  \n",
            " 7   yearStr           860 non-null    object \n",
            "dtypes: float64(2), int32(1), int64(3), object(2)\n",
            "memory usage: 50.5+ KB\n",
            " ### Using date format: 01/01/{yearStr}\n",
            "<class 'pandas.core.frame.DataFrame'>\n",
            "RangeIndex: 860 entries, 0 to 859\n",
            "Data columns (total 8 columns):\n",
            " #   Column            Non-Null Count  Dtype  \n",
            "---  ------            --------------  -----  \n",
            " 0   year              860 non-null    int32  \n",
            " 1   Country           860 non-null    object \n",
            " 2   TotalArea         860 non-null    float64\n",
            " 3   CoverArea         860 non-null    int64  \n",
            " 4   pct_forest_cover  860 non-null    float64\n",
            " 5   month             860 non-null    int64  \n",
            " 6   day               860 non-null    int64  \n",
            " 7   yearStr           860 non-null    object \n",
            "dtypes: float64(2), int32(1), int64(3), object(2)\n",
            "memory usage: 50.5+ KB\n",
            " ###             year                    Country  TotalArea  CoverArea  \\\n",
            "1990-01-01  1990                Afghanistan    65286.7       1208   \n",
            "1990-01-01  1990                    Albania     2739.8        789   \n",
            "1990-01-01  1990                    Algeria   238174.1       1667   \n",
            "1990-01-01  1990             American Samoa       19.9         18   \n",
            "1990-01-01  1990                    Andorra       46.8         16   \n",
            "...          ...                        ...        ...        ...   \n",
            "2020-01-01  2020  Wallis and Futuna Islands       14.2          6   \n",
            "2020-01-01  2020             Western Sahara    26600.0        665   \n",
            "2020-01-01  2020                      Yemen    55500.0        549   \n",
            "2020-01-01  2020                     Zambia    74339.8      44814   \n",
            "2020-01-01  2020                   Zimbabwe    38684.7      17445   \n",
            "\n",
            "            pct_forest_cover  month  day yearStr     _date_  \n",
            "1990-01-01              1.85      1    1    1990 1990-01-01  \n",
            "1990-01-01             28.80      1    1    1990 1990-01-01  \n",
            "1990-01-01              0.70      1    1    1990 1990-01-01  \n",
            "1990-01-01             90.45      1    1    1990 1990-01-01  \n",
            "1990-01-01             34.19      1    1    1990 1990-01-01  \n",
            "...                      ...    ...  ...     ...        ...  \n",
            "2020-01-01             42.25      1    1    2020 2020-01-01  \n",
            "2020-01-01              2.50      1    1    2020 2020-01-01  \n",
            "2020-01-01              0.99      1    1    2020 2020-01-01  \n",
            "2020-01-01             60.28      1    1    2020 2020-01-01  \n",
            "2020-01-01             45.10      1    1    2020 2020-01-01  \n",
            "\n",
            "[860 rows x 9 columns]\n",
            "------------------------------------------\n",
            " ### Trimming columns to ['pct_forest_cover']...\n",
            "------------------------------------------\n",
            " ### Cropping dates to [1950-01-01 00:00:00:2015-12-01 00:00:00]\n",
            " ###             year  pct_forest_cover  month  day     _date_\n",
            "1990-01-01  1990              1.85      1    1 1990-01-01\n",
            "1990-01-01  1990             28.80      1    1 1990-01-01\n",
            "1990-01-01  1990              0.70      1    1 1990-01-01\n",
            "1990-01-01  1990             90.45      1    1 1990-01-01\n",
            "1990-01-01  1990             34.19      1    1 1990-01-01\n",
            "...          ...               ...    ...  ...        ...\n",
            "2010-01-01  2010             42.25      1    1 2010-01-01\n",
            "2010-01-01  2010              2.50      1    1 2010-01-01\n",
            "2010-01-01  2010              0.99      1    1 2010-01-01\n",
            "2010-01-01  2010             62.81      1    1 2010-01-01\n",
            "2010-01-01  2010             46.28      1    1 2010-01-01\n",
            "\n",
            "[645 rows x 5 columns]\n",
            "              year  pct_forest_cover  month    day\n",
            "count   645.000000        645.000000  645.0  645.0\n",
            "mean   2000.000000         34.777023    1.0    1.0\n",
            "std       8.171303         25.131503    0.0    0.0\n",
            "min    1990.000000          0.000000    1.0    1.0\n",
            "25%    1990.000000         12.470000    1.0    1.0\n",
            "50%    2000.000000         33.260000    1.0    1.0\n",
            "75%    2010.000000         52.330000    1.0    1.0\n",
            "max    2010.000000         98.580000    1.0    1.0\n",
            " ### Assessing data freq scales\n",
            "------------------------------------------\n",
            " ### assess_granularity for cols: ['pct_forest_cover']\n",
            " ### After grouping y/m/d: 3\n",
            " ### After grouping y/m: 3\n",
            " ### After grouping y: 3\n",
            "Dataset assessed at timestep freq: Y\n",
            " ### src/target: 0/1\n",
            "------------------------------------------\n",
            "  Downscaling to freq 1M\n",
            "------------------------------------------\n",
            " ### preprocess_dates with date_col: None\n",
            " ### Converting DatetimeIndex into a column\n",
            "------------------------------------------\n",
            " ### Creating std date columns\n",
            " ### ## Case 2 for df::\n",
            "<bound method DataFrame.info of         _date_\n",
            "0   1950-01-01\n",
            "1   1950-02-01\n",
            "2   1950-03-01\n",
            "3   1950-04-01\n",
            "4   1950-05-01\n",
            "..         ...\n",
            "786 2015-07-01\n",
            "787 2015-08-01\n",
            "788 2015-09-01\n",
            "789 2015-10-01\n",
            "790 2015-11-01\n",
            "\n",
            "[791 rows x 1 columns]>\n",
            " ###                _date_  day  year  month\n",
            "1950-01-01 1950-01-01    1  1950      1\n",
            "1950-02-01 1950-02-01    1  1950      2\n",
            "1950-03-01 1950-03-01    1  1950      3\n",
            "1950-04-01 1950-04-01    1  1950      4\n",
            "1950-05-01 1950-05-01    1  1950      5\n",
            "...               ...  ...   ...    ...\n",
            "2015-07-01 2015-07-01    1  2015      7\n",
            "2015-08-01 2015-08-01    1  2015      8\n",
            "2015-09-01 2015-09-01    1  2015      9\n",
            "2015-10-01 2015-10-01    1  2015     10\n",
            "2015-11-01 2015-11-01    1  2015     11\n",
            "\n",
            "[791 rows x 4 columns]\n",
            "WARN: downscale found missing data in df vs. df_ref: 645 vs. 791\n",
            " ### src/target freqs: 0/1\n",
            " ### Grouping df on ['year', 'month']\n",
            " ### Grouped df::\n",
            "            pct_forest_cover\n",
            "year month                  \n",
            "1990 1             35.198512\n",
            "2000 1             34.736233\n",
            "2010 1             34.396326\n",
            " ### Reference df::\n",
            "               _date_  day  year  month\n",
            "1950-01-01 1950-01-01    1  1950      1\n",
            "1950-02-01 1950-02-01    1  1950      2\n",
            "1950-03-01 1950-03-01    1  1950      3\n",
            "1950-04-01 1950-04-01    1  1950      4\n",
            "1950-05-01 1950-05-01    1  1950      5\n",
            "...               ...  ...   ...    ...\n",
            "2015-07-01 2015-07-01    1  2015      7\n",
            "2015-08-01 2015-08-01    1  2015      8\n",
            "2015-09-01 2015-09-01    1  2015      9\n",
            "2015-10-01 2015-10-01    1  2015     10\n",
            "2015-11-01 2015-11-01    1  2015     11\n",
            "\n",
            "[791 rows x 4 columns]\n",
            " ### Joining on DATE_COLS: ['year', 'month']\n",
            "In df1 only: {Timestamp('2014-03-01 00:00:00'), Timestamp('1954-04-01 00:00:00'), Timestamp('2002-10-01 00:00:00'), Timestamp('1954-01-01 00:00:00'), Timestamp('1961-12-01 00:00:00'), Timestamp('1989-04-01 00:00:00'), Timestamp('1952-09-01 00:00:00'), Timestamp('1975-01-01 00:00:00'), Timestamp('1975-11-01 00:00:00'), Timestamp('1954-07-01 00:00:00'), Timestamp('2011-11-01 00:00:00'), Timestamp('1980-04-01 00:00:00'), Timestamp('1988-05-01 00:00:00'), Timestamp('1998-01-01 00:00:00'), Timestamp('1960-01-01 00:00:00'), Timestamp('1980-01-01 00:00:00'), Timestamp('1975-07-01 00:00:00'), Timestamp('1986-12-01 00:00:00'), Timestamp('1996-05-01 00:00:00'), Timestamp('1981-09-01 00:00:00'), Timestamp('2003-02-01 00:00:00'), Timestamp('1999-04-01 00:00:00'), Timestamp('1995-03-01 00:00:00'), Timestamp('1980-10-01 00:00:00'), Timestamp('1984-10-01 00:00:00'), Timestamp('1973-02-01 00:00:00'), Timestamp('1984-04-01 00:00:00'), Timestamp('1997-05-01 00:00:00'), Timestamp('1986-04-01 00:00:00'), Timestamp('2013-01-01 00:00:00'), Timestamp('1982-05-01 00:00:00'), Timestamp('1981-03-01 00:00:00'), Timestamp('1993-05-01 00:00:00'), Timestamp('1985-07-01 00:00:00'), Timestamp('1953-09-01 00:00:00'), Timestamp('1992-06-01 00:00:00'), Timestamp('2012-03-01 00:00:00'), Timestamp('1984-01-01 00:00:00'), Timestamp('1997-09-01 00:00:00'), Timestamp('1983-08-01 00:00:00'), Timestamp('1979-03-01 00:00:00'), Timestamp('1969-11-01 00:00:00'), Timestamp('1962-03-01 00:00:00'), Timestamp('2015-08-01 00:00:00'), Timestamp('2002-05-01 00:00:00'), Timestamp('1988-08-01 00:00:00'), Timestamp('1960-02-01 00:00:00'), Timestamp('1975-12-01 00:00:00'), Timestamp('1995-02-01 00:00:00'), Timestamp('1962-07-01 00:00:00'), Timestamp('1977-03-01 00:00:00'), Timestamp('2001-03-01 00:00:00'), Timestamp('1964-05-01 00:00:00'), Timestamp('2005-04-01 00:00:00'), Timestamp('1965-05-01 00:00:00'), Timestamp('1964-10-01 00:00:00'), Timestamp('1996-02-01 00:00:00'), Timestamp('1962-09-01 00:00:00'), Timestamp('1983-02-01 00:00:00'), Timestamp('1983-06-01 00:00:00'), Timestamp('2012-04-01 00:00:00'), Timestamp('1976-10-01 00:00:00'), Timestamp('1953-08-01 00:00:00'), Timestamp('2006-03-01 00:00:00'), Timestamp('1971-05-01 00:00:00'), Timestamp('1979-11-01 00:00:00'), Timestamp('1960-08-01 00:00:00'), Timestamp('1960-12-01 00:00:00'), Timestamp('1972-04-01 00:00:00'), Timestamp('1974-05-01 00:00:00'), Timestamp('2002-03-01 00:00:00'), Timestamp('2007-11-01 00:00:00'), Timestamp('1976-08-01 00:00:00'), Timestamp('1977-08-01 00:00:00'), Timestamp('1955-05-01 00:00:00'), Timestamp('2013-04-01 00:00:00'), Timestamp('2007-04-01 00:00:00'), Timestamp('1967-09-01 00:00:00'), Timestamp('1988-03-01 00:00:00'), Timestamp('1967-06-01 00:00:00'), Timestamp('1989-09-01 00:00:00'), Timestamp('1989-12-01 00:00:00'), Timestamp('2012-02-01 00:00:00'), Timestamp('1953-05-01 00:00:00'), Timestamp('1956-07-01 00:00:00'), Timestamp('1966-12-01 00:00:00'), Timestamp('1996-10-01 00:00:00'), Timestamp('1983-12-01 00:00:00'), Timestamp('1978-07-01 00:00:00'), Timestamp('1962-05-01 00:00:00'), Timestamp('2014-05-01 00:00:00'), Timestamp('1964-04-01 00:00:00'), Timestamp('1965-04-01 00:00:00'), Timestamp('1966-03-01 00:00:00'), Timestamp('1989-06-01 00:00:00'), Timestamp('1993-03-01 00:00:00'), Timestamp('2011-08-01 00:00:00'), Timestamp('1955-04-01 00:00:00'), Timestamp('1964-06-01 00:00:00'), Timestamp('1950-12-01 00:00:00'), Timestamp('2004-04-01 00:00:00'), Timestamp('1987-11-01 00:00:00'), Timestamp('2006-07-01 00:00:00'), Timestamp('1993-11-01 00:00:00'), Timestamp('1961-03-01 00:00:00'), Timestamp('1950-04-01 00:00:00'), Timestamp('1969-09-01 00:00:00'), Timestamp('1970-08-01 00:00:00'), Timestamp('1983-10-01 00:00:00'), Timestamp('1973-09-01 00:00:00'), Timestamp('1997-10-01 00:00:00'), Timestamp('1957-05-01 00:00:00'), Timestamp('2005-07-01 00:00:00'), Timestamp('2009-06-01 00:00:00'), Timestamp('1971-09-01 00:00:00'), Timestamp('1980-12-01 00:00:00'), Timestamp('1992-01-01 00:00:00'), Timestamp('1964-12-01 00:00:00'), Timestamp('1999-01-01 00:00:00'), Timestamp('1998-07-01 00:00:00'), Timestamp('1984-07-01 00:00:00'), Timestamp('1986-05-01 00:00:00'), Timestamp('2007-10-01 00:00:00'), Timestamp('1998-09-01 00:00:00'), Timestamp('1956-04-01 00:00:00'), Timestamp('1985-06-01 00:00:00'), Timestamp('1950-02-01 00:00:00'), Timestamp('1950-07-01 00:00:00'), Timestamp('1967-05-01 00:00:00'), Timestamp('1962-04-01 00:00:00'), Timestamp('1972-05-01 00:00:00'), Timestamp('1982-04-01 00:00:00'), Timestamp('1997-06-01 00:00:00'), Timestamp('2015-10-01 00:00:00'), Timestamp('1959-06-01 00:00:00'), Timestamp('1990-08-01 00:00:00'), Timestamp('1975-03-01 00:00:00'), Timestamp('1976-12-01 00:00:00'), Timestamp('1970-04-01 00:00:00'), Timestamp('1987-09-01 00:00:00'), Timestamp('1990-06-01 00:00:00'), Timestamp('2007-01-01 00:00:00'), Timestamp('1952-12-01 00:00:00'), Timestamp('1990-11-01 00:00:00'), Timestamp('1964-07-01 00:00:00'), Timestamp('1953-10-01 00:00:00'), Timestamp('1971-12-01 00:00:00'), Timestamp('2005-10-01 00:00:00'), Timestamp('1978-02-01 00:00:00'), Timestamp('1952-08-01 00:00:00'), Timestamp('1950-09-01 00:00:00'), Timestamp('1951-04-01 00:00:00'), Timestamp('2009-11-01 00:00:00'), Timestamp('1991-03-01 00:00:00'), Timestamp('1999-09-01 00:00:00'), Timestamp('2005-12-01 00:00:00'), Timestamp('1969-07-01 00:00:00'), Timestamp('2008-02-01 00:00:00'), Timestamp('1955-08-01 00:00:00'), Timestamp('1958-08-01 00:00:00'), Timestamp('1977-12-01 00:00:00'), Timestamp('2006-11-01 00:00:00'), Timestamp('2001-06-01 00:00:00'), Timestamp('1957-12-01 00:00:00'), Timestamp('1972-07-01 00:00:00'), Timestamp('2003-04-01 00:00:00'), Timestamp('2003-09-01 00:00:00'), Timestamp('1971-03-01 00:00:00'), Timestamp('1968-03-01 00:00:00'), Timestamp('2002-04-01 00:00:00'), Timestamp('2001-08-01 00:00:00'), Timestamp('1984-05-01 00:00:00'), Timestamp('2007-03-01 00:00:00'), Timestamp('1983-05-01 00:00:00'), Timestamp('1970-01-01 00:00:00'), Timestamp('1957-07-01 00:00:00'), Timestamp('2003-01-01 00:00:00'), Timestamp('1957-02-01 00:00:00'), Timestamp('1982-11-01 00:00:00'), Timestamp('1994-11-01 00:00:00'), Timestamp('1975-05-01 00:00:00'), Timestamp('1955-06-01 00:00:00'), Timestamp('1977-10-01 00:00:00'), Timestamp('1971-07-01 00:00:00'), Timestamp('2013-12-01 00:00:00'), Timestamp('1959-09-01 00:00:00'), Timestamp('1952-03-01 00:00:00'), Timestamp('2010-06-01 00:00:00'), Timestamp('2000-02-01 00:00:00'), Timestamp('1991-01-01 00:00:00'), Timestamp('1973-01-01 00:00:00'), Timestamp('1961-04-01 00:00:00'), Timestamp('1960-05-01 00:00:00'), Timestamp('1975-08-01 00:00:00'), Timestamp('1951-06-01 00:00:00'), Timestamp('1985-05-01 00:00:00'), Timestamp('1994-08-01 00:00:00'), Timestamp('1996-04-01 00:00:00'), Timestamp('2014-01-01 00:00:00'), Timestamp('1964-03-01 00:00:00'), Timestamp('2002-01-01 00:00:00'), Timestamp('2004-12-01 00:00:00'), Timestamp('2013-06-01 00:00:00'), Timestamp('2001-02-01 00:00:00'), Timestamp('2001-04-01 00:00:00'), Timestamp('1999-05-01 00:00:00'), Timestamp('1996-09-01 00:00:00'), Timestamp('1962-12-01 00:00:00'), Timestamp('2003-07-01 00:00:00'), Timestamp('1980-02-01 00:00:00'), Timestamp('1997-03-01 00:00:00'), Timestamp('1998-10-01 00:00:00'), Timestamp('1955-01-01 00:00:00'), Timestamp('1978-04-01 00:00:00'), Timestamp('1961-01-01 00:00:00'), Timestamp('1972-02-01 00:00:00'), Timestamp('1956-01-01 00:00:00'), Timestamp('1976-07-01 00:00:00'), Timestamp('1966-07-01 00:00:00'), Timestamp('1978-08-01 00:00:00'), Timestamp('2002-08-01 00:00:00'), Timestamp('2005-03-01 00:00:00'), Timestamp('1999-03-01 00:00:00'), Timestamp('1988-02-01 00:00:00'), Timestamp('2004-02-01 00:00:00'), Timestamp('2011-01-01 00:00:00'), Timestamp('1950-06-01 00:00:00'), Timestamp('1982-12-01 00:00:00'), Timestamp('1985-09-01 00:00:00'), Timestamp('2001-07-01 00:00:00'), Timestamp('2004-09-01 00:00:00'), Timestamp('2014-06-01 00:00:00'), Timestamp('1975-10-01 00:00:00'), Timestamp('1978-03-01 00:00:00'), Timestamp('1991-06-01 00:00:00'), Timestamp('1965-07-01 00:00:00'), Timestamp('1991-09-01 00:00:00'), Timestamp('1991-11-01 00:00:00'), Timestamp('1977-05-01 00:00:00'), Timestamp('1974-06-01 00:00:00'), Timestamp('1952-10-01 00:00:00'), Timestamp('2010-09-01 00:00:00'), Timestamp('2012-12-01 00:00:00'), Timestamp('1994-07-01 00:00:00'), Timestamp('2008-07-01 00:00:00'), Timestamp('1996-07-01 00:00:00'), Timestamp('1963-08-01 00:00:00'), Timestamp('1957-09-01 00:00:00'), Timestamp('1994-12-01 00:00:00'), Timestamp('2012-08-01 00:00:00'), Timestamp('1993-10-01 00:00:00'), Timestamp('1976-09-01 00:00:00'), Timestamp('1978-09-01 00:00:00'), Timestamp('1966-09-01 00:00:00'), Timestamp('1992-03-01 00:00:00'), Timestamp('1982-03-01 00:00:00'), Timestamp('1992-04-01 00:00:00'), Timestamp('1987-10-01 00:00:00'), Timestamp('1950-11-01 00:00:00'), Timestamp('1959-04-01 00:00:00'), Timestamp('1953-01-01 00:00:00'), Timestamp('1965-03-01 00:00:00'), Timestamp('2015-04-01 00:00:00'), Timestamp('1978-11-01 00:00:00'), Timestamp('1982-09-01 00:00:00'), Timestamp('1954-03-01 00:00:00'), Timestamp('1964-01-01 00:00:00'), Timestamp('2010-01-01 00:00:00'), Timestamp('1955-02-01 00:00:00'), Timestamp('1955-09-01 00:00:00'), Timestamp('2015-05-01 00:00:00'), Timestamp('2002-02-01 00:00:00'), Timestamp('1956-05-01 00:00:00'), Timestamp('1981-12-01 00:00:00'), Timestamp('2014-09-01 00:00:00'), Timestamp('1985-01-01 00:00:00'), Timestamp('1958-10-01 00:00:00'), Timestamp('1956-09-01 00:00:00'), Timestamp('1989-01-01 00:00:00'), Timestamp('1991-05-01 00:00:00'), Timestamp('2000-07-01 00:00:00'), Timestamp('1971-01-01 00:00:00'), Timestamp('1962-10-01 00:00:00'), Timestamp('1979-08-01 00:00:00'), Timestamp('1993-04-01 00:00:00'), Timestamp('1981-08-01 00:00:00'), Timestamp('1996-11-01 00:00:00'), Timestamp('1985-12-01 00:00:00'), Timestamp('2005-06-01 00:00:00'), Timestamp('1953-04-01 00:00:00'), Timestamp('1974-10-01 00:00:00'), Timestamp('1985-02-01 00:00:00'), Timestamp('2011-07-01 00:00:00'), Timestamp('2010-04-01 00:00:00'), Timestamp('1979-09-01 00:00:00'), Timestamp('1967-02-01 00:00:00'), Timestamp('1983-03-01 00:00:00'), Timestamp('1974-02-01 00:00:00'), Timestamp('1980-09-01 00:00:00'), Timestamp('1969-05-01 00:00:00'), Timestamp('1973-04-01 00:00:00'), Timestamp('1951-01-01 00:00:00'), Timestamp('1999-07-01 00:00:00'), Timestamp('2004-07-01 00:00:00'), Timestamp('2000-04-01 00:00:00'), Timestamp('2014-07-01 00:00:00'), Timestamp('1986-02-01 00:00:00'), Timestamp('1961-07-01 00:00:00'), Timestamp('2011-09-01 00:00:00'), Timestamp('1998-05-01 00:00:00'), Timestamp('2004-01-01 00:00:00'), Timestamp('1992-08-01 00:00:00'), Timestamp('1990-04-01 00:00:00'), Timestamp('1970-06-01 00:00:00'), Timestamp('1972-11-01 00:00:00'), Timestamp('1967-12-01 00:00:00'), Timestamp('1981-07-01 00:00:00'), Timestamp('2014-10-01 00:00:00'), Timestamp('2012-11-01 00:00:00'), Timestamp('2002-06-01 00:00:00'), Timestamp('1967-01-01 00:00:00'), Timestamp('1987-08-01 00:00:00'), Timestamp('2010-05-01 00:00:00'), Timestamp('2009-05-01 00:00:00'), Timestamp('2005-02-01 00:00:00'), Timestamp('1972-06-01 00:00:00'), Timestamp('1968-01-01 00:00:00'), Timestamp('1969-02-01 00:00:00'), Timestamp('1978-10-01 00:00:00'), Timestamp('1980-07-01 00:00:00'), Timestamp('1980-05-01 00:00:00'), Timestamp('1957-03-01 00:00:00'), Timestamp('1997-04-01 00:00:00'), Timestamp('1951-05-01 00:00:00'), Timestamp('1974-03-01 00:00:00'), Timestamp('1984-03-01 00:00:00'), Timestamp('1999-11-01 00:00:00'), Timestamp('1993-09-01 00:00:00'), Timestamp('1967-08-01 00:00:00'), Timestamp('1981-04-01 00:00:00'), Timestamp('1994-05-01 00:00:00'), Timestamp('1993-07-01 00:00:00'), Timestamp('1964-08-01 00:00:00'), Timestamp('1961-10-01 00:00:00'), Timestamp('1968-10-01 00:00:00'), Timestamp('2001-05-01 00:00:00'), Timestamp('1955-11-01 00:00:00'), Timestamp('1997-12-01 00:00:00'), Timestamp('1976-04-01 00:00:00'), Timestamp('1950-01-01 00:00:00'), Timestamp('2003-10-01 00:00:00'), Timestamp('1992-09-01 00:00:00'), Timestamp('1987-03-01 00:00:00'), Timestamp('1999-08-01 00:00:00'), Timestamp('1990-02-01 00:00:00'), Timestamp('1963-06-01 00:00:00'), Timestamp('1969-04-01 00:00:00'), Timestamp('1983-09-01 00:00:00'), Timestamp('1957-06-01 00:00:00'), Timestamp('1978-12-01 00:00:00'), Timestamp('1982-10-01 00:00:00'), Timestamp('1991-10-01 00:00:00'), Timestamp('1994-10-01 00:00:00'), Timestamp('1953-12-01 00:00:00'), Timestamp('1961-08-01 00:00:00'), Timestamp('2011-04-01 00:00:00'), Timestamp('2005-09-01 00:00:00'), Timestamp('1998-06-01 00:00:00'), Timestamp('1959-02-01 00:00:00'), Timestamp('1991-08-01 00:00:00'), Timestamp('1986-10-01 00:00:00'), Timestamp('1968-06-01 00:00:00'), Timestamp('2009-02-01 00:00:00'), Timestamp('1975-06-01 00:00:00'), Timestamp('1997-01-01 00:00:00'), Timestamp('1990-09-01 00:00:00'), Timestamp('1954-05-01 00:00:00'), Timestamp('1960-10-01 00:00:00'), Timestamp('1997-02-01 00:00:00'), Timestamp('1954-06-01 00:00:00'), Timestamp('1969-03-01 00:00:00'), Timestamp('1970-03-01 00:00:00'), Timestamp('1977-02-01 00:00:00'), Timestamp('1961-02-01 00:00:00'), Timestamp('1995-06-01 00:00:00'), Timestamp('2012-07-01 00:00:00'), Timestamp('1973-10-01 00:00:00'), Timestamp('1968-04-01 00:00:00'), Timestamp('1961-11-01 00:00:00'), Timestamp('1952-02-01 00:00:00'), Timestamp('1959-07-01 00:00:00'), Timestamp('1998-08-01 00:00:00'), Timestamp('1965-06-01 00:00:00'), Timestamp('2009-12-01 00:00:00'), Timestamp('1992-12-01 00:00:00'), Timestamp('1970-02-01 00:00:00'), Timestamp('2003-12-01 00:00:00'), Timestamp('1966-02-01 00:00:00'), Timestamp('1981-02-01 00:00:00'), Timestamp('2002-09-01 00:00:00'), Timestamp('2013-11-01 00:00:00'), Timestamp('1998-02-01 00:00:00'), Timestamp('2001-10-01 00:00:00'), Timestamp('1987-02-01 00:00:00'), Timestamp('1951-08-01 00:00:00'), Timestamp('1960-03-01 00:00:00'), Timestamp('1963-11-01 00:00:00'), Timestamp('2011-05-01 00:00:00'), Timestamp('1950-05-01 00:00:00'), Timestamp('2007-02-01 00:00:00'), Timestamp('1959-01-01 00:00:00'), Timestamp('1963-04-01 00:00:00'), Timestamp('1984-02-01 00:00:00'), Timestamp('1971-08-01 00:00:00'), Timestamp('1971-10-01 00:00:00'), Timestamp('1994-03-01 00:00:00'), Timestamp('2000-03-01 00:00:00'), Timestamp('2007-08-01 00:00:00'), Timestamp('2004-03-01 00:00:00'), Timestamp('1967-03-01 00:00:00'), Timestamp('2011-02-01 00:00:00'), Timestamp('2008-01-01 00:00:00'), Timestamp('1965-01-01 00:00:00'), Timestamp('1992-02-01 00:00:00'), Timestamp('1979-07-01 00:00:00'), Timestamp('1989-11-01 00:00:00'), Timestamp('1995-10-01 00:00:00'), Timestamp('1954-08-01 00:00:00'), Timestamp('1967-10-01 00:00:00'), Timestamp('1997-07-01 00:00:00'), Timestamp('2009-09-01 00:00:00'), Timestamp('1955-07-01 00:00:00'), Timestamp('2011-10-01 00:00:00'), Timestamp('1991-04-01 00:00:00'), Timestamp('1967-04-01 00:00:00'), Timestamp('1970-09-01 00:00:00'), Timestamp('1972-03-01 00:00:00'), Timestamp('2005-01-01 00:00:00'), Timestamp('2004-06-01 00:00:00'), Timestamp('1995-07-01 00:00:00'), Timestamp('2009-03-01 00:00:00'), Timestamp('1966-01-01 00:00:00'), Timestamp('1959-08-01 00:00:00'), Timestamp('1958-05-01 00:00:00'), Timestamp('1951-02-01 00:00:00'), Timestamp('1952-05-01 00:00:00'), Timestamp('1973-11-01 00:00:00'), Timestamp('1988-06-01 00:00:00'), Timestamp('1984-12-01 00:00:00'), Timestamp('1960-07-01 00:00:00'), Timestamp('2006-09-01 00:00:00'), Timestamp('1961-05-01 00:00:00'), Timestamp('1979-01-01 00:00:00'), Timestamp('2013-02-01 00:00:00'), Timestamp('2008-09-01 00:00:00'), Timestamp('2010-03-01 00:00:00'), Timestamp('1989-08-01 00:00:00'), Timestamp('2000-12-01 00:00:00'), Timestamp('1958-04-01 00:00:00'), Timestamp('1977-07-01 00:00:00'), Timestamp('1980-08-01 00:00:00'), Timestamp('2008-04-01 00:00:00'), Timestamp('1958-06-01 00:00:00'), Timestamp('1995-12-01 00:00:00'), Timestamp('1981-05-01 00:00:00'), Timestamp('1995-08-01 00:00:00'), Timestamp('1963-12-01 00:00:00'), Timestamp('1998-11-01 00:00:00'), Timestamp('1960-04-01 00:00:00'), Timestamp('2013-03-01 00:00:00'), Timestamp('1990-05-01 00:00:00'), Timestamp('1987-05-01 00:00:00'), Timestamp('2001-09-01 00:00:00'), Timestamp('2013-09-01 00:00:00'), Timestamp('1976-03-01 00:00:00'), Timestamp('1987-06-01 00:00:00'), Timestamp('1995-05-01 00:00:00'), Timestamp('1993-02-01 00:00:00'), Timestamp('1984-08-01 00:00:00'), Timestamp('1982-07-01 00:00:00'), Timestamp('2012-01-01 00:00:00'), Timestamp('1990-07-01 00:00:00'), Timestamp('1994-04-01 00:00:00'), Timestamp('1971-04-01 00:00:00'), Timestamp('2004-10-01 00:00:00'), Timestamp('1954-10-01 00:00:00'), Timestamp('1984-11-01 00:00:00'), Timestamp('2007-06-01 00:00:00'), Timestamp('1953-11-01 00:00:00'), Timestamp('1998-12-01 00:00:00'), Timestamp('2015-07-01 00:00:00'), Timestamp('1971-02-01 00:00:00'), Timestamp('1973-07-01 00:00:00'), Timestamp('1974-09-01 00:00:00'), Timestamp('1950-10-01 00:00:00'), Timestamp('2006-05-01 00:00:00'), Timestamp('2014-08-01 00:00:00'), Timestamp('1953-06-01 00:00:00'), Timestamp('1963-01-01 00:00:00'), Timestamp('2010-12-01 00:00:00'), Timestamp('2013-07-01 00:00:00'), Timestamp('2009-01-01 00:00:00'), Timestamp('1990-12-01 00:00:00'), Timestamp('1957-04-01 00:00:00'), Timestamp('1959-10-01 00:00:00'), Timestamp('1999-02-01 00:00:00'), Timestamp('2008-06-01 00:00:00'), Timestamp('1988-11-01 00:00:00'), Timestamp('1958-12-01 00:00:00'), Timestamp('1972-08-01 00:00:00'), Timestamp('1958-02-01 00:00:00'), Timestamp('1985-11-01 00:00:00'), Timestamp('1974-11-01 00:00:00'), Timestamp('1959-12-01 00:00:00'), Timestamp('2006-01-01 00:00:00'), Timestamp('2005-11-01 00:00:00'), Timestamp('1956-06-01 00:00:00'), Timestamp('1972-12-01 00:00:00'), Timestamp('2014-02-01 00:00:00'), Timestamp('2010-08-01 00:00:00'), Timestamp('1969-01-01 00:00:00'), Timestamp('1976-05-01 00:00:00'), Timestamp('1958-09-01 00:00:00'), Timestamp('1966-08-01 00:00:00'), Timestamp('1952-04-01 00:00:00'), Timestamp('2014-12-01 00:00:00'), Timestamp('1950-08-01 00:00:00'), Timestamp('1972-01-01 00:00:00'), Timestamp('1978-06-01 00:00:00'), Timestamp('1976-01-01 00:00:00'), Timestamp('2008-05-01 00:00:00'), Timestamp('2005-08-01 00:00:00'), Timestamp('2008-11-01 00:00:00'), Timestamp('1968-02-01 00:00:00'), Timestamp('1970-10-01 00:00:00'), Timestamp('1996-08-01 00:00:00'), Timestamp('1963-05-01 00:00:00'), Timestamp('1989-03-01 00:00:00'), Timestamp('1994-09-01 00:00:00'), Timestamp('2012-05-01 00:00:00'), Timestamp('2006-08-01 00:00:00'), Timestamp('1963-03-01 00:00:00'), Timestamp('2015-02-01 00:00:00'), Timestamp('1992-10-01 00:00:00'), Timestamp('2015-06-01 00:00:00'), Timestamp('1992-11-01 00:00:00'), Timestamp('1996-03-01 00:00:00'), Timestamp('1979-10-01 00:00:00'), Timestamp('1985-10-01 00:00:00'), Timestamp('1970-11-01 00:00:00'), Timestamp('1958-03-01 00:00:00'), Timestamp('1990-03-01 00:00:00'), Timestamp('1993-08-01 00:00:00'), Timestamp('2007-07-01 00:00:00'), Timestamp('1973-06-01 00:00:00'), Timestamp('1997-08-01 00:00:00'), Timestamp('1951-12-01 00:00:00'), Timestamp('2000-10-01 00:00:00'), Timestamp('1953-03-01 00:00:00'), Timestamp('1962-06-01 00:00:00'), Timestamp('2000-09-01 00:00:00'), Timestamp('2008-10-01 00:00:00'), Timestamp('1988-10-01 00:00:00'), Timestamp('2006-02-01 00:00:00'), Timestamp('1988-09-01 00:00:00'), Timestamp('2009-08-01 00:00:00'), Timestamp('1954-11-01 00:00:00'), Timestamp('2012-06-01 00:00:00'), Timestamp('1966-10-01 00:00:00'), Timestamp('1985-03-01 00:00:00'), Timestamp('1975-02-01 00:00:00'), Timestamp('1990-10-01 00:00:00'), Timestamp('1985-04-01 00:00:00'), Timestamp('1989-05-01 00:00:00'), Timestamp('1987-01-01 00:00:00'), Timestamp('1988-04-01 00:00:00'), Timestamp('1991-02-01 00:00:00'), Timestamp('2001-12-01 00:00:00'), Timestamp('1976-02-01 00:00:00'), Timestamp('1990-01-01 00:00:00'), Timestamp('2010-02-01 00:00:00'), Timestamp('1966-05-01 00:00:00'), Timestamp('1966-04-01 00:00:00'), Timestamp('1985-08-01 00:00:00'), Timestamp('1994-01-01 00:00:00'), Timestamp('1955-03-01 00:00:00'), Timestamp('1979-04-01 00:00:00'), Timestamp('1993-01-01 00:00:00'), Timestamp('1996-06-01 00:00:00'), Timestamp('2013-10-01 00:00:00'), Timestamp('2002-12-01 00:00:00'), Timestamp('1988-07-01 00:00:00'), Timestamp('1986-09-01 00:00:00'), Timestamp('1972-09-01 00:00:00'), Timestamp('1968-08-01 00:00:00'), Timestamp('1966-11-01 00:00:00'), Timestamp('1981-06-01 00:00:00'), Timestamp('1951-09-01 00:00:00'), Timestamp('1983-07-01 00:00:00'), Timestamp('1986-08-01 00:00:00'), Timestamp('2003-06-01 00:00:00'), Timestamp('1956-02-01 00:00:00'), Timestamp('1980-11-01 00:00:00'), Timestamp('2005-05-01 00:00:00'), Timestamp('1960-06-01 00:00:00'), Timestamp('1996-12-01 00:00:00'), Timestamp('2011-12-01 00:00:00'), Timestamp('2000-06-01 00:00:00'), Timestamp('1963-07-01 00:00:00'), Timestamp('1981-10-01 00:00:00'), Timestamp('1963-09-01 00:00:00'), Timestamp('1979-06-01 00:00:00'), Timestamp('2015-11-01 00:00:00'), Timestamp('1957-01-01 00:00:00'), Timestamp('1955-10-01 00:00:00'), Timestamp('1960-11-01 00:00:00'), Timestamp('1973-12-01 00:00:00'), Timestamp('1954-02-01 00:00:00'), Timestamp('1969-10-01 00:00:00'), Timestamp('1959-11-01 00:00:00'), Timestamp('1976-11-01 00:00:00'), Timestamp('2000-11-01 00:00:00'), Timestamp('1995-09-01 00:00:00'), Timestamp('1982-08-01 00:00:00'), Timestamp('1960-09-01 00:00:00'), Timestamp('1962-08-01 00:00:00'), Timestamp('2006-04-01 00:00:00'), Timestamp('2001-11-01 00:00:00'), Timestamp('1959-03-01 00:00:00'), Timestamp('1958-11-01 00:00:00'), Timestamp('1956-08-01 00:00:00'), Timestamp('1987-12-01 00:00:00'), Timestamp('1983-01-01 00:00:00'), Timestamp('1974-07-01 00:00:00'), Timestamp('1987-07-01 00:00:00'), Timestamp('1969-08-01 00:00:00'), Timestamp('1980-06-01 00:00:00'), Timestamp('1984-06-01 00:00:00'), Timestamp('1991-12-01 00:00:00'), Timestamp('1954-09-01 00:00:00'), Timestamp('1958-07-01 00:00:00'), Timestamp('1973-08-01 00:00:00'), Timestamp('1957-08-01 00:00:00'), Timestamp('1974-04-01 00:00:00'), Timestamp('2003-08-01 00:00:00'), Timestamp('1977-01-01 00:00:00'), Timestamp('1971-06-01 00:00:00'), Timestamp('1988-01-01 00:00:00'), Timestamp('2014-04-01 00:00:00'), Timestamp('1951-11-01 00:00:00'), Timestamp('1968-07-01 00:00:00'), Timestamp('2002-07-01 00:00:00'), Timestamp('1953-07-01 00:00:00'), Timestamp('1967-07-01 00:00:00'), Timestamp('1950-03-01 00:00:00'), Timestamp('1951-03-01 00:00:00'), Timestamp('1966-06-01 00:00:00'), Timestamp('1992-05-01 00:00:00'), Timestamp('1968-09-01 00:00:00'), Timestamp('1979-02-01 00:00:00'), Timestamp('2001-01-01 00:00:00'), Timestamp('1975-04-01 00:00:00'), Timestamp('1958-01-01 00:00:00'), Timestamp('1957-11-01 00:00:00'), Timestamp('1967-11-01 00:00:00'), Timestamp('1999-10-01 00:00:00'), Timestamp('1963-02-01 00:00:00'), Timestamp('1999-06-01 00:00:00'), Timestamp('1957-10-01 00:00:00'), Timestamp('2000-01-01 00:00:00'), Timestamp('2003-05-01 00:00:00'), Timestamp('1965-12-01 00:00:00'), Timestamp('1974-01-01 00:00:00'), Timestamp('2015-01-01 00:00:00'), Timestamp('1970-05-01 00:00:00'), Timestamp('2008-03-01 00:00:00'), Timestamp('1989-10-01 00:00:00'), Timestamp('1986-01-01 00:00:00'), Timestamp('1977-04-01 00:00:00'), Timestamp('1952-01-01 00:00:00'), Timestamp('1974-12-01 00:00:00'), Timestamp('1971-11-01 00:00:00'), Timestamp('1998-04-01 00:00:00'), Timestamp('1953-02-01 00:00:00'), Timestamp('1977-09-01 00:00:00'), Timestamp('2006-06-01 00:00:00'), Timestamp('1968-05-01 00:00:00'), Timestamp('1964-11-01 00:00:00'), Timestamp('1984-09-01 00:00:00'), Timestamp('1977-06-01 00:00:00'), Timestamp('1972-10-01 00:00:00'), Timestamp('1980-03-01 00:00:00'), Timestamp('2006-12-01 00:00:00'), Timestamp('1977-11-01 00:00:00'), Timestamp('2009-10-01 00:00:00'), Timestamp('1970-12-01 00:00:00'), Timestamp('1989-07-01 00:00:00'), Timestamp('1992-07-01 00:00:00'), Timestamp('2000-08-01 00:00:00'), Timestamp('2002-11-01 00:00:00'), Timestamp('1978-05-01 00:00:00'), Timestamp('1982-06-01 00:00:00'), Timestamp('1951-10-01 00:00:00'), Timestamp('1986-11-01 00:00:00'), Timestamp('1969-06-01 00:00:00'), Timestamp('2003-03-01 00:00:00'), Timestamp('2003-11-01 00:00:00'), Timestamp('2007-12-01 00:00:00'), Timestamp('2011-03-01 00:00:00'), Timestamp('2015-09-01 00:00:00'), Timestamp('2008-12-01 00:00:00'), Timestamp('1964-02-01 00:00:00'), Timestamp('1965-11-01 00:00:00'), Timestamp('1986-07-01 00:00:00'), Timestamp('1996-01-01 00:00:00'), Timestamp('2004-11-01 00:00:00'), Timestamp('2008-08-01 00:00:00'), Timestamp('1964-09-01 00:00:00'), Timestamp('1993-12-01 00:00:00'), Timestamp('1987-04-01 00:00:00'), Timestamp('2015-03-01 00:00:00'), Timestamp('2009-07-01 00:00:00'), Timestamp('1954-12-01 00:00:00'), Timestamp('2013-05-01 00:00:00'), Timestamp('1955-12-01 00:00:00'), Timestamp('1952-11-01 00:00:00'), Timestamp('2006-10-01 00:00:00'), Timestamp('1968-12-01 00:00:00'), Timestamp('2009-04-01 00:00:00'), Timestamp('1965-08-01 00:00:00'), Timestamp('1965-02-01 00:00:00'), Timestamp('1993-06-01 00:00:00'), Timestamp('1963-10-01 00:00:00'), Timestamp('1952-07-01 00:00:00'), Timestamp('1956-11-01 00:00:00'), Timestamp('1968-11-01 00:00:00'), Timestamp('2000-05-01 00:00:00'), Timestamp('1962-11-01 00:00:00'), Timestamp('1994-02-01 00:00:00'), Timestamp('1970-07-01 00:00:00'), Timestamp('1973-03-01 00:00:00'), Timestamp('2004-05-01 00:00:00'), Timestamp('2007-05-01 00:00:00'), Timestamp('1973-05-01 00:00:00'), Timestamp('1995-04-01 00:00:00'), Timestamp('1982-01-01 00:00:00'), Timestamp('1961-06-01 00:00:00'), Timestamp('1956-12-01 00:00:00'), Timestamp('1991-07-01 00:00:00'), Timestamp('2010-07-01 00:00:00'), Timestamp('1975-09-01 00:00:00'), Timestamp('1998-03-01 00:00:00'), Timestamp('1969-12-01 00:00:00'), Timestamp('1995-11-01 00:00:00'), Timestamp('1956-03-01 00:00:00'), Timestamp('1986-06-01 00:00:00'), Timestamp('1988-12-01 00:00:00'), Timestamp('1965-09-01 00:00:00'), Timestamp('1959-05-01 00:00:00'), Timestamp('2012-10-01 00:00:00'), Timestamp('2013-08-01 00:00:00'), Timestamp('1962-02-01 00:00:00'), Timestamp('1979-05-01 00:00:00'), Timestamp('1976-06-01 00:00:00'), Timestamp('1979-12-01 00:00:00'), Timestamp('1995-01-01 00:00:00'), Timestamp('1965-10-01 00:00:00'), Timestamp('1989-02-01 00:00:00'), Timestamp('1952-06-01 00:00:00'), Timestamp('2014-11-01 00:00:00'), Timestamp('1981-01-01 00:00:00'), Timestamp('1981-11-01 00:00:00'), Timestamp('1986-03-01 00:00:00'), Timestamp('2007-09-01 00:00:00'), Timestamp('1978-01-01 00:00:00'), Timestamp('2010-10-01 00:00:00'), Timestamp('1951-07-01 00:00:00'), Timestamp('1983-04-01 00:00:00'), Timestamp('2004-08-01 00:00:00'), Timestamp('1999-12-01 00:00:00'), Timestamp('1994-06-01 00:00:00'), Timestamp('1997-11-01 00:00:00'), Timestamp('1974-08-01 00:00:00'), Timestamp('1956-10-01 00:00:00'), Timestamp('1962-01-01 00:00:00'), Timestamp('1961-09-01 00:00:00'), Timestamp('2011-06-01 00:00:00'), Timestamp('1983-11-01 00:00:00'), Timestamp('1982-02-01 00:00:00'), Timestamp('2012-09-01 00:00:00'), Timestamp('2010-11-01 00:00:00')}\n",
            " ### Lengths should match: [3,791]\n",
            " ### ISSUE: sizes do not match::\n",
            "---df_net::---\n",
            "            pct_forest_cover\n",
            "year month                  \n",
            "1990 1             35.198512\n",
            "2000 1             34.736233\n",
            "2010 1             34.396326\n",
            "---df_merge::---\n",
            "        _date_  day  year  month  pct_forest_cover\n",
            "0   1950-01-01    1  1950      1               NaN\n",
            "1   1950-02-01    1  1950      2               NaN\n",
            "2   1950-03-01    1  1950      3               NaN\n",
            "3   1950-04-01    1  1950      4               NaN\n",
            "4   1950-05-01    1  1950      5               NaN\n",
            "..         ...  ...   ...    ...               ...\n",
            "786 2015-07-01    1  2015      7               NaN\n",
            "787 2015-08-01    1  2015      8               NaN\n",
            "788 2015-09-01    1  2015      9               NaN\n",
            "789 2015-10-01    1  2015     10               NaN\n",
            "790 2015-11-01    1  2015     11               NaN\n",
            "\n",
            "[791 rows x 5 columns]\n",
            "------------------------------------------\n",
            " ### Handle missing values via method: ffill...\n",
            " ### isna() value counts::\n",
            " ### isna() value counts::\n",
            " ### ------ Interval Counts - should be on the month ------\n",
            " ### 31 days    461\n",
            "30 days    263\n",
            "28 days     50\n",
            "29 days     16\n",
            "Name: interval, dtype: int64\n",
            " ### df/df_aggr size: 791/791\n",
            " ### pre-merge df::\n",
            "        _date_  day  year  month  pct_forest_cover\n",
            "0   1950-01-01    1  1950      1         35.198512\n",
            "1   1950-02-01    1  1950      2         35.198512\n",
            "2   1950-03-01    1  1950      3         35.198512\n",
            "3   1950-04-01    1  1950      4         35.198512\n",
            "4   1950-05-01    1  1950      5         35.198512\n",
            "..         ...  ...   ...    ...               ...\n",
            "786 2015-07-01    1  2015      7         34.396326\n",
            "787 2015-08-01    1  2015      8         34.396326\n",
            "788 2015-09-01    1  2015      9         34.396326\n",
            "789 2015-10-01    1  2015     10         34.396326\n",
            "790 2015-11-01    1  2015     11         34.396326\n",
            "\n",
            "[791 rows x 5 columns]\n",
            " ### pre-merge df_aggr::\n",
            "        _date_  day  year  month  landSeaAvgTemp  month-sin     month-cos\n",
            "0   1950-01-01  1.0  1950      1          13.311   0.500000  8.660254e-01\n",
            "1   1950-02-01  1.0  1950      2          13.554   0.866025  5.000000e-01\n",
            "2   1950-03-01  1.0  1950      3          14.296   1.000000  6.123234e-17\n",
            "3   1950-04-01  1.0  1950      4          15.093   0.866025 -5.000000e-01\n",
            "4   1950-05-01  1.0  1950      5          16.033   0.500000 -8.660254e-01\n",
            "..         ...  ...   ...    ...             ...        ...           ...\n",
            "786 2015-07-01  1.0  2015      7          17.611  -0.500000 -8.660254e-01\n",
            "787 2015-08-01  1.0  2015      8          17.589  -0.866025 -5.000000e-01\n",
            "788 2015-09-01  1.0  2015      9          17.049  -1.000000 -1.836970e-16\n",
            "789 2015-10-01  1.0  2015     10          16.290  -0.866025  5.000000e-01\n",
            "790 2015-11-01  1.0  2015     11          15.252  -0.500000  8.660254e-01\n",
            "\n",
            "[791 rows x 7 columns]\n",
            " ### Merging by date\n"
          ]
        },
        {
          "output_type": "display_data",
          "data": {
            "text/plain": [
              "<Figure size 800x600 with 1 Axes>"
            ],
            "image/png": "[encoded data removed]"
          },
          "metadata": {}
        },
        {
          "output_type": "stream",
          "name": "stdout",
          "text": [
            "  _date_  day year month landSeaAvgTemp month-sin month-cos pct_forest_cover\n",
            "0    0.0  0.0  0.0   0.0            0.0       0.0       0.0              0.0\n"
          ]
        }
      ],
      "source": [
        "for dataset in ALL_DATASETS:\n",
        "  if ('date_map' in dataset):\n",
        "    df_merge = merger.merge_dataset(dataset['filename'],\n",
        "                                    feature_map=dataset['feature_map'],\n",
        "                                    df_aggr=df_merge,\n",
        "                                    date_map=dataset['date_map'])\n",
        "  else:\n",
        "    df_merge = merger.merge_dataset(dataset['filename'],\n",
        "                                feature_map=dataset['feature_map'],\n",
        "                                df_aggr=df_merge,\n",
        "                                date_col=dataset['date_col'])\n",
        "  print(assess_na(df_merge))"
      ]
    },
    {
      "cell_type": "code",
      "execution_count": null,
      "metadata": {
        "id": "lSM6Bf5UnOdx",
        "colab": {
          "base_uri": "https://localhost:8080/",
          "height": 424
        },
        "outputId": "dc9caeb5-eb35-43e8-a84f-17754017f1c4"
      },
      "outputs": [
        {
          "output_type": "execute_result",
          "data": {
            "text/plain": [
              "        _date_  day  year  month  landSeaAvgTemp  month-sin     month-cos  \\\n",
              "0   1950-01-01  1.0  1950      1          13.311   0.500000  8.660254e-01   \n",
              "1   1950-02-01  1.0  1950      2          13.554   0.866025  5.000000e-01   \n",
              "2   1950-03-01  1.0  1950      3          14.296   1.000000  6.123234e-17   \n",
              "3   1950-04-01  1.0  1950      4          15.093   0.866025 -5.000000e-01   \n",
              "4   1950-05-01  1.0  1950      5          16.033   0.500000 -8.660254e-01   \n",
              "..         ...  ...   ...    ...             ...        ...           ...   \n",
              "786 2015-07-01  1.0  2015      7          17.611  -0.500000 -8.660254e-01   \n",
              "787 2015-08-01  1.0  2015      8          17.589  -0.866025 -5.000000e-01   \n",
              "788 2015-09-01  1.0  2015      9          17.049  -1.000000 -1.836970e-16   \n",
              "789 2015-10-01  1.0  2015     10          16.290  -0.866025  5.000000e-01   \n",
              "790 2015-11-01  1.0  2015     11          15.252  -0.500000  8.660254e-01   \n",
              "\n",
              "     pct_forest_cover  \n",
              "0           35.198512  \n",
              "1           35.198512  \n",
              "2           35.198512  \n",
              "3           35.198512  \n",
              "4           35.198512  \n",
              "..                ...  \n",
              "786         34.396326  \n",
              "787         34.396326  \n",
              "788         34.396326  \n",
              "789         34.396326  \n",
              "790         34.396326  \n",
              "\n",
              "[791 rows x 8 columns]"
            ],
            "text/html": [
              "\n",
              "  <div id=\"df-2c51968d-1bc0-428a-b7ec-fc8e9c7fd273\" class=\"colab-df-container\">\n",
              "    <div>\n",
              "<style scoped>\n",
              "    .dataframe tbody tr th:only-of-type {\n",
              "        vertical-align: middle;\n",
              "    }\n",
              "\n",
              "    .dataframe tbody tr th {\n",
              "        vertical-align: top;\n",
              "    }\n",
              "\n",
              "    .dataframe thead th {\n",
              "        text-align: right;\n",
              "    }\n",
              "</style>\n",
              "<table border=\"1\" class=\"dataframe\">\n",
              "  <thead>\n",
              "    <tr style=\"text-align: right;\">\n",
              "      <th></th>\n",
              "      <th>_date_</th>\n",
              "      <th>day</th>\n",
              "      <th>year</th>\n",
              "      <th>month</th>\n",
              "      <th>landSeaAvgTemp</th>\n",
              "      <th>month-sin</th>\n",
              "      <th>month-cos</th>\n",
              "      <th>pct_forest_cover</th>\n",
              "    </tr>\n",
              "  </thead>\n",
              "  <tbody>\n",
              "    <tr>\n",
              "      <th>0</th>\n",
              "      <td>1950-01-01</td>\n",
              "      <td>1.0</td>\n",
              "      <td>1950</td>\n",
              "      <td>1</td>\n",
              "      <td>13.311</td>\n",
              "      <td>0.500000</td>\n",
              "      <td>8.660254e-01</td>\n",
              "      <td>35.198512</td>\n",
              "    </tr>\n",
              "    <tr>\n",
              "      <th>1</th>\n",
              "      <td>1950-02-01</td>\n",
              "      <td>1.0</td>\n",
              "      <td>1950</td>\n",
              "      <td>2</td>\n",
              "      <td>13.554</td>\n",
              "      <td>0.866025</td>\n",
              "      <td>5.000000e-01</td>\n",
              "      <td>35.198512</td>\n",
              "    </tr>\n",
              "    <tr>\n",
              "      <th>2</th>\n",
              "      <td>1950-03-01</td>\n",
              "      <td>1.0</td>\n",
              "      <td>1950</td>\n",
              "      <td>3</td>\n",
              "      <td>14.296</td>\n",
              "      <td>1.000000</td>\n",
              "      <td>6.123234e-17</td>\n",
              "      <td>35.198512</td>\n",
              "    </tr>\n",
              "    <tr>\n",
              "      <th>3</th>\n",
              "      <td>1950-04-01</td>\n",
              "      <td>1.0</td>\n",
              "      <td>1950</td>\n",
              "      <td>4</td>\n",
              "      <td>15.093</td>\n",
              "      <td>0.866025</td>\n",
              "      <td>-5.000000e-01</td>\n",
              "      <td>35.198512</td>\n",
              "    </tr>\n",
              "    <tr>\n",
              "      <th>4</th>\n",
              "      <td>1950-05-01</td>\n",
              "      <td>1.0</td>\n",
              "      <td>1950</td>\n",
              "      <td>5</td>\n",
              "      <td>16.033</td>\n",
              "      <td>0.500000</td>\n",
              "      <td>-8.660254e-01</td>\n",
              "      <td>35.198512</td>\n",
              "    </tr>\n",
              "    <tr>\n",
              "      <th>...</th>\n",
              "      <td>...</td>\n",
              "      <td>...</td>\n",
              "      <td>...</td>\n",
              "      <td>...</td>\n",
              "      <td>...</td>\n",
              "      <td>...</td>\n",
              "      <td>...</td>\n",
              "      <td>...</td>\n",
              "    </tr>\n",
              "    <tr>\n",
              "      <th>786</th>\n",
              "      <td>2015-07-01</td>\n",
              "      <td>1.0</td>\n",
              "      <td>2015</td>\n",
              "      <td>7</td>\n",
              "      <td>17.611</td>\n",
              "      <td>-0.500000</td>\n",
              "      <td>-8.660254e-01</td>\n",
              "      <td>34.396326</td>\n",
              "    </tr>\n",
              "    <tr>\n",
              "      <th>787</th>\n",
              "      <td>2015-08-01</td>\n",
              "      <td>1.0</td>\n",
              "      <td>2015</td>\n",
              "      <td>8</td>\n",
              "      <td>17.589</td>\n",
              "      <td>-0.866025</td>\n",
              "      <td>-5.000000e-01</td>\n",
              "      <td>34.396326</td>\n",
              "    </tr>\n",
              "    <tr>\n",
              "      <th>788</th>\n",
              "      <td>2015-09-01</td>\n",
              "      <td>1.0</td>\n",
              "      <td>2015</td>\n",
              "      <td>9</td>\n",
              "      <td>17.049</td>\n",
              "      <td>-1.000000</td>\n",
              "      <td>-1.836970e-16</td>\n",
              "      <td>34.396326</td>\n",
              "    </tr>\n",
              "    <tr>\n",
              "      <th>789</th>\n",
              "      <td>2015-10-01</td>\n",
              "      <td>1.0</td>\n",
              "      <td>2015</td>\n",
              "      <td>10</td>\n",
              "      <td>16.290</td>\n",
              "      <td>-0.866025</td>\n",
              "      <td>5.000000e-01</td>\n",
              "      <td>34.396326</td>\n",
              "    </tr>\n",
              "    <tr>\n",
              "      <th>790</th>\n",
              "      <td>2015-11-01</td>\n",
              "      <td>1.0</td>\n",
              "      <td>2015</td>\n",
              "      <td>11</td>\n",
              "      <td>15.252</td>\n",
              "      <td>-0.500000</td>\n",
              "      <td>8.660254e-01</td>\n",
              "      <td>34.396326</td>\n",
              "    </tr>\n",
              "  </tbody>\n",
              "</table>\n",
              "<p>791 rows × 8 columns</p>\n",
              "</div>\n",
              "    <div class=\"colab-df-buttons\">\n",
              "\n",
              "  <div class=\"colab-df-container\">\n",
              "    <button class=\"colab-df-convert\" onclick=\"convertToInteractive('df-2c51968d-1bc0-428a-b7ec-fc8e9c7fd273')\"\n",
              "            title=\"Convert this dataframe to an interactive table.\"\n",
              "            style=\"display:none;\">\n",
              "\n",
              "  <svg xmlns=\"http://www.w3.org/2000/svg\" height=\"24px\" viewBox=\"0 -960 960 960\">\n",
              "    <path d=\"M120-120v-720h720v720H120Zm60-500h600v-160H180v160Zm220 220h160v-160H400v160Zm0 220h160v-160H400v160ZM180-400h160v-160H180v160Zm440 0h160v-160H620v160ZM180-180h160v-160H180v160Zm440 0h160v-160H620v160Z\"/>\n",
              "  </svg>\n",
              "    </button>\n",
              "\n",
              "  <style>\n",
              "    .colab-df-container {\n",
              "      display:flex;\n",
              "      gap: 12px;\n",
              "    }\n",
              "\n",
              "    .colab-df-convert {\n",
              "      background-color: #E8F0FE;\n",
              "      border: none;\n",
              "      border-radius: 50%;\n",
              "      cursor: pointer;\n",
              "      display: none;\n",
              "      fill: #1967D2;\n",
              "      height: 32px;\n",
              "      padding: 0 0 0 0;\n",
              "      width: 32px;\n",
              "    }\n",
              "\n",
              "    .colab-df-convert:hover {\n",
              "      background-color: #E2EBFA;\n",
              "      box-shadow: 0px 1px 2px rgba(60, 64, 67, 0.3), 0px 1px 3px 1px rgba(60, 64, 67, 0.15);\n",
              "      fill: #174EA6;\n",
              "    }\n",
              "\n",
              "    .colab-df-buttons div {\n",
              "      margin-bottom: 4px;\n",
              "    }\n",
              "\n",
              "    [theme=dark] .colab-df-convert {\n",
              "      background-color: #3B4455;\n",
              "      fill: #D2E3FC;\n",
              "    }\n",
              "\n",
              "    [theme=dark] .colab-df-convert:hover {\n",
              "      background-color: #434B5C;\n",
              "      box-shadow: 0px 1px 3px 1px rgba(0, 0, 0, 0.15);\n",
              "      filter: drop-shadow(0px 1px 2px rgba(0, 0, 0, 0.3));\n",
              "      fill: #FFFFFF;\n",
              "    }\n",
              "  </style>\n",
              "\n",
              "    <script>\n",
              "      const buttonEl =\n",
              "        document.querySelector('#df-2c51968d-1bc0-428a-b7ec-fc8e9c7fd273 button.colab-df-convert');\n",
              "      buttonEl.style.display =\n",
              "        google.colab.kernel.accessAllowed ? 'block' : 'none';\n",
              "\n",
              "      async function convertToInteractive(key) {\n",
              "        const element = document.querySelector('#df-2c51968d-1bc0-428a-b7ec-fc8e9c7fd273');\n",
              "        const dataTable =\n",
              "          await google.colab.kernel.invokeFunction('convertToInteractive',\n",
              "                                                    [key], {});\n",
              "        if (!dataTable) return;\n",
              "\n",
              "        const docLinkHtml = 'Like what you see? Visit the ' +\n",
              "          '<a target=\"_blank\" href=https://colab.research.google.com/notebooks/data_table.ipynb>data table notebook</a>'\n",
              "          + ' to learn more about interactive tables.';\n",
              "        element.innerHTML = '';\n",
              "        dataTable['output_type'] = 'display_data';\n",
              "        await google.colab.output.renderOutput(dataTable, element);\n",
              "        const docLink = document.createElement('div');\n",
              "        docLink.innerHTML = docLinkHtml;\n",
              "        element.appendChild(docLink);\n",
              "      }\n",
              "    </script>\n",
              "  </div>\n",
              "\n",
              "\n",
              "<div id=\"df-4eec6374-ec20-4e84-bb9a-7297c22674e4\">\n",
              "  <button class=\"colab-df-quickchart\" onclick=\"quickchart('df-4eec6374-ec20-4e84-bb9a-7297c22674e4')\"\n",
              "            title=\"Suggest charts\"\n",
              "            style=\"display:none;\">\n",
              "\n",
              "<svg xmlns=\"http://www.w3.org/2000/svg\" height=\"24px\"viewBox=\"0 0 24 24\"\n",
              "     width=\"24px\">\n",
              "    <g>\n",
              "        <path d=\"M19 3H5c-1.1 0-2 .9-2 2v14c0 1.1.9 2 2 2h14c1.1 0 2-.9 2-2V5c0-1.1-.9-2-2-2zM9 17H7v-7h2v7zm4 0h-2V7h2v10zm4 0h-2v-4h2v4z\"/>\n",
              "    </g>\n",
              "</svg>\n",
              "  </button>\n",
              "\n",
              "<style>\n",
              "  .colab-df-quickchart {\n",
              "      --bg-color: #E8F0FE;\n",
              "      --fill-color: #1967D2;\n",
              "      --hover-bg-color: #E2EBFA;\n",
              "      --hover-fill-color: #174EA6;\n",
              "      --disabled-fill-color: #AAA;\n",
              "      --disabled-bg-color: #DDD;\n",
              "  }\n",
              "\n",
              "  [theme=dark] .colab-df-quickchart {\n",
              "      --bg-color: #3B4455;\n",
              "      --fill-color: #D2E3FC;\n",
              "      --hover-bg-color: #434B5C;\n",
              "      --hover-fill-color: #FFFFFF;\n",
              "      --disabled-bg-color: #3B4455;\n",
              "      --disabled-fill-color: #666;\n",
              "  }\n",
              "\n",
              "  .colab-df-quickchart {\n",
              "    background-color: var(--bg-color);\n",
              "    border: none;\n",
              "    border-radius: 50%;\n",
              "    cursor: pointer;\n",
              "    display: none;\n",
              "    fill: var(--fill-color);\n",
              "    height: 32px;\n",
              "    padding: 0;\n",
              "    width: 32px;\n",
              "  }\n",
              "\n",
              "  .colab-df-quickchart:hover {\n",
              "    background-color: var(--hover-bg-color);\n",
              "    box-shadow: 0 1px 2px rgba(60, 64, 67, 0.3), 0 1px 3px 1px rgba(60, 64, 67, 0.15);\n",
              "    fill: var(--button-hover-fill-color);\n",
              "  }\n",
              "\n",
              "  .colab-df-quickchart-complete:disabled,\n",
              "  .colab-df-quickchart-complete:disabled:hover {\n",
              "    background-color: var(--disabled-bg-color);\n",
              "    fill: var(--disabled-fill-color);\n",
              "    box-shadow: none;\n",
              "  }\n",
              "\n",
              "  .colab-df-spinner {\n",
              "    border: 2px solid var(--fill-color);\n",
              "    border-color: transparent;\n",
              "    border-bottom-color: var(--fill-color);\n",
              "    animation:\n",
              "      spin 1s steps(1) infinite;\n",
              "  }\n",
              "\n",
              "  @keyframes spin {\n",
              "    0% {\n",
              "      border-color: transparent;\n",
              "      border-bottom-color: var(--fill-color);\n",
              "      border-left-color: var(--fill-color);\n",
              "    }\n",
              "    20% {\n",
              "      border-color: transparent;\n",
              "      border-left-color: var(--fill-color);\n",
              "      border-top-color: var(--fill-color);\n",
              "    }\n",
              "    30% {\n",
              "      border-color: transparent;\n",
              "      border-left-color: var(--fill-color);\n",
              "      border-top-color: var(--fill-color);\n",
              "      border-right-color: var(--fill-color);\n",
              "    }\n",
              "    40% {\n",
              "      border-color: transparent;\n",
              "      border-right-color: var(--fill-color);\n",
              "      border-top-color: var(--fill-color);\n",
              "    }\n",
              "    60% {\n",
              "      border-color: transparent;\n",
              "      border-right-color: var(--fill-color);\n",
              "    }\n",
              "    80% {\n",
              "      border-color: transparent;\n",
              "      border-right-color: var(--fill-color);\n",
              "      border-bottom-color: var(--fill-color);\n",
              "    }\n",
              "    90% {\n",
              "      border-color: transparent;\n",
              "      border-bottom-color: var(--fill-color);\n",
              "    }\n",
              "  }\n",
              "</style>\n",
              "\n",
              "  <script>\n",
              "    async function quickchart(key) {\n",
              "      const quickchartButtonEl =\n",
              "        document.querySelector('#' + key + ' button');\n",
              "      quickchartButtonEl.disabled = true;  // To prevent multiple clicks.\n",
              "      quickchartButtonEl.classList.add('colab-df-spinner');\n",
              "      try {\n",
              "        const charts = await google.colab.kernel.invokeFunction(\n",
              "            'suggestCharts', [key], {});\n",
              "      } catch (error) {\n",
              "        console.error('Error during call to suggestCharts:', error);\n",
              "      }\n",
              "      quickchartButtonEl.classList.remove('colab-df-spinner');\n",
              "      quickchartButtonEl.classList.add('colab-df-quickchart-complete');\n",
              "    }\n",
              "    (() => {\n",
              "      let quickchartButtonEl =\n",
              "        document.querySelector('#df-4eec6374-ec20-4e84-bb9a-7297c22674e4 button');\n",
              "      quickchartButtonEl.style.display =\n",
              "        google.colab.kernel.accessAllowed ? 'block' : 'none';\n",
              "    })();\n",
              "  </script>\n",
              "</div>\n",
              "    </div>\n",
              "  </div>\n"
            ]
          },
          "metadata": {},
          "execution_count": 87
        }
      ],
      "source": [
        "df_merge"
      ]
    },
    {
      "cell_type": "markdown",
      "metadata": {
        "id": "3I__gL_GqD2Z"
      },
      "source": [
        "---\n",
        "\n",
        "**Assess correlations**\n",
        "\n",
        "---"
      ]
    },
    {
      "cell_type": "code",
      "execution_count": null,
      "metadata": {
        "id": "voLTLHConZ0i"
      },
      "outputs": [],
      "source": [
        "# Assess correlations between all data columns\n",
        "df_corr = df_merge.corr()"
      ]
    },
    {
      "cell_type": "code",
      "execution_count": null,
      "metadata": {
        "id": "No1Fc0Qbpd_5"
      },
      "outputs": [],
      "source": [
        "# Identify the columns which have medium to strong correlation with target\n",
        "df_corr_cols = df_corr[df_corr[TARGET_LABEL] > 0.5]"
      ]
    },
    {
      "cell_type": "code",
      "execution_count": null,
      "metadata": {
        "id": "istm__I7pVxF"
      },
      "outputs": [],
      "source": [
        "# Drop the target from the correlation results in case we want to use this reduced set\n",
        "#    in place of the full set\n",
        "df_corr_cols = df_corr_cols.drop(columns=[])"
      ]
    },
    {
      "cell_type": "code",
      "execution_count": null,
      "metadata": {
        "id": "UDNh439ejVs6"
      },
      "outputs": [],
      "source": [
        "# Extract just the column names\n",
        "corr_cols = df_corr_cols.index.values"
      ]
    },
    {
      "cell_type": "code",
      "execution_count": null,
      "metadata": {
        "id": "6mFm8Oe3i5EP",
        "colab": {
          "base_uri": "https://localhost:8080/"
        },
        "outputId": "fe38bc34-33bf-494f-f277-4a6b65c05632"
      },
      "outputs": [
        {
          "output_type": "stream",
          "name": "stdout",
          "text": [
            "['landSeaAvgTemp']\n"
          ]
        }
      ],
      "source": [
        "if debug:\n",
        "  print(corr_cols)"
      ]
    },
    {
      "cell_type": "code",
      "execution_count": null,
      "metadata": {
        "id": "woQeUENso8PE",
        "colab": {
          "base_uri": "https://localhost:8080/",
          "height": 663
        },
        "outputId": "ba7cf9e2-51be-4e34-8480-94d145a84950"
      },
      "outputs": [
        {
          "output_type": "execute_result",
          "data": {
            "text/plain": [
              "Text(0.5, 1.0, 'Heatmap of correlation among variables')"
            ]
          },
          "metadata": {},
          "execution_count": 93
        },
        {
          "output_type": "display_data",
          "data": {
            "text/plain": [
              "<Figure size 800x600 with 2 Axes>"
            ],
            "image/png": "[encoded data removed]"
          },
          "metadata": {}
        }
      ],
      "source": [
        "# Add labels\n",
        "labels = np.where(np.abs(df_corr) > 0.75, 'S',\n",
        "                  np.where(np.abs(df_corr) > 0.5, 'M',\n",
        "                           np.where(np.abs(df_corr) > 0.25, 'W', '')))\n",
        "# Plot the matrix\n",
        "plt.figure(figsize=(8,6))\n",
        "sns.heatmap(df_corr, mask=np.eye(len(df_corr)), square=True,\n",
        "            center=0, annot=labels, fmt = '', linewidths = .5,\n",
        "            cmap='vlag', cbar_kws={'shrink':0.8});\n",
        "plt.title('Heatmap of correlation among variables', fontsize=20)"
      ]
    },
    {
      "cell_type": "markdown",
      "metadata": {
        "id": "UZY0kxUtZWKn"
      },
      "source": [
        "---\n",
        "\n",
        "**Prepare for Modeling**\n",
        "\n",
        "---"
      ]
    },
    {
      "cell_type": "code",
      "execution_count": null,
      "metadata": {
        "id": "wFjIFj6Al0yC"
      },
      "outputs": [],
      "source": [
        "# It's time to set date as index and remove from dataset\n",
        "df_merge.set_index(merger.DATE_COL, inplace=True, drop=True)"
      ]
    },
    {
      "cell_type": "code",
      "execution_count": null,
      "metadata": {
        "id": "GuOGEhh7o7gU",
        "colab": {
          "base_uri": "https://localhost:8080/",
          "height": 455
        },
        "outputId": "bb45c5dd-f185-4758-8880-884c94adcc11"
      },
      "outputs": [
        {
          "output_type": "execute_result",
          "data": {
            "text/plain": [
              "            day  year  month  landSeaAvgTemp  month-sin     month-cos  \\\n",
              "_date_                                                                  \n",
              "1950-01-01  1.0  1950      1          13.311   0.500000  8.660254e-01   \n",
              "1950-02-01  1.0  1950      2          13.554   0.866025  5.000000e-01   \n",
              "1950-03-01  1.0  1950      3          14.296   1.000000  6.123234e-17   \n",
              "1950-04-01  1.0  1950      4          15.093   0.866025 -5.000000e-01   \n",
              "1950-05-01  1.0  1950      5          16.033   0.500000 -8.660254e-01   \n",
              "...         ...   ...    ...             ...        ...           ...   \n",
              "2015-07-01  1.0  2015      7          17.611  -0.500000 -8.660254e-01   \n",
              "2015-08-01  1.0  2015      8          17.589  -0.866025 -5.000000e-01   \n",
              "2015-09-01  1.0  2015      9          17.049  -1.000000 -1.836970e-16   \n",
              "2015-10-01  1.0  2015     10          16.290  -0.866025  5.000000e-01   \n",
              "2015-11-01  1.0  2015     11          15.252  -0.500000  8.660254e-01   \n",
              "\n",
              "            pct_forest_cover  \n",
              "_date_                        \n",
              "1950-01-01         35.198512  \n",
              "1950-02-01         35.198512  \n",
              "1950-03-01         35.198512  \n",
              "1950-04-01         35.198512  \n",
              "1950-05-01         35.198512  \n",
              "...                      ...  \n",
              "2015-07-01         34.396326  \n",
              "2015-08-01         34.396326  \n",
              "2015-09-01         34.396326  \n",
              "2015-10-01         34.396326  \n",
              "2015-11-01         34.396326  \n",
              "\n",
              "[791 rows x 7 columns]"
            ],
            "text/html": [
              "\n",
              "  <div id=\"df-6a611a0a-c64a-4dcf-8e6c-cb5bd1239393\" class=\"colab-df-container\">\n",
              "    <div>\n",
              "<style scoped>\n",
              "    .dataframe tbody tr th:only-of-type {\n",
              "        vertical-align: middle;\n",
              "    }\n",
              "\n",
              "    .dataframe tbody tr th {\n",
              "        vertical-align: top;\n",
              "    }\n",
              "\n",
              "    .dataframe thead th {\n",
              "        text-align: right;\n",
              "    }\n",
              "</style>\n",
              "<table border=\"1\" class=\"dataframe\">\n",
              "  <thead>\n",
              "    <tr style=\"text-align: right;\">\n",
              "      <th></th>\n",
              "      <th>day</th>\n",
              "      <th>year</th>\n",
              "      <th>month</th>\n",
              "      <th>landSeaAvgTemp</th>\n",
              "      <th>month-sin</th>\n",
              "      <th>month-cos</th>\n",
              "      <th>pct_forest_cover</th>\n",
              "    </tr>\n",
              "    <tr>\n",
              "      <th>_date_</th>\n",
              "      <th></th>\n",
              "      <th></th>\n",
              "      <th></th>\n",
              "      <th></th>\n",
              "      <th></th>\n",
              "      <th></th>\n",
              "      <th></th>\n",
              "    </tr>\n",
              "  </thead>\n",
              "  <tbody>\n",
              "    <tr>\n",
              "      <th>1950-01-01</th>\n",
              "      <td>1.0</td>\n",
              "      <td>1950</td>\n",
              "      <td>1</td>\n",
              "      <td>13.311</td>\n",
              "      <td>0.500000</td>\n",
              "      <td>8.660254e-01</td>\n",
              "      <td>35.198512</td>\n",
              "    </tr>\n",
              "    <tr>\n",
              "      <th>1950-02-01</th>\n",
              "      <td>1.0</td>\n",
              "      <td>1950</td>\n",
              "      <td>2</td>\n",
              "      <td>13.554</td>\n",
              "      <td>0.866025</td>\n",
              "      <td>5.000000e-01</td>\n",
              "      <td>35.198512</td>\n",
              "    </tr>\n",
              "    <tr>\n",
              "      <th>1950-03-01</th>\n",
              "      <td>1.0</td>\n",
              "      <td>1950</td>\n",
              "      <td>3</td>\n",
              "      <td>14.296</td>\n",
              "      <td>1.000000</td>\n",
              "      <td>6.123234e-17</td>\n",
              "      <td>35.198512</td>\n",
              "    </tr>\n",
              "    <tr>\n",
              "      <th>1950-04-01</th>\n",
              "      <td>1.0</td>\n",
              "      <td>1950</td>\n",
              "      <td>4</td>\n",
              "      <td>15.093</td>\n",
              "      <td>0.866025</td>\n",
              "      <td>-5.000000e-01</td>\n",
              "      <td>35.198512</td>\n",
              "    </tr>\n",
              "    <tr>\n",
              "      <th>1950-05-01</th>\n",
              "      <td>1.0</td>\n",
              "      <td>1950</td>\n",
              "      <td>5</td>\n",
              "      <td>16.033</td>\n",
              "      <td>0.500000</td>\n",
              "      <td>-8.660254e-01</td>\n",
              "      <td>35.198512</td>\n",
              "    </tr>\n",
              "    <tr>\n",
              "      <th>...</th>\n",
              "      <td>...</td>\n",
              "      <td>...</td>\n",
              "      <td>...</td>\n",
              "      <td>...</td>\n",
              "      <td>...</td>\n",
              "      <td>...</td>\n",
              "      <td>...</td>\n",
              "    </tr>\n",
              "    <tr>\n",
              "      <th>2015-07-01</th>\n",
              "      <td>1.0</td>\n",
              "      <td>2015</td>\n",
              "      <td>7</td>\n",
              "      <td>17.611</td>\n",
              "      <td>-0.500000</td>\n",
              "      <td>-8.660254e-01</td>\n",
              "      <td>34.396326</td>\n",
              "    </tr>\n",
              "    <tr>\n",
              "      <th>2015-08-01</th>\n",
              "      <td>1.0</td>\n",
              "      <td>2015</td>\n",
              "      <td>8</td>\n",
              "      <td>17.589</td>\n",
              "      <td>-0.866025</td>\n",
              "      <td>-5.000000e-01</td>\n",
              "      <td>34.396326</td>\n",
              "    </tr>\n",
              "    <tr>\n",
              "      <th>2015-09-01</th>\n",
              "      <td>1.0</td>\n",
              "      <td>2015</td>\n",
              "      <td>9</td>\n",
              "      <td>17.049</td>\n",
              "      <td>-1.000000</td>\n",
              "      <td>-1.836970e-16</td>\n",
              "      <td>34.396326</td>\n",
              "    </tr>\n",
              "    <tr>\n",
              "      <th>2015-10-01</th>\n",
              "      <td>1.0</td>\n",
              "      <td>2015</td>\n",
              "      <td>10</td>\n",
              "      <td>16.290</td>\n",
              "      <td>-0.866025</td>\n",
              "      <td>5.000000e-01</td>\n",
              "      <td>34.396326</td>\n",
              "    </tr>\n",
              "    <tr>\n",
              "      <th>2015-11-01</th>\n",
              "      <td>1.0</td>\n",
              "      <td>2015</td>\n",
              "      <td>11</td>\n",
              "      <td>15.252</td>\n",
              "      <td>-0.500000</td>\n",
              "      <td>8.660254e-01</td>\n",
              "      <td>34.396326</td>\n",
              "    </tr>\n",
              "  </tbody>\n",
              "</table>\n",
              "<p>791 rows × 7 columns</p>\n",
              "</div>\n",
              "    <div class=\"colab-df-buttons\">\n",
              "\n",
              "  <div class=\"colab-df-container\">\n",
              "    <button class=\"colab-df-convert\" onclick=\"convertToInteractive('df-6a611a0a-c64a-4dcf-8e6c-cb5bd1239393')\"\n",
              "            title=\"Convert this dataframe to an interactive table.\"\n",
              "            style=\"display:none;\">\n",
              "\n",
              "  <svg xmlns=\"http://www.w3.org/2000/svg\" height=\"24px\" viewBox=\"0 -960 960 960\">\n",
              "    <path d=\"M120-120v-720h720v720H120Zm60-500h600v-160H180v160Zm220 220h160v-160H400v160Zm0 220h160v-160H400v160ZM180-400h160v-160H180v160Zm440 0h160v-160H620v160ZM180-180h160v-160H180v160Zm440 0h160v-160H620v160Z\"/>\n",
              "  </svg>\n",
              "    </button>\n",
              "\n",
              "  <style>\n",
              "    .colab-df-container {\n",
              "      display:flex;\n",
              "      gap: 12px;\n",
              "    }\n",
              "\n",
              "    .colab-df-convert {\n",
              "      background-color: #E8F0FE;\n",
              "      border: none;\n",
              "      border-radius: 50%;\n",
              "      cursor: pointer;\n",
              "      display: none;\n",
              "      fill: #1967D2;\n",
              "      height: 32px;\n",
              "      padding: 0 0 0 0;\n",
              "      width: 32px;\n",
              "    }\n",
              "\n",
              "    .colab-df-convert:hover {\n",
              "      background-color: #E2EBFA;\n",
              "      box-shadow: 0px 1px 2px rgba(60, 64, 67, 0.3), 0px 1px 3px 1px rgba(60, 64, 67, 0.15);\n",
              "      fill: #174EA6;\n",
              "    }\n",
              "\n",
              "    .colab-df-buttons div {\n",
              "      margin-bottom: 4px;\n",
              "    }\n",
              "\n",
              "    [theme=dark] .colab-df-convert {\n",
              "      background-color: #3B4455;\n",
              "      fill: #D2E3FC;\n",
              "    }\n",
              "\n",
              "    [theme=dark] .colab-df-convert:hover {\n",
              "      background-color: #434B5C;\n",
              "      box-shadow: 0px 1px 3px 1px rgba(0, 0, 0, 0.15);\n",
              "      filter: drop-shadow(0px 1px 2px rgba(0, 0, 0, 0.3));\n",
              "      fill: #FFFFFF;\n",
              "    }\n",
              "  </style>\n",
              "\n",
              "    <script>\n",
              "      const buttonEl =\n",
              "        document.querySelector('#df-6a611a0a-c64a-4dcf-8e6c-cb5bd1239393 button.colab-df-convert');\n",
              "      buttonEl.style.display =\n",
              "        google.colab.kernel.accessAllowed ? 'block' : 'none';\n",
              "\n",
              "      async function convertToInteractive(key) {\n",
              "        const element = document.querySelector('#df-6a611a0a-c64a-4dcf-8e6c-cb5bd1239393');\n",
              "        const dataTable =\n",
              "          await google.colab.kernel.invokeFunction('convertToInteractive',\n",
              "                                                    [key], {});\n",
              "        if (!dataTable) return;\n",
              "\n",
              "        const docLinkHtml = 'Like what you see? Visit the ' +\n",
              "          '<a target=\"_blank\" href=https://colab.research.google.com/notebooks/data_table.ipynb>data table notebook</a>'\n",
              "          + ' to learn more about interactive tables.';\n",
              "        element.innerHTML = '';\n",
              "        dataTable['output_type'] = 'display_data';\n",
              "        await google.colab.output.renderOutput(dataTable, element);\n",
              "        const docLink = document.createElement('div');\n",
              "        docLink.innerHTML = docLinkHtml;\n",
              "        element.appendChild(docLink);\n",
              "      }\n",
              "    </script>\n",
              "  </div>\n",
              "\n",
              "\n",
              "<div id=\"df-1c1e2ab1-aa9b-48c1-be9a-fb8b8044d7f6\">\n",
              "  <button class=\"colab-df-quickchart\" onclick=\"quickchart('df-1c1e2ab1-aa9b-48c1-be9a-fb8b8044d7f6')\"\n",
              "            title=\"Suggest charts\"\n",
              "            style=\"display:none;\">\n",
              "\n",
              "<svg xmlns=\"http://www.w3.org/2000/svg\" height=\"24px\"viewBox=\"0 0 24 24\"\n",
              "     width=\"24px\">\n",
              "    <g>\n",
              "        <path d=\"M19 3H5c-1.1 0-2 .9-2 2v14c0 1.1.9 2 2 2h14c1.1 0 2-.9 2-2V5c0-1.1-.9-2-2-2zM9 17H7v-7h2v7zm4 0h-2V7h2v10zm4 0h-2v-4h2v4z\"/>\n",
              "    </g>\n",
              "</svg>\n",
              "  </button>\n",
              "\n",
              "<style>\n",
              "  .colab-df-quickchart {\n",
              "      --bg-color: #E8F0FE;\n",
              "      --fill-color: #1967D2;\n",
              "      --hover-bg-color: #E2EBFA;\n",
              "      --hover-fill-color: #174EA6;\n",
              "      --disabled-fill-color: #AAA;\n",
              "      --disabled-bg-color: #DDD;\n",
              "  }\n",
              "\n",
              "  [theme=dark] .colab-df-quickchart {\n",
              "      --bg-color: #3B4455;\n",
              "      --fill-color: #D2E3FC;\n",
              "      --hover-bg-color: #434B5C;\n",
              "      --hover-fill-color: #FFFFFF;\n",
              "      --disabled-bg-color: #3B4455;\n",
              "      --disabled-fill-color: #666;\n",
              "  }\n",
              "\n",
              "  .colab-df-quickchart {\n",
              "    background-color: var(--bg-color);\n",
              "    border: none;\n",
              "    border-radius: 50%;\n",
              "    cursor: pointer;\n",
              "    display: none;\n",
              "    fill: var(--fill-color);\n",
              "    height: 32px;\n",
              "    padding: 0;\n",
              "    width: 32px;\n",
              "  }\n",
              "\n",
              "  .colab-df-quickchart:hover {\n",
              "    background-color: var(--hover-bg-color);\n",
              "    box-shadow: 0 1px 2px rgba(60, 64, 67, 0.3), 0 1px 3px 1px rgba(60, 64, 67, 0.15);\n",
              "    fill: var(--button-hover-fill-color);\n",
              "  }\n",
              "\n",
              "  .colab-df-quickchart-complete:disabled,\n",
              "  .colab-df-quickchart-complete:disabled:hover {\n",
              "    background-color: var(--disabled-bg-color);\n",
              "    fill: var(--disabled-fill-color);\n",
              "    box-shadow: none;\n",
              "  }\n",
              "\n",
              "  .colab-df-spinner {\n",
              "    border: 2px solid var(--fill-color);\n",
              "    border-color: transparent;\n",
              "    border-bottom-color: var(--fill-color);\n",
              "    animation:\n",
              "      spin 1s steps(1) infinite;\n",
              "  }\n",
              "\n",
              "  @keyframes spin {\n",
              "    0% {\n",
              "      border-color: transparent;\n",
              "      border-bottom-color: var(--fill-color);\n",
              "      border-left-color: var(--fill-color);\n",
              "    }\n",
              "    20% {\n",
              "      border-color: transparent;\n",
              "      border-left-color: var(--fill-color);\n",
              "      border-top-color: var(--fill-color);\n",
              "    }\n",
              "    30% {\n",
              "      border-color: transparent;\n",
              "      border-left-color: var(--fill-color);\n",
              "      border-top-color: var(--fill-color);\n",
              "      border-right-color: var(--fill-color);\n",
              "    }\n",
              "    40% {\n",
              "      border-color: transparent;\n",
              "      border-right-color: var(--fill-color);\n",
              "      border-top-color: var(--fill-color);\n",
              "    }\n",
              "    60% {\n",
              "      border-color: transparent;\n",
              "      border-right-color: var(--fill-color);\n",
              "    }\n",
              "    80% {\n",
              "      border-color: transparent;\n",
              "      border-right-color: var(--fill-color);\n",
              "      border-bottom-color: var(--fill-color);\n",
              "    }\n",
              "    90% {\n",
              "      border-color: transparent;\n",
              "      border-bottom-color: var(--fill-color);\n",
              "    }\n",
              "  }\n",
              "</style>\n",
              "\n",
              "  <script>\n",
              "    async function quickchart(key) {\n",
              "      const quickchartButtonEl =\n",
              "        document.querySelector('#' + key + ' button');\n",
              "      quickchartButtonEl.disabled = true;  // To prevent multiple clicks.\n",
              "      quickchartButtonEl.classList.add('colab-df-spinner');\n",
              "      try {\n",
              "        const charts = await google.colab.kernel.invokeFunction(\n",
              "            'suggestCharts', [key], {});\n",
              "      } catch (error) {\n",
              "        console.error('Error during call to suggestCharts:', error);\n",
              "      }\n",
              "      quickchartButtonEl.classList.remove('colab-df-spinner');\n",
              "      quickchartButtonEl.classList.add('colab-df-quickchart-complete');\n",
              "    }\n",
              "    (() => {\n",
              "      let quickchartButtonEl =\n",
              "        document.querySelector('#df-1c1e2ab1-aa9b-48c1-be9a-fb8b8044d7f6 button');\n",
              "      quickchartButtonEl.style.display =\n",
              "        google.colab.kernel.accessAllowed ? 'block' : 'none';\n",
              "    })();\n",
              "  </script>\n",
              "</div>\n",
              "    </div>\n",
              "  </div>\n"
            ]
          },
          "metadata": {},
          "execution_count": 95
        }
      ],
      "source": [
        "df_merge"
      ]
    },
    {
      "cell_type": "markdown",
      "metadata": {
        "id": "63aMyvEda8gi"
      },
      "source": [
        "**Assess Periodicity**"
      ]
    },
    {
      "cell_type": "markdown",
      "metadata": {
        "id": "ci9ebJXoajUy"
      },
      "source": [
        "```\n",
        "# removed kendalltau analysis\n",
        "# Replace with fft graph of major freqs?\n",
        "```\n"
      ]
    },
    {
      "cell_type": "markdown",
      "metadata": {
        "id": "h_WyfEUZIAUL"
      },
      "source": [
        "**Resampling**"
      ]
    },
    {
      "cell_type": "markdown",
      "metadata": {
        "id": "-WAwGDGiICLi"
      },
      "source": [
        "This is being performed during the dataset merging phase."
      ]
    },
    {
      "cell_type": "markdown",
      "metadata": {
        "id": "NgNhtRl8M40x"
      },
      "source": [
        "Ready for time series modeling."
      ]
    },
    {
      "cell_type": "markdown",
      "metadata": {
        "id": "XVD4bpKUeiEz"
      },
      "source": [
        "---\n",
        "\n",
        "**Data conversion for model**\n",
        "\n",
        "---"
      ]
    },
    {
      "cell_type": "markdown",
      "metadata": {
        "id": "hzt9d8ypnSac"
      },
      "source": [
        "**Extract labels**\n",
        "\n",
        "Time series creates a supervised learning problem out of moving data."
      ]
    },
    {
      "cell_type": "markdown",
      "metadata": {
        "id": "Pbe1toTfg_KH"
      },
      "source": [
        "**Dataset stats**"
      ]
    },
    {
      "cell_type": "code",
      "execution_count": null,
      "metadata": {
        "id": "KvQ3gytEkC0C"
      },
      "outputs": [],
      "source": [
        "NUM_FEATURES = len(df_merge.columns)\n",
        "\n",
        "# Capture stats on number of non-metadata columns - so, exclude some stuff\n",
        "#NET_NUM_FEATURES = len(set(df_merge.columns) - set(['year','month','day']))"
      ]
    },
    {
      "cell_type": "code",
      "execution_count": null,
      "metadata": {
        "id": "jol4p5VJVyy6"
      },
      "outputs": [],
      "source": [
        "# Keep rows aside for post validation?\n",
        "TOTAL_ROWS = df_merge.shape[0]\n",
        "NUM_VALIDATION = math.floor(TOTAL_ROWS * VALIDATION_RATIO)\n",
        "WORKING_ROWS = TOTAL_ROWS - NUM_VALIDATION"
      ]
    },
    {
      "cell_type": "code",
      "execution_count": null,
      "metadata": {
        "id": "8b-0_8hRjo-T"
      },
      "outputs": [],
      "source": [
        "# Split non-validation rows into train/test\n",
        "NUM_TEST = math.floor(WORKING_ROWS * TEST_RATIO)\n",
        "NUM_TRAIN = WORKING_ROWS - NUM_TEST"
      ]
    },
    {
      "cell_type": "code",
      "execution_count": null,
      "metadata": {
        "id": "EGAbfgIfhiMo",
        "colab": {
          "base_uri": "https://localhost:8080/"
        },
        "outputId": "a6897130-2fc9-405b-d714-383ad81b2c8b"
      },
      "outputs": [
        {
          "output_type": "stream",
          "name": "stdout",
          "text": [
            "Num features: 7\n",
            "Total rows: 791\n",
            "Validation rows: 79\n",
            "Train rows: 570\n",
            "Test rows: 142\n"
          ]
        }
      ],
      "source": [
        "print(f'Num features: {NUM_FEATURES}')\n",
        "print(f'Total rows: {TOTAL_ROWS}')\n",
        "print(f'Validation rows: {NUM_VALIDATION}')\n",
        "print(f'Train rows: {NUM_TRAIN}')\n",
        "print(f'Test rows: {NUM_TEST}')"
      ]
    },
    {
      "cell_type": "markdown",
      "metadata": {
        "id": "7sZLuMdtlCRG"
      },
      "source": [
        "**Split into Train/Test**"
      ]
    },
    {
      "cell_type": "code",
      "execution_count": null,
      "metadata": {
        "id": "vFivSfHcQk-o"
      },
      "outputs": [],
      "source": [
        "df_train = df_merge.iloc[:NUM_TRAIN, :]\n",
        "df_val = df_merge.iloc[NUM_TRAIN:NUM_TRAIN+NUM_VALIDATION, :]\n",
        "df_test = df_merge.iloc[NUM_TRAIN+NUM_VALIDATION:, :]"
      ]
    },
    {
      "cell_type": "code",
      "execution_count": null,
      "metadata": {
        "id": "oZMgYgW55TLZ"
      },
      "outputs": [],
      "source": [
        "y_train = df_train[TARGET_LABEL]\n",
        "y_val = df_val[TARGET_LABEL]\n",
        "y_test = df_test[TARGET_LABEL]"
      ]
    },
    {
      "cell_type": "code",
      "execution_count": null,
      "metadata": {
        "id": "UVwzub7rhewQ",
        "colab": {
          "base_uri": "https://localhost:8080/"
        },
        "outputId": "2ff3bacb-7f18-4a0f-d813-4ac8595596c8"
      },
      "outputs": [
        {
          "output_type": "stream",
          "name": "stdout",
          "text": [
            "df_train: (570, 7)\n",
            "y_train: (570,)\n",
            "df_test: (142, 7)\n",
            "y_test: (142,)\n",
            "df_val: (79, 7)\n",
            "y_val: (79,)\n"
          ]
        }
      ],
      "source": [
        "if debug:\n",
        "  print(f'df_train: {df_train.shape}')\n",
        "  print(f'y_train: {y_train.shape}')\n",
        "  print(f'df_test: {df_test.shape}')\n",
        "  print(f'y_test: {y_test.shape}')\n",
        "  print(f'df_val: {df_val.shape}')\n",
        "  print(f'y_val: {y_val.shape}')"
      ]
    },
    {
      "cell_type": "markdown",
      "metadata": {
        "id": "WzppcqQ6M_uA"
      },
      "source": [
        "**Scale data**\n",
        "\n",
        "Doing this **after** the split means that training data doesn't get unfair advantage of looking ahead into the 'future' during test & validation."
      ]
    },
    {
      "cell_type": "code",
      "execution_count": null,
      "metadata": {
        "id": "jDnWU7vB4c7U"
      },
      "outputs": [],
      "source": [
        "from sklearn.preprocessing import StandardScaler, MinMaxScaler"
      ]
    },
    {
      "cell_type": "code",
      "execution_count": null,
      "metadata": {
        "id": "rzJQluQ-9lzd"
      },
      "outputs": [],
      "source": [
        "from sklearn import preprocessing\n",
        "from sklearn.compose import ColumnTransformer\n",
        "from sklearn.preprocessing import OneHotEncoder, StandardScaler, MinMaxScaler, RobustScaler, PowerTransformer,  QuantileTransformer, Normalizer\n",
        "from sklearn.impute import SimpleImputer\n",
        "from sklearn.pipeline import Pipeline\n",
        "import tensorflow as tf\n"
      ]
    },
    {
      "cell_type": "code",
      "execution_count": null,
      "metadata": {
        "id": "6LCQJIeC9r-w"
      },
      "outputs": [],
      "source": [
        "# Create small pipeline for numerical features\n",
        "numeric_pipeline = Pipeline(steps = [('impute', SimpleImputer(strategy='mean')),\n",
        "                                    ('scale', MinMaxScaler())])"
      ]
    },
    {
      "cell_type": "code",
      "execution_count": null,
      "metadata": {
        "id": "9JMxiWQZ9_JS"
      },
      "outputs": [],
      "source": [
        "# get names of numerical features\n",
        "con_lst = df_train.select_dtypes(include='number').columns.to_list()"
      ]
    },
    {
      "cell_type": "code",
      "execution_count": null,
      "metadata": {
        "id": "5kNMCiYG92Bk"
      },
      "outputs": [],
      "source": [
        "# Transformer for applying Pipelines\n",
        "column_transformer = ColumnTransformer(transformers = [('number', numeric_pipeline, con_lst)])"
      ]
    },
    {
      "cell_type": "code",
      "execution_count": null,
      "metadata": {
        "id": "ygJaZvdu-UaG",
        "colab": {
          "base_uri": "https://localhost:8080/"
        },
        "outputId": "6d3f6b3d-9a72-4e7d-c953-3bb4a3a6d543"
      },
      "outputs": [
        {
          "output_type": "execute_result",
          "data": {
            "text/plain": [
              "((570, 7), (142, 7), (79, 7))"
            ]
          },
          "metadata": {},
          "execution_count": 108
        }
      ],
      "source": [
        "# Transform data features\n",
        "X_train_tx = column_transformer.fit_transform(df_train)\n",
        "X_test_tx = column_transformer.transform(df_test)\n",
        "X_val_tx = column_transformer.transform(df_val)\n",
        "X_train_tx.shape, X_test_tx.shape, X_val_tx.shape"
      ]
    },
    {
      "cell_type": "code",
      "execution_count": null,
      "metadata": {
        "id": "8RUEbMSmGffW"
      },
      "outputs": [],
      "source": [
        "# Transform labels\n",
        "label_scaler = MinMaxScaler()\n",
        "y_train_tx = label_scaler.fit_transform(y_train.values.reshape(-1, 1))"
      ]
    },
    {
      "cell_type": "code",
      "source": [
        "# Slice labels - we cannot predict anything inside the first INPUT_WINDOW\n",
        "y_train_tx = y_train_tx[INPUT_WINDOW:]"
      ],
      "metadata": {
        "id": "Ghb-Or1nAXhK"
      },
      "execution_count": null,
      "outputs": []
    },
    {
      "cell_type": "code",
      "execution_count": null,
      "metadata": {
        "id": "gypmaVBGfY0-",
        "colab": {
          "base_uri": "https://localhost:8080/"
        },
        "outputId": "b59c3103-999f-4dc4-824a-352f7ebaa7ad"
      },
      "outputs": [
        {
          "output_type": "stream",
          "name": "stdout",
          "text": [
            "X_train_tx (570, 7): [0.         0.         0.         0.00318862 0.75       0.9330127\n",
            " 0.        ]\n",
            "y_train_tx (540, 1): [0.92469953]\n"
          ]
        }
      ],
      "source": [
        "if debug:\n",
        "  print(f'X_train_tx {X_train_tx.shape}: {X_train_tx[0]}')\n",
        "  print(f'y_train_tx {y_train_tx.shape}: {y_train_tx[0]}')"
      ]
    },
    {
      "cell_type": "markdown",
      "metadata": {
        "id": "siYxgp7vblS4"
      },
      "source": [
        "**Extract X and y**"
      ]
    },
    {
      "cell_type": "markdown",
      "metadata": {
        "id": "5n7PxiYh113-"
      },
      "source": [
        "Normally we would do this by explicitly extracting data from our df.\n",
        "\n",
        "However for a time series, we're going to create many small supervised learning sets, so a set of X and y pairs.\n",
        "\n",
        "We should end up with data in a shape ready for batched network input:\n",
        "\n",
        "`batches X time_steps X features`\n",
        "\n"
      ]
    },
    {
      "cell_type": "code",
      "execution_count": null,
      "metadata": {
        "id": "f-9jPiYm7Ymy"
      },
      "outputs": [],
      "source": [
        "#windowing = TfWindowGenerator(input_width=INPUT_WINDOW,\n",
        "#                              label_width=LABEL_WINDOW,\n",
        "#                              shift=LABEL_WINDOW,\n",
        "#                              label_columns=[TARGET_LABEL])"
      ]
    },
    {
      "cell_type": "code",
      "execution_count": null,
      "metadata": {
        "id": "e5djZIsH2jqO"
      },
      "outputs": [],
      "source": [
        "# Pull X and y out of Training data\n",
        "#X, y = windowing.generate(df_train)"
      ]
    },
    {
      "cell_type": "code",
      "execution_count": null,
      "metadata": {
        "id": "LBEu0kmH2ABl"
      },
      "outputs": [],
      "source": [
        "# testing more direct extraction\n",
        "#X = np.asarray(df.drop(columns=[TARGET_LABEL]))\n",
        "#X = np.asarray(df)"
      ]
    },
    {
      "cell_type": "code",
      "execution_count": null,
      "metadata": {
        "id": "Veg3_YPGbXS6",
        "colab": {
          "base_uri": "https://localhost:8080/"
        },
        "outputId": "94c562a8-3f4b-4501-add7-e909c0027428"
      },
      "outputs": [
        {
          "output_type": "stream",
          "name": "stdout",
          "text": [
            "X_train_tx: (570, 7)\n",
            "y_train_tx: (540, 1)\n"
          ]
        }
      ],
      "source": [
        "if debug:\n",
        "  print(f'X_train_tx: {X_train_tx.shape}')\n",
        "  print(f'y_train_tx: {y_train_tx.shape}')"
      ]
    },
    {
      "cell_type": "markdown",
      "metadata": {
        "id": "dCEuwvTpOhDU"
      },
      "source": [
        "---\n",
        "\n",
        "**Modeling**\n",
        "\n",
        "---"
      ]
    },
    {
      "cell_type": "code",
      "execution_count": null,
      "metadata": {
        "id": "cAPNS8bGOl9_"
      },
      "outputs": [],
      "source": [
        "# These are the features we are going to be modeling\n",
        "COLS = list(df_merge.columns)"
      ]
    },
    {
      "cell_type": "markdown",
      "metadata": {
        "id": "geL67ao-qTT-"
      },
      "source": [
        "**Slice into Batches**"
      ]
    },
    {
      "cell_type": "code",
      "execution_count": null,
      "metadata": {
        "id": "YpQatPSrYdC1"
      },
      "outputs": [],
      "source": [
        "#ds = windowing.make_dataset(X, y)"
      ]
    },
    {
      "cell_type": "code",
      "execution_count": null,
      "metadata": {
        "id": "uKRkWvrE20GJ"
      },
      "outputs": [],
      "source": [
        "# Use tensorflow util to batch the timeseries\n",
        "#   note that targets assume first label starts at 0 (vs. targets[INPUT_WINDOW])\n",
        "ds = tf.keras.utils.timeseries_dataset_from_array(\n",
        "    data=X_train_tx,\n",
        "    targets=y_train_tx,\n",
        "    batch_size=INPUT_WINDOW*2,\n",
        "    sequence_length=INPUT_WINDOW )"
      ]
    },
    {
      "cell_type": "markdown",
      "metadata": {
        "id": "sJUExdksodfw"
      },
      "source": [
        "**Prep GPU**"
      ]
    },
    {
      "cell_type": "code",
      "execution_count": null,
      "metadata": {
        "id": "MUlasi5Iofyw",
        "colab": {
          "base_uri": "https://localhost:8080/"
        },
        "outputId": "cd4ec509-1891-4196-c548-ed02ee37afb5"
      },
      "outputs": [
        {
          "output_type": "stream",
          "name": "stdout",
          "text": [
            "Num GPUs Available:  0\n"
          ]
        }
      ],
      "source": [
        "import tensorflow as tf\n",
        "print(\"Num GPUs Available: \", len(tf.config.list_physical_devices('GPU')))"
      ]
    },
    {
      "cell_type": "markdown",
      "source": [
        "---\n",
        "\n",
        "**Build and Train**\n",
        "\n",
        "---"
      ],
      "metadata": {
        "id": "I_zWJyV5kUOs"
      }
    },
    {
      "cell_type": "markdown",
      "metadata": {
        "id": "x-cxzxfRRLu2"
      },
      "source": [
        "**Build model**"
      ]
    },
    {
      "cell_type": "code",
      "execution_count": null,
      "metadata": {
        "id": "lgKXpF06i9Lu"
      },
      "outputs": [],
      "source": [
        "# Load model class\n",
        "%run -i \"./Model_LSTMv2.ipynb\""
      ]
    },
    {
      "cell_type": "code",
      "execution_count": null,
      "metadata": {
        "id": "WNcsDQoTQ_SI",
        "colab": {
          "base_uri": "https://localhost:8080/"
        },
        "outputId": "0576f503-9f88-4c4c-fab3-f7fcbf009cf4"
      },
      "outputs": [
        {
          "output_type": "stream",
          "name": "stdout",
          "text": [
            "### Building ModelLSTMv2::\n"
          ]
        }
      ],
      "source": [
        "model = ModelLSTMv2(window_size=INPUT_WINDOW, num_epochs=NUM_EPOCHS, debug=True)"
      ]
    },
    {
      "cell_type": "markdown",
      "metadata": {
        "id": "NjRigXSPpH9p"
      },
      "source": [
        "**Train model**"
      ]
    },
    {
      "cell_type": "code",
      "execution_count": null,
      "metadata": {
        "id": "40DhN5fqiRFx",
        "colab": {
          "base_uri": "https://localhost:8080/",
          "height": 652
        },
        "outputId": "70c9a858-83db-476a-d9b4-81433ba45ed5"
      },
      "outputs": [
        {
          "output_type": "stream",
          "name": "stdout",
          "text": [
            "Epoch 1/30\n",
            "9/9 [==============================] - 24s 805ms/step - loss: 0.6059\n",
            "Epoch 2/30\n",
            "9/9 [==============================] - 6s 644ms/step - loss: 0.3432\n",
            "Epoch 3/30\n",
            "9/9 [==============================] - 6s 617ms/step - loss: 0.2737\n",
            "Epoch 4/30\n",
            "9/9 [==============================] - 9s 1s/step - loss: 0.2642\n",
            "Epoch 5/30\n",
            "9/9 [==============================] - 6s 648ms/step - loss: 0.2462\n",
            "Epoch 6/30\n",
            "9/9 [==============================] - 8s 876ms/step - loss: 0.2252\n",
            "Epoch 7/30\n",
            "9/9 [==============================] - 6s 614ms/step - loss: 0.1271\n",
            "Epoch 8/30\n",
            "9/9 [==============================] - 8s 955ms/step - loss: 0.0787\n",
            "Epoch 9/30\n",
            "9/9 [==============================] - 6s 662ms/step - loss: 0.0751\n"
          ]
        },
        {
          "output_type": "error",
          "ename": "KeyboardInterrupt",
          "evalue": "ignored",
          "traceback": [
            "\u001b[0;31m---------------------------------------------------------------------------\u001b[0m",
            "\u001b[0;31mKeyboardInterrupt\u001b[0m                         Traceback (most recent call last)",
            "\u001b[0;32m<ipython-input-122-4f8e0247d5f5>\u001b[0m in \u001b[0;36m<cell line: 2>\u001b[0;34m()\u001b[0m\n\u001b[1;32m      1\u001b[0m \u001b[0;31m#model.train(X, y, NUM_FEATURES)\u001b[0m\u001b[0;34m\u001b[0m\u001b[0;34m\u001b[0m\u001b[0m\n\u001b[0;32m----> 2\u001b[0;31m \u001b[0mmodel_history\u001b[0m \u001b[0;34m=\u001b[0m \u001b[0mmodel\u001b[0m\u001b[0;34m.\u001b[0m\u001b[0mtrain\u001b[0m\u001b[0;34m(\u001b[0m\u001b[0mdataset\u001b[0m\u001b[0;34m=\u001b[0m\u001b[0mds\u001b[0m\u001b[0;34m,\u001b[0m \u001b[0mnum_features\u001b[0m\u001b[0;34m=\u001b[0m\u001b[0mNUM_FEATURES\u001b[0m\u001b[0;34m)\u001b[0m\u001b[0;34m\u001b[0m\u001b[0;34m\u001b[0m\u001b[0m\n\u001b[0m",
            "\u001b[0;32m<ipython-input-120-09fd8eccbe74>\u001b[0m in \u001b[0;36mtrain\u001b[0;34m(self, X_train, y_train, num_features, dataset)\u001b[0m\n\u001b[1;32m     37\u001b[0m     \u001b[0;32mif\u001b[0m \u001b[0;34m(\u001b[0m\u001b[0mdataset\u001b[0m \u001b[0;32mis\u001b[0m \u001b[0;32mnot\u001b[0m \u001b[0;32mNone\u001b[0m\u001b[0;34m)\u001b[0m\u001b[0;34m:\u001b[0m\u001b[0;34m\u001b[0m\u001b[0;34m\u001b[0m\u001b[0m\n\u001b[1;32m     38\u001b[0m \u001b[0;34m\u001b[0m\u001b[0m\n\u001b[0;32m---> 39\u001b[0;31m       \u001b[0mself\u001b[0m\u001b[0;34m.\u001b[0m\u001b[0mmodel_hist\u001b[0m \u001b[0;34m=\u001b[0m \u001b[0mmodel\u001b[0m\u001b[0;34m.\u001b[0m\u001b[0mfit\u001b[0m\u001b[0;34m(\u001b[0m\u001b[0mdataset\u001b[0m\u001b[0;34m,\u001b[0m \u001b[0mepochs\u001b[0m\u001b[0;34m=\u001b[0m\u001b[0mself\u001b[0m\u001b[0;34m.\u001b[0m\u001b[0mNUM_EPOCHS\u001b[0m\u001b[0;34m,\u001b[0m \u001b[0mcallbacks\u001b[0m \u001b[0;34m=\u001b[0m \u001b[0;34m[\u001b[0m\u001b[0mearly_stop\u001b[0m\u001b[0;34m]\u001b[0m\u001b[0;34m,\u001b[0m \u001b[0mverbose\u001b[0m\u001b[0;34m=\u001b[0m\u001b[0;34m(\u001b[0m\u001b[0;36m1\u001b[0m \u001b[0;32mif\u001b[0m \u001b[0mself\u001b[0m\u001b[0;34m.\u001b[0m\u001b[0mdebug\u001b[0m \u001b[0;32melse\u001b[0m \u001b[0;36m0\u001b[0m\u001b[0;34m)\u001b[0m\u001b[0;34m)\u001b[0m\u001b[0;34m\u001b[0m\u001b[0;34m\u001b[0m\u001b[0m\n\u001b[0m\u001b[1;32m     40\u001b[0m     \u001b[0;32melse\u001b[0m\u001b[0;34m:\u001b[0m\u001b[0;34m\u001b[0m\u001b[0;34m\u001b[0m\u001b[0m\n\u001b[1;32m     41\u001b[0m       \u001b[0mself\u001b[0m\u001b[0;34m.\u001b[0m\u001b[0mmodel_hist\u001b[0m \u001b[0;34m=\u001b[0m \u001b[0mmodel\u001b[0m\u001b[0;34m.\u001b[0m\u001b[0mfit\u001b[0m\u001b[0;34m(\u001b[0m\u001b[0mX_train\u001b[0m\u001b[0;34m,\u001b[0m \u001b[0my_train\u001b[0m\u001b[0;34m,\u001b[0m \u001b[0mepochs\u001b[0m\u001b[0;34m=\u001b[0m\u001b[0mself\u001b[0m\u001b[0;34m.\u001b[0m\u001b[0mNUM_EPOCHS\u001b[0m\u001b[0;34m,\u001b[0m \u001b[0mverbose\u001b[0m\u001b[0;34m=\u001b[0m\u001b[0;36m1\u001b[0m\u001b[0;34m,\u001b[0m \u001b[0mcallbacks\u001b[0m \u001b[0;34m=\u001b[0m \u001b[0;34m[\u001b[0m\u001b[0mearly_stop\u001b[0m\u001b[0;34m]\u001b[0m \u001b[0;34m)\u001b[0m\u001b[0;34m\u001b[0m\u001b[0;34m\u001b[0m\u001b[0m\n",
            "\u001b[0;32m/usr/local/lib/python3.10/dist-packages/keras/src/utils/traceback_utils.py\u001b[0m in \u001b[0;36merror_handler\u001b[0;34m(*args, **kwargs)\u001b[0m\n\u001b[1;32m     63\u001b[0m         \u001b[0mfiltered_tb\u001b[0m \u001b[0;34m=\u001b[0m \u001b[0;32mNone\u001b[0m\u001b[0;34m\u001b[0m\u001b[0;34m\u001b[0m\u001b[0m\n\u001b[1;32m     64\u001b[0m         \u001b[0;32mtry\u001b[0m\u001b[0;34m:\u001b[0m\u001b[0;34m\u001b[0m\u001b[0;34m\u001b[0m\u001b[0m\n\u001b[0;32m---> 65\u001b[0;31m             \u001b[0;32mreturn\u001b[0m \u001b[0mfn\u001b[0m\u001b[0;34m(\u001b[0m\u001b[0;34m*\u001b[0m\u001b[0margs\u001b[0m\u001b[0;34m,\u001b[0m \u001b[0;34m**\u001b[0m\u001b[0mkwargs\u001b[0m\u001b[0;34m)\u001b[0m\u001b[0;34m\u001b[0m\u001b[0;34m\u001b[0m\u001b[0m\n\u001b[0m\u001b[1;32m     66\u001b[0m         \u001b[0;32mexcept\u001b[0m \u001b[0mException\u001b[0m \u001b[0;32mas\u001b[0m \u001b[0me\u001b[0m\u001b[0;34m:\u001b[0m\u001b[0;34m\u001b[0m\u001b[0;34m\u001b[0m\u001b[0m\n\u001b[1;32m     67\u001b[0m             \u001b[0mfiltered_tb\u001b[0m \u001b[0;34m=\u001b[0m \u001b[0m_process_traceback_frames\u001b[0m\u001b[0;34m(\u001b[0m\u001b[0me\u001b[0m\u001b[0;34m.\u001b[0m\u001b[0m__traceback__\u001b[0m\u001b[0;34m)\u001b[0m\u001b[0;34m\u001b[0m\u001b[0;34m\u001b[0m\u001b[0m\n",
            "\u001b[0;32m/usr/local/lib/python3.10/dist-packages/keras/src/engine/training.py\u001b[0m in \u001b[0;36mfit\u001b[0;34m(self, x, y, batch_size, epochs, verbose, callbacks, validation_split, validation_data, shuffle, class_weight, sample_weight, initial_epoch, steps_per_epoch, validation_steps, validation_batch_size, validation_freq, max_queue_size, workers, use_multiprocessing)\u001b[0m\n\u001b[1;32m   1769\u001b[0m             \u001b[0mlogs\u001b[0m \u001b[0;34m=\u001b[0m \u001b[0;32mNone\u001b[0m\u001b[0;34m\u001b[0m\u001b[0;34m\u001b[0m\u001b[0m\n\u001b[1;32m   1770\u001b[0m             \u001b[0;32mfor\u001b[0m \u001b[0mepoch\u001b[0m\u001b[0;34m,\u001b[0m \u001b[0miterator\u001b[0m \u001b[0;32min\u001b[0m \u001b[0mdata_handler\u001b[0m\u001b[0;34m.\u001b[0m\u001b[0menumerate_epochs\u001b[0m\u001b[0;34m(\u001b[0m\u001b[0;34m)\u001b[0m\u001b[0;34m:\u001b[0m\u001b[0;34m\u001b[0m\u001b[0;34m\u001b[0m\u001b[0m\n\u001b[0;32m-> 1771\u001b[0;31m                 \u001b[0mself\u001b[0m\u001b[0;34m.\u001b[0m\u001b[0mreset_metrics\u001b[0m\u001b[0;34m(\u001b[0m\u001b[0;34m)\u001b[0m\u001b[0;34m\u001b[0m\u001b[0;34m\u001b[0m\u001b[0m\n\u001b[0m\u001b[1;32m   1772\u001b[0m                 \u001b[0mcallbacks\u001b[0m\u001b[0;34m.\u001b[0m\u001b[0mon_epoch_begin\u001b[0m\u001b[0;34m(\u001b[0m\u001b[0mepoch\u001b[0m\u001b[0;34m)\u001b[0m\u001b[0;34m\u001b[0m\u001b[0;34m\u001b[0m\u001b[0m\n\u001b[1;32m   1773\u001b[0m                 \u001b[0;32mwith\u001b[0m \u001b[0mdata_handler\u001b[0m\u001b[0;34m.\u001b[0m\u001b[0mcatch_stop_iteration\u001b[0m\u001b[0;34m(\u001b[0m\u001b[0;34m)\u001b[0m\u001b[0;34m:\u001b[0m\u001b[0;34m\u001b[0m\u001b[0;34m\u001b[0m\u001b[0m\n",
            "\u001b[0;32m/usr/local/lib/python3.10/dist-packages/keras/src/engine/training.py\u001b[0m in \u001b[0;36mreset_metrics\u001b[0;34m(self)\u001b[0m\n\u001b[1;32m   2677\u001b[0m         \u001b[0;32mreturn\u001b[0m \u001b[0mtf_utils\u001b[0m\u001b[0;34m.\u001b[0m\u001b[0msync_to_numpy_or_python_type\u001b[0m\u001b[0;34m(\u001b[0m\u001b[0mall_outputs\u001b[0m\u001b[0;34m)\u001b[0m\u001b[0;34m\u001b[0m\u001b[0;34m\u001b[0m\u001b[0m\n\u001b[1;32m   2678\u001b[0m \u001b[0;34m\u001b[0m\u001b[0m\n\u001b[0;32m-> 2679\u001b[0;31m     \u001b[0;32mdef\u001b[0m \u001b[0mreset_metrics\u001b[0m\u001b[0;34m(\u001b[0m\u001b[0mself\u001b[0m\u001b[0;34m)\u001b[0m\u001b[0;34m:\u001b[0m\u001b[0;34m\u001b[0m\u001b[0;34m\u001b[0m\u001b[0m\n\u001b[0m\u001b[1;32m   2680\u001b[0m         \"\"\"Resets the state of all the metrics in the model.\n\u001b[1;32m   2681\u001b[0m \u001b[0;34m\u001b[0m\u001b[0m\n",
            "\u001b[0;31mKeyboardInterrupt\u001b[0m: "
          ]
        }
      ],
      "source": [
        "#model.train(X, y, NUM_FEATURES)\n",
        "model_history = model.train(dataset=ds, num_features=NUM_FEATURES)"
      ]
    },
    {
      "cell_type": "code",
      "execution_count": null,
      "metadata": {
        "id": "1kTLW4f5E_6w"
      },
      "outputs": [],
      "source": [
        "# Capture stat\n",
        "num_epochs = len(model_history.history['loss'])"
      ]
    },
    {
      "cell_type": "markdown",
      "metadata": {
        "id": "H5yS1dWHUcgY"
      },
      "source": [
        "**Test Predictions**"
      ]
    },
    {
      "cell_type": "code",
      "execution_count": null,
      "metadata": {
        "id": "YrxYN_g_UcAn"
      },
      "outputs": [],
      "source": [
        "num_predictions = y_test.shape[0]-INPUT_WINDOW-LABEL_WINDOW\n",
        "print(f'Num Exp. Predictions: {num_predictions} == {y_test.shape[0]} - {INPUT_WINDOW}')\n",
        "\n",
        "preds = []\n",
        "pred_dates = []\n",
        "y_test_vals = []"
      ]
    },
    {
      "cell_type": "code",
      "execution_count": null,
      "metadata": {
        "id": "knoer4_vUtML"
      },
      "outputs": [],
      "source": [
        "for p in range(num_predictions):\n",
        "  print(f'Pred range: x_test_tx[{p}:{p+INPUT_WINDOW}]')\n",
        "  X_pred = X_test_tx[p:p+INPUT_WINDOW,:].reshape(-1, INPUT_WINDOW, NUM_FEATURES)\n",
        "  label_index = p+INPUT_WINDOW+LABEL_WINDOW-1\n",
        "  print(f'Exp output: y_test[{label_index}]')\n",
        "  print(f'Pred date: {df_test.index[label_index]}')\n",
        "  y_test_vals.append(y_test[label_index])\n",
        "  # Predict\n",
        "  pred = model.predict(X_pred)\n",
        "  print(type(pred))\n",
        "  print(pred.shape)\n",
        "  # Scale and save\n",
        "  val = label_scaler.inverse_transform(pred)\n",
        "  preds.append(label_scaler.inverse_transform(pred))\n",
        "  pred_dates.append(df_test.index[label_index].strftime('%Y-%m-%d'))\n"
      ]
    },
    {
      "cell_type": "code",
      "execution_count": null,
      "metadata": {
        "id": "nMsOXTqGXt1B"
      },
      "outputs": [],
      "source": [
        "preds = np.array(preds).reshape(num_predictions)"
      ]
    },
    {
      "cell_type": "markdown",
      "metadata": {
        "id": "N7yNDPRGpMmN"
      },
      "source": [
        "**Analyze results**"
      ]
    },
    {
      "cell_type": "code",
      "execution_count": null,
      "metadata": {
        "id": "fLjCcgDJXSNo"
      },
      "outputs": [],
      "source": [
        "df_results = pd.DataFrame({'y_test': y_test_vals,\n",
        "                          'preds': preds,\n",
        "                           'pred_dates':pred_dates},\n",
        "                           index=[i+1 for i in range(num_predictions)])"
      ]
    },
    {
      "cell_type": "code",
      "execution_count": null,
      "metadata": {
        "id": "rPlo_EZZXm_D"
      },
      "outputs": [],
      "source": [
        "df_results"
      ]
    },
    {
      "cell_type": "code",
      "execution_count": null,
      "metadata": {
        "id": "G6elbcVfXgmM"
      },
      "outputs": [],
      "source": [
        "df_results.index\n",
        "df_results.columns"
      ]
    },
    {
      "cell_type": "code",
      "source": [
        "df_results.set_index('pred_dates', drop=False, inplace=True)\n",
        "\n"
      ],
      "metadata": {
        "id": "FTAEO6dJf4iB"
      },
      "execution_count": null,
      "outputs": []
    },
    {
      "cell_type": "code",
      "source": [
        "df_results.iloc[0]"
      ],
      "metadata": {
        "id": "Wt0pOS4ZhBY9"
      },
      "execution_count": null,
      "outputs": []
    },
    {
      "cell_type": "code",
      "source": [
        "# Plot results\n",
        "# max points - default to full set\n",
        "MAX_PTS=df_results.shape[0]\n",
        "TICK_SPACING=6\n",
        "fig, ax = plt.subplots(figsize=(12,4), layout=\"constrained\")\n",
        "sns.lineplot(data=df_results[:MAX_PTS], ax=ax)\n",
        "ax.set_xticks(df_results.index[:MAX_PTS], labels=pred_dates[:MAX_PTS], rotation=90)\n",
        "ax.xaxis.set_major_locator(plticker.MultipleLocator(TICK_SPACING))\n",
        "plt.xlabel('Time steps')\n",
        "plt.ylabel('Temp in degrees C')\n",
        "plt.legend(('Test','Predicted'))"
      ],
      "metadata": {
        "id": "5dYWH70a0gip"
      },
      "execution_count": null,
      "outputs": []
    },
    {
      "cell_type": "markdown",
      "source": [
        "**Error Calculations**"
      ],
      "metadata": {
        "id": "Ca4l5STujJCn"
      }
    },
    {
      "cell_type": "code",
      "execution_count": null,
      "metadata": {
        "id": "9Uj01JT-8WNF"
      },
      "outputs": [],
      "source": [
        "from sklearn.metrics import mean_squared_error, mean_absolute_error"
      ]
    },
    {
      "cell_type": "code",
      "execution_count": null,
      "metadata": {
        "id": "iPFE2TUKwnF1"
      },
      "outputs": [],
      "source": [
        "# Calculate MAPE\n",
        "m = tf.keras.metrics.MeanAbsolutePercentageError()\n",
        "m.update_state(y_test_vals, preds)"
      ]
    },
    {
      "cell_type": "code",
      "execution_count": null,
      "metadata": {
        "id": "Z66uS5aMacyy"
      },
      "outputs": [],
      "source": [
        "mse = mean_squared_error(y_test_vals, preds)\n",
        "mae = mean_absolute_error(y_test_vals, preds)\n",
        "mape = m.result().numpy()/100  # adjust Keras output to match scikit\n",
        "from sklearn.metrics import mean_absolute_percentage_error\n",
        "sk_mape = mean_absolute_percentage_error(y_test_vals, preds)"
      ]
    },
    {
      "cell_type": "code",
      "execution_count": null,
      "metadata": {
        "id": "ZdQK5chGijgn"
      },
      "outputs": [],
      "source": [
        "print(f'MSE: {mse}')\n",
        "print(f'MAE: {mae}')\n",
        "print(f'MAPE: {mape}')\n",
        "print(f'SKMAPE: {sk_mape}')"
      ]
    },
    {
      "cell_type": "markdown",
      "metadata": {
        "id": "odWgmHk5pRC4"
      },
      "source": [
        "**Journal entry**"
      ]
    },
    {
      "cell_type": "code",
      "execution_count": null,
      "metadata": {
        "id": "i3rlp9FeDUhi"
      },
      "outputs": [],
      "source": [
        "import csv"
      ]
    },
    {
      "cell_type": "code",
      "execution_count": null,
      "metadata": {
        "id": "KdIoDJF9YlMG"
      },
      "outputs": [],
      "source": [
        "def current_time_ms():\n",
        "  return dt.now().microsecond"
      ]
    },
    {
      "cell_type": "code",
      "execution_count": null,
      "metadata": {
        "id": "SGm4QBQpZXSF"
      },
      "outputs": [],
      "source": [
        "serial = current_time_ms()"
      ]
    },
    {
      "cell_type": "code",
      "execution_count": null,
      "metadata": {
        "id": "Z_QlRgKLYiSA"
      },
      "outputs": [],
      "source": [
        "# write pred results out\n",
        "df_results.to_csv(LOG_PATH +  f'model-preds-{serial}.csv', index_label='index')"
      ]
    },
    {
      "cell_type": "code",
      "source": [
        "# Save model\n",
        "model.save_model(LOG_PATH, serial)"
      ],
      "metadata": {
        "id": "5EneIZh5mdAe"
      },
      "execution_count": null,
      "outputs": []
    },
    {
      "cell_type": "code",
      "execution_count": null,
      "metadata": {
        "id": "kxKzL00kBafg"
      },
      "outputs": [],
      "source": [
        "with open(JOURNAL_LOG, 'a') as csvfile:\n",
        "  writer = csv.writer(csvfile)\n",
        "  #writer.writerow(['DateTime','Serial','Model','TargetLabel','NumFeatures','WindowSize','TestPct','NumEpochs','MSE','MAE','MAPE','SKMAPE','Columns'])\n",
        "  writer.writerow([dt.today().strftime(\"%Y%m%d-%H%M\"),serial,MODEL_NAME,TARGET_LABEL,NUM_FEATURES,INPUT_WINDOW,TEST_RATIO,num_epochs,mse,mae,mape,sk_mape,COLS])"
      ]
    }
  ],
  "metadata": {
    "accelerator": "GPU",
    "colab": {
      "provenance": []
    },
    "kernelspec": {
      "display_name": "Python 3",
      "name": "python3"
    },
    "language_info": {
      "name": "python"
    }
  },
  "nbformat": 4,
  "nbformat_minor": 0
}